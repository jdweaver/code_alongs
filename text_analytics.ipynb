{
 "cells": [
  {
   "cell_type": "markdown",
   "metadata": {},
   "source": [
    "# Natural Language Processing (NLP)"
   ]
  },
  {
   "cell_type": "markdown",
   "metadata": {},
   "source": [
    "## Introduction\n",
    "*Inspired by and adapted from [NLP Crash Course](http://files.meetup.com/7616132/DC-NLP-2013-09%20Charlie%20Greenbacker.pdf) by Charlie Greenbacker and [Introduction to NLP](http://spark-public.s3.amazonaws.com/nlp/slides/intro.pdf) by Dan Jurafsky*"
   ]
  },
  {
   "cell_type": "markdown",
   "metadata": {},
   "source": [
    "### What is NLP?\n",
    "\n",
    "- Natural Language Processing, a programmatic process using computers or the cloud to prepare, process, analyze, understand, and generate human language that occurs \"in the wild\" e.g. tweets, blog posts, emails etc. \n",
    "- Text data is UNstructured, it does not occur as tidy columns and rows\n",
    "- Because speech is unstructured text. We need a way to make sense of it. \n",
    "- We can probabilistically model language with machines by converting language into 0s and 1s, thus rendering it in a form useable and understandable by machines\n",
    "\n",
    "### How do we get computers to analyze spoken or written human language? \n",
    "- we represent the language as numerical features that we can then analyze. We do this because most algorithms expect numerical feature vectors with a fixed size rather than the raw text documents with variable length.\n",
    "- from the [scikit-learn documentation](http://scikit-learn.org/stable/modules/feature_extraction.html#text-feature-extraction): \n",
    "    - **tokenizing:** strings and giving an integer id for each possible token, for instance by using white-spaces and punctuation as token separators.\n",
    "    - **counting:** the occurrences of tokens in each document.\n",
    "    - **normalizing and weighting:** with diminishing importance tokens that occur in the majority of samples / documents.\n",
    "\n"
   ]
  },
  {
   "cell_type": "markdown",
   "metadata": {},
   "source": [
    "### What are some of the higher level task areas?\n",
    "\n",
    "- **Information retrieval**: Find relevant results and similar results\n",
    "    - [Google](https://www.google.com/)\n",
    "- **Information extraction**: Structured information from unstructured documents\n",
    "    - [Events from Gmail](https://support.google.com/calendar/answer/6084018?hl=en)\n",
    "- **Machine translation**: One language to another\n",
    "    - [Google Translate](https://translate.google.com/)\n",
    "- **Text simplification**: Preserve the meaning of text, but simplify the grammar and vocabulary\n",
    "    - [Rewordify](https://rewordify.com/)\n",
    "    - [Simple English Wikipedia](https://simple.wikipedia.org/wiki/Main_Page)\n",
    "- **Sentiment analysis**: Attitude of speaker\n",
    "    - [Hater News](http://haternews.herokuapp.com/)\n",
    "- **Automatic summarization**: Extractive or abstractive summarization\n",
    "    - [autotldr](https://www.reddit.com/r/technology/comments/35brc8/21_million_people_still_use_aol_dialup/cr2zzj0)\n",
    "- **Natural Language Generation**: Generate text from data\n",
    "    - [How a computer describes a sports match](http://www.bbc.com/news/technology-34204052)\n",
    "    - [Publishers withdraw more than 120 gibberish papers](http://www.nature.com/news/publishers-withdraw-more-than-120-gibberish-papers-1.14763)\n",
    "- **Speech recognition and generation**: Speech-to-text, text-to-speech\n",
    "    - [Google's Web Speech API demo](https://www.google.com/intl/en/chrome/demos/speech.html)\n",
    "    - [Vocalware Text-to-Speech demo](https://www.vocalware.com/index/demo)\n",
    "- **Question answering**: Determine the intent of the question, match query with knowledge base, evaluate hypotheses\n",
    "    - [How did supercomputer Watson beat Jeopardy champion Ken Jennings?](http://blog.ted.com/how-did-supercomputer-watson-beat-jeopardy-champion-ken-jennings-experts-discuss/)\n",
    "    - [IBM's Watson Trivia Challenge](http://www.nytimes.com/interactive/2010/06/16/magazine/watson-trivia-game.html)\n",
    "    - [The AI Behind Watson](http://www.aaai.org/Magazine/Watson/watson.php)\n",
    "- **Analyzing job descriptions to reach diverse candidates:** \n",
    "    - [Textio](https://textio.com/products/) \n",
    "- **Determining personality using text analytics:**\n",
    "    - [via Facebook (no not cambridge analytica)](http://journals.plos.org/plosone/article?id=10.1371/journal.pone.0073791)\n",
    "- **Diagnosing mental health using text analytics:**\n",
    "    - [A relatively early application before the cloud. But a great example of using text analysis to agument human judgement and in a relatively \"squishy\" area--psychology](https://search.proquest.com/openview/0eb8bfa741f62292f1900dfecd011ed8/1?pq-origsite=gscholar&cbl=40661) \n",
    "- **Natural Languge Understanding:** training a machine to process (understand) what humans say. Realtime or otherwise. A good example of NLU is the [Google Assistant demo](https://www.theverge.com/2018/5/8/17332070/google-assistant-makes-phone-call-demo-duplex-io-2018)"
   ]
  },
  {
   "cell_type": "markdown",
   "metadata": {},
   "source": [
    "### What are some of the lower level components?\n",
    "\n",
    "- **Tokenization**: breaking text into tokens (words, sentences, n-grams)\n",
    "- **Stopword removal**: a/an/the. These are words with high frequency that introduce noise into the analysis. \n",
    "- **Stemming and lemmatization**: root word\n",
    "- **TF-IDF**: word importance\n",
    "- **Part-of-speech tagging**: noun/verb/adjective\n",
    "- **Named entity recognition**: person/organization/location\n",
    "- **Spelling correction**: \"New Yrok City\"\n",
    "- **Word sense disambiguation**: \"buy a mouse\"\n",
    "- **Segmentation**: \"New York City subway\"\n",
    "- **Language detection**: \"translate this page\""
   ]
  },
  {
   "cell_type": "markdown",
   "metadata": {},
   "source": [
    "### Why is NLP hard?\n",
    "\n",
    "- **Ambiguity**:\n",
    "    - Hospitals are Sued by 7 Foot Doctors\n",
    "    - Juvenile Court to Try Shooting Defendant\n",
    "    - Local High School Dropouts Cut in Half\n",
    "- **Non-standard English**: text messages\n",
    "- **Idioms**: \"throw in the towel\"\n",
    "- **Newly coined words**: \"retweet\"\n",
    "- **Tricky entity names**: \"Where is A Bug's Life playing?\"\n",
    "- **World knowledge**: \"Mary and Sue are sisters\", \"Mary and Sue are mothers\"\n",
    "\n",
    "In short, humans are good at handling mispronunciations, \"improper\" grammar, swapped words, contractions, colloquialisms, puns, and other variations etc. \n",
    "\n",
    "Machines are not. They are still toasters (drew carey points if you get that reference!)...much less capable of working with unpredictable inputs."
   ]
  },
  {
   "cell_type": "markdown",
   "metadata": {},
   "source": [
    "## Part 1: Reading in the Yelp Reviews"
   ]
  },
  {
   "cell_type": "markdown",
   "metadata": {},
   "source": [
    "- \"corpus\" = collection of documents\n",
    "- \"corpora\" = plural form of corpus"
   ]
  },
  {
   "cell_type": "markdown",
   "metadata": {},
   "source": [
    "#### we need to install some packages\n",
    "conda install -c https://conda.anaconda.org/sloria textblob\n",
    "\n",
    "OR \n",
    "conda install -c conda-forge textblob \n",
    "\n",
    "cona install nltk"
   ]
  },
  {
   "cell_type": "markdown",
   "metadata": {},
   "source": [
    "We also need to install some existing text corpora from nltk"
   ]
  },
  {
   "cell_type": "code",
   "execution_count": 1,
   "metadata": {},
   "outputs": [
    {
     "name": "stderr",
     "output_type": "stream",
     "text": [
      "[nltk_data] Downloading package punkt to\n",
      "[nltk_data]     C:\\Users\\joweave\\AppData\\Roaming\\nltk_data...\n",
      "[nltk_data]   Unzipping tokenizers\\punkt.zip.\n"
     ]
    },
    {
     "data": {
      "text/plain": [
       "True"
      ]
     },
     "execution_count": 1,
     "metadata": {},
     "output_type": "execute_result"
    }
   ],
   "source": [
    "import nltk\n",
    "#nltk.download()\n",
    "nltk.download('punkt')\n",
    "nltk.download('wordnet')"
   ]
  },
  {
   "cell_type": "code",
   "execution_count": 6,
   "metadata": {},
   "outputs": [
    {
     "name": "stdout",
     "output_type": "stream",
     "text": [
      "Collecting vaderSentiment\n",
      "  Downloading https://files.pythonhosted.org/packages/86/9e/c53e1fc61aac5ee490a6ac5e21b1ac04e55a7c2aba647bb8411c9aadf24e/vaderSentiment-3.2.1-py2.py3-none-any.whl (125kB)\n",
      "Installing collected packages: vaderSentiment\n",
      "Successfully installed vaderSentiment-3.2.1\n"
     ]
    },
    {
     "name": "stderr",
     "output_type": "stream",
     "text": [
      "The system cannot find the path specified.\n"
     ]
    },
    {
     "data": {
      "text/plain": [
       "\"original paper is here: http://comp.social.gatech.edu/papers/icwsm14.vader.hutto.pdf \\nit's worth noting they compared it to LIWC which is a well curated hand selected lexicon based dataset, while not strictly sentiment based, \\nLIWC has been shown to be useful for a variety of social science applications from resume classification to mental health diagnostics \""
      ]
     },
     "execution_count": 6,
     "metadata": {},
     "output_type": "execute_result"
    }
   ],
   "source": [
    "!pip install vaderSentiment --no-cache-dir --upgrade \n",
    "#https://github.com/cjhutto/vaderSentiment\n",
    "'''original paper is here: http://comp.social.gatech.edu/papers/icwsm14.vader.hutto.pdf \n",
    "it's worth noting they compared it to LIWC which is a well curated hand selected lexicon based dataset, while not strictly sentiment based, \n",
    "LIWC has been shown to be useful for a variety of social science applications from resume classification to mental health diagnostics '''"
   ]
  },
  {
   "cell_type": "code",
   "execution_count": 4,
   "metadata": {},
   "outputs": [
    {
     "name": "stdout",
     "output_type": "stream",
     "text": [
      "Collecting pyLDAvis\n",
      "  Downloading https://files.pythonhosted.org/packages/a5/3a/af82e070a8a96e13217c8f362f9a73e82d61ac8fff3a2561946a97f96266/pyLDAvis-2.1.2.tar.gz (1.6MB)\n",
      "Requirement already satisfied, skipping upgrade: wheel>=0.23.0 in c:\\programdata\\anaconda3\\lib\\site-packages (from pyLDAvis) (0.33.6)\n",
      "Requirement already satisfied, skipping upgrade: numpy>=1.9.2 in c:\\programdata\\anaconda3\\lib\\site-packages (from pyLDAvis) (1.16.5)\n",
      "Requirement already satisfied, skipping upgrade: scipy>=0.18.0 in c:\\programdata\\anaconda3\\lib\\site-packages (from pyLDAvis) (1.3.1)\n",
      "Requirement already satisfied, skipping upgrade: pandas>=0.17.0 in c:\\programdata\\anaconda3\\lib\\site-packages (from pyLDAvis) (0.25.1)\n",
      "Requirement already satisfied, skipping upgrade: joblib>=0.8.4 in c:\\programdata\\anaconda3\\lib\\site-packages (from pyLDAvis) (0.13.2)\n",
      "Requirement already satisfied, skipping upgrade: jinja2>=2.7.2 in c:\\programdata\\anaconda3\\lib\\site-packages (from pyLDAvis) (2.10.1)\n",
      "Requirement already satisfied, skipping upgrade: numexpr in c:\\programdata\\anaconda3\\lib\\site-packages (from pyLDAvis) (2.7.0)\n",
      "Requirement already satisfied, skipping upgrade: pytest in c:\\programdata\\anaconda3\\lib\\site-packages (from pyLDAvis) (5.2.0)\n",
      "Requirement already satisfied, skipping upgrade: future in c:\\programdata\\anaconda3\\lib\\site-packages (from pyLDAvis) (0.17.1)\n",
      "Collecting funcy (from pyLDAvis)\n",
      "  Downloading https://files.pythonhosted.org/packages/eb/3a/fc8323f913e8a9c6f33f7203547f8a2171223da5ed965f2541dafb10aa09/funcy-1.13-py2.py3-none-any.whl\n",
      "Requirement already satisfied, skipping upgrade: python-dateutil>=2.6.1 in c:\\programdata\\anaconda3\\lib\\site-packages (from pandas>=0.17.0->pyLDAvis) (2.8.0)\n",
      "Requirement already satisfied, skipping upgrade: pytz>=2017.2 in c:\\programdata\\anaconda3\\lib\\site-packages (from pandas>=0.17.0->pyLDAvis) (2019.2)\n",
      "Requirement already satisfied, skipping upgrade: MarkupSafe>=0.23 in c:\\programdata\\anaconda3\\lib\\site-packages (from jinja2>=2.7.2->pyLDAvis) (1.1.1)\n",
      "Requirement already satisfied, skipping upgrade: py>=1.5.0 in c:\\programdata\\anaconda3\\lib\\site-packages (from pytest->pyLDAvis) (1.8.0)\n",
      "Requirement already satisfied, skipping upgrade: packaging in c:\\programdata\\anaconda3\\lib\\site-packages (from pytest->pyLDAvis) (19.2)\n",
      "Requirement already satisfied, skipping upgrade: attrs>=17.4.0 in c:\\programdata\\anaconda3\\lib\\site-packages (from pytest->pyLDAvis) (19.1.0)\n",
      "Requirement already satisfied, skipping upgrade: more-itertools>=4.0.0 in c:\\programdata\\anaconda3\\lib\\site-packages (from pytest->pyLDAvis) (7.2.0)\n",
      "Requirement already satisfied, skipping upgrade: atomicwrites>=1.0 in c:\\programdata\\anaconda3\\lib\\site-packages (from pytest->pyLDAvis) (1.3.0)\n",
      "Requirement already satisfied, skipping upgrade: pluggy<1.0,>=0.12 in c:\\programdata\\anaconda3\\lib\\site-packages (from pytest->pyLDAvis) (0.13.0)\n",
      "Requirement already satisfied, skipping upgrade: wcwidth in c:\\programdata\\anaconda3\\lib\\site-packages (from pytest->pyLDAvis) (0.1.7)\n",
      "Requirement already satisfied, skipping upgrade: importlib-metadata>=0.12 in c:\\programdata\\anaconda3\\lib\\site-packages (from pytest->pyLDAvis) (0.23)\n",
      "Requirement already satisfied, skipping upgrade: colorama in c:\\programdata\\anaconda3\\lib\\site-packages (from pytest->pyLDAvis) (0.4.1)\n",
      "Requirement already satisfied, skipping upgrade: six>=1.5 in c:\\programdata\\anaconda3\\lib\\site-packages (from python-dateutil>=2.6.1->pandas>=0.17.0->pyLDAvis) (1.12.0)\n",
      "Requirement already satisfied, skipping upgrade: pyparsing>=2.0.2 in c:\\programdata\\anaconda3\\lib\\site-packages (from packaging->pytest->pyLDAvis) (2.4.2)\n",
      "Requirement already satisfied, skipping upgrade: zipp>=0.5 in c:\\programdata\\anaconda3\\lib\\site-packages (from importlib-metadata>=0.12->pytest->pyLDAvis) (0.6.0)\n",
      "Building wheels for collected packages: pyLDAvis\n",
      "  Building wheel for pyLDAvis (setup.py): started\n",
      "  Building wheel for pyLDAvis (setup.py): finished with status 'done'\n",
      "  Created wheel for pyLDAvis: filename=pyLDAvis-2.1.2-py2.py3-none-any.whl size=97715 sha256=d9d9e0f79139a01b5f14828c7a3dbd7619a506adc0ba50fb2c31732424153a45\n",
      "  Stored in directory: C:\\Users\\joweave\\AppData\\Local\\Temp\\pip-ephem-wheel-cache-l3yhdrrw\\wheels\\98\\71\\24\\513a99e58bb6b8465bae4d2d5e9dba8f0bef8179e3051ac414\n",
      "Successfully built pyLDAvis\n",
      "Installing collected packages: funcy, pyLDAvis\n",
      "Successfully installed funcy-1.13 pyLDAvis-2.1.2\n"
     ]
    },
    {
     "name": "stderr",
     "output_type": "stream",
     "text": [
      "The system cannot find the path specified.\n"
     ]
    }
   ],
   "source": [
    "#let's import the topic model visualization package \n",
    "!pip install pyLDAvis --no-cache-dir --upgrade"
   ]
  },
  {
   "cell_type": "code",
   "execution_count": 2,
   "metadata": {},
   "outputs": [
    {
     "name": "stdout",
     "output_type": "stream",
     "text": [
      "Collecting textblob\n",
      "  Downloading https://files.pythonhosted.org/packages/60/f0/1d9bfcc8ee6b83472ec571406bd0dd51c0e6330ff1a51b2d29861d389e85/textblob-0.15.3-py2.py3-none-any.whl (636kB)\n",
      "Requirement already satisfied, skipping upgrade: nltk>=3.1 in c:\\programdata\\anaconda3\\lib\\site-packages (from textblob) (3.4.5)\n",
      "Requirement already satisfied, skipping upgrade: six in c:\\programdata\\anaconda3\\lib\\site-packages (from nltk>=3.1->textblob) (1.12.0)\n",
      "Installing collected packages: textblob\n",
      "Successfully installed textblob-0.15.3\n"
     ]
    },
    {
     "name": "stderr",
     "output_type": "stream",
     "text": [
      "The system cannot find the path specified.\n"
     ]
    }
   ],
   "source": [
    "!pip install textblob --no-cache-dir --upgrade"
   ]
  },
  {
   "cell_type": "code",
   "execution_count": 8,
   "metadata": {},
   "outputs": [],
   "source": [
    "import pandas as pd\n",
    "import numpy as np\n",
    "import scipy as sp\n",
    "import os\n",
    "\n",
    "#lines below let allow multiple results from a line of code to be shown e.g. df.head() + df.columns\n",
    "from IPython.core.interactiveshell import InteractiveShell\n",
    "InteractiveShell.ast_node_interactivity = \"all\"\n",
    "\n",
    "#set this to ensure floats are not represented in scientific notation \n",
    "pd.set_option('display.float_format', lambda x: '%.18f' % x)\n",
    "\n",
    "#ML algorithm and text analytics imports\n",
    "from sklearn.model_selection import train_test_split\n",
    "#CountVectorizer, and TfidfVectorizer are what we will use to \"convert text into numbers we can work with\"\n",
    "from sklearn.feature_extraction.text import CountVectorizer, TfidfVectorizer\n",
    "#these packages we will use for topic modeling\n",
    "from sklearn.decomposition import NMF, LatentDirichletAllocation, TruncatedSVD\n",
    "from sklearn.naive_bayes import MultinomialNB\n",
    "from sklearn.linear_model import LogisticRegression\n",
    "from sklearn import svm\n",
    "from sklearn import metrics\n",
    "import concurrent.futures\n",
    "from sklearn.manifold import TSNE\n",
    "\n",
    "#text analytics \n",
    "import nltk\n",
    "from textblob import TextBlob, Word\n",
    "from nltk.stem.snowball import SnowballStemmer\n",
    "import pyLDAvis.sklearn #used to visualize topic models\n",
    "\n",
    "#data viz imports and Plotly based imports for visualization\n",
    "%matplotlib inline\n",
    "import matplotlib.pyplot as plt\n",
    "import matplotlib\n",
    "import seaborn as sns \n",
    "import matplotlib.style as style\n",
    "style.use('fivethirtyeight')\n",
    "# from plotly import tools\n",
    "# import plotly.plotly as py\n",
    "# from plotly.offline import init_notebook_mode, iplot\n",
    "# init_notebook_mode(connected=True)\n",
    "# import plotly.graph_objs as go\n",
    "# import plotly.figure_factory as ff"
   ]
  },
  {
   "cell_type": "code",
   "execution_count": 3,
   "metadata": {},
   "outputs": [
    {
     "data": {
      "text/plain": [
       "'C:\\\\Users\\\\joweave\\\\Downloads'"
      ]
     },
     "execution_count": 3,
     "metadata": {},
     "output_type": "execute_result"
    }
   ],
   "source": [
    "os.getcwd()"
   ]
  },
  {
   "cell_type": "code",
   "execution_count": 12,
   "metadata": {},
   "outputs": [
    {
     "data": {
      "text/html": [
       "<div>\n",
       "<style scoped>\n",
       "    .dataframe tbody tr th:only-of-type {\n",
       "        vertical-align: middle;\n",
       "    }\n",
       "\n",
       "    .dataframe tbody tr th {\n",
       "        vertical-align: top;\n",
       "    }\n",
       "\n",
       "    .dataframe thead th {\n",
       "        text-align: right;\n",
       "    }\n",
       "</style>\n",
       "<table border=\"1\" class=\"dataframe\">\n",
       "  <thead>\n",
       "    <tr style=\"text-align: right;\">\n",
       "      <th></th>\n",
       "      <th>business_id</th>\n",
       "      <th>date</th>\n",
       "      <th>review_id</th>\n",
       "      <th>stars</th>\n",
       "      <th>text</th>\n",
       "      <th>type</th>\n",
       "      <th>user_id</th>\n",
       "      <th>cool</th>\n",
       "      <th>useful</th>\n",
       "      <th>funny</th>\n",
       "    </tr>\n",
       "  </thead>\n",
       "  <tbody>\n",
       "    <tr>\n",
       "      <td>0</td>\n",
       "      <td>9yKzy9PApeiPPOUJEtnvkg</td>\n",
       "      <td>2011-01-26</td>\n",
       "      <td>fWKvX83p0-ka4JS3dc6E5A</td>\n",
       "      <td>5</td>\n",
       "      <td>My wife took me here on my birthday for breakf...</td>\n",
       "      <td>review</td>\n",
       "      <td>rLtl8ZkDX5vH5nAx9C3q5Q</td>\n",
       "      <td>2</td>\n",
       "      <td>5</td>\n",
       "      <td>0</td>\n",
       "    </tr>\n",
       "    <tr>\n",
       "      <td>1</td>\n",
       "      <td>ZRJwVLyzEJq1VAihDhYiow</td>\n",
       "      <td>2011-07-27</td>\n",
       "      <td>IjZ33sJrzXqU-0X6U8NwyA</td>\n",
       "      <td>5</td>\n",
       "      <td>I have no idea why some people give bad review...</td>\n",
       "      <td>review</td>\n",
       "      <td>0a2KyEL0d3Yb1V6aivbIuQ</td>\n",
       "      <td>0</td>\n",
       "      <td>0</td>\n",
       "      <td>0</td>\n",
       "    </tr>\n",
       "    <tr>\n",
       "      <td>3</td>\n",
       "      <td>_1QQZuf4zZOyFCvXc0o6Vg</td>\n",
       "      <td>2010-05-27</td>\n",
       "      <td>G-WvGaISbqqaMHlNnByodA</td>\n",
       "      <td>5</td>\n",
       "      <td>Rosie, Dakota, and I LOVE Chaparral Dog Park!!...</td>\n",
       "      <td>review</td>\n",
       "      <td>uZetl9T0NcROGOyFfughhg</td>\n",
       "      <td>1</td>\n",
       "      <td>2</td>\n",
       "      <td>0</td>\n",
       "    </tr>\n",
       "    <tr>\n",
       "      <td>4</td>\n",
       "      <td>6ozycU1RpktNG2-1BroVtw</td>\n",
       "      <td>2012-01-05</td>\n",
       "      <td>1uJFq2r5QfJG_6ExMRCaGw</td>\n",
       "      <td>5</td>\n",
       "      <td>General Manager Scott Petello is a good egg!!!...</td>\n",
       "      <td>review</td>\n",
       "      <td>vYmM4KTsC8ZfQBg-j5MWkw</td>\n",
       "      <td>0</td>\n",
       "      <td>0</td>\n",
       "      <td>0</td>\n",
       "    </tr>\n",
       "    <tr>\n",
       "      <td>6</td>\n",
       "      <td>zp713qNhx8d9KCJJnrw1xA</td>\n",
       "      <td>2010-02-12</td>\n",
       "      <td>riFQ3vxNpP4rWLk_CSri2A</td>\n",
       "      <td>5</td>\n",
       "      <td>Drop what you're doing and drive here. After I...</td>\n",
       "      <td>review</td>\n",
       "      <td>wFweIWhv2fREZV_dYkz_1g</td>\n",
       "      <td>7</td>\n",
       "      <td>7</td>\n",
       "      <td>4</td>\n",
       "    </tr>\n",
       "  </tbody>\n",
       "</table>\n",
       "</div>"
      ],
      "text/plain": [
       "              business_id        date               review_id  stars  \\\n",
       "0  9yKzy9PApeiPPOUJEtnvkg  2011-01-26  fWKvX83p0-ka4JS3dc6E5A      5   \n",
       "1  ZRJwVLyzEJq1VAihDhYiow  2011-07-27  IjZ33sJrzXqU-0X6U8NwyA      5   \n",
       "3  _1QQZuf4zZOyFCvXc0o6Vg  2010-05-27  G-WvGaISbqqaMHlNnByodA      5   \n",
       "4  6ozycU1RpktNG2-1BroVtw  2012-01-05  1uJFq2r5QfJG_6ExMRCaGw      5   \n",
       "6  zp713qNhx8d9KCJJnrw1xA  2010-02-12  riFQ3vxNpP4rWLk_CSri2A      5   \n",
       "\n",
       "                                                text    type  \\\n",
       "0  My wife took me here on my birthday for breakf...  review   \n",
       "1  I have no idea why some people give bad review...  review   \n",
       "3  Rosie, Dakota, and I LOVE Chaparral Dog Park!!...  review   \n",
       "4  General Manager Scott Petello is a good egg!!!...  review   \n",
       "6  Drop what you're doing and drive here. After I...  review   \n",
       "\n",
       "                  user_id  cool  useful  funny  \n",
       "0  rLtl8ZkDX5vH5nAx9C3q5Q     2       5      0  \n",
       "1  0a2KyEL0d3Yb1V6aivbIuQ     0       0      0  \n",
       "3  uZetl9T0NcROGOyFfughhg     1       2      0  \n",
       "4  vYmM4KTsC8ZfQBg-j5MWkw     0       0      0  \n",
       "6  wFweIWhv2fREZV_dYkz_1g     7       7      4  "
      ]
     },
     "execution_count": 12,
     "metadata": {},
     "output_type": "execute_result"
    },
    {
     "data": {
      "text/plain": [
       "(4086,)"
      ]
     },
     "execution_count": 12,
     "metadata": {},
     "output_type": "execute_result"
    },
    {
     "data": {
      "text/plain": [
       "<bound method NDFrame.head of 0       My wife took me here on my birthday for breakf...\n",
       "1       I have no idea why some people give bad review...\n",
       "3       Rosie, Dakota, and I LOVE Chaparral Dog Park!!...\n",
       "4       General Manager Scott Petello is a good egg!!!...\n",
       "6       Drop what you're doing and drive here. After I...\n",
       "                              ...                        \n",
       "9990    Yes I do rock the hipster joints.  I dig this ...\n",
       "9991    Only 4 stars? \\r\\n\\r\\n(A few notes: The folks ...\n",
       "9992    I'm not normally one to jump at reviewing a ch...\n",
       "9994    Let's see...what is there NOT to like about Su...\n",
       "9999    4-5 locations.. all 4.5 star average.. I think...\n",
       "Name: text, Length: 4086, dtype: object>"
      ]
     },
     "execution_count": 12,
     "metadata": {},
     "output_type": "execute_result"
    },
    {
     "data": {
      "text/plain": [
       "<bound method NDFrame.head of 0       5\n",
       "1       5\n",
       "3       5\n",
       "4       5\n",
       "6       5\n",
       "       ..\n",
       "9990    5\n",
       "9991    5\n",
       "9992    5\n",
       "9994    5\n",
       "9999    5\n",
       "Name: stars, Length: 4086, dtype: int64>"
      ]
     },
     "execution_count": 12,
     "metadata": {},
     "output_type": "execute_result"
    }
   ],
   "source": [
    "# read yelp.csv into a DataFrame\n",
    "path = 'C:\\\\Users\\\\joweave\\\\Downloads\\\\'\n",
    "data = 'yelp.csv'\n",
    "yelp = pd.read_csv(path+data)\n",
    "\n",
    "# create a new DataFrame that only contains the 5-star and 1-star reviews\n",
    "yelp_best_worst = yelp[(yelp.stars==5) | (yelp.stars==1)]\n",
    "\n",
    "#look at first few top rows\n",
    "yelp_best_worst.head()\n",
    "\n",
    "# define X and y\n",
    "X = yelp_best_worst.text\n",
    "y = yelp_best_worst.stars\n",
    "\n",
    "#get column and row count and look at first few rows of the text data\n",
    "X.shape\n",
    "X.head\n",
    "\n",
    "#look at the first few top rows of the label/dv \n",
    "y.head\n",
    "\n",
    "# split the new DataFrame into training and testing sets\n",
    "X_train, X_test, y_train, y_test = train_test_split(X, y, random_state=1)"
   ]
  },
  {
   "cell_type": "code",
   "execution_count": 13,
   "metadata": {},
   "outputs": [
    {
     "name": "stdout",
     "output_type": "stream",
     "text": [
      "0    My wife took me here on my birthday for breakfast and it was excellent.  The weather was perfect which made sitting outside overlooking their grounds an absolute pleasure.  Our waitress was excellent and our food arrived quickly on the semi-busy Saturday morning.  It looked like the place fills up pretty quickly so the earlier you get here the better.\\r\\n\\r\\nDo yourself a favor and get their Bloody Mary.  It was phenomenal and simply the best I've ever had.  I'm pretty sure they only use ingredients from their garden and blend them fresh when you order it.  It was amazing.\\r\\n\\r\\nWhile EVERYTHING on the menu looks excellent, I had the white truffle scrambled eggs vegetable skillet and it was tasty and delicious.  It came with 2 pieces of their griddled bread with was amazing and it absolutely made the meal complete.  It was the best \"toast\" I've ever had.\\r\\n\\r\\nAnyway, I can't wait to go back!\n",
      "Name: text, dtype: object\n"
     ]
    }
   ],
   "source": [
    "#this lets us print out the contents of an entire cell\n",
    "pd.set_option('display.max_colwidth', -1) \n",
    "\n",
    "#lets look at a review\n",
    "print(yelp_best_worst.text[:1])"
   ]
  },
  {
   "cell_type": "markdown",
   "metadata": {},
   "source": [
    "## Part 2: Tokenization"
   ]
  },
  {
   "cell_type": "markdown",
   "metadata": {},
   "source": [
    "- **What:** breakdown text into component parts\n",
    "- **Why:** allows you to make unstructured data, structured and text data must be structured for analysis"
   ]
  },
  {
   "cell_type": "code",
   "execution_count": 14,
   "metadata": {},
   "outputs": [],
   "source": [
    "#let's look at the vector options we can set\n",
    "vect = CountVectorizer() #instantiate CountVectorizer"
   ]
  },
  {
   "cell_type": "code",
   "execution_count": 15,
   "metadata": {},
   "outputs": [
    {
     "data": {
      "text/plain": [
       "CountVectorizer(analyzer='word', binary=False, decode_error='strict',\n",
       "                dtype=<class 'numpy.int64'>, encoding='utf-8', input='content',\n",
       "                lowercase=True, max_df=1.0, max_features=None, min_df=1,\n",
       "                ngram_range=(1, 1), preprocessor=None, stop_words=None,\n",
       "                strip_accents=None, token_pattern='(?u)\\\\b\\\\w\\\\w+\\\\b',\n",
       "                tokenizer=None, vocabulary=None)"
      ]
     },
     "execution_count": 15,
     "metadata": {},
     "output_type": "execute_result"
    }
   ],
   "source": [
    "vect"
   ]
  },
  {
   "cell_type": "markdown",
   "metadata": {},
   "source": [
    "Let's take a look at the [CountVectorizer documentation](http://scikit-learn.org/stable/modules/generated/sklearn.feature_extraction.text.CountVectorizer.html)"
   ]
  },
  {
   "cell_type": "code",
   "execution_count": 16,
   "metadata": {},
   "outputs": [],
   "source": [
    "# use CountVectorizer to create document-term matrices from X_train and X_test\n",
    "\n",
    "X_train_dtm = vect.fit_transform(X_train)\n",
    "X_test_dtm = vect.transform(X_test)"
   ]
  },
  {
   "cell_type": "markdown",
   "metadata": {},
   "source": [
    "**[fit_transform](http://scikit-learn.org/stable/modules/generated/sklearn.feature_extraction.text.CountVectorizer.html#sklearn.feature_extraction.text.CountVectorizer.fit_transform)**: Learn the vocabulary dictionary and return term-document matrix."
   ]
  },
  {
   "cell_type": "code",
   "execution_count": 17,
   "metadata": {},
   "outputs": [
    {
     "data": {
      "text/plain": [
       "'\\nRows are documents (i.e. comments, tweets, blogs etc.), columns are terms (aka \"tokens\" or \"features\"). This creates a\\nwide and extremely sparse dataframe or document term matrix. \\n'"
      ]
     },
     "execution_count": 17,
     "metadata": {},
     "output_type": "execute_result"
    },
    {
     "data": {
      "text/plain": [
       "(3064, 16825)"
      ]
     },
     "execution_count": 17,
     "metadata": {},
     "output_type": "execute_result"
    }
   ],
   "source": [
    "'''\n",
    "Rows are documents (i.e. comments, tweets, blogs etc.), columns are terms (aka \"tokens\" or \"features\"). This creates a\n",
    "wide and extremely sparse dataframe or document term matrix. \n",
    "''' \n",
    "X_train_dtm.shape"
   ]
  },
  {
   "cell_type": "code",
   "execution_count": 18,
   "metadata": {},
   "outputs": [
    {
     "name": "stdout",
     "output_type": "stream",
     "text": [
      "first 50 features aka ngrams:    ['00', '000', '00a', '00am', '00pm', '01', '02', '03', '03342', '04', '05', '06', '07', '09', '0buxoc0crqjpvkezo3bqog', '0l', '10', '100', '1000', '1000x', '1001', '100th', '101', '102', '105', '1070', '108', '10am', '10ish', '10min', '10mins', '10minutes', '10pm', '10th', '10x', '11', '110', '1100', '111', '111th', '112', '115th', '118', '11a', '11am', '11p', '11pm', '12', '120', '128i']\n",
      "last 50 features aka ngrams:    ['yyyyy', 'z11', 'za', 'zabba', 'zach', 'zam', 'zanella', 'zankou', 'zappos', 'zatsiki', 'zen', 'zero', 'zest', 'zexperience', 'zha', 'zhou', 'zia', 'zihuatenejo', 'zilch', 'zin', 'zinburger', 'zinburgergeist', 'zinc', 'zinfandel', 'zing', 'zip', 'zipcar', 'zipper', 'zippers', 'zipps', 'ziti', 'zoe', 'zombi', 'zombies', 'zone', 'zones', 'zoning', 'zoo', 'zoyo', 'zucca', 'zucchini', 'zuchinni', 'zumba', 'zupa', 'zuzu', 'zwiebel', 'zzed', 'éclairs', 'école', 'ém']\n"
     ]
    }
   ],
   "source": [
    "# print first and last 50 features\n",
    "print('first 50 features aka ngrams:    ' + str(vect.get_feature_names()[:50]))\n",
    "\n",
    "print('last 50 features aka ngrams:    ' + str(vect.get_feature_names()[-50:]))"
   ]
  },
  {
   "cell_type": "code",
   "execution_count": 19,
   "metadata": {},
   "outputs": [
    {
     "data": {
      "text/plain": [
       "(3064, 20838)"
      ]
     },
     "execution_count": 19,
     "metadata": {},
     "output_type": "execute_result"
    }
   ],
   "source": [
    "# don't convert to lowercase\n",
    "vect = CountVectorizer(lowercase=False)\n",
    "X_train_dtm = vect.fit_transform(X_train)\n",
    "X_train_dtm.shape"
   ]
  },
  {
   "cell_type": "code",
   "execution_count": 20,
   "metadata": {},
   "outputs": [
    {
     "name": "stdout",
     "output_type": "stream",
     "text": [
      "['youthful', 'youtube', 'yow', 'yr', 'yrs', 'yu', 'yuck', 'yucky', 'yuk', 'yukon', 'yum', 'yumm', 'yummie', 'yummier', 'yumminess', 'yummm', 'yummmm', 'yummmmmmers', 'yummmmy', 'yummy', 'yumness', 'yup', 'yuppies', 'yuuuuummmmmyyy', 'yuyuyummy', 'yuzu', 'yyyyy', 'za', 'zen', 'zero', 'zest', 'zhou', 'zilch', 'zinc', 'zing', 'zip', 'zipper', 'ziti', 'zone', 'zones', 'zoning', 'zoo', 'zucchini', 'zuchinni', 'zupa', 'zwiebel', 'zzed', 'École', 'éclairs', 'ém']\n"
     ]
    }
   ],
   "source": [
    "# last 50 features\n",
    "print(vect.get_feature_names()[-50:])"
   ]
  },
  {
   "cell_type": "markdown",
   "metadata": {},
   "source": [
    "- Parameter **ngram_range:** tuple (min_n, max_n)\n",
    "    - The lower and upper boundary of the range of n-values for different n-grams to be extracted. All values of n such that min_n <= n <= max_n will be used."
   ]
  },
  {
   "cell_type": "code",
   "execution_count": 21,
   "metadata": {},
   "outputs": [],
   "source": [
    "# create a set of unigrams, bigrams, and trigrams\n",
    "vect1 = CountVectorizer(ngram_range=(1,1)) #unigrams\n",
    "vect2 = CountVectorizer(ngram_range=(1,2)) #bigrams\n",
    "vect3 = CountVectorizer(ngram_range=(1,3)) #trigrams\n",
    "\n",
    "X_train_dtm1 = vect1.fit_transform(X_train)\n",
    "X_train_dtm2 = vect2.fit_transform(X_train)\n",
    "X_train_dtm3 = vect3.fit_transform(X_train)"
   ]
  },
  {
   "cell_type": "code",
   "execution_count": 22,
   "metadata": {},
   "outputs": [
    {
     "data": {
      "text/plain": [
       "(3064, 16825)"
      ]
     },
     "execution_count": 22,
     "metadata": {},
     "output_type": "execute_result"
    }
   ],
   "source": [
    "X_train_dtm1.shape"
   ]
  },
  {
   "cell_type": "code",
   "execution_count": 23,
   "metadata": {},
   "outputs": [
    {
     "data": {
      "text/plain": [
       "(3064, 169847)"
      ]
     },
     "execution_count": 23,
     "metadata": {},
     "output_type": "execute_result"
    }
   ],
   "source": [
    "X_train_dtm2.shape"
   ]
  },
  {
   "cell_type": "code",
   "execution_count": 24,
   "metadata": {},
   "outputs": [
    {
     "data": {
      "text/plain": [
       "(3064, 456398)"
      ]
     },
     "execution_count": 24,
     "metadata": {},
     "output_type": "execute_result"
    }
   ],
   "source": [
    "X_train_dtm3.shape"
   ]
  },
  {
   "cell_type": "code",
   "execution_count": 25,
   "metadata": {},
   "outputs": [
    {
     "name": "stdout",
     "output_type": "stream",
     "text": [
      "['zucchini', 'zuchinni', 'zumba', 'zupa', 'zuzu', 'zwiebel', 'zzed', 'éclairs', 'école', 'ém']\n"
     ]
    }
   ],
   "source": [
    "# last 10 features of unigrams\n",
    "print(vect1.get_feature_names()[-10:])"
   ]
  },
  {
   "cell_type": "code",
   "execution_count": 26,
   "metadata": {},
   "outputs": [
    {
     "name": "stdout",
     "output_type": "stream",
     "text": [
      "['zwiebel', 'zwiebel kräuter', 'zzed', 'zzed in', 'éclairs', 'éclairs napoleons', 'école', 'école lenôtre', 'ém', 'ém all']\n"
     ]
    }
   ],
   "source": [
    "# last 10 features of bigrams \n",
    "print(vect2.get_feature_names()[-10:])\n"
   ]
  },
  {
   "cell_type": "code",
   "execution_count": 27,
   "metadata": {},
   "outputs": [
    {
     "name": "stdout",
     "output_type": "stream",
     "text": [
      "['zzed in my', 'éclairs', 'éclairs napoleons', 'éclairs napoleons and', 'école', 'école lenôtre', 'école lenôtre trained', 'ém', 'ém all', 'ém all they']\n"
     ]
    }
   ],
   "source": [
    "# last 10 features of trigrams \n",
    "print(vect3.get_feature_names()[-10:])"
   ]
  },
  {
   "cell_type": "markdown",
   "metadata": {},
   "source": [
    "## Part 3: Predicting the star rating"
   ]
  },
  {
   "cell_type": "code",
   "execution_count": 28,
   "metadata": {},
   "outputs": [
    {
     "data": {
      "text/plain": [
       "SVC(C=1, cache_size=200, class_weight=None, coef0=0.0,\n",
       "    decision_function_shape='ovr', degree=3, gamma=0.001, kernel='rbf',\n",
       "    max_iter=-1, probability=False, random_state=None, shrinking=True,\n",
       "    tol=0.001, verbose=False)"
      ]
     },
     "execution_count": 28,
     "metadata": {},
     "output_type": "execute_result"
    },
    {
     "name": "stdout",
     "output_type": "stream",
     "text": [
      "Accuracy of a SVM with gamma of 0.001 and C of 1: 0.8737769080234834\n",
      "F1 score of a SVM with gamma of 0.001 and C of 1: 0.4941176470588236\n"
     ]
    }
   ],
   "source": [
    "# use default options for CountVectorizer\n",
    "vect = CountVectorizer()\n",
    "\n",
    "# create document-term matrices\n",
    "X_train_dtm = vect.fit_transform(X_train)\n",
    "X_test_dtm = vect.transform(X_test)\n",
    "\n",
    "# use a Support Vector Machine to predict the star rating\n",
    "from sklearn import svm\n",
    "svm = svm.SVC(gamma=0.001, C=1)\n",
    "svm.fit(X_train_dtm, y_train)\n",
    "y_pred_class = svm.predict(X_test_dtm)\n",
    "\n",
    "# calculate accuracy\n",
    "print('Accuracy of a SVM with gamma of 0.001 and C of 1:', metrics.accuracy_score(y_test, y_pred_class))\n",
    "\n",
    "print('F1 score of a SVM with gamma of 0.001 and C of 1:',metrics.f1_score(y_test, y_pred_class)) "
   ]
  },
  {
   "cell_type": "code",
   "execution_count": 29,
   "metadata": {},
   "outputs": [
    {
     "data": {
      "text/plain": [
       "best    0.819960861056751478\n",
       "worst   0.180039138943248522\n",
       "Name: rating, dtype: float64"
      ]
     },
     "execution_count": 29,
     "metadata": {},
     "output_type": "execute_result"
    }
   ],
   "source": [
    "# calculate null accuracy\n",
    "y_test_category = pd.DataFrame(np.where(y_test==5, 'best', 'worst'), columns = ['rating'])\n",
    "y_test_category.rating.value_counts() / len(y_test_category.rating) \n",
    "#calculate the average of each category, all thing absent the mean is the most basic way to model a set of data"
   ]
  },
  {
   "cell_type": "code",
   "execution_count": 30,
   "metadata": {},
   "outputs": [],
   "source": [
    "# define a function that accepts a vectorizer and calculates precision \n",
    "#Recall that precision answers the question: What proportion of positive identifications was actually correct?\n",
    "#Represented as: True Positives/(True Positives + False Positives)\n",
    "#great link: https://towardsdatascience.com/accuracy-precision-recall-or-f1-331fb37c5cb9\n",
    "\n",
    "from sklearn import svm\n",
    "\n",
    "def tokenize_test(vect):\n",
    "    X_train_dtm = vect.fit_transform(X_train)\n",
    "    print('Features: ', X_train_dtm.shape[1])\n",
    "    X_test_dtm = vect.transform(X_test)\n",
    "    clf = svm.SVC(gamma=0.001, C=1)\n",
    "    clf.fit(X_train_dtm, y_train)\n",
    "    y_pred_class = clf.predict(X_test_dtm)\n",
    "    print('Precision: ', metrics.precision_score(y_test, y_pred_class))"
   ]
  },
  {
   "cell_type": "code",
   "execution_count": 31,
   "metadata": {},
   "outputs": [
    {
     "name": "stdout",
     "output_type": "stream",
     "text": [
      "Features:  16825\n",
      "Precision:  0.8873239436619719\n"
     ]
    }
   ],
   "source": [
    "vect = CountVectorizer()\n",
    "tokenize_test(vect)"
   ]
  },
  {
   "cell_type": "code",
   "execution_count": 32,
   "metadata": {},
   "outputs": [
    {
     "name": "stdout",
     "output_type": "stream",
     "text": [
      "Features:  16825\n",
      "Precision:  0.8873239436619719\n",
      "['zucchini', 'zuchinni', 'zumba', 'zupa', 'zuzu', 'zwiebel', 'zzed', 'éclairs', 'école', 'ém']\n"
     ]
    }
   ],
   "source": [
    "# include unigrams, default for CountVectorizer()\n",
    "vect1 = CountVectorizer(ngram_range=(0, 1))\n",
    "tokenize_test(vect1)\n",
    "print(vect.get_feature_names()[-10:])"
   ]
  },
  {
   "cell_type": "code",
   "execution_count": 33,
   "metadata": {},
   "outputs": [
    {
     "name": "stdout",
     "output_type": "stream",
     "text": [
      "Features:  169847\n",
      "Precision:  0.8985507246376812\n",
      "['zwiebel', 'zwiebel kräuter', 'zzed', 'zzed in', 'éclairs', 'éclairs napoleons', 'école', 'école lenôtre', 'ém', 'ém all']\n"
     ]
    }
   ],
   "source": [
    "# include bigrams\n",
    "vect2 = CountVectorizer(ngram_range=(1, 2))\n",
    "tokenize_test(vect2)\n",
    "print(vect2.get_feature_names()[-10:])"
   ]
  },
  {
   "cell_type": "code",
   "execution_count": 34,
   "metadata": {},
   "outputs": [
    {
     "name": "stdout",
     "output_type": "stream",
     "text": [
      "Features:  456398\n",
      "Precision:  0.9137931034482759\n",
      "['zzed in my', 'éclairs', 'éclairs napoleons', 'éclairs napoleons and', 'école', 'école lenôtre', 'école lenôtre trained', 'ém', 'ém all', 'ém all they']\n"
     ]
    }
   ],
   "source": [
    "# include trigrams\n",
    "vect3 = CountVectorizer(ngram_range=(1, 3))\n",
    "tokenize_test(vect3)\n",
    "print(vect3.get_feature_names()[-10:])"
   ]
  },
  {
   "cell_type": "code",
   "execution_count": 35,
   "metadata": {},
   "outputs": [
    {
     "name": "stdout",
     "output_type": "stream",
     "text": [
      "Features:  786270\n",
      "Precision:  0.92\n",
      "['éclairs napoleons and', 'éclairs napoleons and new', 'école', 'école lenôtre', 'école lenôtre trained', 'école lenôtre trained almond', 'ém', 'ém all', 'ém all they', 'ém all they were']\n"
     ]
    }
   ],
   "source": [
    "# include groups of 4 words\n",
    "vect4 = CountVectorizer(ngram_range=(1, 4))\n",
    "tokenize_test(vect4)\n",
    "print(vect4.get_feature_names()[-10:])"
   ]
  },
  {
   "cell_type": "markdown",
   "metadata": {},
   "source": [
    "## Part 3: Stopword Removal"
   ]
  },
  {
   "cell_type": "markdown",
   "metadata": {},
   "source": [
    "- **What:** Remove common words that will likely appear in any text\n",
    "- **Why:** They don't tell you much about your text"
   ]
  },
  {
   "cell_type": "code",
   "execution_count": 36,
   "metadata": {},
   "outputs": [
    {
     "data": {
      "text/plain": [
       "CountVectorizer(analyzer='word', binary=False, decode_error='strict',\n",
       "                dtype=<class 'numpy.int64'>, encoding='utf-8', input='content',\n",
       "                lowercase=True, max_df=1.0, max_features=None, min_df=1,\n",
       "                ngram_range=(1, 1), preprocessor=None, stop_words=None,\n",
       "                strip_accents=None, token_pattern='(?u)\\\\b\\\\w\\\\w+\\\\b',\n",
       "                tokenizer=None, vocabulary=None)"
      ]
     },
     "execution_count": 36,
     "metadata": {},
     "output_type": "execute_result"
    }
   ],
   "source": [
    "# show vectorizer options\n",
    "vect"
   ]
  },
  {
   "cell_type": "markdown",
   "metadata": {},
   "source": [
    "- **stop_words:** string {'english'}, list, or None (default)\n",
    "    - If 'english', a built-in stop word list for English is used.\n",
    "    - If a list, that list is assumed to contain stop words, all of which will be removed from the resulting tokens.\n",
    "    - If None, no stop words will be used. max_df can be set to a value in the range [0.7, 1.0) to automatically detect and filter stop words based on intra corpus document frequency of terms."
   ]
  },
  {
   "cell_type": "code",
   "execution_count": 37,
   "metadata": {},
   "outputs": [
    {
     "name": "stdout",
     "output_type": "stream",
     "text": [
      "Features:  470364\n",
      "Precision:  0.8636363636363636\n",
      "['éclairs napoleons new', 'éclairs napoleons new york', 'école', 'école lenôtre', 'école lenôtre trained', 'école lenôtre trained almond', 'ém', 'ém huge', 'ém huge ended', 'ém huge ended taking']\n"
     ]
    }
   ],
   "source": [
    "# remove English stop words and let's try predicting star ratings again \n",
    "vect_stop = CountVectorizer(stop_words='english', ngram_range=(1, 4))\n",
    "tokenize_test(vect_stop)\n",
    "print(vect_stop.get_feature_names()[-10:])"
   ]
  },
  {
   "cell_type": "code",
   "execution_count": 38,
   "metadata": {},
   "outputs": [
    {
     "name": "stdout",
     "output_type": "stream",
     "text": [
      "Features:  786270\n",
      "Precision:  0.92\n",
      "['éclairs napoleons and', 'éclairs napoleons and new', 'école', 'école lenôtre', 'école lenôtre trained', 'école lenôtre trained almond', 'ém', 'ém all', 'ém all they', 'ém all they were']\n"
     ]
    }
   ],
   "source": [
    "# hmmm seems like the stop words didn't do much let's check again, this time without removing stop words  \n",
    "vect_no_stop = CountVectorizer(stop_words=None, ngram_range=(1, 4))\n",
    "tokenize_test(vect_no_stop)\n",
    "print(vect_no_stop.get_feature_names()[-10:])"
   ]
  },
  {
   "cell_type": "markdown",
   "metadata": {},
   "source": [
    "#### So in this case, removing stop words is reducing our precision, although you could make the argument it's over fitting...what do you think? Why might we removing stop words reduce precision? \n",
    "Likely because stop words (listed below) are encoding important information about a review and because reviews are so short stopword usage actually becomes an important signal (see work by Pennebaker for more info on these kinds of words)"
   ]
  },
  {
   "cell_type": "code",
   "execution_count": 39,
   "metadata": {},
   "outputs": [
    {
     "name": "stdout",
     "output_type": "stream",
     "text": [
      "frozenset({'for', 'thick', 'anyhow', 'thereafter', 'becoming', 'to', 'but', 'keep', 'toward', 'off', 'had', 'among', 'latter', 'him', 'and', 'mostly', 'see', 'wherever', 'move', 'without', 'itself', 'whom', 'few', 'five', 'never', 'was', 'along', 'our', 'his', 'more', 'indeed', 'well', 'seeming', 'give', 'on', 'twenty', 'ten', 'i', 'already', 'only', 'co', 'everything', 'onto', 'after', 'thereby', 'into', 'ours', 'forty', 'beyond', 'whereby', 'ourselves', 'amoungst', 'first', 'sometimes', 'seem', 'mine', 'other', 'inc', 'become', 'formerly', 'third', 'about', 'my', 'there', 'fire', 'elsewhere', 'otherwise', 'somewhere', 'eight', 'anything', 'whatever', 'would', 'besides', 'must', 'also', 'bottom', 'together', 'she', 'system', 'sometime', 'though', 'or', 'where', 'others', 'show', 'three', 'should', 'towards', 'latterly', 'hence', 'one', 'please', 'once', 'whole', 'have', 'thru', 'might', 'two', 'across', 'found', 'amongst', 'could', 'former', 'next', 'whereupon', 'many', 'therein', 'whereas', 'namely', 'thereupon', 'when', 'meanwhile', 'front', 'rather', 'throughout', 'he', 'yourself', 'is', 're', 'same', 'both', 'so', 'often', 'somehow', 'sincere', 'before', 'too', 'thus', 'again', 'how', 'an', 'seemed', 'those', 'someone', 'yours', 'go', 'below', 'describe', 'yourselves', 'detail', 'own', 'part', 'in', 'why', 'been', 'beside', 'as', 'their', 'them', 'it', 'becomes', 'a', 'take', 'within', 'be', 'no', 'eleven', 'that', 'whenever', 'either', 'against', 'ltd', 'serious', 'always', 'since', 'up', 'hereby', 'around', 'wherein', 'under', 'nothing', 'hereafter', 'hundred', 'thence', 'name', 'several', 'fill', 'bill', 'all', 'hasnt', 'mill', 'almost', 'hereupon', 'through', 'none', 'sixty', 'couldnt', 'while', 'whither', 'yet', 'will', 'do', 'full', 'over', 'behind', 'out', 'get', 'ie', 'although', 'were', 'hers', 'any', 'amount', 'done', 'these', 'another', 'the', 'herself', 'then', 'being', 'cry', 'therefore', 'at', 'nine', 'if', 'us', 'un', 'top', 'anywhere', 'between', 'ever', 'last', 'what', 'thin', 'here', 'something', 'still', 'nevertheless', 'everywhere', 'due', 'interest', 'this', 'enough', 'whether', 'has', 'upon', 'you', 'down', 'nobody', 'side', 'which', 'whoever', 'call', 'neither', 'alone', 'am', 'during', 'me', 'now', 'however', 'themselves', 'whose', 'nor', 'else', 'eg', 'himself', 'moreover', 'cant', 'who', 'anyone', 'nowhere', 'each', 'noone', 'above', 'put', 'its', 'except', 'further', 'most', 'cannot', 'fifteen', 'your', 'anyway', 'less', 'perhaps', 'least', 'fifty', 'much', 'made', 'afterwards', 'myself', 'they', 'de', 'are', 'of', 'by', 'very', 'we', 'whereafter', 'via', 'whence', 'can', 'such', 'con', 'some', 'four', 'everyone', 'from', 'twelve', 'until', 'than', 'beforehand', 'back', 'per', 'her', 'not', 'etc', 'became', 'find', 'herein', 'with', 'even', 'every', 'may', 'because', 'empty', 'six', 'seems'})\n"
     ]
    }
   ],
   "source": [
    "# set of stop words from sklearn \n",
    "print(vect_stop.get_stop_words())"
   ]
  },
  {
   "cell_type": "markdown",
   "metadata": {},
   "source": [
    "## Part 4: Other CountVectorizer Options"
   ]
  },
  {
   "cell_type": "markdown",
   "metadata": {},
   "source": [
    "- **max_features:** int or None, default=None\n",
    "- If not None, build a vocabulary that only consider the top max_features ordered by **term frequency** across the corpus. Term frequency is the number of times the term appears in the corpus. Thus if it takes the first 100 features then it's taking the first 100 most frequently occuring bigrams/trigrams etc. "
   ]
  },
  {
   "cell_type": "code",
   "execution_count": 40,
   "metadata": {},
   "outputs": [
    {
     "name": "stdout",
     "output_type": "stream",
     "text": [
      "Features:  100\n",
      "Precision:  0.8888888888888888\n",
      "['amazing', 'area', 'atmosphere', 'awesome', 'bad', 'bar', 'best', 'better', 'big', 'came', 'cheese', 'chicken', 'clean', 'coffee', 'come', 'day', 'definitely', 'delicious', 'did', 'didn', 'dinner', 'don', 'eat', 'excellent', 'experience', 'favorite', 'feel', 'food', 'free', 'fresh', 'friendly', 'friends', 'going', 'good', 'got', 'great', 'happy', 'home', 'hot', 'hour', 'just', 'know', 'like', 'little', 'll', 'location', 'long', 'looking', 'lot', 'love', 'lunch', 'make', 'meal', 'menu', 'minutes', 'need', 'new', 'nice', 'night', 'order', 'ordered', 'people', 'perfect', 'phoenix', 'pizza', 'place', 'pretty', 'prices', 'really', 'recommend', 'restaurant', 'right', 'said', 'salad', 'sandwich', 'sauce', 'say', 'service', 'staff', 'store', 'sure', 'table', 'thing', 'things', 'think', 'time', 'times', 'took', 'town', 'tried', 'try', 've', 'wait', 'want', 'way', 'went', 'wine', 'work', 'worth', 'years']\n"
     ]
    }
   ],
   "source": [
    "# remove English stop words and only keep 100 features\n",
    "vect_max100 = CountVectorizer(stop_words='english', max_features=100)\n",
    "tokenize_test(vect_max100)\n",
    "print(vect_max100.get_feature_names()) #[0:100]"
   ]
  },
  {
   "cell_type": "code",
   "execution_count": 41,
   "metadata": {},
   "outputs": [
    {
     "name": "stdout",
     "output_type": "stream",
     "text": [
      "Features:  100000\n",
      "Precision:  0.9014084507042254\n",
      "['00', '00 25', '00 am', '00 amazing', '00 and', '00 at', '00 before', '00 bill', '00 can', '00 charge', '00 cover', '00 credit', '00 did', '00 each', '00 entree', '00 etc', '00 everyday', '00 extra', '00 food', '00 for', '00 gift', '00 here', '00 minimum', '00 night', '00 off', '00 on', '00 pair', '00 per', '00 pm', '00 price', '00 really', '00 seating', '00 seriously', '00 seven', '00 that', '00 the', '00 there', '00 they', '00 this', '00 though', '00 tip', '00 was', '00 we', '00 wish', '00 with', '000', '000 at', '000 in', '000 miles', '000 people', '000 thats', '000 they', '00a', '00a and', '00am', '00am 00pm', '00am before', '00am the', '00am then', '00am you', '00pm', '00pm and', '00pm information', '00pm my', '00pm oops', '00pm the', '01', '01 04', '01 16', '01 the', '02', '02 2010', '03', '03 pm', '03342', '03342 cents', '04', '04 2012', '05', '05 few', '05 minutes', '06', '06 hyundai', '07', '07 09', '07 after', '07 am', '07 ll', '07 think', '07 was', '07 we', '07 what', '09', '09 2008', '09 when', '0buxoc0crqjpvkezo3bqog', '0buxoc0crqjpvkezo3bqog select', '0l', '0l 8v', '10']\n"
     ]
    }
   ],
   "source": [
    "# repeat with bigrams, and limit the number of features to 100,000, recall the previous features was approx `170K\n",
    "vect_tri_100k = CountVectorizer(ngram_range=(1, 2), max_features=100000)\n",
    "tokenize_test(vect_tri_100k)\n",
    "print(vect_tri_100k.get_feature_names()[0:100]) "
   ]
  },
  {
   "cell_type": "code",
   "execution_count": 42,
   "metadata": {},
   "outputs": [
    {
     "name": "stdout",
     "output_type": "stream",
     "text": [
      "Features:  30000\n",
      "Precision:  0.9054054054054054\n",
      "['00', '00 am', '00 and', '00 for', '00 the', '000', '000 miles', '00am', '00pm', '01', '07', '09', '10', '10 000', '10 15', '10 30', '10 and', '10 bucks', '10 different', '10 for', '10 min', '10 minutes', '10 or', '10 they', '10 times', '10 years', '100', '100 to', '1000', '101', '10am', '10min', '10th', '11', '11 18', '110', '11am', '11pm', '12', '12 30', '12 and', '12 for', '12 hours', '12 years', '120', '12oz', '13', '13 years', '14', '14 99', '140', '15', '15 20', '15 different', '15 for', '15 min', '15 mins', '15 minutes', '15 years', '150', '16', '160', '17', '17 years', '18', '18 for', '180', '19', '1980', '1st', '1st time', '20', '20 00', '20 for', '20 min', '20 minutes', '20 off', '20 people', '20 per', '20 times', '20 years', '200', '2006', '2008', '2009', '2010', '2011', '2012', '20th', '21', '22', '23', '24', '24 hours', '24th', '25', '25 and', '25 for', '25 off', '250']\n"
     ]
    }
   ],
   "source": [
    "# include bigrams, and limit the number of features 30,000\n",
    "vect_tri_30k = CountVectorizer(ngram_range=(1, 2), max_features=30000)\n",
    "tokenize_test(vect_tri_30k)\n",
    "print(vect_tri_30k.get_feature_names()[0:100])"
   ]
  },
  {
   "cell_type": "markdown",
   "metadata": {},
   "source": [
    "### What I find interesting here is that both of these cases at least 100 of the features are years or numbers likely having to do with wait times or time of day or cost. "
   ]
  },
  {
   "cell_type": "markdown",
   "metadata": {},
   "source": [
    "CountVectorizer parameter: \n",
    "- **min_df:** float in range [0.0, 1.0] or int, default=1\n",
    "    - When building the vocabulary ignore terms that have a document frequency lower than a given threshold. This value. If float, the parameter represents a proportion of documents, integer absolute counts."
   ]
  },
  {
   "cell_type": "code",
   "execution_count": 43,
   "metadata": {},
   "outputs": [
    {
     "name": "stdout",
     "output_type": "stream",
     "text": [
      "Features:  30000\n",
      "Precision:  0.9054054054054054\n",
      "['your super', 'your table', 'your taste', 'your teeth', 'your time', 'your to', 'your tongue', 'your typical', 'your waist', 'your wallet', 'your way', 'your whole', 'yours', 'yourself', 'yourself and', 'yourself favor', 'yourself in', 'yourself the', 'yourself with', 'yourself you', 'yr', 'yr old', 'yrs', 'yuck', 'yucky', 'yukon', 'yukon gold', 'yum', 'yum and', 'yum the', 'yum yum', 'yumm', 'yummm', 'yummy', 'yummy and', 'yummy the', 'yummy too', 'yummy we', 'yung', 'yup', 'zach', 'zen', 'zero', 'zero stars', 'zinburger', 'zoe', 'zone', 'zoo', 'zucchini', 'zumba']\n"
     ]
    }
   ],
   "source": [
    "# include bigrams, and only include terms that appear at least 2 times\n",
    "vect_min2 = CountVectorizer(ngram_range=(1, 2),  max_features=30000, min_df=2)\n",
    "tokenize_test(vect_min2)\n",
    "print(vect_min2.get_feature_names()[-50:])"
   ]
  },
  {
   "cell_type": "code",
   "execution_count": 44,
   "metadata": {},
   "outputs": [
    {
     "name": "stdout",
     "output_type": "stream",
     "text": [
      "Features:  14113\n",
      "Precision:  0.9066666666666666\n",
      "['young', 'your', 'your average', 'your body', 'your business', 'your car', 'your choice', 'your customers', 'your dog', 'your experience', 'your eyes', 'your face', 'your favorite', 'your first', 'your food', 'your friends', 'your guests', 'your hair', 'your hand', 'your hands', 'your job', 'your life', 'your looking', 'your meal', 'your mind', 'your money', 'your mouth', 'your name', 'your order', 'your own', 'your place', 'your table', 'your taste', 'your time', 'your tongue', 'your typical', 'your way', 'yourself', 'yourself favor', 'yourself with', 'yuck', 'yum', 'yum yum', 'yummy', 'yummy and', 'yup', 'zen', 'zero', 'zinburger', 'zucchini']\n"
     ]
    }
   ],
   "source": [
    "# include bigrams, and only include terms that appear at least 5 times\n",
    "vect_min5 = CountVectorizer(ngram_range=(1, 2),  max_features=30000, min_df=5)\n",
    "tokenize_test(vect_min5)\n",
    "print(vect_min5.get_feature_names()[-50:])\n",
    "#note that there are not 30K bigrams that match the min_df constraint\n",
    "#also note that the precision increased to .906"
   ]
  },
  {
   "cell_type": "markdown",
   "metadata": {},
   "source": [
    "## Part 5: TextBlob for simplified text processing"
   ]
  },
  {
   "cell_type": "code",
   "execution_count": 45,
   "metadata": {},
   "outputs": [
    {
     "name": "stdout",
     "output_type": "stream",
     "text": [
      "My wife took me here on my birthday for breakfast and it was excellent.  The weather was perfect which made sitting outside overlooking their grounds an absolute pleasure.  Our waitress was excellent and our food arrived quickly on the semi-busy Saturday morning.  It looked like the place fills up pretty quickly so the earlier you get here the better.\n",
      "\n",
      "Do yourself a favor and get their Bloody Mary.  It was phenomenal and simply the best I've ever had.  I'm pretty sure they only use ingredients from their garden and blend them fresh when you order it.  It was amazing.\n",
      "\n",
      "While EVERYTHING on the menu looks excellent, I had the white truffle scrambled eggs vegetable skillet and it was tasty and delicious.  It came with 2 pieces of their griddled bread with was amazing and it absolutely made the meal complete.  It was the best \"toast\" I've ever had.\n",
      "\n",
      "Anyway, I can't wait to go back!\n"
     ]
    }
   ],
   "source": [
    "# print the first review\n",
    "print(yelp_best_worst.text[0])"
   ]
  },
  {
   "cell_type": "code",
   "execution_count": 46,
   "metadata": {},
   "outputs": [],
   "source": [
    "review1 = TextBlob(yelp_best_worst.text[0])"
   ]
  },
  {
   "cell_type": "code",
   "execution_count": 47,
   "metadata": {},
   "outputs": [
    {
     "data": {
      "text/plain": [
       "WordList(['My', 'wife', 'took', 'me', 'here', 'on', 'my', 'birthday', 'for', 'breakfast', 'and', 'it', 'was', 'excellent', 'The', 'weather', 'was', 'perfect', 'which', 'made', 'sitting', 'outside', 'overlooking', 'their', 'grounds', 'an', 'absolute', 'pleasure', 'Our', 'waitress', 'was', 'excellent', 'and', 'our', 'food', 'arrived', 'quickly', 'on', 'the', 'semi-busy', 'Saturday', 'morning', 'It', 'looked', 'like', 'the', 'place', 'fills', 'up', 'pretty', 'quickly', 'so', 'the', 'earlier', 'you', 'get', 'here', 'the', 'better', 'Do', 'yourself', 'a', 'favor', 'and', 'get', 'their', 'Bloody', 'Mary', 'It', 'was', 'phenomenal', 'and', 'simply', 'the', 'best', 'I', \"'ve\", 'ever', 'had', 'I', \"'m\", 'pretty', 'sure', 'they', 'only', 'use', 'ingredients', 'from', 'their', 'garden', 'and', 'blend', 'them', 'fresh', 'when', 'you', 'order', 'it', 'It', 'was', 'amazing', 'While', 'EVERYTHING', 'on', 'the', 'menu', 'looks', 'excellent', 'I', 'had', 'the', 'white', 'truffle', 'scrambled', 'eggs', 'vegetable', 'skillet', 'and', 'it', 'was', 'tasty', 'and', 'delicious', 'It', 'came', 'with', '2', 'pieces', 'of', 'their', 'griddled', 'bread', 'with', 'was', 'amazing', 'and', 'it', 'absolutely', 'made', 'the', 'meal', 'complete', 'It', 'was', 'the', 'best', 'toast', 'I', \"'ve\", 'ever', 'had', 'Anyway', 'I', 'ca', \"n't\", 'wait', 'to', 'go', 'back'])"
      ]
     },
     "execution_count": 47,
     "metadata": {},
     "output_type": "execute_result"
    }
   ],
   "source": [
    "# list the words\n",
    "review1.words"
   ]
  },
  {
   "cell_type": "code",
   "execution_count": 48,
   "metadata": {},
   "outputs": [
    {
     "data": {
      "text/plain": [
       "[Sentence(\"My wife took me here on my birthday for breakfast and it was excellent.\"),\n",
       " Sentence(\"The weather was perfect which made sitting outside overlooking their grounds an absolute pleasure.\"),\n",
       " Sentence(\"Our waitress was excellent and our food arrived quickly on the semi-busy Saturday morning.\"),\n",
       " Sentence(\"It looked like the place fills up pretty quickly so the earlier you get here the better.\"),\n",
       " Sentence(\"Do yourself a favor and get their Bloody Mary.\"),\n",
       " Sentence(\"It was phenomenal and simply the best I've ever had.\"),\n",
       " Sentence(\"I'm pretty sure they only use ingredients from their garden and blend them fresh when you order it.\"),\n",
       " Sentence(\"It was amazing.\"),\n",
       " Sentence(\"While EVERYTHING on the menu looks excellent, I had the white truffle scrambled eggs vegetable skillet and it was tasty and delicious.\"),\n",
       " Sentence(\"It came with 2 pieces of their griddled bread with was amazing and it absolutely made the meal complete.\"),\n",
       " Sentence(\"It was the best \"toast\" I've ever had.\"),\n",
       " Sentence(\"Anyway, I can't wait to go back!\")]"
      ]
     },
     "execution_count": 48,
     "metadata": {},
     "output_type": "execute_result"
    }
   ],
   "source": [
    "# list the sentences\n",
    "review1.sentences"
   ]
  },
  {
   "cell_type": "code",
   "execution_count": 49,
   "metadata": {},
   "outputs": [
    {
     "data": {
      "text/plain": [
       "TextBlob(\"my wife took me here on my birthday for breakfast and it was excellent.  the weather was perfect which made sitting outside overlooking their grounds an absolute pleasure.  our waitress was excellent and our food arrived quickly on the semi-busy saturday morning.  it looked like the place fills up pretty quickly so the earlier you get here the better.\n",
       "\n",
       "do yourself a favor and get their bloody mary.  it was phenomenal and simply the best i've ever had.  i'm pretty sure they only use ingredients from their garden and blend them fresh when you order it.  it was amazing.\n",
       "\n",
       "while everything on the menu looks excellent, i had the white truffle scrambled eggs vegetable skillet and it was tasty and delicious.  it came with 2 pieces of their griddled bread with was amazing and it absolutely made the meal complete.  it was the best \"toast\" i've ever had.\n",
       "\n",
       "anyway, i can't wait to go back!\")"
      ]
     },
     "execution_count": 49,
     "metadata": {},
     "output_type": "execute_result"
    }
   ],
   "source": [
    "# some string methods are available\n",
    "review1.lower()"
   ]
  },
  {
   "cell_type": "markdown",
   "metadata": {},
   "source": [
    "## Part 6: Stemming and Lemmatization"
   ]
  },
  {
   "cell_type": "markdown",
   "metadata": {},
   "source": [
    "**Stemming:**\n",
    "\n",
    "- **What:** Reduce a word to its base/stem/root form\n",
    "- **Why:** Often makes sense to treat related words the same way\n",
    "- **Notes:**\n",
    "    - Uses a \"simple\" and fast rule-based approach\n",
    "    - Stemmed words are usually not shown to users (used for analysis/indexing)\n",
    "    - Some search engines treat words with the same stem as synonyms"
   ]
  },
  {
   "cell_type": "code",
   "execution_count": 50,
   "metadata": {},
   "outputs": [
    {
     "name": "stdout",
     "output_type": "stream",
     "text": [
      "['my', 'wife', 'took', 'me', 'here', 'on', 'my', 'birthday', 'for', 'breakfast', 'and', 'it', 'was', 'excel', 'the', 'weather', 'was', 'perfect', 'which', 'made', 'sit', 'outsid', 'overlook', 'their', 'ground', 'an', 'absolut', 'pleasur', 'our', 'waitress', 'was', 'excel', 'and', 'our', 'food', 'arriv', 'quick', 'on', 'the', 'semi-busi', 'saturday', 'morn', 'it', 'look', 'like', 'the', 'place', 'fill', 'up', 'pretti', 'quick', 'so', 'the', 'earlier', 'you', 'get', 'here', 'the', 'better', 'do', 'yourself', 'a', 'favor', 'and', 'get', 'their', 'bloodi', 'mari', 'it', 'was', 'phenomen', 'and', 'simpli', 'the', 'best', 'i', 've', 'ever', 'had', 'i', \"'m\", 'pretti', 'sure', 'they', 'onli', 'use', 'ingredi', 'from', 'their', 'garden', 'and', 'blend', 'them', 'fresh', 'when', 'you', 'order', 'it', 'it', 'was', 'amaz', 'while', 'everyth', 'on', 'the', 'menu', 'look', 'excel', 'i', 'had', 'the', 'white', 'truffl', 'scrambl', 'egg', 'veget', 'skillet', 'and', 'it', 'was', 'tasti', 'and', 'delici', 'it', 'came', 'with', '2', 'piec', 'of', 'their', 'griddl', 'bread', 'with', 'was', 'amaz', 'and', 'it', 'absolut', 'made', 'the', 'meal', 'complet', 'it', 'was', 'the', 'best', 'toast', 'i', 've', 'ever', 'had', 'anyway', 'i', 'ca', \"n't\", 'wait', 'to', 'go', 'back']\n"
     ]
    }
   ],
   "source": [
    "# initialize stemmer\n",
    "stemmer = SnowballStemmer('english')\n",
    "\n",
    "# stem each word\n",
    "print([stemmer.stem(word) for word in review1.words])"
   ]
  },
  {
   "cell_type": "markdown",
   "metadata": {},
   "source": [
    "**Lemmatization**\n",
    "\n",
    "- **What:** Derive the canonical form ('lemma') of a word\n",
    "- **Why:** Can be better than stemming\n",
    "- **Notes:** Uses a dictionary-based approach (slower than stemming)"
   ]
  },
  {
   "cell_type": "code",
   "execution_count": 51,
   "metadata": {},
   "outputs": [
    {
     "name": "stdout",
     "output_type": "stream",
     "text": [
      "['My', 'wife', 'took', 'me', 'here', 'on', 'my', 'birthday', 'for', 'breakfast', 'and', 'it', 'wa', 'excellent', 'The', 'weather', 'wa', 'perfect', 'which', 'made', 'sitting', 'outside', 'overlooking', 'their', 'ground', 'an', 'absolute', 'pleasure', 'Our', 'waitress', 'wa', 'excellent', 'and', 'our', 'food', 'arrived', 'quickly', 'on', 'the', 'semi-busy', 'Saturday', 'morning', 'It', 'looked', 'like', 'the', 'place', 'fill', 'up', 'pretty', 'quickly', 'so', 'the', 'earlier', 'you', 'get', 'here', 'the', 'better', 'Do', 'yourself', 'a', 'favor', 'and', 'get', 'their', 'Bloody', 'Mary', 'It', 'wa', 'phenomenal', 'and', 'simply', 'the', 'best', 'I', \"'ve\", 'ever', 'had', 'I', \"'m\", 'pretty', 'sure', 'they', 'only', 'use', 'ingredient', 'from', 'their', 'garden', 'and', 'blend', 'them', 'fresh', 'when', 'you', 'order', 'it', 'It', 'wa', 'amazing', 'While', 'EVERYTHING', 'on', 'the', 'menu', 'look', 'excellent', 'I', 'had', 'the', 'white', 'truffle', 'scrambled', 'egg', 'vegetable', 'skillet', 'and', 'it', 'wa', 'tasty', 'and', 'delicious', 'It', 'came', 'with', '2', 'piece', 'of', 'their', 'griddled', 'bread', 'with', 'wa', 'amazing', 'and', 'it', 'absolutely', 'made', 'the', 'meal', 'complete', 'It', 'wa', 'the', 'best', 'toast', 'I', \"'ve\", 'ever', 'had', 'Anyway', 'I', 'ca', \"n't\", 'wait', 'to', 'go', 'back']\n"
     ]
    }
   ],
   "source": [
    "# assume every word is a noun\n",
    "print([word.lemmatize() for word in review1.words])"
   ]
  },
  {
   "cell_type": "code",
   "execution_count": 52,
   "metadata": {},
   "outputs": [
    {
     "name": "stdout",
     "output_type": "stream",
     "text": [
      "['My', 'wife', 'take', 'me', 'here', 'on', 'my', 'birthday', 'for', 'breakfast', 'and', 'it', 'be', 'excellent', 'The', 'weather', 'be', 'perfect', 'which', 'make', 'sit', 'outside', 'overlook', 'their', 'ground', 'an', 'absolute', 'pleasure', 'Our', 'waitress', 'be', 'excellent', 'and', 'our', 'food', 'arrive', 'quickly', 'on', 'the', 'semi-busy', 'Saturday', 'morning', 'It', 'look', 'like', 'the', 'place', 'fill', 'up', 'pretty', 'quickly', 'so', 'the', 'earlier', 'you', 'get', 'here', 'the', 'better', 'Do', 'yourself', 'a', 'favor', 'and', 'get', 'their', 'Bloody', 'Mary', 'It', 'be', 'phenomenal', 'and', 'simply', 'the', 'best', 'I', \"'ve\", 'ever', 'have', 'I', \"'m\", 'pretty', 'sure', 'they', 'only', 'use', 'ingredients', 'from', 'their', 'garden', 'and', 'blend', 'them', 'fresh', 'when', 'you', 'order', 'it', 'It', 'be', 'amaze', 'While', 'EVERYTHING', 'on', 'the', 'menu', 'look', 'excellent', 'I', 'have', 'the', 'white', 'truffle', 'scramble', 'egg', 'vegetable', 'skillet', 'and', 'it', 'be', 'tasty', 'and', 'delicious', 'It', 'come', 'with', '2', 'piece', 'of', 'their', 'griddle', 'bread', 'with', 'be', 'amaze', 'and', 'it', 'absolutely', 'make', 'the', 'meal', 'complete', 'It', 'be', 'the', 'best', 'toast', 'I', \"'ve\", 'ever', 'have', 'Anyway', 'I', 'ca', \"n't\", 'wait', 'to', 'go', 'back']\n"
     ]
    }
   ],
   "source": [
    "# assume every word is a verb\n",
    "print([word.lemmatize(pos='v') for word in review1.words])"
   ]
  },
  {
   "cell_type": "code",
   "execution_count": 53,
   "metadata": {},
   "outputs": [],
   "source": [
    "# define a function that accepts text and returns a list of lemmas\n",
    "def split_into_lemmas(text):\n",
    "    #text = str.encode(encoding=\"utf-8\", errors=\"ignore\") #unicode(text, 'utf-8').lower()\n",
    "    words = TextBlob(text).words\n",
    "    return [word.lemmatize() for word in words]"
   ]
  },
  {
   "cell_type": "code",
   "execution_count": 54,
   "metadata": {},
   "outputs": [
    {
     "name": "stdout",
     "output_type": "stream",
     "text": [
      "Features:  20590\n",
      "Precision:  0.8793103448275862\n",
      "['yourselves', 'youth', 'youthful', 'yow', 'yr', 'yu', 'yuck', 'yucky', 'yuk', 'yukon', 'yum', 'yumm', 'yummie', 'yummier', 'yumminess', 'yummm', 'yummmm', 'yummmmmmers', 'yummmmy', 'yummy', 'yummy-we', 'yumness', 'yup', 'yuppie', 'yuuuuummmmmyyy', 'yuyuyummy', 'yuzu', 'zen', 'zen-like', 'zero', 'zero-star', 'zest', 'zhou', 'zilch', 'zinc', 'zing', 'zip', 'zipper', 'ziti', 'zone', 'zoning', 'zoo', 'zucchini', 'zuchinni', 'zupa', 'zwiebel-kräuter', 'zzed', 'École', 'éclairs', 'ém']\n"
     ]
    }
   ],
   "source": [
    "# use split_into_lemmas as the feature extraction function (WARNING: SLOW!)\n",
    "vect_lemmas = CountVectorizer(analyzer=split_into_lemmas)\n",
    "tokenize_test(vect_lemmas)\n",
    "print(vect_lemmas.get_feature_names()[-50:])"
   ]
  },
  {
   "cell_type": "code",
   "execution_count": 55,
   "metadata": {},
   "outputs": [
    {
     "name": "stdout",
     "output_type": "stream",
     "text": [
      "['zero-star', 'zest', 'zhou', 'zilch', 'zinc', 'zing', 'zip', 'zipper', 'ziti', 'zone', 'zoning', 'zoo', 'zucchini', 'zuchinni', 'zupa', 'zwiebel-kräuter', 'zzed', 'École', 'éclairs', 'ém']\n"
     ]
    }
   ],
   "source": [
    "# last 20 features\n",
    "print(vect_lemmas.get_feature_names()[-20:])"
   ]
  },
  {
   "cell_type": "markdown",
   "metadata": {},
   "source": [
    "## Part 7: Term Frequency-Inverse Document Frequency (TF-IDF)"
   ]
  },
  {
   "cell_type": "markdown",
   "metadata": {},
   "source": [
    "- **What:** Computes \"relative frequency\" that a word appears in a document compared to its frequency across all documents\n",
    "- **Why:** More useful than \"term frequency\" for identifying \"important\" words in each document (high frequency in that document, low frequency in other documents)\n",
    "- **Notes:** Used for search engine scoring, text summarization, document clustering"
   ]
  },
  {
   "cell_type": "code",
   "execution_count": 56,
   "metadata": {},
   "outputs": [],
   "source": [
    "# example documents\n",
    "simple_train = ['call you tonight', 'Call me a cab', 'please call me... PLEASE!']"
   ]
  },
  {
   "cell_type": "code",
   "execution_count": 57,
   "metadata": {},
   "outputs": [
    {
     "data": {
      "text/html": [
       "<div>\n",
       "<style scoped>\n",
       "    .dataframe tbody tr th:only-of-type {\n",
       "        vertical-align: middle;\n",
       "    }\n",
       "\n",
       "    .dataframe tbody tr th {\n",
       "        vertical-align: top;\n",
       "    }\n",
       "\n",
       "    .dataframe thead th {\n",
       "        text-align: right;\n",
       "    }\n",
       "</style>\n",
       "<table border=\"1\" class=\"dataframe\">\n",
       "  <thead>\n",
       "    <tr style=\"text-align: right;\">\n",
       "      <th></th>\n",
       "      <th>cab</th>\n",
       "      <th>call</th>\n",
       "      <th>me</th>\n",
       "      <th>please</th>\n",
       "      <th>tonight</th>\n",
       "      <th>you</th>\n",
       "    </tr>\n",
       "  </thead>\n",
       "  <tbody>\n",
       "    <tr>\n",
       "      <td>0</td>\n",
       "      <td>0</td>\n",
       "      <td>1</td>\n",
       "      <td>0</td>\n",
       "      <td>0</td>\n",
       "      <td>1</td>\n",
       "      <td>1</td>\n",
       "    </tr>\n",
       "    <tr>\n",
       "      <td>1</td>\n",
       "      <td>1</td>\n",
       "      <td>1</td>\n",
       "      <td>1</td>\n",
       "      <td>0</td>\n",
       "      <td>0</td>\n",
       "      <td>0</td>\n",
       "    </tr>\n",
       "    <tr>\n",
       "      <td>2</td>\n",
       "      <td>0</td>\n",
       "      <td>1</td>\n",
       "      <td>1</td>\n",
       "      <td>2</td>\n",
       "      <td>0</td>\n",
       "      <td>0</td>\n",
       "    </tr>\n",
       "  </tbody>\n",
       "</table>\n",
       "</div>"
      ],
      "text/plain": [
       "   cab  call  me  please  tonight  you\n",
       "0  0    1     0   0       1        1  \n",
       "1  1    1     1   0       0        0  \n",
       "2  0    1     1   2       0        0  "
      ]
     },
     "execution_count": 57,
     "metadata": {},
     "output_type": "execute_result"
    }
   ],
   "source": [
    "# Term Frequency\n",
    "vect = CountVectorizer()\n",
    "tf = pd.DataFrame(vect.fit_transform(simple_train).toarray(), columns=vect.get_feature_names())\n",
    "tf"
   ]
  },
  {
   "cell_type": "code",
   "execution_count": 58,
   "metadata": {},
   "outputs": [
    {
     "data": {
      "text/html": [
       "<div>\n",
       "<style scoped>\n",
       "    .dataframe tbody tr th:only-of-type {\n",
       "        vertical-align: middle;\n",
       "    }\n",
       "\n",
       "    .dataframe tbody tr th {\n",
       "        vertical-align: top;\n",
       "    }\n",
       "\n",
       "    .dataframe thead th {\n",
       "        text-align: right;\n",
       "    }\n",
       "</style>\n",
       "<table border=\"1\" class=\"dataframe\">\n",
       "  <thead>\n",
       "    <tr style=\"text-align: right;\">\n",
       "      <th></th>\n",
       "      <th>cab</th>\n",
       "      <th>call</th>\n",
       "      <th>me</th>\n",
       "      <th>please</th>\n",
       "      <th>tonight</th>\n",
       "      <th>you</th>\n",
       "    </tr>\n",
       "  </thead>\n",
       "  <tbody>\n",
       "    <tr>\n",
       "      <td>0</td>\n",
       "      <td>1</td>\n",
       "      <td>3</td>\n",
       "      <td>2</td>\n",
       "      <td>1</td>\n",
       "      <td>1</td>\n",
       "      <td>1</td>\n",
       "    </tr>\n",
       "  </tbody>\n",
       "</table>\n",
       "</div>"
      ],
      "text/plain": [
       "   cab  call  me  please  tonight  you\n",
       "0  1    3     2   1       1        1  "
      ]
     },
     "execution_count": 58,
     "metadata": {},
     "output_type": "execute_result"
    }
   ],
   "source": [
    "# Document Frequency\n",
    "vect = CountVectorizer(binary=True)\n",
    "df = vect.fit_transform(simple_train).toarray().sum(axis=0)\n",
    "pd.DataFrame(df.reshape(1, 6), columns=vect.get_feature_names())"
   ]
  },
  {
   "cell_type": "code",
   "execution_count": 59,
   "metadata": {},
   "outputs": [
    {
     "data": {
      "text/html": [
       "<div>\n",
       "<style scoped>\n",
       "    .dataframe tbody tr th:only-of-type {\n",
       "        vertical-align: middle;\n",
       "    }\n",
       "\n",
       "    .dataframe tbody tr th {\n",
       "        vertical-align: top;\n",
       "    }\n",
       "\n",
       "    .dataframe thead th {\n",
       "        text-align: right;\n",
       "    }\n",
       "</style>\n",
       "<table border=\"1\" class=\"dataframe\">\n",
       "  <thead>\n",
       "    <tr style=\"text-align: right;\">\n",
       "      <th></th>\n",
       "      <th>cab</th>\n",
       "      <th>call</th>\n",
       "      <th>me</th>\n",
       "      <th>please</th>\n",
       "      <th>tonight</th>\n",
       "      <th>you</th>\n",
       "    </tr>\n",
       "  </thead>\n",
       "  <tbody>\n",
       "    <tr>\n",
       "      <td>0</td>\n",
       "      <td>0.000000000000000000</td>\n",
       "      <td>0.333333333333333315</td>\n",
       "      <td>0.000000000000000000</td>\n",
       "      <td>0.000000000000000000</td>\n",
       "      <td>1.000000000000000000</td>\n",
       "      <td>1.000000000000000000</td>\n",
       "    </tr>\n",
       "    <tr>\n",
       "      <td>1</td>\n",
       "      <td>1.000000000000000000</td>\n",
       "      <td>0.333333333333333315</td>\n",
       "      <td>0.500000000000000000</td>\n",
       "      <td>0.000000000000000000</td>\n",
       "      <td>0.000000000000000000</td>\n",
       "      <td>0.000000000000000000</td>\n",
       "    </tr>\n",
       "    <tr>\n",
       "      <td>2</td>\n",
       "      <td>0.000000000000000000</td>\n",
       "      <td>0.333333333333333315</td>\n",
       "      <td>0.500000000000000000</td>\n",
       "      <td>2.000000000000000000</td>\n",
       "      <td>0.000000000000000000</td>\n",
       "      <td>0.000000000000000000</td>\n",
       "    </tr>\n",
       "  </tbody>\n",
       "</table>\n",
       "</div>"
      ],
      "text/plain": [
       "                   cab                 call                   me  \\\n",
       "0 0.000000000000000000 0.333333333333333315 0.000000000000000000   \n",
       "1 1.000000000000000000 0.333333333333333315 0.500000000000000000   \n",
       "2 0.000000000000000000 0.333333333333333315 0.500000000000000000   \n",
       "\n",
       "                please              tonight                  you  \n",
       "0 0.000000000000000000 1.000000000000000000 1.000000000000000000  \n",
       "1 0.000000000000000000 0.000000000000000000 0.000000000000000000  \n",
       "2 2.000000000000000000 0.000000000000000000 0.000000000000000000  "
      ]
     },
     "execution_count": 59,
     "metadata": {},
     "output_type": "execute_result"
    }
   ],
   "source": [
    "# Term Frequency-Inverse Document Frequency (simple version)\n",
    "tf/df"
   ]
  },
  {
   "cell_type": "code",
   "execution_count": 60,
   "metadata": {},
   "outputs": [
    {
     "data": {
      "text/html": [
       "<div>\n",
       "<style scoped>\n",
       "    .dataframe tbody tr th:only-of-type {\n",
       "        vertical-align: middle;\n",
       "    }\n",
       "\n",
       "    .dataframe tbody tr th {\n",
       "        vertical-align: top;\n",
       "    }\n",
       "\n",
       "    .dataframe thead th {\n",
       "        text-align: right;\n",
       "    }\n",
       "</style>\n",
       "<table border=\"1\" class=\"dataframe\">\n",
       "  <thead>\n",
       "    <tr style=\"text-align: right;\">\n",
       "      <th></th>\n",
       "      <th>cab</th>\n",
       "      <th>call</th>\n",
       "      <th>me</th>\n",
       "      <th>please</th>\n",
       "      <th>tonight</th>\n",
       "      <th>you</th>\n",
       "    </tr>\n",
       "  </thead>\n",
       "  <tbody>\n",
       "    <tr>\n",
       "      <td>0</td>\n",
       "      <td>0.000000000000000000</td>\n",
       "      <td>0.385371627466400690</td>\n",
       "      <td>0.000000000000000000</td>\n",
       "      <td>0.000000000000000000</td>\n",
       "      <td>0.652490884512534008</td>\n",
       "      <td>0.652490884512534008</td>\n",
       "    </tr>\n",
       "    <tr>\n",
       "      <td>1</td>\n",
       "      <td>0.720333449054989305</td>\n",
       "      <td>0.425440538971199100</td>\n",
       "      <td>0.547832154927436310</td>\n",
       "      <td>0.000000000000000000</td>\n",
       "      <td>0.000000000000000000</td>\n",
       "      <td>0.000000000000000000</td>\n",
       "    </tr>\n",
       "    <tr>\n",
       "      <td>2</td>\n",
       "      <td>0.000000000000000000</td>\n",
       "      <td>0.266074962540592874</td>\n",
       "      <td>0.342619959191800605</td>\n",
       "      <td>0.901008145286395945</td>\n",
       "      <td>0.000000000000000000</td>\n",
       "      <td>0.000000000000000000</td>\n",
       "    </tr>\n",
       "  </tbody>\n",
       "</table>\n",
       "</div>"
      ],
      "text/plain": [
       "                   cab                 call                   me  \\\n",
       "0 0.000000000000000000 0.385371627466400690 0.000000000000000000   \n",
       "1 0.720333449054989305 0.425440538971199100 0.547832154927436310   \n",
       "2 0.000000000000000000 0.266074962540592874 0.342619959191800605   \n",
       "\n",
       "                please              tonight                  you  \n",
       "0 0.000000000000000000 0.652490884512534008 0.652490884512534008  \n",
       "1 0.000000000000000000 0.000000000000000000 0.000000000000000000  \n",
       "2 0.901008145286395945 0.000000000000000000 0.000000000000000000  "
      ]
     },
     "execution_count": 60,
     "metadata": {},
     "output_type": "execute_result"
    }
   ],
   "source": [
    "# TfidfVectorizer\n",
    "vect = TfidfVectorizer()\n",
    "pd.DataFrame(vect.fit_transform(simple_train).toarray(), columns=vect.get_feature_names())"
   ]
  },
  {
   "cell_type": "markdown",
   "metadata": {},
   "source": [
    "## **More details:** [TF-IDF, what is it and why it matters](http://planspace.org/20150524-tfidf_is_about_what_matters/)"
   ]
  },
  {
   "cell_type": "markdown",
   "metadata": {},
   "source": [
    "## Part 8: Using TF-IDF to Summarize a Yelp Review"
   ]
  },
  {
   "cell_type": "code",
   "execution_count": 61,
   "metadata": {},
   "outputs": [
    {
     "data": {
      "text/plain": [
       "(10000, 28880)"
      ]
     },
     "execution_count": 61,
     "metadata": {},
     "output_type": "execute_result"
    }
   ],
   "source": [
    "# create a document-term matrix using TF-IDF\n",
    "tfidf = TfidfVectorizer(stop_words='english')\n",
    "dtm = tfidf.fit_transform(yelp.text)\n",
    "features = tfidf.get_feature_names()\n",
    "dtm.shape"
   ]
  },
  {
   "cell_type": "code",
   "execution_count": 62,
   "metadata": {},
   "outputs": [],
   "source": [
    "def summarize():\n",
    "    \n",
    "    # choose a random review that is at least 300 characters\n",
    "    review_length = 0\n",
    "    while review_length < 300:\n",
    "        review_id = np.random.randint(0, len(yelp))\n",
    "        review_text = yelp.text[review_id]\n",
    "        review_length = len(review_text)\n",
    "    \n",
    "    # create a dictionary of words and their TF-IDF scores\n",
    "    word_scores = {}\n",
    "    for word in TextBlob(review_text).words:\n",
    "        word = word.lower()\n",
    "        if word in features:\n",
    "            word_scores[word] = dtm[review_id, features.index(word)]\n",
    "    \n",
    "    # print words with the top 5 TF-IDF scores\n",
    "    print('TOP SCORING WORDS:')\n",
    "    top_scores = sorted(word_scores.items(), key=lambda x: x[1], reverse=True)[:5]\n",
    "    for word, score in top_scores:\n",
    "        print(word)\n",
    "        \n",
    "    # print words with the top 5 TF-IDF scores\n",
    "    print('\\n' + 'Bottom SCORING WORDS:')\n",
    "    top_scores = sorted(word_scores.items(), key=lambda x: x[1], reverse=False)[:5]\n",
    "    for word, score in top_scores:\n",
    "        print(word)\n",
    "    \n",
    "    # print 5 random words\n",
    "#     print('\\n' + 'RANDOM WORDS:')\n",
    "#     random_words = np.random.choice(word_scores.keys(), size=5, replace=False)\n",
    "#     for word in random_words:\n",
    "#         print(word)\n",
    "    \n",
    "    # print the review\n",
    "    print('\\n' + review_text)"
   ]
  },
  {
   "cell_type": "code",
   "execution_count": 63,
   "metadata": {},
   "outputs": [
    {
     "name": "stdout",
     "output_type": "stream",
     "text": [
      "TOP SCORING WORDS:\n",
      "bell\n",
      "peppers\n",
      "mins\n",
      "central\n",
      "rqstd\n",
      "\n",
      "Bottom SCORING WORDS:\n",
      "did\n",
      "place\n",
      "good\n",
      "better\n",
      "ordered\n",
      "\n",
      "I ordered the Peanut Panang Chicken.... I rqstd to the waitress that I wanted extra Bell Pepper. When it came, it had -NO- Bell Peppers at all.... i actually didn't realize this until about 5 mins into eating it. could not find our waitress, I waited about 7 mins, finally, I had to get up & search for her. I found another waiter & told him my problem. He took my Dish, but then came back to tell me that they are \"All out of Green Bell Peppers. Would I like Red Bell Peppers\". I said yes, of course.  This whole experience has put a sour taste in my mouth about this place, which is next door to the 'mediocre' Good Egg on Central.   I like Wild Thaiger on Central MUCH better instead!\n"
     ]
    }
   ],
   "source": [
    "summarize()"
   ]
  },
  {
   "cell_type": "markdown",
   "metadata": {},
   "source": [
    "### I switched up the function for fun and used the sklearn.metrics.classification_report. \n",
    "One of the reasons I did this was when I ran the function with TF-IDF and looked only at precision I was getting a precision of 0! \n",
    "Recall that precision answers the question: What proportion of positive identifications was actually correct? Represented as: True Positives/(True Positives + False Positives) (see more here: https://towardsdatascience.com/accuracy-precision-recall-or-f1-331fb37c5cb9)\n",
    "\n",
    "That means it's not predicting precision at all...meaning it didn't predict any negative reviews...not something we want from our data. So let's have a look at the Classification Report below. "
   ]
  },
  {
   "cell_type": "code",
   "execution_count": 64,
   "metadata": {},
   "outputs": [],
   "source": [
    "def tokenize_tfidf(vect):\n",
    "    X_train_dtm = vect.fit_transform(X_train)\n",
    "    print('Features: ', X_train_dtm.shape[1])\n",
    "    X_test_dtm = vect.transform(X_test)\n",
    "    clf = svm.SVC(gamma=0.001, C=1)\n",
    "    clf.fit(X_train_dtm, y_train)\n",
    "    y_pred_class = clf.predict(X_test_dtm)\n",
    "    print('Classification Report: ', metrics.classification_report(y_test, y_pred_class))"
   ]
  },
  {
   "cell_type": "code",
   "execution_count": 65,
   "metadata": {},
   "outputs": [
    {
     "name": "stdout",
     "output_type": "stream",
     "text": [
      "Features:  1000\n",
      "Classification Report:                precision    recall  f1-score   support\n",
      "\n",
      "           1       0.00      0.00      0.00       184\n",
      "           5       0.82      1.00      0.90       838\n",
      "\n",
      "    accuracy                           0.82      1022\n",
      "   macro avg       0.41      0.50      0.45      1022\n",
      "weighted avg       0.67      0.82      0.74      1022\n",
      "\n"
     ]
    },
    {
     "name": "stderr",
     "output_type": "stream",
     "text": [
      "C:\\ProgramData\\Anaconda3\\lib\\site-packages\\sklearn\\metrics\\classification.py:1437: UndefinedMetricWarning:\n",
      "\n",
      "Precision and F-score are ill-defined and being set to 0.0 in labels with no predicted samples.\n",
      "\n"
     ]
    }
   ],
   "source": [
    "# create a document-term matrix using TF-IDF\n",
    "tfidf = TfidfVectorizer(stop_words=None, ngram_range=(1, 2), max_features=1000)\n",
    "dtm_tfidf = tfidf.fit_transform(yelp.text)\n",
    "tokenize_tfidf(tfidf)"
   ]
  },
  {
   "cell_type": "markdown",
   "metadata": {},
   "source": [
    "## Part 9: Sentiment Analysis"
   ]
  },
  {
   "cell_type": "markdown",
   "metadata": {},
   "source": [
    "### Data is from Yelp. Publically availalbe. No PII"
   ]
  },
  {
   "cell_type": "code",
   "execution_count": 113,
   "metadata": {},
   "outputs": [],
   "source": [
    "#print(review1)"
   ]
  },
  {
   "cell_type": "code",
   "execution_count": 112,
   "metadata": {},
   "outputs": [
    {
     "data": {
      "text/plain": [
       "'love the gyro plate. Rice is so good and I also dig their candy selection :)'"
      ]
     },
     "execution_count": 112,
     "metadata": {},
     "output_type": "execute_result"
    }
   ],
   "source": [
    "yelp['text'][2]"
   ]
  },
  {
   "cell_type": "code",
   "execution_count": null,
   "metadata": {},
   "outputs": [],
   "source": []
  },
  {
   "cell_type": "code",
   "execution_count": null,
   "metadata": {},
   "outputs": [],
   "source": []
  },
  {
   "cell_type": "code",
   "execution_count": null,
   "metadata": {},
   "outputs": [],
   "source": []
  },
  {
   "cell_type": "code",
   "execution_count": null,
   "metadata": {},
   "outputs": [],
   "source": []
  },
  {
   "cell_type": "markdown",
   "metadata": {},
   "source": [
    "### The sentiment analysis is from the TextBlob package. It ranges from -1 to 1 with negative numbers indicating negative sentiment while positive numbers indicate positive sentiment. "
   ]
  },
  {
   "cell_type": "code",
   "execution_count": 117,
   "metadata": {},
   "outputs": [
    {
     "data": {
      "text/plain": [
       "0.40246913580246907"
      ]
     },
     "execution_count": 117,
     "metadata": {},
     "output_type": "execute_result"
    }
   ],
   "source": [
    "# polarity ranges from -1 (most negative) to 1 (most positive)\n",
    "review1.sentiment.polarity"
   ]
  },
  {
   "cell_type": "code",
   "execution_count": 67,
   "metadata": {},
   "outputs": [],
   "source": [
    "# define a function that accepts text and returns the polarity\n",
    "def detect_sentiment(text):\n",
    "    return TextBlob(text).sentiment.polarity"
   ]
  },
  {
   "cell_type": "code",
   "execution_count": 68,
   "metadata": {},
   "outputs": [],
   "source": [
    "# create a new DataFrame column for sentiment (WARNING: SLOW!)\n",
    "yelp['text_blob_sentiment'] = yelp.text.apply(detect_sentiment)"
   ]
  },
  {
   "cell_type": "markdown",
   "metadata": {},
   "source": [
    "#### Ok, this doesn't tell us much, let's look at the whole text and sentiment"
   ]
  },
  {
   "cell_type": "code",
   "execution_count": 69,
   "metadata": {},
   "outputs": [],
   "source": [
    "pd.set_option('display.max_colwidth', 0)"
   ]
  },
  {
   "cell_type": "code",
   "execution_count": 70,
   "metadata": {},
   "outputs": [
    {
     "data": {
      "text/html": [
       "<div>\n",
       "<style scoped>\n",
       "    .dataframe tbody tr th:only-of-type {\n",
       "        vertical-align: middle;\n",
       "    }\n",
       "\n",
       "    .dataframe tbody tr th {\n",
       "        vertical-align: top;\n",
       "    }\n",
       "\n",
       "    .dataframe thead th {\n",
       "        text-align: right;\n",
       "    }\n",
       "</style>\n",
       "<table border=\"1\" class=\"dataframe\">\n",
       "  <thead>\n",
       "    <tr style=\"text-align: right;\">\n",
       "      <th></th>\n",
       "      <th>text</th>\n",
       "      <th>text_blob_sentiment</th>\n",
       "    </tr>\n",
       "  </thead>\n",
       "  <tbody>\n",
       "    <tr>\n",
       "      <td>0</td>\n",
       "      <td>My wife took me here on my birthday for breakfast and it was excellent.  The weather was perfect which made sitting outside overlooking their grounds an absolute pleasure.  Our waitress was excellent and our food arrived quickly on the semi-busy Saturday morning.  It looked like the place fills up pretty quickly so the earlier you get here the better.\\r\\n\\r\\nDo yourself a favor and get their Bloody Mary.  It was phenomenal and simply the best I've ever had.  I'm pretty sure they only use ingredients from their garden and blend them fresh when you order it.  It was amazing.\\r\\n\\r\\nWhile EVERYTHING on the menu looks excellent, I had the white truffle scrambled eggs vegetable skillet and it was tasty and delicious.  It came with 2 pieces of their griddled bread with was amazing and it absolutely made the meal complete.  It was the best \"toast\" I've ever had.\\r\\n\\r\\nAnyway, I can't wait to go back!</td>\n",
       "      <td>0.402469135802469069</td>\n",
       "    </tr>\n",
       "    <tr>\n",
       "      <td>1</td>\n",
       "      <td>I have no idea why some people give bad reviews about this place. It goes to show you, you can please everyone. They are probably griping about something that their own fault...there are many people like that.\\r\\n\\r\\nIn any case, my friend and I arrived at about 5:50 PM this past Sunday. It was pretty crowded, more than I thought for a Sunday evening and thought we would have to wait forever to get a seat but they said we'll be seated when the girl comes back from seating someone else. We were seated at 5:52 and the waiter came and got our drink orders. Everyone was very pleasant from the host that seated us to the waiter to the server. The prices were very good as well. We placed our orders once we decided what we wanted at 6:02. We shared the baked spaghetti calzone and the small \"Here's The Beef\" pizza so we can both try them. The calzone was huge and we got the smallest one (personal) and got the small 11\" pizza. Both were awesome! My friend liked the pizza better and I liked the calzone better. The calzone does have a sweetish sauce but that's how I like my sauce!\\r\\n\\r\\nWe had to box part of the pizza to take it home and we were out the door by 6:42. So, everything was great and not like these bad reviewers. That goes to show you that  you have to try these things yourself because all these bad reviewers have some serious issues.</td>\n",
       "      <td>0.229772727272727267</td>\n",
       "    </tr>\n",
       "    <tr>\n",
       "      <td>2</td>\n",
       "      <td>love the gyro plate. Rice is so good and I also dig their candy selection :)</td>\n",
       "      <td>0.566666666666666652</td>\n",
       "    </tr>\n",
       "    <tr>\n",
       "      <td>3</td>\n",
       "      <td>Rosie, Dakota, and I LOVE Chaparral Dog Park!!! It's very convenient and surrounded by a lot of paths, a desert xeriscape, baseball fields, ballparks, and a lake with ducks.\\r\\n\\r\\nThe Scottsdale Park and Rec Dept. does a wonderful job of keeping the park clean and shaded.  You can find trash cans and poopy-pick up mitts located all over the park and paths.\\r\\n\\r\\nThe fenced in area is huge to let the dogs run, play, and sniff!</td>\n",
       "      <td>0.608645833333333330</td>\n",
       "    </tr>\n",
       "    <tr>\n",
       "      <td>4</td>\n",
       "      <td>General Manager Scott Petello is a good egg!!! Not to go into detail, but let me assure you if you have any issues (albeit rare) speak with Scott and treat the guy with some respect as you state your case and I'd be surprised if you don't walk out totally satisfied as I just did. Like I always say..... \"Mistakes are inevitable, it's how we recover from them that is important\"!!!\\r\\n\\r\\nThanks to Scott and his awesome staff. You've got a customer for life!! .......... :^)</td>\n",
       "      <td>0.468125000000000013</td>\n",
       "    </tr>\n",
       "  </tbody>\n",
       "</table>\n",
       "</div>"
      ],
      "text/plain": [
       "                                                                                                                                                                                                                                                                                                                                                                                                                                                                                                                                                                                                                                                                                                                                                                                                                                                                                                                                                                                                                                                                                                                                                                                                                                                                                                                                                                                                            text  \\\n",
       "0  My wife took me here on my birthday for breakfast and it was excellent.  The weather was perfect which made sitting outside overlooking their grounds an absolute pleasure.  Our waitress was excellent and our food arrived quickly on the semi-busy Saturday morning.  It looked like the place fills up pretty quickly so the earlier you get here the better.\\r\\n\\r\\nDo yourself a favor and get their Bloody Mary.  It was phenomenal and simply the best I've ever had.  I'm pretty sure they only use ingredients from their garden and blend them fresh when you order it.  It was amazing.\\r\\n\\r\\nWhile EVERYTHING on the menu looks excellent, I had the white truffle scrambled eggs vegetable skillet and it was tasty and delicious.  It came with 2 pieces of their griddled bread with was amazing and it absolutely made the meal complete.  It was the best \"toast\" I've ever had.\\r\\n\\r\\nAnyway, I can't wait to go back!                                                                                                                                                                                                                                                                                                                                                                                                                                                                     \n",
       "1  I have no idea why some people give bad reviews about this place. It goes to show you, you can please everyone. They are probably griping about something that their own fault...there are many people like that.\\r\\n\\r\\nIn any case, my friend and I arrived at about 5:50 PM this past Sunday. It was pretty crowded, more than I thought for a Sunday evening and thought we would have to wait forever to get a seat but they said we'll be seated when the girl comes back from seating someone else. We were seated at 5:52 and the waiter came and got our drink orders. Everyone was very pleasant from the host that seated us to the waiter to the server. The prices were very good as well. We placed our orders once we decided what we wanted at 6:02. We shared the baked spaghetti calzone and the small \"Here's The Beef\" pizza so we can both try them. The calzone was huge and we got the smallest one (personal) and got the small 11\" pizza. Both were awesome! My friend liked the pizza better and I liked the calzone better. The calzone does have a sweetish sauce but that's how I like my sauce!\\r\\n\\r\\nWe had to box part of the pizza to take it home and we were out the door by 6:42. So, everything was great and not like these bad reviewers. That goes to show you that  you have to try these things yourself because all these bad reviewers have some serious issues.   \n",
       "2  love the gyro plate. Rice is so good and I also dig their candy selection :)                                                                                                                                                                                                                                                                                                                                                                                                                                                                                                                                                                                                                                                                                                                                                                                                                                                                                                                                                                                                                                                                                                                                                                                                                                                                                                                                    \n",
       "3  Rosie, Dakota, and I LOVE Chaparral Dog Park!!! It's very convenient and surrounded by a lot of paths, a desert xeriscape, baseball fields, ballparks, and a lake with ducks.\\r\\n\\r\\nThe Scottsdale Park and Rec Dept. does a wonderful job of keeping the park clean and shaded.  You can find trash cans and poopy-pick up mitts located all over the park and paths.\\r\\n\\r\\nThe fenced in area is huge to let the dogs run, play, and sniff!                                                                                                                                                                                                                                                                                                                                                                                                                                                                                                                                                                                                                                                                                                                                                                                                                                                                                                                                                                 \n",
       "4  General Manager Scott Petello is a good egg!!! Not to go into detail, but let me assure you if you have any issues (albeit rare) speak with Scott and treat the guy with some respect as you state your case and I'd be surprised if you don't walk out totally satisfied as I just did. Like I always say..... \"Mistakes are inevitable, it's how we recover from them that is important\"!!!\\r\\n\\r\\nThanks to Scott and his awesome staff. You've got a customer for life!! .......... :^)                                                                                                                                                                                                                                                                                                                                                                                                                                                                                                                                                                                                                                                                                                                                                                                                                                                                                                                     \n",
       "\n",
       "   text_blob_sentiment  \n",
       "0 0.402469135802469069  \n",
       "1 0.229772727272727267  \n",
       "2 0.566666666666666652  \n",
       "3 0.608645833333333330  \n",
       "4 0.468125000000000013  "
      ]
     },
     "execution_count": 70,
     "metadata": {},
     "output_type": "execute_result"
    }
   ],
   "source": [
    "yelp[['text','text_blob_sentiment']].head(5)"
   ]
  },
  {
   "cell_type": "markdown",
   "metadata": {},
   "source": [
    "### I'm not really impressed with this sentiment score, take a look at row 2...this should be much closer to .8 and it's barely a .6 if you round up...it doesn't quite add up and seems a bit conservative. "
   ]
  },
  {
   "cell_type": "markdown",
   "metadata": {},
   "source": [
    "### So, overall text blob isn't quite scoring as well as I would like. This is apparent from the examples above. \n",
    "So after doing some searching on newer lexicon-based sentiment analysis I discovered VADER. What is nice about VADER is that it shows the negative, neutral, and positive valence of text and the compound score. \n",
    "This makes sense considering that a review or a tweet may express both positive and negative sentiment/valence. This also allows, me the analyst to make my own decisions for my particular set of text. \n",
    "\n",
    "Helpfully, they also provide cut-offs for what they consider positive, neutral, and negative. From their GitHub here is the description of their compound score. \n",
    "- The compound score is computed by summing the valence scores of each word in the lexicon, adjusted according to the rules, and then normalized to be between -1 (most extreme negative) and +1 (most extreme positive). This is the most useful metric if you want a single unidimensional measure of sentiment for a given sentence. Calling it a 'normalized, weighted composite score' is accurate.\n",
    "\n",
    "It is also useful for researchers who would like to set standardized thresholds for classifying sentences as either positive, neutral, or negative. Typical threshold values (used in the literature cited on this page) are:\n",
    "\n",
    "- positive sentiment: compound score >= 0.05\n",
    "- neutral sentiment: (compound score > -0.05) and (compound score < 0.05)\n",
    "- negative sentiment: compound score <= -0.05\n",
    "- The pos, neu, and neg scores are ratios for proportions of text that fall in each category (so these should all add up to be 1... or close to it with float operation). These are the most useful metrics if you want multidimensional measures of sentiment for a given sentence."
   ]
  },
  {
   "cell_type": "code",
   "execution_count": 71,
   "metadata": {},
   "outputs": [],
   "source": [
    "from vaderSentiment.vaderSentiment import SentimentIntensityAnalyzer\n",
    "#sentiment = SentimentIntensityAnalyzer()"
   ]
  },
  {
   "cell_type": "code",
   "execution_count": 72,
   "metadata": {},
   "outputs": [],
   "source": [
    "def v_sentiment(text):\n",
    "    return SentimentIntensityAnalyzer().polarity_scores(text)"
   ]
  },
  {
   "cell_type": "code",
   "execution_count": 73,
   "metadata": {},
   "outputs": [],
   "source": [
    "yelp['vader_sentiment'] = yelp['text'].apply(v_sentiment)"
   ]
  },
  {
   "cell_type": "code",
   "execution_count": 74,
   "metadata": {},
   "outputs": [],
   "source": [
    "yelp = pd.concat([yelp.drop(['vader_sentiment'], axis=1), yelp['vader_sentiment'].apply(pd.Series)], axis=1)"
   ]
  },
  {
   "cell_type": "code",
   "execution_count": 75,
   "metadata": {},
   "outputs": [
    {
     "data": {
      "text/html": [
       "<div>\n",
       "<style scoped>\n",
       "    .dataframe tbody tr th:only-of-type {\n",
       "        vertical-align: middle;\n",
       "    }\n",
       "\n",
       "    .dataframe tbody tr th {\n",
       "        vertical-align: top;\n",
       "    }\n",
       "\n",
       "    .dataframe thead th {\n",
       "        text-align: right;\n",
       "    }\n",
       "</style>\n",
       "<table border=\"1\" class=\"dataframe\">\n",
       "  <thead>\n",
       "    <tr style=\"text-align: right;\">\n",
       "      <th></th>\n",
       "      <th>text</th>\n",
       "      <th>text_blob_sentiment</th>\n",
       "      <th>neg</th>\n",
       "      <th>neu</th>\n",
       "      <th>pos</th>\n",
       "      <th>compound</th>\n",
       "    </tr>\n",
       "  </thead>\n",
       "  <tbody>\n",
       "    <tr>\n",
       "      <td>0</td>\n",
       "      <td>My wife took me here on my birthday for breakfast and it was excellent.  The weather was perfect which made sitting outside overlooking their grounds an absolute pleasure.  Our waitress was excellent and our food arrived quickly on the semi-busy Saturday morning.  It looked like the place fills up pretty quickly so the earlier you get here the better.\\r\\n\\r\\nDo yourself a favor and get their Bloody Mary.  It was phenomenal and simply the best I've ever had.  I'm pretty sure they only use ingredients from their garden and blend them fresh when you order it.  It was amazing.\\r\\n\\r\\nWhile EVERYTHING on the menu looks excellent, I had the white truffle scrambled eggs vegetable skillet and it was tasty and delicious.  It came with 2 pieces of their griddled bread with was amazing and it absolutely made the meal complete.  It was the best \"toast\" I've ever had.\\r\\n\\r\\nAnyway, I can't wait to go back!</td>\n",
       "      <td>0.402469135802469069</td>\n",
       "      <td>0.014999999999999999</td>\n",
       "      <td>0.687000000000000055</td>\n",
       "      <td>0.297999999999999987</td>\n",
       "      <td>0.994999999999999996</td>\n",
       "    </tr>\n",
       "    <tr>\n",
       "      <td>1</td>\n",
       "      <td>I have no idea why some people give bad reviews about this place. It goes to show you, you can please everyone. They are probably griping about something that their own fault...there are many people like that.\\r\\n\\r\\nIn any case, my friend and I arrived at about 5:50 PM this past Sunday. It was pretty crowded, more than I thought for a Sunday evening and thought we would have to wait forever to get a seat but they said we'll be seated when the girl comes back from seating someone else. We were seated at 5:52 and the waiter came and got our drink orders. Everyone was very pleasant from the host that seated us to the waiter to the server. The prices were very good as well. We placed our orders once we decided what we wanted at 6:02. We shared the baked spaghetti calzone and the small \"Here's The Beef\" pizza so we can both try them. The calzone was huge and we got the smallest one (personal) and got the small 11\" pizza. Both were awesome! My friend liked the pizza better and I liked the calzone better. The calzone does have a sweetish sauce but that's how I like my sauce!\\r\\n\\r\\nWe had to box part of the pizza to take it home and we were out the door by 6:42. So, everything was great and not like these bad reviewers. That goes to show you that  you have to try these things yourself because all these bad reviewers have some serious issues.</td>\n",
       "      <td>0.229772727272727267</td>\n",
       "      <td>0.049000000000000002</td>\n",
       "      <td>0.740999999999999992</td>\n",
       "      <td>0.209999999999999992</td>\n",
       "      <td>0.994299999999999962</td>\n",
       "    </tr>\n",
       "    <tr>\n",
       "      <td>2</td>\n",
       "      <td>love the gyro plate. Rice is so good and I also dig their candy selection :)</td>\n",
       "      <td>0.566666666666666652</td>\n",
       "      <td>0.000000000000000000</td>\n",
       "      <td>0.523000000000000020</td>\n",
       "      <td>0.476999999999999980</td>\n",
       "      <td>0.898800000000000043</td>\n",
       "    </tr>\n",
       "    <tr>\n",
       "      <td>3</td>\n",
       "      <td>Rosie, Dakota, and I LOVE Chaparral Dog Park!!! It's very convenient and surrounded by a lot of paths, a desert xeriscape, baseball fields, ballparks, and a lake with ducks.\\r\\n\\r\\nThe Scottsdale Park and Rec Dept. does a wonderful job of keeping the park clean and shaded.  You can find trash cans and poopy-pick up mitts located all over the park and paths.\\r\\n\\r\\nThe fenced in area is huge to let the dogs run, play, and sniff!</td>\n",
       "      <td>0.608645833333333330</td>\n",
       "      <td>0.000000000000000000</td>\n",
       "      <td>0.793000000000000038</td>\n",
       "      <td>0.206999999999999990</td>\n",
       "      <td>0.953099999999999947</td>\n",
       "    </tr>\n",
       "    <tr>\n",
       "      <td>4</td>\n",
       "      <td>General Manager Scott Petello is a good egg!!! Not to go into detail, but let me assure you if you have any issues (albeit rare) speak with Scott and treat the guy with some respect as you state your case and I'd be surprised if you don't walk out totally satisfied as I just did. Like I always say..... \"Mistakes are inevitable, it's how we recover from them that is important\"!!!\\r\\n\\r\\nThanks to Scott and his awesome staff. You've got a customer for life!! .......... :^)</td>\n",
       "      <td>0.468125000000000013</td>\n",
       "      <td>0.029000000000000001</td>\n",
       "      <td>0.636000000000000010</td>\n",
       "      <td>0.334000000000000019</td>\n",
       "      <td>0.988299999999999956</td>\n",
       "    </tr>\n",
       "  </tbody>\n",
       "</table>\n",
       "</div>"
      ],
      "text/plain": [
       "                                                                                                                                                                                                                                                                                                                                                                                                                                                                                                                                                                                                                                                                                                                                                                                                                                                                                                                                                                                                                                                                                                                                                                                                                                                                                                                                                                                                            text  \\\n",
       "0  My wife took me here on my birthday for breakfast and it was excellent.  The weather was perfect which made sitting outside overlooking their grounds an absolute pleasure.  Our waitress was excellent and our food arrived quickly on the semi-busy Saturday morning.  It looked like the place fills up pretty quickly so the earlier you get here the better.\\r\\n\\r\\nDo yourself a favor and get their Bloody Mary.  It was phenomenal and simply the best I've ever had.  I'm pretty sure they only use ingredients from their garden and blend them fresh when you order it.  It was amazing.\\r\\n\\r\\nWhile EVERYTHING on the menu looks excellent, I had the white truffle scrambled eggs vegetable skillet and it was tasty and delicious.  It came with 2 pieces of their griddled bread with was amazing and it absolutely made the meal complete.  It was the best \"toast\" I've ever had.\\r\\n\\r\\nAnyway, I can't wait to go back!                                                                                                                                                                                                                                                                                                                                                                                                                                                                     \n",
       "1  I have no idea why some people give bad reviews about this place. It goes to show you, you can please everyone. They are probably griping about something that their own fault...there are many people like that.\\r\\n\\r\\nIn any case, my friend and I arrived at about 5:50 PM this past Sunday. It was pretty crowded, more than I thought for a Sunday evening and thought we would have to wait forever to get a seat but they said we'll be seated when the girl comes back from seating someone else. We were seated at 5:52 and the waiter came and got our drink orders. Everyone was very pleasant from the host that seated us to the waiter to the server. The prices were very good as well. We placed our orders once we decided what we wanted at 6:02. We shared the baked spaghetti calzone and the small \"Here's The Beef\" pizza so we can both try them. The calzone was huge and we got the smallest one (personal) and got the small 11\" pizza. Both were awesome! My friend liked the pizza better and I liked the calzone better. The calzone does have a sweetish sauce but that's how I like my sauce!\\r\\n\\r\\nWe had to box part of the pizza to take it home and we were out the door by 6:42. So, everything was great and not like these bad reviewers. That goes to show you that  you have to try these things yourself because all these bad reviewers have some serious issues.   \n",
       "2  love the gyro plate. Rice is so good and I also dig their candy selection :)                                                                                                                                                                                                                                                                                                                                                                                                                                                                                                                                                                                                                                                                                                                                                                                                                                                                                                                                                                                                                                                                                                                                                                                                                                                                                                                                    \n",
       "3  Rosie, Dakota, and I LOVE Chaparral Dog Park!!! It's very convenient and surrounded by a lot of paths, a desert xeriscape, baseball fields, ballparks, and a lake with ducks.\\r\\n\\r\\nThe Scottsdale Park and Rec Dept. does a wonderful job of keeping the park clean and shaded.  You can find trash cans and poopy-pick up mitts located all over the park and paths.\\r\\n\\r\\nThe fenced in area is huge to let the dogs run, play, and sniff!                                                                                                                                                                                                                                                                                                                                                                                                                                                                                                                                                                                                                                                                                                                                                                                                                                                                                                                                                                 \n",
       "4  General Manager Scott Petello is a good egg!!! Not to go into detail, but let me assure you if you have any issues (albeit rare) speak with Scott and treat the guy with some respect as you state your case and I'd be surprised if you don't walk out totally satisfied as I just did. Like I always say..... \"Mistakes are inevitable, it's how we recover from them that is important\"!!!\\r\\n\\r\\nThanks to Scott and his awesome staff. You've got a customer for life!! .......... :^)                                                                                                                                                                                                                                                                                                                                                                                                                                                                                                                                                                                                                                                                                                                                                                                                                                                                                                                     \n",
       "\n",
       "   text_blob_sentiment                  neg                  neu  \\\n",
       "0 0.402469135802469069 0.014999999999999999 0.687000000000000055   \n",
       "1 0.229772727272727267 0.049000000000000002 0.740999999999999992   \n",
       "2 0.566666666666666652 0.000000000000000000 0.523000000000000020   \n",
       "3 0.608645833333333330 0.000000000000000000 0.793000000000000038   \n",
       "4 0.468125000000000013 0.029000000000000001 0.636000000000000010   \n",
       "\n",
       "                   pos             compound  \n",
       "0 0.297999999999999987 0.994999999999999996  \n",
       "1 0.209999999999999992 0.994299999999999962  \n",
       "2 0.476999999999999980 0.898800000000000043  \n",
       "3 0.206999999999999990 0.953099999999999947  \n",
       "4 0.334000000000000019 0.988299999999999956  "
      ]
     },
     "execution_count": 75,
     "metadata": {},
     "output_type": "execute_result"
    }
   ],
   "source": [
    "yelp[['text','text_blob_sentiment', 'neg', 'neu', 'pos','compound']].head(5)"
   ]
  },
  {
   "cell_type": "code",
   "execution_count": 76,
   "metadata": {},
   "outputs": [
    {
     "data": {
      "text/plain": [
       "<seaborn.axisgrid.FacetGrid at 0x25d80317248>"
      ]
     },
     "execution_count": 76,
     "metadata": {},
     "output_type": "execute_result"
    },
    {
     "data": {
      "image/png": "[encoded data removed]",
      "text/plain": [
       "<Figure size 504x504 with 1 Axes>"
      ]
     },
     "metadata": {},
     "output_type": "display_data"
    }
   ],
   "source": [
    "# looking at sentiment by Track we see this is overall positive\n",
    "sns.catplot(x='compound', y='stars',  data=yelp, kind='bar',  estimator=np.mean, ci=95, height=7, orient='h') "
   ]
  },
  {
   "cell_type": "code",
   "execution_count": 77,
   "metadata": {},
   "outputs": [
    {
     "data": {
      "text/plain": [
       "<Figure size 720x648 with 0 Axes>"
      ]
     },
     "execution_count": 77,
     "metadata": {},
     "output_type": "execute_result"
    },
    {
     "data": {
      "text/plain": [
       "<matplotlib.axes._subplots.AxesSubplot at 0x25da96c3388>"
      ]
     },
     "execution_count": 77,
     "metadata": {},
     "output_type": "execute_result"
    },
    {
     "data": {
      "image/png": "[encoded data removed]",
      "text/plain": [
       "<Figure size 720x648 with 1 Axes>"
      ]
     },
     "metadata": {},
     "output_type": "display_data"
    }
   ],
   "source": [
    "plt.figure(figsize=(10, 9))\n",
    "sns.boxplot(x='stars', y='compound',data=yelp, orient='v')"
   ]
  },
  {
   "cell_type": "code",
   "execution_count": 78,
   "metadata": {},
   "outputs": [
    {
     "data": {
      "text/plain": [
       "<seaborn.axisgrid.PairGrid at 0x25da98c4e88>"
      ]
     },
     "execution_count": 78,
     "metadata": {},
     "output_type": "execute_result"
    },
    {
     "data": {
      "image/png": "[encoded data removed]",
      "text/plain": [
       "<Figure size 419.275x1080 with 3 Axes>"
      ]
     },
     "metadata": {},
     "output_type": "display_data"
    }
   ],
   "source": [
    "#plt.figure(figsize=(12, 10))\n",
    "sns.pairplot(yelp, hue='stars', y_vars=['useful', 'funny', 'cool'], x_vars=['compound'], height=5)"
   ]
  },
  {
   "cell_type": "code",
   "execution_count": 79,
   "metadata": {},
   "outputs": [
    {
     "data": {
      "text/html": [
       "<div>\n",
       "<style scoped>\n",
       "    .dataframe tbody tr th:only-of-type {\n",
       "        vertical-align: middle;\n",
       "    }\n",
       "\n",
       "    .dataframe tbody tr th {\n",
       "        vertical-align: top;\n",
       "    }\n",
       "\n",
       "    .dataframe thead th {\n",
       "        text-align: right;\n",
       "    }\n",
       "</style>\n",
       "<table border=\"1\" class=\"dataframe\">\n",
       "  <thead>\n",
       "    <tr style=\"text-align: right;\">\n",
       "      <th></th>\n",
       "      <th>text</th>\n",
       "    </tr>\n",
       "  </thead>\n",
       "  <tbody>\n",
       "    <tr>\n",
       "      <td>0</td>\n",
       "      <td>My wife took me here on my birthday for breakfast and it was excellent.  The weather was perfect which made sitting outside overlooking their grounds an absolute pleasure.  Our waitress was excellent and our food arrived quickly on the semi-busy Saturday morning.  It looked like the place fills up pretty quickly so the earlier you get here the better.\\r\\n\\r\\nDo yourself a favor and get their Bloody Mary.  It was phenomenal and simply the best I've ever had.  I'm pretty sure they only use ingredients from their garden and blend them fresh when you order it.  It was amazing.\\r\\n\\r\\nWhile EVERYTHING on the menu looks excellent, I had the white truffle scrambled eggs vegetable skillet and it was tasty and delicious.  It came with 2 pieces of their griddled bread with was amazing and it absolutely made the meal complete.  It was the best \"toast\" I've ever had.\\r\\n\\r\\nAnyway, I can't wait to go back!</td>\n",
       "    </tr>\n",
       "    <tr>\n",
       "      <td>1</td>\n",
       "      <td>I have no idea why some people give bad reviews about this place. It goes to show you, you can please everyone. They are probably griping about something that their own fault...there are many people like that.\\r\\n\\r\\nIn any case, my friend and I arrived at about 5:50 PM this past Sunday. It was pretty crowded, more than I thought for a Sunday evening and thought we would have to wait forever to get a seat but they said we'll be seated when the girl comes back from seating someone else. We were seated at 5:52 and the waiter came and got our drink orders. Everyone was very pleasant from the host that seated us to the waiter to the server. The prices were very good as well. We placed our orders once we decided what we wanted at 6:02. We shared the baked spaghetti calzone and the small \"Here's The Beef\" pizza so we can both try them. The calzone was huge and we got the smallest one (personal) and got the small 11\" pizza. Both were awesome! My friend liked the pizza better and I liked the calzone better. The calzone does have a sweetish sauce but that's how I like my sauce!\\r\\n\\r\\nWe had to box part of the pizza to take it home and we were out the door by 6:42. So, everything was great and not like these bad reviewers. That goes to show you that  you have to try these things yourself because all these bad reviewers have some serious issues.</td>\n",
       "    </tr>\n",
       "    <tr>\n",
       "      <td>2</td>\n",
       "      <td>love the gyro plate. Rice is so good and I also dig their candy selection :)</td>\n",
       "    </tr>\n",
       "    <tr>\n",
       "      <td>3</td>\n",
       "      <td>Rosie, Dakota, and I LOVE Chaparral Dog Park!!! It's very convenient and surrounded by a lot of paths, a desert xeriscape, baseball fields, ballparks, and a lake with ducks.\\r\\n\\r\\nThe Scottsdale Park and Rec Dept. does a wonderful job of keeping the park clean and shaded.  You can find trash cans and poopy-pick up mitts located all over the park and paths.\\r\\n\\r\\nThe fenced in area is huge to let the dogs run, play, and sniff!</td>\n",
       "    </tr>\n",
       "    <tr>\n",
       "      <td>4</td>\n",
       "      <td>General Manager Scott Petello is a good egg!!! Not to go into detail, but let me assure you if you have any issues (albeit rare) speak with Scott and treat the guy with some respect as you state your case and I'd be surprised if you don't walk out totally satisfied as I just did. Like I always say..... \"Mistakes are inevitable, it's how we recover from them that is important\"!!!\\r\\n\\r\\nThanks to Scott and his awesome staff. You've got a customer for life!! .......... :^)</td>\n",
       "    </tr>\n",
       "  </tbody>\n",
       "</table>\n",
       "</div>"
      ],
      "text/plain": [
       "                                                                                                                                                                                                                                                                                                                                                                                                                                                                                                                                                                                                                                                                                                                                                                                                                                                                                                                                                                                                                                                                                                                                                                                                                                                                                                                                                                                                            text\n",
       "0  My wife took me here on my birthday for breakfast and it was excellent.  The weather was perfect which made sitting outside overlooking their grounds an absolute pleasure.  Our waitress was excellent and our food arrived quickly on the semi-busy Saturday morning.  It looked like the place fills up pretty quickly so the earlier you get here the better.\\r\\n\\r\\nDo yourself a favor and get their Bloody Mary.  It was phenomenal and simply the best I've ever had.  I'm pretty sure they only use ingredients from their garden and blend them fresh when you order it.  It was amazing.\\r\\n\\r\\nWhile EVERYTHING on the menu looks excellent, I had the white truffle scrambled eggs vegetable skillet and it was tasty and delicious.  It came with 2 pieces of their griddled bread with was amazing and it absolutely made the meal complete.  It was the best \"toast\" I've ever had.\\r\\n\\r\\nAnyway, I can't wait to go back!                                                                                                                                                                                                                                                                                                                                                                                                                                                                  \n",
       "1  I have no idea why some people give bad reviews about this place. It goes to show you, you can please everyone. They are probably griping about something that their own fault...there are many people like that.\\r\\n\\r\\nIn any case, my friend and I arrived at about 5:50 PM this past Sunday. It was pretty crowded, more than I thought for a Sunday evening and thought we would have to wait forever to get a seat but they said we'll be seated when the girl comes back from seating someone else. We were seated at 5:52 and the waiter came and got our drink orders. Everyone was very pleasant from the host that seated us to the waiter to the server. The prices were very good as well. We placed our orders once we decided what we wanted at 6:02. We shared the baked spaghetti calzone and the small \"Here's The Beef\" pizza so we can both try them. The calzone was huge and we got the smallest one (personal) and got the small 11\" pizza. Both were awesome! My friend liked the pizza better and I liked the calzone better. The calzone does have a sweetish sauce but that's how I like my sauce!\\r\\n\\r\\nWe had to box part of the pizza to take it home and we were out the door by 6:42. So, everything was great and not like these bad reviewers. That goes to show you that  you have to try these things yourself because all these bad reviewers have some serious issues.\n",
       "2  love the gyro plate. Rice is so good and I also dig their candy selection :)                                                                                                                                                                                                                                                                                                                                                                                                                                                                                                                                                                                                                                                                                                                                                                                                                                                                                                                                                                                                                                                                                                                                                                                                                                                                                                                                 \n",
       "3  Rosie, Dakota, and I LOVE Chaparral Dog Park!!! It's very convenient and surrounded by a lot of paths, a desert xeriscape, baseball fields, ballparks, and a lake with ducks.\\r\\n\\r\\nThe Scottsdale Park and Rec Dept. does a wonderful job of keeping the park clean and shaded.  You can find trash cans and poopy-pick up mitts located all over the park and paths.\\r\\n\\r\\nThe fenced in area is huge to let the dogs run, play, and sniff!                                                                                                                                                                                                                                                                                                                                                                                                                                                                                                                                                                                                                                                                                                                                                                                                                                                                                                                                                              \n",
       "4  General Manager Scott Petello is a good egg!!! Not to go into detail, but let me assure you if you have any issues (albeit rare) speak with Scott and treat the guy with some respect as you state your case and I'd be surprised if you don't walk out totally satisfied as I just did. Like I always say..... \"Mistakes are inevitable, it's how we recover from them that is important\"!!!\\r\\n\\r\\nThanks to Scott and his awesome staff. You've got a customer for life!! .......... :^)                                                                                                                                                                                                                                                                                                                                                                                                                                                                                                                                                                                                                                                                                                                                                                                                                                                                                                                  "
      ]
     },
     "execution_count": 79,
     "metadata": {},
     "output_type": "execute_result"
    }
   ],
   "source": [
    "# reviews with most positive sentiment, above guidance says anything over 0.05 but let's set it to the extreme positive case of anything over 0.8\n",
    "yelp.loc[yelp['compound'] >= 0.8, ['text']].head(5)"
   ]
  },
  {
   "cell_type": "code",
   "execution_count": 80,
   "metadata": {},
   "outputs": [
    {
     "data": {
      "text/html": [
       "<div>\n",
       "<style scoped>\n",
       "    .dataframe tbody tr th:only-of-type {\n",
       "        vertical-align: middle;\n",
       "    }\n",
       "\n",
       "    .dataframe tbody tr th {\n",
       "        vertical-align: top;\n",
       "    }\n",
       "\n",
       "    .dataframe thead th {\n",
       "        text-align: right;\n",
       "    }\n",
       "</style>\n",
       "<table border=\"1\" class=\"dataframe\">\n",
       "  <thead>\n",
       "    <tr style=\"text-align: right;\">\n",
       "      <th></th>\n",
       "      <th>text</th>\n",
       "    </tr>\n",
       "  </thead>\n",
       "  <tbody>\n",
       "    <tr>\n",
       "      <td>23</td>\n",
       "      <td>U can go there n check the car out. If u wanna buy 1 there? That's wrong move! If u even want a car service from there? U made a biggest mistake of ur life!! I had 1 time asked my girlfriend to take my car there for an oil service, guess what? They ripped my girlfriend off by lying how bad my car is now. If without fixing the problem. Might bring some serious accident. Then she did what they said. 4 brand new tires, timing belt, 4 new brake pads. U know why's the worst? All of those above I had just changed 2 months before!!! What a trashy dealer is that? People, better off go somewhere!</td>\n",
       "    </tr>\n",
       "    <tr>\n",
       "      <td>148</td>\n",
       "      <td>Been here for many years but have seen a recent decline in quality service. Felt scolded by the bartender today at lunch. Felt disrespected as a customer. Service sucks stay away. \"bad service = bad review\"</td>\n",
       "    </tr>\n",
       "    <tr>\n",
       "      <td>239</td>\n",
       "      <td>Where are the managers????   It took 1 1/2 hours for our meal to come out at 8:15 in the evening.  Items came out at different times so we couldn't all eat at the same time.  The asparagus tempura was inedible because they didn't cut the ends.  Waitress just took it away and did not comp us.  Waitress knew next to nothing about the sushi menu.  She sat and talked with the hostess the entire time instead of waiting on her tables.  Food was WAY over priced, and I couldn't speak to my dinner companions because the music was way to loud.  One of the worst dining experiences in a long time.  Paid $70 for a dinner for 4 and went home hungry.  HORRIBLE!</td>\n",
       "    </tr>\n",
       "    <tr>\n",
       "      <td>262</td>\n",
       "      <td>OK, I've decided that other coffee shops sell swill. I think about Dazbog coffee in a dreamy sort of way, like unstressed people think about sex. I mourn often that they open so damn late in the morning. Seriously, I would be there every day... \\r\\n\\r\\nThe chocolate cappuccino rocks my world and perks me right the hell up, even on the mushiest afternoon. No bitterness, not overly sweet, just blissful- in an I've-just-been-bitch-slapped-by-caffeine sort of way, of course. \\r\\n\\r\\nOh, and the sandwiches I complained about? Replaced by real deli looking ones in clam-shells. Far more appetizing. But what the hell do I need a sandwich for when I can have a giant red velvet cupcake? \\r\\n\\r\\nDon't make me break out the voodoo, Dazbog. Just open at 6:00 am like any other coffee shop and we'll be BFFs.</td>\n",
       "    </tr>\n",
       "    <tr>\n",
       "      <td>283</td>\n",
       "      <td>Was extremely psyched to try Lobby's, considering all of the great reviews, but I was sadly disappointed with the results. I'm a freak for Chili burgers (good ones are very difficult to find) and The Lobby's Chili burger was fairly dull, featured Cinci style Chili (BLAH) and like. some sort of cheese whiz kinda crap.  Boo. Also ordered fries, and a Chicago dog.. the Chicago dog was overpriced and forgettable, and the crinkle cut fries were reminiscent of Del Taco's.. which isn't exactly a bad thing, but considering that Lobby's is supposed to be a tasty, quality burger place, frozen crinkle fries are kind of a half assed approach.. ALSO the amount of salt on the fries was enough to invoke a stroke! :x  Finally whoever dude was that handed me my bag of food was all like ZIPPY DOO I GAVE YOU A CUP OF FRENCH FRY SAUCE.. There were two orders of fries.. one cup of sauce.. which was just basic secret sauce.. not super great... secret sauce, to boot.. Thanks bro, but I don't need any secret sauce favors.</td>\n",
       "    </tr>\n",
       "  </tbody>\n",
       "</table>\n",
       "</div>"
      ],
      "text/plain": [
       "                                                                                                                                                                                                                                                                                                                                                                                                                                                                                                                                                                                                                                                                                                                                                                                                                                                                                                                                                                                                                                                      text\n",
       "23   U can go there n check the car out. If u wanna buy 1 there? That's wrong move! If u even want a car service from there? U made a biggest mistake of ur life!! I had 1 time asked my girlfriend to take my car there for an oil service, guess what? They ripped my girlfriend off by lying how bad my car is now. If without fixing the problem. Might bring some serious accident. Then she did what they said. 4 brand new tires, timing belt, 4 new brake pads. U know why's the worst? All of those above I had just changed 2 months before!!! What a trashy dealer is that? People, better off go somewhere!                                                                                                                                                                                                                                                                                                                                                                                                                                   \n",
       "148  Been here for many years but have seen a recent decline in quality service. Felt scolded by the bartender today at lunch. Felt disrespected as a customer. Service sucks stay away. \"bad service = bad review\"                                                                                                                                                                                                                                                                                                                                                                                                                                                                                                                                                                                                                                                                                                                                                                                                                                       \n",
       "239  Where are the managers????   It took 1 1/2 hours for our meal to come out at 8:15 in the evening.  Items came out at different times so we couldn't all eat at the same time.  The asparagus tempura was inedible because they didn't cut the ends.  Waitress just took it away and did not comp us.  Waitress knew next to nothing about the sushi menu.  She sat and talked with the hostess the entire time instead of waiting on her tables.  Food was WAY over priced, and I couldn't speak to my dinner companions because the music was way to loud.  One of the worst dining experiences in a long time.  Paid $70 for a dinner for 4 and went home hungry.  HORRIBLE!                                                                                                                                                                                                                                                                                                                                                                       \n",
       "262  OK, I've decided that other coffee shops sell swill. I think about Dazbog coffee in a dreamy sort of way, like unstressed people think about sex. I mourn often that they open so damn late in the morning. Seriously, I would be there every day... \\r\\n\\r\\nThe chocolate cappuccino rocks my world and perks me right the hell up, even on the mushiest afternoon. No bitterness, not overly sweet, just blissful- in an I've-just-been-bitch-slapped-by-caffeine sort of way, of course. \\r\\n\\r\\nOh, and the sandwiches I complained about? Replaced by real deli looking ones in clam-shells. Far more appetizing. But what the hell do I need a sandwich for when I can have a giant red velvet cupcake? \\r\\n\\r\\nDon't make me break out the voodoo, Dazbog. Just open at 6:00 am like any other coffee shop and we'll be BFFs.                                                                                                                                                                                                                 \n",
       "283  Was extremely psyched to try Lobby's, considering all of the great reviews, but I was sadly disappointed with the results. I'm a freak for Chili burgers (good ones are very difficult to find) and The Lobby's Chili burger was fairly dull, featured Cinci style Chili (BLAH) and like. some sort of cheese whiz kinda crap.  Boo. Also ordered fries, and a Chicago dog.. the Chicago dog was overpriced and forgettable, and the crinkle cut fries were reminiscent of Del Taco's.. which isn't exactly a bad thing, but considering that Lobby's is supposed to be a tasty, quality burger place, frozen crinkle fries are kind of a half assed approach.. ALSO the amount of salt on the fries was enough to invoke a stroke! :x  Finally whoever dude was that handed me my bag of food was all like ZIPPY DOO I GAVE YOU A CUP OF FRENCH FRY SAUCE.. There were two orders of fries.. one cup of sauce.. which was just basic secret sauce.. not super great... secret sauce, to boot.. Thanks bro, but I don't need any secret sauce favors."
      ]
     },
     "execution_count": 80,
     "metadata": {},
     "output_type": "execute_result"
    }
   ],
   "source": [
    "# reviews with most positive sentiment, above guidance says anything below -0.05 but let's set it to the extreme positive case of anything over 0.8\n",
    "yelp.loc[yelp['compound'] <= -0.8, ['text']].head(5)"
   ]
  },
  {
   "cell_type": "markdown",
   "metadata": {},
   "source": [
    "## Let's look at some cases where the rating the sentiment don't add up"
   ]
  },
  {
   "cell_type": "markdown",
   "metadata": {},
   "source": [
    "#### what's interesting here is that 5 stars with negative sentiment are somewhat ambiguous. It seems as if the negative sentiment expressed here is less about the businesses product i.e. the food and more about various feelings about the business operations. "
   ]
  },
  {
   "cell_type": "code",
   "execution_count": 81,
   "metadata": {},
   "outputs": [
    {
     "data": {
      "text/html": [
       "<div>\n",
       "<style scoped>\n",
       "    .dataframe tbody tr th:only-of-type {\n",
       "        vertical-align: middle;\n",
       "    }\n",
       "\n",
       "    .dataframe tbody tr th {\n",
       "        vertical-align: top;\n",
       "    }\n",
       "\n",
       "    .dataframe thead th {\n",
       "        text-align: right;\n",
       "    }\n",
       "</style>\n",
       "<table border=\"1\" class=\"dataframe\">\n",
       "  <thead>\n",
       "    <tr style=\"text-align: right;\">\n",
       "      <th></th>\n",
       "      <th>text</th>\n",
       "    </tr>\n",
       "  </thead>\n",
       "  <tbody>\n",
       "    <tr>\n",
       "      <td>262</td>\n",
       "      <td>OK, I've decided that other coffee shops sell swill. I think about Dazbog coffee in a dreamy sort of way, like unstressed people think about sex. I mourn often that they open so damn late in the morning. Seriously, I would be there every day... \\r\\n\\r\\nThe chocolate cappuccino rocks my world and perks me right the hell up, even on the mushiest afternoon. No bitterness, not overly sweet, just blissful- in an I've-just-been-bitch-slapped-by-caffeine sort of way, of course. \\r\\n\\r\\nOh, and the sandwiches I complained about? Replaced by real deli looking ones in clam-shells. Far more appetizing. But what the hell do I need a sandwich for when I can have a giant red velvet cupcake? \\r\\n\\r\\nDon't make me break out the voodoo, Dazbog. Just open at 6:00 am like any other coffee shop and we'll be BFFs.</td>\n",
       "    </tr>\n",
       "    <tr>\n",
       "      <td>390</td>\n",
       "      <td>RIP AZ Coffee Connection.  :(  I stopped by two days ago unaware that they had closed.  I am severely bummed.  This place is irreplaceable!  Damn you, Starbucks and McDonalds!</td>\n",
       "    </tr>\n",
       "    <tr>\n",
       "      <td>660</td>\n",
       "      <td>Video Paradise is great.  For those who aren't financially comfortable enough for the monthly payment to maintain a NetFlix account, or when you don't feel like buying something from Amazon.com, Video Paradise is a wonderful substitute if you want to get something that you know won't be at Blockbuster or Hollywood Video.\\r\\n\\r\\nThe selection is staggering.  I remember the first time I stepped in, I was amazed.  The only movie I really wanted to see and they didn't have was The Helstrom Chronicle, but that's okay.  I'm not going to ding this place because they didn't have it.  \"You didn't have The Helstrom Chronicle?  Lame!\"  I mean, come on.  No one else has it.  \\r\\n\\r\\nThis place had it all, from little indie films to gross-out horror films I had long forgotten from my disturbing adolescence (Cannibal Holocaust, Faces of Death, etc.).  They even had the worst movie I'd ever seen in my life:  Hard Rock Zombies.\\r\\n\\r\\nThe décor is that of sheer, unbridled love for cinema.  You can easily spend hours and hours browsing through their selection.</td>\n",
       "    </tr>\n",
       "  </tbody>\n",
       "</table>\n",
       "</div>"
      ],
      "text/plain": [
       "                                                                                                                                                                                                                                                                                                                                                                                                                                                                                                                                                                                                                                                                                                                                                                                                                                                                                                                                                                                                                                                                                                    text\n",
       "262  OK, I've decided that other coffee shops sell swill. I think about Dazbog coffee in a dreamy sort of way, like unstressed people think about sex. I mourn often that they open so damn late in the morning. Seriously, I would be there every day... \\r\\n\\r\\nThe chocolate cappuccino rocks my world and perks me right the hell up, even on the mushiest afternoon. No bitterness, not overly sweet, just blissful- in an I've-just-been-bitch-slapped-by-caffeine sort of way, of course. \\r\\n\\r\\nOh, and the sandwiches I complained about? Replaced by real deli looking ones in clam-shells. Far more appetizing. But what the hell do I need a sandwich for when I can have a giant red velvet cupcake? \\r\\n\\r\\nDon't make me break out the voodoo, Dazbog. Just open at 6:00 am like any other coffee shop and we'll be BFFs.                                                                                                                                                                                                                                                               \n",
       "390  RIP AZ Coffee Connection.  :(  I stopped by two days ago unaware that they had closed.  I am severely bummed.  This place is irreplaceable!  Damn you, Starbucks and McDonalds!                                                                                                                                                                                                                                                                                                                                                                                                                                                                                                                                                                                                                                                                                                                                                                                                                                                                                                                    \n",
       "660  Video Paradise is great.  For those who aren't financially comfortable enough for the monthly payment to maintain a NetFlix account, or when you don't feel like buying something from Amazon.com, Video Paradise is a wonderful substitute if you want to get something that you know won't be at Blockbuster or Hollywood Video.\\r\\n\\r\\nThe selection is staggering.  I remember the first time I stepped in, I was amazed.  The only movie I really wanted to see and they didn't have was The Helstrom Chronicle, but that's okay.  I'm not going to ding this place because they didn't have it.  \"You didn't have The Helstrom Chronicle?  Lame!\"  I mean, come on.  No one else has it.  \\r\\n\\r\\nThis place had it all, from little indie films to gross-out horror films I had long forgotten from my disturbing adolescence (Cannibal Holocaust, Faces of Death, etc.).  They even had the worst movie I'd ever seen in my life:  Hard Rock Zombies.\\r\\n\\r\\nThe décor is that of sheer, unbridled love for cinema.  You can easily spend hours and hours browsing through their selection."
      ]
     },
     "execution_count": 81,
     "metadata": {},
     "output_type": "execute_result"
    }
   ],
   "source": [
    "# negative sentiment in a 5-star review\n",
    "yelp.loc[(yelp['stars'] == 5) & (yelp['compound'] < -0.7), ['text']].head(3)"
   ]
  },
  {
   "cell_type": "markdown",
   "metadata": {},
   "source": [
    "### conversely, for 1 star ratings with positive sentiment it looks like an issue with the sentiment model. "
   ]
  },
  {
   "cell_type": "code",
   "execution_count": 82,
   "metadata": {},
   "outputs": [
    {
     "data": {
      "text/html": [
       "<div>\n",
       "<style scoped>\n",
       "    .dataframe tbody tr th:only-of-type {\n",
       "        vertical-align: middle;\n",
       "    }\n",
       "\n",
       "    .dataframe tbody tr th {\n",
       "        vertical-align: top;\n",
       "    }\n",
       "\n",
       "    .dataframe thead th {\n",
       "        text-align: right;\n",
       "    }\n",
       "</style>\n",
       "<table border=\"1\" class=\"dataframe\">\n",
       "  <thead>\n",
       "    <tr style=\"text-align: right;\">\n",
       "      <th></th>\n",
       "      <th>text</th>\n",
       "    </tr>\n",
       "  </thead>\n",
       "  <tbody>\n",
       "    <tr>\n",
       "      <td>31</td>\n",
       "      <td>Disgusting!  Had a Groupon so my daughter and I tried it out.  Very outdated and gaudy 80's style interior made me feel like I was in an episode of Sopranos.  The food itself was pretty bad.  We ordered pretty simple dishes but they just had no flavor at all!  After trying it out I'm positive all the good reviews on here are employees or owners creating them.</td>\n",
       "    </tr>\n",
       "    <tr>\n",
       "      <td>35</td>\n",
       "      <td>I've eaten here many times, but none as bad as last night.\\r\\nService was excellent, and highly attentive.\\r\\nFood, absolutely horrible.\\r\\n\\r\\nMy expectation was they would serve a steak on par with their seafood. After all, they were charging 39 bucks for a ribeye. \\r\\nWhat I was hoping for was a 1- 1-1/2' thick steak, cooked Pittsburgh style as I had ordered. \\r\\nWhat I got a a 3/4 in thick piece of meat that was mostly fat, gristle, and in no way resembled Pittsburgh Style. \\r\\nSalad, similar to something you could get at Chick Filet\\r\\nVeggies, blah.\\r\\nBread basket, ample, but day old, and if not, it certainly wasn't fresh. \\r\\n\\r\\nIn addition to bad food, we were crammed into a small room where we were nuts to butts with 6 other tables, listening to conversations ranging from someone's recent bout with pinkeye, and another couple who elected to speak entirely in French, until the waiter showed up, then it was like they turned off the French switch and suddenly began speaking English. \\r\\n\\r\\nI've had it with this place.\\r\\nIf I'm going to pay 150 bucks for dinner, it'll be at Mortons, or Maestro where the steaks are 1-1/2 in thick, cooked to perfection, and half of it doesnt wind up on the plate as fat and gristle</td>\n",
       "    </tr>\n",
       "    <tr>\n",
       "      <td>61</td>\n",
       "      <td>I have always been a fan of Burlington's deals, however I will not be shopping at this one again. I went to return a belt... pretty simple. Instead, I stood in the customer service line for 15 minutes thanks to an employee of Burlington buying/putting things on layaway. It took three other staff to help her out. There were no words said to me except \"Hold on\". I was pissed. When the lady was finally done, the employee at the service asked \"what do you want?\" Serious help is needed there!\\r\\n If you work in the area of \"customer service\" I think you should have some.</td>\n",
       "    </tr>\n",
       "  </tbody>\n",
       "</table>\n",
       "</div>"
      ],
      "text/plain": [
       "                                                                                                                                                                                                                                                                                                                                                                                                                                                                                                                                                                                                                                                                                                                                                                                                                                                                                                                                                                                                                                                                                                                                                                                                                                                                                        text\n",
       "31  Disgusting!  Had a Groupon so my daughter and I tried it out.  Very outdated and gaudy 80's style interior made me feel like I was in an episode of Sopranos.  The food itself was pretty bad.  We ordered pretty simple dishes but they just had no flavor at all!  After trying it out I'm positive all the good reviews on here are employees or owners creating them.                                                                                                                                                                                                                                                                                                                                                                                                                                                                                                                                                                                                                                                                                                                                                                                                                                                                                                               \n",
       "35  I've eaten here many times, but none as bad as last night.\\r\\nService was excellent, and highly attentive.\\r\\nFood, absolutely horrible.\\r\\n\\r\\nMy expectation was they would serve a steak on par with their seafood. After all, they were charging 39 bucks for a ribeye. \\r\\nWhat I was hoping for was a 1- 1-1/2' thick steak, cooked Pittsburgh style as I had ordered. \\r\\nWhat I got a a 3/4 in thick piece of meat that was mostly fat, gristle, and in no way resembled Pittsburgh Style. \\r\\nSalad, similar to something you could get at Chick Filet\\r\\nVeggies, blah.\\r\\nBread basket, ample, but day old, and if not, it certainly wasn't fresh. \\r\\n\\r\\nIn addition to bad food, we were crammed into a small room where we were nuts to butts with 6 other tables, listening to conversations ranging from someone's recent bout with pinkeye, and another couple who elected to speak entirely in French, until the waiter showed up, then it was like they turned off the French switch and suddenly began speaking English. \\r\\n\\r\\nI've had it with this place.\\r\\nIf I'm going to pay 150 bucks for dinner, it'll be at Mortons, or Maestro where the steaks are 1-1/2 in thick, cooked to perfection, and half of it doesnt wind up on the plate as fat and gristle\n",
       "61  I have always been a fan of Burlington's deals, however I will not be shopping at this one again. I went to return a belt... pretty simple. Instead, I stood in the customer service line for 15 minutes thanks to an employee of Burlington buying/putting things on layaway. It took three other staff to help her out. There were no words said to me except \"Hold on\". I was pissed. When the lady was finally done, the employee at the service asked \"what do you want?\" Serious help is needed there!\\r\\n If you work in the area of \"customer service\" I think you should have some.                                                                                                                                                                                                                                                                                                                                                                                                                                                                                                                                                                                                                                                                                            "
      ]
     },
     "execution_count": 82,
     "metadata": {},
     "output_type": "execute_result"
    }
   ],
   "source": [
    "# positive sentiment in a 1-star review\n",
    "yelp.loc[(yelp['stars'] == 1) & (yelp['compound'] > 0.7), ['text']].head(3)"
   ]
  },
  {
   "cell_type": "markdown",
   "metadata": {},
   "source": [
    "## Topic Modeling"
   ]
  },
  {
   "cell_type": "markdown",
   "metadata": {},
   "source": [
    "### Let's try another approach to analyzing this text with Topic Modeling or thematic analysis as I like to call it\n",
    "### Topic Modeling is a way to organically or in an unsupervised fashion identify topics within text. The benefit of doing a bottom up approach is that topics can emerge naturally without bias. The downside is that occassionally topics are not interpretable, particularly if topics are not well differentiated. For example, AI may be thought of a superset of Machine Learning topics and as such text data dealing with these broad topics might not emerge as two distinct topics. \n",
    "\n",
    "### This analysis used Latent Dirichlet Allocation (LDA) to identify topics. LDA is a Bayesian model which assumes that bag-of-words represent a distribution of topics and these topics represent a distribution of documents, and these documents can have multiple topics. \n",
    "\n",
    "\n",
    "### We will prep the text like we did before using TF-IDF and then visualize the topics"
   ]
  },
  {
   "cell_type": "markdown",
   "metadata": {},
   "source": [
    "### Use TFIDF to create trigrams for topics\n",
    "\n",
    "### TFIDF\n",
    "- **What:** Computes \"relative frequency\" that a word appears in a document compared to its frequency across all documents\n",
    "- **Why:** More useful than \"term frequency\" for identifying \"important\" words in each document (high frequency in that document, low frequency in other documents)\n",
    "- **Notes:** Used for search engine scoring, text summarization, document clustering"
   ]
  },
  {
   "cell_type": "markdown",
   "metadata": {},
   "source": [
    "### Topic Modeling"
   ]
  },
  {
   "cell_type": "markdown",
   "metadata": {},
   "source": [
    "<!-- #### Topic modeling is an unsupervised ML approach to identifying the topics that best represent a set of documents. This analysis used Latent Dirichlet Allocation (LDA) to identify topics. LDA is a Bayesian model which assumes that bag-of-words represent a distribution of topics and these topics represent a distribution of documents, and these documents can have multiple topics.  -->"
   ]
  },
  {
   "cell_type": "code",
   "execution_count": null,
   "metadata": {},
   "outputs": [],
   "source": []
  },
  {
   "cell_type": "code",
   "execution_count": null,
   "metadata": {},
   "outputs": [],
   "source": []
  },
  {
   "cell_type": "code",
   "execution_count": 83,
   "metadata": {},
   "outputs": [],
   "source": [
    "tfidf = TfidfVectorizer(analyzer='word', min_df=2, max_df=0.9, lowercase=True, ngram_range=(2,4), smooth_idf=True, stop_words='english', use_idf=True)\n",
    "tfidfvect = tfidf.fit_transform(yelp['text'])"
   ]
  },
  {
   "cell_type": "code",
   "execution_count": 89,
   "metadata": {},
   "outputs": [
    {
     "data": {
      "text/plain": [
       "10000"
      ]
     },
     "execution_count": 89,
     "metadata": {},
     "output_type": "execute_result"
    }
   ],
   "source": [
    "yelp['text'].count()"
   ]
  },
  {
   "cell_type": "code",
   "execution_count": 94,
   "metadata": {},
   "outputs": [],
   "source": [
    "topics = 5"
   ]
  },
  {
   "cell_type": "code",
   "execution_count": 95,
   "metadata": {},
   "outputs": [],
   "source": [
    "# Latent Dirichlet Allocation Model\n",
    "lda = LatentDirichletAllocation(n_components=topics, max_iter=150, learning_method='online',verbose=False)\n",
    "data_lda = lda.fit_transform(tfidfvect)"
   ]
  },
  {
   "cell_type": "code",
   "execution_count": 96,
   "metadata": {},
   "outputs": [],
   "source": [
    "# Functions for printing keywords for each topic\n",
    "def selected_topics(model, vectorizer, top_n=15):\n",
    "    for idx, topic in enumerate(model.components_):\n",
    "        print(\"Topic %d:\" % (idx))\n",
    "        print([(vectorizer.get_feature_names()[i], topic[i])\n",
    "                        for i in topic.argsort()[:-top_n - 1:-1]]) "
   ]
  },
  {
   "cell_type": "code",
   "execution_count": 97,
   "metadata": {},
   "outputs": [
    {
     "name": "stdout",
     "output_type": "stream",
     "text": [
      "Latent Dirichlet Allocation Model:\n",
      "Topic 0:\n",
      "[('happy hour', 50.027356273212284), ('food good', 38.48006754772524), ('really good', 37.766384015955914), ('good food', 35.26560790623258), ('great place', 34.451813731008286), ('pretty good', 32.111488770303716), ('great food', 31.060383248263108), ('love place', 30.733309658905302), ('service great', 29.472628279602908), ('don know', 26.650594153074216), ('mexican food', 25.619423599312675), ('food great', 24.58001305099012), ('good service', 24.548393809965326), ('ice cream', 23.953592397823584), ('highly recommend', 22.89419533341599)]\n",
      "Topic 1:\n",
      "[('fro yo', 4.850610179556122), ('light bulbs', 2.0010650878550837), ('quality great', 1.7363761156097042), ('imax theater', 1.6914632189609737), ('love guys', 1.6904731566089701), ('hope opens', 1.627912796880454), ('breakfast included', 1.600867589480039), ('love starbucks', 1.5978920645314285), ('excellent burger', 1.5941297346689571), ('prefer place', 1.4344594550334935), ('best outside', 1.357576390616768), ('gone thanks', 1.345510476576695), ('lake water', 1.3311979353664762), ('long flight', 1.3151462315851339), ('daughter loves', 1.3045429026710247)]\n",
      "Topic 2:\n",
      "[('jimmy johns', 2.7130741683442783), ('carne asada', 2.584374829925445), ('discount tire', 2.068964586953757), ('chorizo gravy', 1.8371182794121559), ('forever 21', 1.6649503982483609), ('art supply', 1.6101198002937414), ('fast drive', 1.605022173914749), ('great sandwich', 1.4834684434764096), ('lunch worth', 1.4272162704897176), ('nic nacs', 1.384662503620319), ('love carne asada', 1.353388594692765), ('just weeks', 1.341249405018388), ('love carne', 1.3299879836878747), ('good wraps', 1.3299354011485671), ('idea doing', 1.2942652377840933)]\n",
      "Topic 3:\n",
      "[('great service', 9.244824744981475), ('customer service', 8.251339678464054), ('coffee shop', 7.729882539877899), ('love place', 7.447996356948226), ('staff friendly', 6.876635799309692), ('great customer', 6.701211484817711), ('great customer service', 6.561567766928109), ('ice cream', 5.801934881317694), ('wi fi', 5.732659164122546), ('great selection', 5.679069331977148), ('great place', 5.542152327167257), ('friendly helpful', 5.264616311047948), ('coffee shops', 5.187479670037172), ('gluten free', 5.066333015050054), ('great food', 4.84162207693752)]\n",
      "Topic 4:\n",
      "[('clean friendly', 4.46189386048677), ('dog park', 3.2144601531269807), ('breakfast sandwiches', 2.0160723399388742), ('love wish', 1.8510279943951329), ('service rate', 1.849851322363167), ('pink spot', 1.7813215223181345), ('friendly service', 1.6177461710033079), ('shopping don', 1.593379357141976), ('nom nom', 1.5389082526887765), ('love dr', 1.5270542764041115), ('closed doors', 1.4978349590525806), ('good works', 1.4411564457393833), ('nami dessert', 1.440604490493543), ('angel sweet', 1.438143015335887), ('bad chain', 1.3890235268639133)]\n"
     ]
    }
   ],
   "source": [
    "# Keywords for topics clustered by Latent Dirichlet Allocation\n",
    "print(\"Latent Dirichlet Allocation Model:\")\n",
    "selected_topics(lda, tfidf)"
   ]
  },
  {
   "cell_type": "markdown",
   "metadata": {},
   "source": [
    "### Code below visulizes topics. \n",
    "- reference: https://cran.r-project.org/web/packages/LDAvis/vignettes/details.pdf \n",
    "- reference for sensitivity metric: https://nlp.stanford.edu/events/illvi2014/papers/sievert-illvi2014.pdf \n",
    "\n",
    "Here we use  principle coordinate analysis (pcoa) for distance map, using pcoa tends to show closer separation, but also more overlap. It's a better representation of how far apart the topics actually are whereas using tsne forces topics to not overlap but can be less intuitive given when topics tend be similar. "
   ]
  },
  {
   "cell_type": "code",
   "execution_count": 92,
   "metadata": {},
   "outputs": [
    {
     "data": {
      "text/plain": [
       "'2.1.2'"
      ]
     },
     "execution_count": 92,
     "metadata": {},
     "output_type": "execute_result"
    }
   ],
   "source": [
    "pyLDAvis.__version__"
   ]
  },
  {
   "cell_type": "code",
   "execution_count": null,
   "metadata": {},
   "outputs": [],
   "source": []
  },
  {
   "cell_type": "code",
   "execution_count": null,
   "metadata": {},
   "outputs": [],
   "source": []
  },
  {
   "cell_type": "code",
   "execution_count": null,
   "metadata": {},
   "outputs": [],
   "source": []
  },
  {
   "cell_type": "code",
   "execution_count": null,
   "metadata": {},
   "outputs": [],
   "source": []
  },
  {
   "cell_type": "code",
   "execution_count": null,
   "metadata": {},
   "outputs": [],
   "source": []
  },
  {
   "cell_type": "code",
   "execution_count": null,
   "metadata": {},
   "outputs": [],
   "source": []
  },
  {
   "cell_type": "markdown",
   "metadata": {},
   "source": [
    "#### Relevance (the sliding scale) lets users specify a range between the probability that a term belongs to a specific topic and it's overall probabilistic occurence in the corpus  \n",
    "\n",
    "Taddy (2011) uses an intrinsic measure to rank terms within topics: a quantity called lift, defined as the ratio of a term’s probability\n",
    "within a topic to its marginal probability across the corpus. This generally decreases the rankings of globally frequent terms, which can be helpful.\n",
    "We find that it can be noisy, however, by giving high rankings to very rare terms that occur in only a single topic, for instance. While such terms may contain useful topical content, if they are very rare the topic may remain difficult to interpret. \n",
    "\n",
    "We propose a similar method that is a weighted average of the logarithms of a term’s probability and its lift, and we justify it with a user study and incorporate it into our interactive visualization.\n",
    "\n",
    "reference: https://nlp.stanford.edu/events/illvi2014/papers/sievert-illvi2014.pdf"
   ]
  },
  {
   "cell_type": "code",
   "execution_count": 98,
   "metadata": {},
   "outputs": [
    {
     "name": "stderr",
     "output_type": "stream",
     "text": [
      "C:\\ProgramData\\Anaconda3\\lib\\site-packages\\pyLDAvis\\_prepare.py:257: FutureWarning:\n",
      "\n",
      "Sorting because non-concatenation axis is not aligned. A future version\n",
      "of pandas will change to not sort by default.\n",
      "\n",
      "To accept the future behavior, pass 'sort=False'.\n",
      "\n",
      "To retain the current behavior and silence the warning, pass 'sort=True'.\n",
      "\n",
      "\n"
     ]
    },
    {
     "data": {
      "text/html": [
       "\n",
       "<link rel=\"stylesheet\" type=\"text/css\" href=\"https://cdn.rawgit.com/bmabey/pyLDAvis/files/ldavis.v1.0.0.css\">\n",
       "\n",
       "\n",
       "<div id=\"ldavis_el1304426013274823124831535856\"></div>\n",
       "<script type=\"text/javascript\">\n",
       "\n",
       "var ldavis_el1304426013274823124831535856_data = {\"mdsDat\": {\"x\": [0.056262964772856784, -0.044780706976294986, -0.004048200798203222, -0.003999550121348082, -0.003434506877010463], \"y\": [0.004151116460628491, 0.0061421168444595435, -0.006523195442817862, -0.0037851783769959615, 1.5140514725816883e-05], \"topics\": [1, 2, 3, 4, 5], \"cluster\": [1, 1, 1, 1, 1], \"Freq\": [75.72463789523987, 12.48849782242716, 4.008949310540467, 3.981388038295106, 3.7965269334973883]}, \"tinfo\": {\"Category\": [\"Default\", \"Default\", \"Default\", \"Default\", \"Default\", \"Default\", \"Default\", \"Default\", \"Default\", \"Default\", \"Default\", \"Default\", \"Default\", \"Default\", \"Default\", \"Default\", \"Default\", \"Default\", \"Default\", \"Default\", \"Default\", \"Default\", \"Default\", \"Default\", \"Default\", \"Default\", \"Default\", \"Default\", \"Default\", \"Default\", \"Default\", \"Default\", \"Default\", \"Default\", \"Default\", \"Default\", \"Default\", \"Default\", \"Default\", \"Default\", \"Topic1\", \"Topic1\", \"Topic1\", \"Topic1\", \"Topic1\", \"Topic1\", \"Topic1\", \"Topic1\", \"Topic1\", \"Topic1\", \"Topic1\", \"Topic1\", \"Topic1\", \"Topic1\", \"Topic1\", \"Topic1\", \"Topic1\", \"Topic1\", \"Topic1\", \"Topic1\", \"Topic1\", \"Topic1\", \"Topic1\", \"Topic1\", \"Topic1\", \"Topic1\", \"Topic1\", \"Topic1\", \"Topic1\", \"Topic1\", \"Topic1\", \"Topic1\", \"Topic1\", \"Topic1\", \"Topic1\", \"Topic1\", \"Topic1\", \"Topic1\", \"Topic1\", \"Topic1\", \"Topic1\", \"Topic1\", \"Topic1\", \"Topic1\", \"Topic1\", \"Topic1\", \"Topic1\", \"Topic1\", \"Topic1\", \"Topic1\", \"Topic1\", \"Topic1\", \"Topic1\", \"Topic1\", \"Topic1\", \"Topic1\", \"Topic1\", \"Topic1\", \"Topic1\", \"Topic1\", \"Topic1\", \"Topic1\", \"Topic2\", \"Topic2\", \"Topic2\", \"Topic2\", \"Topic2\", \"Topic2\", \"Topic2\", \"Topic2\", \"Topic2\", \"Topic2\", \"Topic2\", \"Topic2\", \"Topic2\", \"Topic2\", \"Topic2\", \"Topic2\", \"Topic2\", \"Topic2\", \"Topic2\", \"Topic2\", \"Topic2\", \"Topic2\", \"Topic2\", \"Topic2\", \"Topic2\", \"Topic2\", \"Topic2\", \"Topic2\", \"Topic2\", \"Topic2\", \"Topic2\", \"Topic2\", \"Topic2\", \"Topic2\", \"Topic2\", \"Topic2\", \"Topic2\", \"Topic2\", \"Topic2\", \"Topic2\", \"Topic2\", \"Topic2\", \"Topic2\", \"Topic2\", \"Topic2\", \"Topic2\", \"Topic2\", \"Topic2\", \"Topic2\", \"Topic2\", \"Topic2\", \"Topic2\", \"Topic2\", \"Topic2\", \"Topic2\", \"Topic2\", \"Topic2\", \"Topic2\", \"Topic2\", \"Topic2\", \"Topic2\", \"Topic2\", \"Topic2\", \"Topic2\", \"Topic2\", \"Topic2\", \"Topic2\", \"Topic2\", \"Topic2\", \"Topic2\", \"Topic2\", \"Topic2\", \"Topic2\", \"Topic2\", \"Topic3\", \"Topic3\", \"Topic3\", \"Topic3\", \"Topic3\", \"Topic3\", \"Topic3\", \"Topic3\", \"Topic3\", \"Topic3\", \"Topic3\", \"Topic3\", \"Topic3\", \"Topic3\", \"Topic3\", \"Topic3\", \"Topic3\", \"Topic3\", \"Topic3\", \"Topic3\", \"Topic3\", \"Topic3\", \"Topic3\", \"Topic3\", \"Topic3\", \"Topic3\", \"Topic3\", \"Topic3\", \"Topic3\", \"Topic3\", \"Topic3\", \"Topic3\", \"Topic3\", \"Topic3\", \"Topic3\", \"Topic3\", \"Topic3\", \"Topic3\", \"Topic3\", \"Topic3\", \"Topic3\", \"Topic3\", \"Topic3\", \"Topic3\", \"Topic3\", \"Topic3\", \"Topic3\", \"Topic3\", \"Topic3\", \"Topic3\", \"Topic3\", \"Topic3\", \"Topic3\", \"Topic4\", \"Topic4\", \"Topic4\", \"Topic4\", \"Topic4\", \"Topic4\", \"Topic4\", \"Topic4\", \"Topic4\", \"Topic4\", \"Topic4\", \"Topic4\", \"Topic4\", \"Topic4\", \"Topic4\", \"Topic4\", \"Topic4\", \"Topic4\", \"Topic4\", \"Topic4\", \"Topic4\", \"Topic4\", \"Topic4\", \"Topic4\", \"Topic4\", \"Topic4\", \"Topic4\", \"Topic4\", \"Topic4\", \"Topic4\", \"Topic4\", \"Topic4\", \"Topic4\", \"Topic4\", \"Topic4\", \"Topic4\", \"Topic4\", \"Topic4\", \"Topic4\", \"Topic4\", \"Topic4\", \"Topic4\", \"Topic4\", \"Topic4\", \"Topic4\", \"Topic4\", \"Topic4\", \"Topic4\", \"Topic4\", \"Topic4\", \"Topic4\", \"Topic4\", \"Topic4\", \"Topic4\", \"Topic4\", \"Topic5\", \"Topic5\", \"Topic5\", \"Topic5\", \"Topic5\", \"Topic5\", \"Topic5\", \"Topic5\", \"Topic5\", \"Topic5\", \"Topic5\", \"Topic5\", \"Topic5\", \"Topic5\", \"Topic5\", \"Topic5\", \"Topic5\", \"Topic5\", \"Topic5\", \"Topic5\", \"Topic5\", \"Topic5\", \"Topic5\", \"Topic5\", \"Topic5\", \"Topic5\", \"Topic5\", \"Topic5\", \"Topic5\", \"Topic5\", \"Topic5\", \"Topic5\", \"Topic5\", \"Topic5\", \"Topic5\", \"Topic5\", \"Topic5\", \"Topic5\", \"Topic5\", \"Topic5\", \"Topic5\", \"Topic5\", \"Topic5\", \"Topic5\", \"Topic5\", \"Topic5\", \"Topic5\", \"Topic5\", \"Topic5\", \"Topic5\", \"Topic5\", \"Topic5\", \"Topic5\", \"Topic5\"], \"Freq\": [17.0, 17.0, 8.0, 4.0, 15.0, 22.0, 6.0, 6.0, 4.0, 17.0, 2.0, 2.0, 7.0, 1.0, 2.0, 25.0, 1.0, 24.0, 10.0, 2.0, 3.0, 3.0, 3.0, 2.0, 4.0, 21.0, 0.0, 0.0, 2.0, 6.0, 4.0, 2.0, 2.0, 4.0, 2.0, 3.0, 1.0, 1.0, 3.0, 3.0, 25.05017729278351, 16.678013948539515, 14.353591670733614, 13.929185421068402, 12.097271507807466, 10.70812134062325, 10.656057438862897, 22.957593026396257, 10.412955866441578, 9.685013050665525, 9.609674268096558, 9.860907549554025, 12.840205015684724, 9.394438844859112, 9.164246895142542, 9.10001432240254, 9.24615554895172, 8.953049440309368, 9.013769454793929, 8.678931654006751, 9.042401459385161, 24.585575743433616, 8.332505296835302, 8.133458185729332, 8.118027339464302, 7.759385647726702, 7.872072709893112, 7.804541547456887, 7.426214418747318, 7.320768133035635, 7.319324003611555, 7.256914023131949, 7.2975096113514555, 7.2893455273802275, 7.175061267435014, 7.1948592598947325, 7.110847986316518, 7.122626136215531, 7.021093047607623, 7.080050440688112, 32.56735821939314, 19.18641548049991, 15.980783204967452, 17.34929668885142, 14.227374233573629, 20.90428988550169, 22.427820350090023, 9.381896784607454, 9.284106833488728, 20.22002966044142, 16.001367046005463, 12.594480341934862, 14.903914900003604, 20.00710770049324, 11.178912698370585, 15.593572844443294, 10.261827163482378, 14.749092949149171, 13.50697074572837, 11.58944518383209, 14.263196910213551, 9.862268437653984, 1.9919564912212748, 1.950446950604824, 1.7040512241412513, 1.1965779030926045, 1.196577903092604, 1.045081384754405, 0.973238326362682, 0.927790510891894, 0.9659869793373937, 0.919439899764293, 0.8967785079875433, 0.9082349784865729, 0.9413080439438327, 0.8262283652906737, 0.8052403498960911, 0.7807068298149094, 0.7781153311434096, 0.7844857908488193, 0.772927524932441, 0.7794804097893486, 0.7721416437342976, 0.7796156503510034, 0.7873779004610963, 0.760215309932962, 0.7425626395570949, 0.7374494278690075, 0.7473449063877412, 0.7314146228514841, 0.727843235451092, 0.7245959360861706, 0.7252969179933588, 0.7241398801739313, 0.7192352948647339, 0.7508150656673287, 0.7358607445930574, 0.7363229328236663, 0.707753086957696, 0.7072284488559378, 0.70001550178124, 0.6987369194328609, 0.7220589615211371, 1.5419948803615515, 2.2977322438745005, 1.074681833106078, 1.244308174400661, 0.860337388173937, 0.9076707021268909, 0.9665709832471847, 2.748053647118981, 1.688121475580512, 1.50598365069986, 1.0172784281597336, 2.452737041805993, 1.0802678409575295, 1.5649239929735823, 2.044101928320526, 2.2139406767609278, 1.7246436520721593, 1.0418675232115788, 0.8448850737885505, 1.6474224591254214, 1.0258181238446558, 0.9459469753907483, 1.4391876075014323, 1.0199672847688066, 1.219583803117272, 1.3245505595822964, 0.923354828102721, 1.145492431145963, 0.9831932447349573, 1.112361419100894, 1.084705502285924, 1.0438004521224233, 0.9768659098205724, 0.6271800873378612, 0.2587361445492501, 0.2245120682815057, 0.20699092225925297, 0.21870486601209455, 0.20660618921989002, 0.21857685172741412, 0.21048784633922824, 0.17397344807671228, 0.1854744811451444, 0.17212284773696837, 0.15914212474733497, 0.1613835141793904, 0.1579213873745872, 0.15267874855382751, 0.15267874855382751, 0.15267874855382751, 0.16754457013607643, 0.15302985803590374, 0.20611972292299321, 0.1488806681002994, 0.1473634920748495, 0.1473634920748495, 0.15313434538513915, 0.14688351915644285, 0.17553356128749117, 0.13742730974986883, 0.13790345180793942, 0.13790345180793942, 0.13847772787204968, 0.13743180293701573, 0.12851158614505143, 0.12957221720525589, 0.12816320870894626, 0.13000188424227557, 0.12719886415175338, 0.12719886415175338, 0.12632990574615005, 0.12556201881132747, 0.12556201881132747, 0.15751189896666465, 0.15364619386508885, 0.1525322743337414, 0.16834087801203082, 0.1686763729399653, 0.17004737504243306, 0.14138211301239564, 0.15224828079470934, 0.13595334437024145, 0.1504784487420631, 0.15984059678988127, 0.140982598824882, 0.13897380366093404, 0.5743160331532524, 0.2595002716396694, 0.23825646423616575, 0.2381050080081937, 0.2292841431142101, 0.20509302558851683, 0.19655594280282637, 0.18549953874967068, 0.18542849341394982, 0.17404110727833694, 0.16779017132526544, 0.1787892107810009, 0.1684372432448122, 0.1621195507682525, 0.15894481149349973, 0.14942635600360935, 0.14917228351487452, 0.1447452527055261, 0.1398798872338158, 0.14333234117557103, 0.13347418695368468, 0.13227457397514666, 0.13153269087653785, 0.13008532222820215, 0.12959877264716946, 0.13081984395652554, 0.11886082044325011, 0.11886082044325011, 0.11886082044325011, 0.11923148804486405, 0.12942340432286895, 0.11485484848863382, 0.12176146477771205, 0.14755862576998763, 0.14879246506117375, 0.11140270786582462, 0.11140270786582462, 0.11187338719614966, 0.11601294269140204, 0.11601294269139892, 0.18511166278273078, 0.15335541609392805, 0.15289865772843086, 0.41375166276852726, 0.12853504446457953, 0.19808173629988612, 0.13066942081412228, 0.1927949563344153, 0.15368898812287435, 0.1322204200834883, 0.13282257630844116, 0.2082294184107112, 0.15245059222992252, 0.13640867907664425, 0.13552833307265527, 0.3350757485097595, 0.22689161607058428, 0.19885637612445395, 0.17626704264096796, 0.16714902293585365, 0.17101147850931162, 0.16425245767661406, 0.19822679843192578, 0.15984704671208055, 0.15438210189766505, 0.15438210189766505, 0.15617385104097153, 0.1521981132206137, 0.15276441389885465, 0.1467122767372601, 0.1584594195765482, 0.16564978339647676, 0.13962425265385742, 0.13539202377558904, 0.13528986890517547, 0.13528986890517547, 0.13625720930440008, 0.13254542011740322, 0.13467783293326924, 0.25552558264074104, 0.13053456614019332, 0.1314700564864298, 0.20562817907228642, 0.12848095703541518, 0.12449029037883456, 0.12370367987233616, 0.12370367987233616, 0.1258568877529529, 0.12106232404656514, 0.12342993814339127, 0.12342993814339127, 0.14567509620902808, 0.1245751286952474, 0.1266264641272163, 0.13238947587439262, 0.16425895183513087, 0.15222969749888493, 0.14536246130523006, 0.15242033018912407, 0.1510371139524648, 0.13348756761030361, 0.13260201925605422, 0.1559372659447852, 0.14974162273087027, 0.3191808542025689, 0.1832144159154403, 0.1485493523541429, 0.14191479108894808, 0.14298440173864227], \"Term\": [\"great service\", \"customer service\", \"carne asada\", \"coffee shop\", \"staff friendly\", \"love place\", \"great selection\", \"friendly helpful\", \"gluten free\", \"ice cream\", \"great customer\", \"great customer service\", \"friendly service\", \"wi fi\", \"coffee shops\", \"food good\", \"dog park\", \"great place\", \"really nice\", \"need say\", \"dive bar\", \"worth drive\", \"just wish\", \"pool tables\", \"walking distance\", \"great food\", \"clean friendly\", \"fro yo\", \"car wash\", \"year old\", \"best pizza\", \"great breakfast\", \"nice helpful\", \"grocery store\", \"clean staff\", \"high end\", \"free wi\", \"free wi fi\", \"staff helpful\", \"place awesome\", \"food good\", \"mexican food\", \"service good\", \"friendly staff\", \"don think\", \"sweet potato\", \"love love\", \"good food\", \"just right\", \"mac cheese\", \"wait staff\", \"food delicious\", \"food service\", \"old town\", \"like place\", \"service food\", \"little bit\", \"chips salsa\", \"place good\", \"recommend place\", \"looks like\", \"really good\", \"just ok\", \"place like\", \"tasted like\", \"food excellent\", \"best ve\", \"just good\", \"quality food\", \"potato fries\", \"good thing\", \"sweet potato fries\", \"saturday night\", \"fried rice\", \"spring rolls\", \"10 minutes\", \"ve eaten\", \"great atmosphere\", \"just don\", \"little pricey\", \"happy hour\", \"service great\", \"good service\", \"don know\", \"feel like\", \"pretty good\", \"great place\", \"really like\", \"don like\", \"great food\", \"food great\", \"make sure\", \"highly recommend\", \"love place\", \"good place\", \"ice cream\", \"fast food\", \"customer service\", \"staff friendly\", \"place great\", \"great service\", \"parking lot\", \"great customer\", \"great customer service\", \"wi fi\", \"free wi\", \"free wi fi\", \"guys working\", \"watch football\", \"dog food\", \"great coffee\", \"wide selection\", \"open 24\", \"post office\", \"free pizza\", \"local bar\", \"stay hotel\", \"moved scottsdale\", \"got way\", \"shoot pool\", \"favorite chocolate\", \"best donuts\", \"said guys\", \"better starbucks\", \"variety flavors\", \"holy shit\", \"coffee shops area\", \"chips cookies\", \"gluten free pizza\", \"pool watch\", \"star average\", \"body parts\", \"rated place\", \"perfect price\", \"independent coffee\", \"service product\", \"happen employee\", \"fantastic pizza\", \"just moved scottsdale\", \"bag beans\", \"make need\", \"dessert wasn\", \"pizza fix\", \"coffee shops\", \"coffee shop\", \"dog park\", \"need say\", \"staff extremely\", \"staff did\", \"place pizza\", \"great service\", \"great selection\", \"gluten free\", \"great breakfast\", \"customer service\", \"pool tables\", \"friendly helpful\", \"staff friendly\", \"love place\", \"ice cream\", \"dive bar\", \"dunkin donuts\", \"great place\", \"just wish\", \"nice helpful\", \"great food\", \"worth drive\", \"really nice\", \"pretty good\", \"clean staff\", \"place great\", \"walking distance\", \"food great\", \"highly recommend\", \"parking lot\", \"year old\", \"fro yo\", \"light bulbs\", \"quality great\", \"breakfast included\", \"imax theater\", \"love starbucks\", \"love guys\", \"hope opens\", \"gone thanks\", \"prefer place\", \"lake water\", \"nutritional info\", \"excellent food service\", \"veggie burro\", \"airport long\", \"airport long walks\", \"long walks\", \"high marks\", \"gold medal\", \"excellent burger\", \"night pleased\", \"lake water clean\", \"water clean\", \"truth truth\", \"price quote\", \"best outside\", \"atmosphere value\", \"just year\", \"just year ago\", \"true professional\", \"knowledgeable product\", \"looking buy\", \"weight great\", \"pricing beat\", \"awesome fun\", \"sushi town\", \"best sushi town\", \"family feel\", \"scottsdale anymore\", \"live scottsdale anymore\", \"excited discover\", \"food services\", \"bacon brittle\", \"happy service\", \"daughter loves\", \"long flight\", \"duck fat fries\", \"bar far\", \"service ll\", \"love wings\", \"car wash\", \"air conditioning\", \"check website\", \"clean friendly\", \"breakfast sandwiches\", \"love wish\", \"service rate\", \"pink spot\", \"shopping don\", \"love dr\", \"good works\", \"nami dessert\", \"humane society\", \"fair pricing\", \"bad chain\", \"mexican beer\", \"great place live\", \"subway inside\", \"dead easy\", \"gotten food\", \"plastic plates\", \"school education\", \"going feels\", \"train ride\", \"run play\", \"family runs\", \"challenging course\", \"change told\", \"wish opened\", \"answering machine\", \"message answering\", \"message answering machine\", \"heaven food\", \"location 10\", \"30 miles away\", \"way understand\", \"tuesdays special\", \"delicious addicting\", \"best gelato ve\", \"gelato ve\", \"clean friendly staff\", \"beer better\", \"good beer better\", \"angel sweet\", \"great help\", \"italian kitchen\", \"dog park\", \"pet store\", \"nom nom\", \"chai lattes\", \"closed doors\", \"great owners\", \"day ask\", \"consistently friendly\", \"friendly service\", \"best prices\", \"best gelato\", \"place live\", \"jimmy johns\", \"chorizo gravy\", \"art supply\", \"lunch worth\", \"love carne asada\", \"nic nacs\", \"good wraps\", \"fast drive\", \"idea doing\", \"store friendly\", \"store friendly staff\", \"slow service food\", \"probably typical\", \"just weeks ago\", \"parking decent\", \"yummy breakfast\", \"just weeks\", \"professional service\", \"make soon\", \"arizona art supply\", \"arizona art\", \"cold rice\", \"impressed big\", \"patient needs\", \"discount tire\", \"love chipotle\", \"faces best\", \"forever 21\", \"cheaper better\", \"like malls\", \"love jimmy johns\", \"love jimmy\", \"huge store\", \"11 years\", \"asada quesadilla\", \"carne asada quesadilla\", \"facilities notch\", \"trying different\", \"low carb\", \"certain items\", \"love carne\", \"folks best\", \"came beer\", \"good store\", \"short leash\", \"great use\", \"want authentic\", \"polite staff\", \"awesome pool\", \"carne asada\", \"great sandwich\", \"complaints place\", \"sandwiches huge\", \"cheap delicious\"], \"Total\": [17.0, 17.0, 8.0, 4.0, 15.0, 22.0, 6.0, 6.0, 4.0, 17.0, 2.0, 2.0, 7.0, 1.0, 2.0, 25.0, 1.0, 24.0, 10.0, 2.0, 3.0, 3.0, 3.0, 2.0, 4.0, 21.0, 0.0, 0.0, 2.0, 6.0, 4.0, 2.0, 2.0, 4.0, 2.0, 3.0, 1.0, 1.0, 3.0, 3.0, 25.186220634453463, 16.81403638454923, 14.49359757565153, 14.068602309283255, 12.234155783278167, 10.844001166423567, 10.792767861876062, 23.25235567998953, 10.550712273249749, 9.821108035468143, 9.745694764422984, 10.002440496179034, 13.026641206928172, 9.533344510729586, 9.300462886058051, 9.235939380782613, 9.384608536107997, 9.08897702495737, 9.15192026339419, 8.815122648164488, 9.184862700056627, 24.979856371357762, 8.468563518146903, 8.271152114335093, 8.256508154260633, 7.8952014375737845, 8.010632744803573, 7.941932945770561, 7.562977281344563, 7.456652321624031, 7.455296757052102, 7.392799614404369, 7.434377184506358, 7.427004698731378, 7.310875702575292, 7.331508599831485, 7.246998982074205, 7.259344648497849, 7.157789153017271, 7.21792303040326, 33.4629347235375, 19.864182854287957, 16.514924112707025, 18.02730401260969, 14.878667099690864, 22.30515859855841, 24.15198980648064, 9.66933147069952, 9.569522267369553, 21.735622791518605, 17.190097092827564, 13.34820956975822, 16.067570485759703, 22.297776481035402, 11.803983283803618, 17.39480635032158, 10.826116812320343, 17.27844208902795, 15.627406585283516, 12.811311438860342, 17.087607928296997, 10.983781197735363, 2.2086157530183668, 2.16754410509229, 1.9259857906806876, 1.4102782059539247, 1.4102782059539245, 1.2758435281615417, 1.1960177557496465, 1.1410291985056944, 1.188300255538934, 1.1325369400681975, 1.1052761222682141, 1.125924691952888, 1.1753209976388708, 1.0364402256540712, 1.0183450696139154, 0.9883763295733071, 0.9852217633659074, 0.9939696915034419, 0.9796246743174658, 0.9884949047499766, 0.9811977046474301, 0.991575576950972, 1.0019619438512024, 0.9674389972394193, 0.9497042170389449, 0.9445387410239294, 0.9583770934065768, 0.9382022334027156, 0.934901468846426, 0.9311039167726924, 0.9320497264963236, 0.9317070310550671, 0.9259188036747457, 0.9668928057859869, 0.9478111483217916, 0.9489448039433699, 0.9143861342197167, 0.9139168066993844, 0.9071156850831655, 0.9057826058338156, 0.9365564154033488, 2.145824101668226, 4.007293006213695, 1.671894923734513, 2.117449720891019, 1.2398430475480553, 1.3918108081942775, 1.6046449673020058, 17.087607928296997, 6.133417068230533, 4.755921689217325, 2.04052372896037, 17.27844208902795, 2.5067700866944285, 6.852999433660678, 15.627406585283516, 22.297776481035402, 17.39480635032158, 3.2047658363131686, 1.4129653706776812, 24.15198980648064, 3.197011662640358, 2.4293295922095095, 21.735622791518605, 3.8233834638472235, 10.130170025253644, 22.30515859855841, 2.5848168283430644, 12.811311438860342, 4.394432384397754, 17.190097092827564, 16.067570485759703, 10.983781197735363, 6.652506728919853, 0.8725511461930181, 0.5031017435448899, 0.4720284275240117, 0.44715038818482633, 0.47283615370008764, 0.45258147646872127, 0.48061976954938734, 0.46937889694643264, 0.41894980182832153, 0.4510478658573216, 0.42412292585442957, 0.40357506460203124, 0.41155714983221814, 0.4056606165836908, 0.39288569675702567, 0.39288569675702567, 0.39288569675702567, 0.4333121395489071, 0.3961861267417908, 0.5340111057300565, 0.39106140984374543, 0.38769988503437924, 0.38769988503437924, 0.40690780220624184, 0.3905722477869325, 0.47521303071670795, 0.377916283212654, 0.379359924719601, 0.379359924719601, 0.3843530600376435, 0.38398324983167476, 0.36862659920897944, 0.37225200038199524, 0.36831808447131703, 0.3753021755748967, 0.3691073422337338, 0.3691073422337338, 0.3666514235840307, 0.36571804706317124, 0.36571804706317124, 0.4588737096973909, 0.46154150675564376, 0.4837108188399269, 0.5847031554613981, 0.6223951369420252, 0.7410557616429733, 0.4711779147859446, 0.591807082711769, 0.4655777305004462, 0.8248398524130236, 2.818577813603223, 1.590474240396109, 0.897287579780342, 0.9001288678226763, 0.5100749577646223, 0.4788952673015, 0.49316232430579726, 0.485617911803596, 0.45177612416015456, 0.4423437116484384, 0.42895739430522795, 0.4309320454801893, 0.42131989510035217, 0.408016542533673, 0.43538751636187395, 0.4148576295669524, 0.4030680439001573, 0.40385804163527367, 0.3931887970699287, 0.39281855837372726, 0.38714984998029084, 0.38010132224510396, 0.3905339380055176, 0.3827238348488531, 0.38096284283590226, 0.3797833169969723, 0.3775564385575652, 0.3776070263046631, 0.3896896457149141, 0.36003549039402105, 0.36003549039402105, 0.36003549039402105, 0.361745929107124, 0.39321454205001016, 0.356549234203277, 0.3805725425546727, 0.4624876816775378, 0.46793563773758934, 0.35413853781055804, 0.35413853781055804, 0.3562857662655329, 0.3740995829235373, 0.37409958292354956, 0.5980863556613928, 0.5107003944881114, 0.5125213987427388, 1.671894923734513, 0.43370461120350545, 0.840388108104266, 0.44622861676513625, 1.131385094631045, 0.6901490512652977, 0.4754653168188177, 0.5035560142305264, 7.438180851895928, 1.229331849401272, 0.8509360888326082, 0.9010592904378337, 0.6104336306726099, 0.4786973259637214, 0.4425391619375296, 0.4190462132910999, 0.40841605833240924, 0.4223716925146823, 0.4090467836832408, 0.49699591274081567, 0.4029187292561549, 0.39576409387076295, 0.39576409387076295, 0.40440838076211416, 0.3982146222159758, 0.40502259947531066, 0.39019490833824866, 0.43057407760376576, 0.4511572011179491, 0.387682359870539, 0.3766575565048607, 0.3794413004286219, 0.3794413004286219, 0.38244914103247407, 0.3779451605059436, 0.3855329717002202, 0.7332111666061485, 0.37606019221691306, 0.3791396429966651, 0.5947875384161722, 0.3719302379673336, 0.3696324584248666, 0.3678287784695391, 0.3678287784695391, 0.37476835439894735, 0.36239950322334613, 0.3711468870534637, 0.3711468870534637, 0.438983697697113, 0.3762117774883012, 0.3853294621480459, 0.4043888253983047, 0.5226478484442975, 0.49060944834764525, 0.47909843242079025, 0.518490868749017, 0.5151166299791988, 0.43225434989308925, 0.42748391298403454, 0.688063049418115, 0.6557003652818574, 8.76437951528265, 1.328556694320344, 0.6654021882068185, 0.6364945952801665, 1.0594058110857998], \"loglift\": [40.0, 39.0, 38.0, 37.0, 36.0, 35.0, 34.0, 33.0, 32.0, 31.0, 30.0, 29.0, 28.0, 27.0, 26.0, 25.0, 24.0, 23.0, 22.0, 21.0, 20.0, 19.0, 18.0, 17.0, 16.0, 15.0, 14.0, 13.0, 12.0, 11.0, 10.0, 9.0, 8.0, 7.0, 6.0, 5.0, 4.0, 3.0, 2.0, 1.0, 0.2727, 0.2699, 0.2684, 0.2681, 0.2668, 0.2655, 0.2653, 0.2653, 0.2649, 0.2641, 0.264, 0.2638, 0.2637, 0.2634, 0.2633, 0.2632, 0.2632, 0.263, 0.2629, 0.2625, 0.2624, 0.2622, 0.2619, 0.2613, 0.2612, 0.2607, 0.2606, 0.2606, 0.2598, 0.2597, 0.2597, 0.2595, 0.2595, 0.2594, 0.2593, 0.2593, 0.2591, 0.2591, 0.2588, 0.2588, 0.2509, 0.2434, 0.2452, 0.2397, 0.2333, 0.2132, 0.204, 0.2479, 0.2478, 0.2058, 0.2064, 0.2199, 0.2029, 0.1697, 0.2237, 0.1688, 0.2245, 0.1198, 0.1322, 0.1778, 0.0974, 0.1704, 1.9771, 1.9748, 1.9579, 1.916, 1.916, 1.8808, 1.8742, 1.8735, 1.8732, 1.8719, 1.8713, 1.8655, 1.8583, 1.8537, 1.8456, 1.8445, 1.8444, 1.8437, 1.8434, 1.8428, 1.8408, 1.8399, 1.8394, 1.8393, 1.8343, 1.8329, 1.8316, 1.8314, 1.83, 1.8296, 1.8296, 1.8283, 1.8278, 1.8274, 1.8272, 1.8267, 1.8242, 1.824, 1.8212, 1.8208, 1.8203, 1.7499, 1.5242, 1.6384, 1.5487, 1.7149, 1.6529, 1.5735, 0.2529, 0.7902, 0.9304, 1.3843, 0.1281, 1.2386, 0.6035, 0.0463, -0.2294, -0.2308, 0.9567, 1.5661, -0.6048, 0.9436, 1.1372, -0.6345, 0.759, -0.0366, -0.7434, 1.051, -0.3341, 0.5831, -0.6575, -0.6151, -0.2732, 0.162, 2.8865, 2.5517, 2.4735, 2.4464, 2.4456, 2.4325, 2.4287, 2.4147, 2.3378, 2.328, 2.3148, 2.2861, 2.2805, 2.2732, 2.2715, 2.2715, 2.2715, 2.2664, 2.2654, 2.2647, 2.2509, 2.2493, 2.2493, 2.2394, 2.2387, 2.2207, 2.2051, 2.2047, 2.2047, 2.1958, 2.1892, 2.1629, 2.1613, 2.161, 2.1565, 2.1513, 2.1513, 2.1511, 2.1476, 2.1476, 2.1474, 2.1167, 2.0625, 1.9715, 1.911, 1.7446, 2.0129, 1.859, 1.9857, 1.5153, 0.3468, 0.7935, 1.3516, 2.7742, 2.5477, 2.5254, 2.4954, 2.4731, 2.4338, 2.4124, 2.3852, 2.3803, 2.3394, 2.3349, 2.3335, 2.3222, 2.3128, 2.291, 2.2561, 2.2553, 2.2397, 2.2239, 2.2212, 2.1701, 2.1657, 2.1632, 2.158, 2.1541, 2.132, 2.1153, 2.1153, 2.1153, 2.1137, 2.1123, 2.0907, 2.0839, 2.0811, 2.0778, 2.067, 2.067, 2.0652, 2.0527, 2.0527, 2.0508, 2.0205, 2.014, 1.8271, 2.0074, 1.7784, 1.9954, 1.454, 1.7216, 1.9437, 1.8909, -0.3522, 1.1362, 1.3929, 1.3291, 2.6713, 2.5245, 2.4711, 2.4051, 2.3777, 2.3669, 2.3587, 2.3519, 2.3466, 2.3297, 2.3297, 2.3196, 2.3093, 2.296, 2.2929, 2.2715, 2.2691, 2.2499, 2.2479, 2.2398, 2.2398, 2.239, 2.2233, 2.2193, 2.217, 2.213, 2.212, 2.2089, 2.2082, 2.1828, 2.1814, 2.1814, 2.1799, 2.1746, 2.1702, 2.1702, 2.168, 2.1658, 2.1582, 2.1545, 2.1136, 2.1008, 2.0784, 2.0468, 2.0442, 2.0961, 2.1005, 1.7867, 1.7943, -0.0416, 1.2899, 1.7716, 1.7703, 1.2684], \"logprob\": [40.0, 39.0, 38.0, 37.0, 36.0, 35.0, 34.0, 33.0, 32.0, 31.0, 30.0, 29.0, 28.0, 27.0, 26.0, 25.0, 24.0, 23.0, 22.0, 21.0, 20.0, 19.0, 18.0, 17.0, 16.0, 15.0, 14.0, 13.0, 12.0, 11.0, 10.0, 9.0, 8.0, 7.0, 6.0, 5.0, 4.0, 3.0, 2.0, 1.0, -7.2591, -7.6659, -7.816, -7.846, -7.987, -8.109, -8.1139, -7.3464, -8.137, -8.2094, -8.2173, -8.1914, -7.9274, -8.2399, -8.2647, -8.2717, -8.2558, -8.288, -8.2813, -8.3191, -8.2781, -7.2779, -8.3599, -8.384, -8.3859, -8.4311, -8.4167, -8.4253, -8.475, -8.4893, -8.4895, -8.4981, -8.4925, -8.4936, -8.5094, -8.5067, -8.5184, -8.5167, -8.5311, -8.5227, -6.9967, -7.5258, -7.7086, -7.6265, -7.8249, -7.4401, -7.3697, -8.2412, -8.2517, -7.4733, -7.7073, -7.9468, -7.7784, -7.4839, -8.066, -7.7332, -8.1516, -7.7888, -7.8768, -8.0299, -7.8223, -8.1913, -7.9886, -8.0097, -8.1447, -8.4983, -8.4983, -8.6336, -8.7049, -8.7527, -8.7123, -8.7617, -8.7867, -8.774, -8.7382, -8.8686, -8.8943, -8.9253, -8.9286, -8.9205, -8.9353, -8.9269, -8.9363, -8.9267, -8.9168, -8.9519, -8.9754, -8.9823, -8.969, -8.9905, -8.9954, -8.9999, -8.9989, -9.0005, -9.0073, -8.9643, -8.9844, -8.9838, -9.0234, -9.0241, -9.0344, -9.0362, -9.0034, -8.2446, -7.8458, -8.6057, -8.4591, -8.8282, -8.7746, -8.7117, -7.6668, -8.1541, -8.2683, -8.6606, -7.7805, -8.6005, -8.2299, -7.9628, -7.883, -8.1327, -8.6367, -8.8463, -8.1785, -8.6522, -8.7333, -8.3136, -8.658, -8.4792, -8.3967, -8.7575, -8.5419, -8.6947, -8.5712, -8.5964, -8.6349, -8.7011, -8.008, -8.8934, -9.0353, -9.1165, -9.0615, -9.1184, -9.0621, -9.0998, -9.2903, -9.2263, -9.301, -9.3794, -9.3654, -9.3871, -9.4209, -9.4209, -9.4209, -9.328, -9.4186, -9.1207, -9.4461, -9.4563, -9.4563, -9.4179, -9.4596, -9.2814, -9.5261, -9.5226, -9.5226, -9.5185, -9.5261, -9.5932, -9.585, -9.5959, -9.5817, -9.6035, -9.6035, -9.6103, -9.6164, -9.6164, -9.3897, -9.4145, -9.4218, -9.3232, -9.3212, -9.3131, -9.4977, -9.4237, -9.5369, -9.4354, -9.375, -9.5006, -9.5149, -8.0891, -8.8835, -8.969, -8.9696, -9.0073, -9.1188, -9.1614, -9.2193, -9.2196, -9.283, -9.3196, -9.2561, -9.3157, -9.354, -9.3737, -9.4355, -9.4372, -9.4673, -9.5015, -9.4771, -9.5484, -9.5574, -9.563, -9.5741, -9.5779, -9.5685, -9.6643, -9.6643, -9.6643, -9.6612, -9.5792, -9.6986, -9.6402, -9.4481, -9.4398, -9.7292, -9.7292, -9.7249, -9.6886, -9.6886, -9.2213, -9.4095, -9.4125, -8.417, -9.5861, -9.1536, -9.5696, -9.1807, -9.4074, -9.5578, -9.5533, -9.1037, -9.4155, -9.5266, -9.5331, -8.5804, -8.9703, -9.1022, -9.2228, -9.2759, -9.253, -9.2934, -9.1053, -9.3205, -9.3553, -9.3553, -9.3438, -9.3696, -9.3659, -9.4063, -9.3293, -9.2849, -9.4558, -9.4866, -9.4873, -9.4873, -9.4802, -9.5078, -9.4919, -8.8514, -9.5231, -9.516, -9.0687, -9.539, -9.5705, -9.5769, -9.5769, -9.5596, -9.5985, -9.5791, -9.5791, -9.4134, -9.5699, -9.5535, -9.509, -9.2933, -9.3694, -9.4155, -9.3681, -9.3772, -9.5008, -9.5074, -9.3453, -9.3858, -8.629, -9.1841, -9.3938, -9.4395, -9.432]}, \"token.table\": {\"Topic\": [1, 1, 2, 2, 1, 1, 2, 1, 1, 2, 2, 1, 1, 1, 1, 2, 1, 4, 1, 2, 1, 1, 2, 1, 2, 2, 1, 2, 2, 1, 2, 2, 2, 1, 2, 1, 1, 2, 2, 1, 2, 1, 2, 1, 1, 1, 1, 2, 1, 2, 2, 2, 1, 1, 2, 1, 1, 3, 1, 2, 2, 1, 1, 2, 1, 1, 2, 1, 1, 2, 2, 2, 2, 1, 2, 1, 2, 1, 1, 2, 1, 2, 1, 2, 2, 2, 1, 2, 1, 2, 1, 2, 2, 1, 2, 2, 1, 1, 2, 1, 1, 1, 2, 1, 1, 1, 2, 1, 1, 1, 2, 1, 1, 2, 1, 2, 1, 2, 1, 2, 1, 2, 1, 1, 2, 1, 2, 2, 2, 1, 1, 1, 2, 1, 1, 1, 2, 1, 2, 2, 2, 1, 1, 2, 1, 2, 1, 1, 1, 2, 1, 2, 1, 1, 1, 1, 2, 2, 2, 1, 2, 2, 1, 2, 1, 2, 2, 2, 1, 1, 1, 2, 1, 1, 1, 2, 2, 2, 2, 1, 2, 1, 2], \"Freq\": [0.9547830306249515, 0.6287432858711054, 1.0941914982519094, 1.0116390030891798, 1.1751763888306714, 0.8892804786157675, 0.22232011965394188, 0.8134500057791844, 0.9986726710433118, 1.0084959969213165, 1.073993978530462, 1.0643665700911944, 0.9127856668062144, 0.9439253490360658, 1.1144699007700543, 1.0587178233853571, 0.9902104467078036, 1.1109520378108773, 0.7737492181533238, 0.3868746090766619, 0.883872347925981, 0.49909003332144836, 0.49909003332144836, 0.46602142236289124, 0.9320428447257825, 1.0529594183733024, 0.8681338237968345, 0.1157511765062446, 1.1040176677707922, 0.6240705568369522, 0.3120352784184761, 0.876401761944052, 0.5981237132811548, 0.9430139963307262, 0.05547141154886625, 0.9404858203516044, 0.9808604870310532, 0.7077314283508475, 1.0538020713580691, 0.9236922317907926, 1.0207991144125992, 0.9409445016947036, 0.06721032154962168, 0.9997560099277805, 1.0132737034330084, 0.9926062493791259, 0.9307684484618692, 0.05817302802886683, 0.9979548675283999, 0.8508313916018883, 0.7090799501674148, 0.7090799501674149, 0.942506472521242, 0.7296075314760594, 0.2918430125904238, 0.9410903202515922, 0.9951237295805861, 1.1460646225302062, 0.6307925563201832, 0.4205283708801221, 1.043430615025943, 0.9891470918704937, 0.9318888154554766, 0.08471716504140696, 0.9688206794537537, 0.9389297606937741, 1.0149999088363661, 0.9642743717159766, 0.49007026275038307, 0.49007026275038307, 0.841538151101774, 0.9055445689304418, 0.9227032544811096, 0.9201484674183867, 0.046007423370919336, 0.9108980326787318, 0.08280891206170289, 0.7526965196705999, 0.652165009407062, 0.326082504703531, 0.8193071879192679, 0.17556582598270026, 0.8758533842032724, 0.2189633460508181, 0.783795173880746, 1.0550625003415657, 0.9861657464486557, 0.029883810498444113, 0.8373374162725162, 0.2791124720908387, 0.9335574418854509, 0.062237162792363396, 1.0336569053485474, 0.9198147813645655, 0.11497684767057069, 1.0800083074576778, 0.9779556019821068, 1.0073114510819892, 1.093629881924381, 0.9446702481308856, 0.9478033085362375, 0.6255842052037539, 0.31279210260187695, 0.9676937707575326, 0.9590170932939625, 0.9698080695117797, 0.9648409770750892, 0.9798731123051533, 1.0192010187540452, 0.8969504209090222, 0.08969504209090222, 1.2123565526987512, 1.0182150490439372, 1.102395225266465, 0.9739133875641924, 0.0749164144280148, 1.011060022186086, 1.0117603690809864, 0.4722662314641416, 0.4722662314641416, 0.41163619922420075, 0.41163619922420075, 1.1899264046653206, 0.9440548371949301, 0.9047512923266906, 0.91043328522074, 0.09104332852207399, 1.07329875880361, 1.0677413378982918, 0.9271184968967879, 0.9834001762447778, 0.936672256955724, 0.078056021412977, 0.967217128812666, 1.1098048825556086, 0.6231908119098551, 0.6231908119098551, 0.3989197115873748, 0.3989197115873748, 1.0658682791375942, 0.8881588681260069, 0.9387590701661448, 0.9414862444133097, 0.0448326783053957, 0.9255614210645261, 1.0729041290094135, 1.0008063948944612, 0.930777895790649, 0.888435236285647, 0.09871502625396078, 1.0209727486745754, 1.0191625961450104, 0.9415718124429275, 0.9744542086023718, 0.9659437504680862, 0.9564954239181598, 0.05034186441674525, 1.0342408114073207, 1.0060668937374104, 0.9574776380802391, 0.7184884569889142, 0.8065537020815862, 0.8958620180256869, 0.12798028828938385, 0.6342619351617932, 0.3171309675808966, 1.0696314353146743, 0.9819854093064245, 1.0143857263737166, 0.9468672715490589, 0.9689326105578584, 0.9980418978352996, 0.9659170668182556, 1.0260941104481711, 0.6826820252488974, 0.22756067508296582, 0.8361079885249818, 1.0384292603182468, 0.8829734065361112, 0.7846453353076163, 0.2615484451025388, 0.9019156604407075, 0.1503192767401179], \"Term\": [\"10 minutes\", \"air conditioning\", \"bag beans\", \"best donuts\", \"best gelato\", \"best pizza\", \"best pizza\", \"best prices\", \"best ve\", \"better starbucks\", \"body parts\", \"car wash\", \"carne asada\", \"cheap delicious\", \"check website\", \"chips cookies\", \"chips salsa\", \"clean friendly\", \"clean staff\", \"clean staff\", \"closed doors\", \"coffee shop\", \"coffee shop\", \"coffee shops\", \"coffee shops\", \"coffee shops area\", \"customer service\", \"customer service\", \"dessert wasn\", \"dive bar\", \"dive bar\", \"dog food\", \"dog park\", \"don know\", \"don know\", \"don like\", \"don think\", \"dunkin donuts\", \"fantastic pizza\", \"fast food\", \"favorite chocolate\", \"feel like\", \"feel like\", \"food delicious\", \"food excellent\", \"food good\", \"food great\", \"food great\", \"food service\", \"free pizza\", \"free wi\", \"free wi fi\", \"fried rice\", \"friendly helpful\", \"friendly helpful\", \"friendly service\", \"friendly staff\", \"fro yo\", \"gluten free\", \"gluten free\", \"gluten free pizza\", \"good food\", \"good place\", \"good place\", \"good service\", \"good thing\", \"got way\", \"great atmosphere\", \"great breakfast\", \"great breakfast\", \"great coffee\", \"great customer\", \"great customer service\", \"great food\", \"great food\", \"great place\", \"great place\", \"great sandwich\", \"great selection\", \"great selection\", \"great service\", \"great service\", \"grocery store\", \"grocery store\", \"guys working\", \"happen employee\", \"happy hour\", \"happy hour\", \"high end\", \"high end\", \"highly recommend\", \"highly recommend\", \"holy shit\", \"ice cream\", \"ice cream\", \"independent coffee\", \"just don\", \"just good\", \"just moved scottsdale\", \"just ok\", \"just right\", \"just wish\", \"just wish\", \"like place\", \"little bit\", \"little pricey\", \"local bar\", \"looks like\", \"love love\", \"love place\", \"love place\", \"love wings\", \"mac cheese\", \"make need\", \"make sure\", \"make sure\", \"mexican food\", \"moved scottsdale\", \"need say\", \"need say\", \"nice helpful\", \"nice helpful\", \"nom nom\", \"old town\", \"open 24\", \"parking lot\", \"parking lot\", \"perfect price\", \"pizza fix\", \"place awesome\", \"place good\", \"place great\", \"place great\", \"place like\", \"place live\", \"place pizza\", \"place pizza\", \"pool tables\", \"pool tables\", \"pool watch\", \"post office\", \"potato fries\", \"pretty good\", \"pretty good\", \"quality food\", \"rated place\", \"really good\", \"really like\", \"really nice\", \"really nice\", \"recommend place\", \"said guys\", \"saturday night\", \"service food\", \"service good\", \"service great\", \"service great\", \"service product\", \"shoot pool\", \"spring rolls\", \"staff did\", \"staff extremely\", \"staff friendly\", \"staff friendly\", \"staff helpful\", \"staff helpful\", \"star average\", \"stay hotel\", \"sweet potato\", \"sweet potato fries\", \"tasted like\", \"variety flavors\", \"ve eaten\", \"wait staff\", \"walking distance\", \"walking distance\", \"watch football\", \"wi fi\", \"wide selection\", \"worth drive\", \"worth drive\", \"year old\", \"year old\"]}, \"R\": 40, \"lambda.step\": 0.01, \"plot.opts\": {\"xlab\": \"PC1\", \"ylab\": \"PC2\"}, \"topic.order\": [1, 4, 2, 5, 3]};\n",
       "\n",
       "function LDAvis_load_lib(url, callback){\n",
       "  var s = document.createElement('script');\n",
       "  s.src = url;\n",
       "  s.async = true;\n",
       "  s.onreadystatechange = s.onload = callback;\n",
       "  s.onerror = function(){console.warn(\"failed to load library \" + url);};\n",
       "  document.getElementsByTagName(\"head\")[0].appendChild(s);\n",
       "}\n",
       "\n",
       "if(typeof(LDAvis) !== \"undefined\"){\n",
       "   // already loaded: just create the visualization\n",
       "   !function(LDAvis){\n",
       "       new LDAvis(\"#\" + \"ldavis_el1304426013274823124831535856\", ldavis_el1304426013274823124831535856_data);\n",
       "   }(LDAvis);\n",
       "}else if(typeof define === \"function\" && define.amd){\n",
       "   // require.js is available: use it to load d3/LDAvis\n",
       "   require.config({paths: {d3: \"https://cdnjs.cloudflare.com/ajax/libs/d3/3.5.5/d3.min\"}});\n",
       "   require([\"d3\"], function(d3){\n",
       "      window.d3 = d3;\n",
       "      LDAvis_load_lib(\"https://cdn.rawgit.com/bmabey/pyLDAvis/files/ldavis.v1.0.0.js\", function(){\n",
       "        new LDAvis(\"#\" + \"ldavis_el1304426013274823124831535856\", ldavis_el1304426013274823124831535856_data);\n",
       "      });\n",
       "    });\n",
       "}else{\n",
       "    // require.js not available: dynamically load d3 & LDAvis\n",
       "    LDAvis_load_lib(\"https://cdnjs.cloudflare.com/ajax/libs/d3/3.5.5/d3.min.js\", function(){\n",
       "         LDAvis_load_lib(\"https://cdn.rawgit.com/bmabey/pyLDAvis/files/ldavis.v1.0.0.js\", function(){\n",
       "                 new LDAvis(\"#\" + \"ldavis_el1304426013274823124831535856\", ldavis_el1304426013274823124831535856_data);\n",
       "            })\n",
       "         });\n",
       "}\n",
       "</script>"
      ],
      "text/plain": [
       "PreparedData(topic_coordinates=                          x                     y  topics  cluster  \\\n",
       "topic                                                                \n",
       "0     0.056262964772856784  0.004151116460628491   1       1         \n",
       "3     -0.044780706976294986 0.006142116844459544   2       1         \n",
       "1     -0.004048200798203222 -0.006523195442817862  3       1         \n",
       "4     -0.003999550121348082 -0.003785178376995962  4       1         \n",
       "2     -0.003434506877010463 0.000015140514725817   5       1         \n",
       "\n",
       "                       Freq  \n",
       "topic                        \n",
       "0     75.724637895239865770  \n",
       "3     12.488497822427159889  \n",
       "1     4.008949310540467437   \n",
       "4     3.981388038295106124   \n",
       "2     3.796526933497388345   , topic_info=      Category                  Freq              Term                 Total  \\\n",
       "26571  Default 17.000000000000000000  great service    17.000000000000000000   \n",
       "12699  Default 17.000000000000000000  customer service 17.000000000000000000   \n",
       "8135   Default 8.000000000000000000   carne asada      8.000000000000000000    \n",
       "10542  Default 4.000000000000000000   coffee shop      4.000000000000000000    \n",
       "58562  Default 15.000000000000000000  staff friendly   15.000000000000000000   \n",
       "...        ...                   ...             ...                     ...   \n",
       "8135   Topic5  0.319180854202568920   carne asada      8.764379515282650246    \n",
       "26544  Topic5  0.183214415915440298   great sandwich   1.328556694320343956    \n",
       "11169  Topic5  0.148549352354142905   complaints place 0.665402188206818512    \n",
       "53633  Topic5  0.141914791088948083   sandwiches huge  0.636494595280166497    \n",
       "8652   Topic5  0.142984401738642269   cheap delicious  1.059405811085799787    \n",
       "\n",
       "                    loglift               logprob  \n",
       "26571 40.000000000000000000 40.000000000000000000  \n",
       "12699 39.000000000000000000 39.000000000000000000  \n",
       "8135  38.000000000000000000 38.000000000000000000  \n",
       "10542 37.000000000000000000 37.000000000000000000  \n",
       "58562 36.000000000000000000 36.000000000000000000  \n",
       "...                     ...                   ...  \n",
       "8135  -0.041599999999999998 -8.628999999999999559  \n",
       "26544 1.289900000000000047  -9.184100000000000819  \n",
       "11169 1.771600000000000064  -9.393800000000000594  \n",
       "53633 1.770299999999999985  -9.439500000000000668  \n",
       "8652  1.268399999999999972  -9.432000000000000384  \n",
       "\n",
       "[338 rows x 6 columns], token_table=       Topic                 Freq              Term\n",
       "term                                               \n",
       "97     1     0.954783030624951512  10 minutes      \n",
       "1278   1     0.628743285871105395  air conditioning\n",
       "3493   2     1.094191498251909422  bag beans       \n",
       "4839   2     1.011639003089179756  best donuts     \n",
       "4872   1     1.175176388830671437  best gelato     \n",
       "...   ..                      ...          ...     \n",
       "69280  2     0.882973406536111227  wide selection  \n",
       "70161  1     0.784645335307616265  worth drive     \n",
       "70161  2     0.261548445102538774  worth drive     \n",
       "70507  1     0.901915660440707478  year old        \n",
       "70507  2     0.150319276740117913  year old        \n",
       "\n",
       "[183 rows x 3 columns], R=40, lambda_step=0.01, plot_opts={'xlab': 'PC1', 'ylab': 'PC2'}, topic_order=[1, 4, 2, 5, 3])"
      ]
     },
     "execution_count": 98,
     "metadata": {},
     "output_type": "execute_result"
    }
   ],
   "source": [
    "pyLDAvis.enable_notebook()\n",
    "#pyLDAvis.save_html(dash, \"lda\")\n",
    "dash = pyLDAvis.sklearn.prepare(lda, tfidfvect, tfidf, R=30, mds='pcoa') #tsne, pcoa #R = number of terms to visualize\n",
    "dash"
   ]
  },
  {
   "cell_type": "code",
   "execution_count": 102,
   "metadata": {},
   "outputs": [],
   "source": [
    "# Latent Dirichlet Allocation Model\n",
    "lda2 = LatentDirichletAllocation(n_components=2, max_iter=150, learning_method='online',verbose=False)\n",
    "data_lda2 = lda2.fit_transform(tfidfvect)"
   ]
  },
  {
   "cell_type": "code",
   "execution_count": 103,
   "metadata": {},
   "outputs": [
    {
     "name": "stdout",
     "output_type": "stream",
     "text": [
      "Latent Dirichlet Allocation Model:\n",
      "Topic 0:\n",
      "[('really good', 35.818323672407956), ('great food', 33.605405303283554), ('great service', 29.980590524611074), ('ice cream', 29.672045039509406), ('pretty good', 29.095964110870316), ('food great', 28.1398083815067), ('service great', 27.58786387888918), ('love place', 26.19566598841481), ('good food', 24.78894953571095), ('food good', 23.809342014108996), ('customer service', 20.892158708348088), ('don know', 20.33276429279908), ('food service', 20.290008045984465), ('mexican food', 19.990786768345515), ('service good', 18.85177882249457)]\n",
      "Topic 1:\n",
      "[('happy hour', 36.45369383688627), ('great place', 22.586902325596032), ('friendly staff', 18.45247635634069), ('staff friendly', 17.310284469966206), ('love love', 16.050404495756325), ('food good', 15.471800565327129), ('highly recommend', 13.349269385859655), ('love place', 12.588923871850065), ('friendly helpful', 12.451748126044398), ('feel like', 12.032945515358755), ('parking lot', 12.002265682965572), ('good food', 11.812520974550374), ('great time', 11.416138700337147), ('carne asada', 10.952869681478573), ('customer service', 10.617944274892894)]\n"
     ]
    }
   ],
   "source": [
    "# Keywords for topics clustered by Latent Dirichlet Allocation\n",
    "print(\"Latent Dirichlet Allocation Model:\")\n",
    "selected_topics(lda2, tfidf)"
   ]
  },
  {
   "cell_type": "code",
   "execution_count": 104,
   "metadata": {},
   "outputs": [
    {
     "name": "stderr",
     "output_type": "stream",
     "text": [
      "C:\\ProgramData\\Anaconda3\\lib\\site-packages\\pyLDAvis\\_prepare.py:257: FutureWarning:\n",
      "\n",
      "Sorting because non-concatenation axis is not aligned. A future version\n",
      "of pandas will change to not sort by default.\n",
      "\n",
      "To accept the future behavior, pass 'sort=False'.\n",
      "\n",
      "To retain the current behavior and silence the warning, pass 'sort=True'.\n",
      "\n",
      "\n"
     ]
    },
    {
     "data": {
      "text/html": [
       "\n",
       "<link rel=\"stylesheet\" type=\"text/css\" href=\"https://cdn.rawgit.com/bmabey/pyLDAvis/files/ldavis.v1.0.0.css\">\n",
       "\n",
       "\n",
       "<div id=\"ldavis_el130442601343792840751031710\"></div>\n",
       "<script type=\"text/javascript\">\n",
       "\n",
       "var ldavis_el130442601343792840751031710_data = {\"mdsDat\": {\"x\": [0.02208666845859564, -0.02208666845859564], \"y\": [0.0, 0.0], \"topics\": [1, 2], \"cluster\": [1, 1], \"Freq\": [66.15692109326278, 33.84307890673721]}, \"tinfo\": {\"Category\": [\"Default\", \"Default\", \"Default\", \"Default\", \"Default\", \"Default\", \"Default\", \"Default\", \"Default\", \"Default\", \"Default\", \"Default\", \"Default\", \"Default\", \"Default\", \"Default\", \"Default\", \"Default\", \"Default\", \"Default\", \"Default\", \"Default\", \"Default\", \"Default\", \"Default\", \"Default\", \"Default\", \"Default\", \"Default\", \"Default\", \"Default\", \"Default\", \"Default\", \"Default\", \"Default\", \"Default\", \"Default\", \"Default\", \"Default\", \"Default\", \"Topic1\", \"Topic1\", \"Topic1\", \"Topic1\", \"Topic1\", \"Topic1\", \"Topic1\", \"Topic1\", \"Topic1\", \"Topic1\", \"Topic1\", \"Topic1\", \"Topic1\", \"Topic1\", \"Topic1\", \"Topic1\", \"Topic1\", \"Topic1\", \"Topic1\", \"Topic1\", \"Topic1\", \"Topic1\", \"Topic1\", \"Topic1\", \"Topic1\", \"Topic1\", \"Topic1\", \"Topic1\", \"Topic1\", \"Topic1\", \"Topic1\", \"Topic1\", \"Topic1\", \"Topic1\", \"Topic1\", \"Topic1\", \"Topic1\", \"Topic1\", \"Topic1\", \"Topic1\", \"Topic1\", \"Topic1\", \"Topic1\", \"Topic1\", \"Topic1\", \"Topic1\", \"Topic1\", \"Topic1\", \"Topic1\", \"Topic1\", \"Topic1\", \"Topic1\", \"Topic1\", \"Topic1\", \"Topic1\", \"Topic1\", \"Topic1\", \"Topic1\", \"Topic1\", \"Topic1\", \"Topic1\", \"Topic1\", \"Topic1\", \"Topic1\", \"Topic1\", \"Topic1\", \"Topic1\", \"Topic1\", \"Topic1\", \"Topic1\", \"Topic1\", \"Topic1\", \"Topic1\", \"Topic1\", \"Topic1\", \"Topic1\", \"Topic2\", \"Topic2\", \"Topic2\", \"Topic2\", \"Topic2\", \"Topic2\", \"Topic2\", \"Topic2\", \"Topic2\", \"Topic2\", \"Topic2\", \"Topic2\", \"Topic2\", \"Topic2\", \"Topic2\", \"Topic2\", \"Topic2\", \"Topic2\", \"Topic2\", \"Topic2\", \"Topic2\", \"Topic2\", \"Topic2\", \"Topic2\", \"Topic2\", \"Topic2\", \"Topic2\", \"Topic2\", \"Topic2\", \"Topic2\", \"Topic2\", \"Topic2\", \"Topic2\", \"Topic2\", \"Topic2\", \"Topic2\", \"Topic2\", \"Topic2\", \"Topic2\", \"Topic2\", \"Topic2\", \"Topic2\", \"Topic2\", \"Topic2\", \"Topic2\", \"Topic2\", \"Topic2\", \"Topic2\", \"Topic2\", \"Topic2\", \"Topic2\", \"Topic2\", \"Topic2\", \"Topic2\", \"Topic2\", \"Topic2\", \"Topic2\", \"Topic2\", \"Topic2\", \"Topic2\", \"Topic2\", \"Topic2\", \"Topic2\", \"Topic2\", \"Topic2\", \"Topic2\", \"Topic2\", \"Topic2\", \"Topic2\", \"Topic2\", \"Topic2\", \"Topic2\", \"Topic2\", \"Topic2\", \"Topic2\", \"Topic2\", \"Topic2\", \"Topic2\", \"Topic2\", \"Topic2\", \"Topic2\"], \"Freq\": [19.0, 5.0, 7.0, 13.0, 13.0, 4.0, 4.0, 14.0, 15.0, 9.0, 10.0, 16.0, 4.0, 17.0, 2.0, 2.0, 2.0, 2.0, 2.0, 2.0, 3.0, 5.0, 7.0, 7.0, 7.0, 7.0, 2.0, 3.0, 2.0, 5.0, 4.0, 2.0, 2.0, 4.0, 3.0, 1.0, 1.0, 3.0, 2.0, 1.0, 13.679922490558315, 12.973504085936762, 9.354452550617363, 7.029149451674939, 6.96072759622371, 7.654424873187252, 5.303165120599686, 5.214177722042558, 5.847421012639675, 5.301357158469172, 5.255897542703926, 4.614549898614154, 4.490022057593896, 4.589560074860689, 5.117902569383911, 4.411142980489925, 4.425547635228405, 13.822173498717083, 4.696847146697405, 3.955711660315141, 3.930407791245801, 3.9048538512974744, 4.377271569146662, 4.457766006627475, 3.737956057196089, 4.126410246981925, 6.719944776160253, 3.748503333855214, 3.561072393922269, 3.9262924602682774, 3.515761474724632, 3.505011654710033, 3.982090416291194, 3.552512020810181, 4.618150723583918, 3.2984855868615974, 3.417564856233723, 3.241527147289454, 3.735874275602229, 3.8685146774362815, 15.493348678885576, 16.513586809666435, 5.209230911316289, 5.75029876054293, 5.0032864162583275, 12.719037027638503, 7.915725358852868, 4.813201707145485, 5.343326654996303, 5.369896723553347, 6.725176891659921, 13.414327637167586, 4.782820061448418, 8.691375089161646, 6.01204878895977, 5.332040423788004, 9.216500350822026, 12.07718173226372, 11.428632836710408, 9.374164779472245, 5.964496275843607, 9.632066526256871, 10.976997132166321, 7.027652617298196, 7.594109919052971, 4.88416118982157, 5.988299454570268, 6.639174148170112, 5.392800015378095, 8.303514085016053, 7.805324588762828, 6.36905253064441, 5.436247617358275, 5.697159922413001, 5.351474426194477, 5.321494051374357, 5.052214107710558, 2.176374453700124, 2.4094482014354313, 2.1371885385543536, 2.317835521474613, 2.357146966025984, 1.8822184608705985, 1.7946865522606785, 1.6293845612041618, 1.7340108311394824, 1.5880467679459218, 1.6305655827486616, 1.5999599758496412, 3.9194587005388515, 1.4220610361395976, 1.764480124964237, 1.5779911037818102, 1.5158545645469834, 1.3812972928317566, 2.4074198447673734, 1.499773679880365, 1.554305397309921, 1.1748733088375007, 1.6956218173517854, 1.1920340203717903, 1.0568370275005796, 1.3038266712683517, 1.417956131236118, 1.2801639081229692, 1.5393542277289864, 1.5393542277289813, 1.234460109061971, 1.6795052578259069, 1.2744156121415238, 1.272569699633186, 1.1748839744951238, 1.2684218986705666, 0.9695306746056808, 0.9694288943261167, 1.6562262166501858, 3.5934780966220115, 5.808318500281321, 2.490792884931139, 1.735283020141451, 3.2498562562137963, 11.474593449004523, 1.496033154535164, 1.4072576689707093, 1.4043397466043825, 2.5275927575282595, 5.448788747396936, 3.447654091167112, 7.109719048453143, 2.283639125358658, 3.777974319837326, 2.655528117155245, 2.569748936316014, 3.091015982947138, 2.419413487020731, 4.201973049134096, 2.1777391104314012, 3.787631464744796, 4.8700859288933795, 2.687139002369036, 2.1837813321568045, 2.4937724498997036, 2.4297280397952945, 2.3959639366471497, 3.962637751781974, 2.027338825747717, 3.7182480435947465, 3.2159906886458107, 2.3804445938966077, 3.342229030718931, 2.6913013093221823, 2.543897814403282, 2.8148857266294707, 2.4729723747272416, 2.540713273167163, 2.2180029129251855, 2.1979207740474704], \"Term\": [\"happy hour\", \"love love\", \"friendly staff\", \"ice cream\", \"food great\", \"friendly helpful\", \"great time\", \"great service\", \"great place\", \"food service\", \"staff friendly\", \"great food\", \"great selection\", \"really good\", \"great happy\", \"great happy hour\", \"love love love\", \"fun place\", \"dog park\", \"dive bar\", \"people watching\", \"carne asada\", \"sweet potato\", \"chinese food\", \"parking lot\", \"mac cheese\", \"coffee shops\", \"coffee shop\", \"pool tables\", \"old town\", \"live music\", \"blah blah\", \"good coffee\", \"little pricey\", \"awesome food\", \"know say\", \"car wash\", \"great job\", \"kids love\", \"food little pricey\", \"ice cream\", \"food great\", \"food service\", \"chinese food\", \"mac cheese\", \"sweet potato\", \"fried rice\", \"spring rolls\", \"tasted like\", \"potato fries\", \"sweet potato fries\", \"gluten free\", \"pad thai\", \"iced tea\", \"ve eaten\", \"great food great\", \"food pretty\", \"great service\", \"pulled pork\", \"salad bar\", \"best pizza\", \"thai food\", \"didn like\", \"love food\", \"goat cheese\", \"chicken salad\", \"don like\", \"try place\", \"mashed potatoes\", \"pei wei\", \"grilled cheese\", \"olive oil\", \"decided try\", \"good pizza\", \"cream cheese\", \"pizza good\", \"fried chicken\", \"food great service\", \"just okay\", \"red velvet\", \"great food\", \"really good\", \"quality food\", \"just ok\", \"ve tried\", \"service great\", \"don think\", \"food really\", \"food just\", \"best ve\", \"just right\", \"pretty good\", \"french toast\", \"service good\", \"like place\", \"just like\", \"mexican food\", \"love place\", \"good food\", \"don know\", \"really like\", \"customer service\", \"food good\", \"make sure\", \"good service\", \"10 minutes\", \"fast food\", \"place great\", \"chips salsa\", \"great place\", \"happy hour\", \"highly recommend\", \"wait staff\", \"feel like\", \"little bit\", \"good place\", \"love love\", \"dog park\", \"great happy\", \"dive bar\", \"great happy hour\", \"love love love\", \"coffee shops\", \"pool tables\", \"know say\", \"blah blah\", \"don know say\", \"car wash\", \"food little pricey\", \"friendly helpful\", \"food delicious service\", \"good coffee\", \"delicious loved\", \"place grab\", \"went finally\", \"fun place\", \"clean friendly\", \"fashion square\", \"staff did\", \"kids love\", \"guys working\", \"service fees\", \"helpful staff\", \"dance floor\", \"movie theater\", \"happy hour specials\", \"hour specials\", \"neighborhood bar\", \"free wifi\", \"great deals\", \"staff friendly helpful\", \"love love place\", \"patio seating\", \"local bar\", \"friends brought\", \"clean staff\", \"great time\", \"friendly staff\", \"people watching\", \"great beer\", \"great selection\", \"happy hour\", \"people watch\", \"love store\", \"early morning\", \"coffee shop\", \"staff friendly\", \"carne asada\", \"great place\", \"awesome food\", \"parking lot\", \"live music\", \"little pricey\", \"old town\", \"great job\", \"highly recommend\", \"good prices\", \"feel like\", \"food good\", \"ve seen\", \"spring training\", \"super friendly\", \"definitely recommend\", \"year old\", \"love place\", \"walking distance\", \"good food\", \"good service\", \"friendly service\", \"customer service\", \"really nice\", \"good place\", \"don know\", \"place great\", \"pretty good\", \"good time\", \"make sure\"], \"Total\": [19.0, 5.0, 7.0, 13.0, 13.0, 4.0, 4.0, 14.0, 15.0, 9.0, 10.0, 16.0, 4.0, 17.0, 2.0, 2.0, 2.0, 2.0, 2.0, 2.0, 3.0, 5.0, 7.0, 7.0, 7.0, 7.0, 2.0, 3.0, 2.0, 5.0, 4.0, 2.0, 2.0, 4.0, 3.0, 1.0, 1.0, 3.0, 2.0, 1.0, 13.895760656611014, 13.21992655445187, 9.551169042638476, 7.192657040668417, 7.143468552737797, 7.8580369164055455, 5.463462290782518, 5.375452177665987, 6.035120992646432, 5.473643762232428, 5.428348082719303, 4.78214592475441, 4.656171415012662, 4.763176852796384, 5.314213016028898, 4.581086909839589, 4.599600086607122, 14.380778259773635, 4.88985705005609, 4.119678194482435, 4.098349803516269, 4.07567450214014, 4.568857458257964, 4.65575223075339, 3.904561602386087, 4.316370321443319, 7.031473856760787, 3.922760243323168, 3.7275123771754473, 4.110475898738699, 3.681985448082715, 3.67189259131933, 4.17428491615973, 3.725672960152909, 4.843444274516657, 3.4612978763465456, 3.5894533129673056, 3.405518934493906, 3.9252520741397525, 4.0659491976215, 16.405365885704022, 17.659116930509825, 5.496325793551362, 6.105602696755549, 5.302765013199796, 14.138324802486704, 8.613681504676835, 5.113571728085658, 5.718575595003228, 5.764812427736366, 7.424534249195322, 15.955040910334748, 5.108038662458142, 9.955846854091048, 6.5909312171337735, 5.781854425289841, 11.24051638587058, 16.039819484045694, 15.146880880305154, 12.189050506101715, 6.841739974004967, 12.974295556975802, 15.8470830610597, 9.225573391345666, 10.810100607698782, 5.281405625572849, 7.567979487871307, 9.112146522897355, 6.291999616042535, 15.413233133469195, 19.279918037767352, 10.571025579778507, 6.623424977045536, 9.484791387157797, 6.4239377149023085, 7.865391865777639, 5.569482390044174, 2.4160758536739517, 2.6759728676281394, 2.3788837753356247, 2.5865867180052917, 2.6709053704770493, 2.1672712323967773, 2.074427266133757, 1.8843552970051274, 2.010149999398781, 1.8442499456624992, 1.8943668313103368, 1.8588473533691416, 4.575396871033569, 1.6717056031553397, 2.0798448747305525, 1.8668829523017978, 1.7978881148878323, 1.6394434896496786, 2.873557031056506, 1.7920911107268485, 1.872279175455054, 1.4302676722533203, 2.0662397118018734, 1.4530860190156292, 1.2891927841412372, 1.5914645653347017, 1.7349736052263969, 1.570840594229645, 1.8920091508578654, 1.892009150857867, 1.5187085389904242, 2.070500323975978, 1.5740018683424493, 1.5723134605553717, 1.4532322128413706, 1.5706764616921443, 1.20245119718672, 1.2041945854666385, 2.0618049882940217, 4.562557886017396, 7.543252595898842, 3.1903403558088392, 2.210900069206444, 4.478984908532611, 19.279918037767352, 1.9054165523334368, 1.7735206664827403, 1.7785055452111225, 3.8229812464472133, 10.480970925753358, 5.771923322462808, 15.413233133469195, 3.4191854338327343, 7.129615593477633, 4.347499631714734, 4.1956866696714235, 5.59070180410944, 3.9612590748892673, 10.571025579778507, 3.434016109799191, 9.484791387157797, 15.8470830610597, 5.467492605028668, 3.6549074870891847, 4.821111224528292, 4.6154217073193085, 4.644767823559057, 16.039819484045694, 3.2231787801409464, 15.146880880305154, 10.810100607698782, 4.9597132581717265, 12.974295556975802, 7.1741806156822685, 7.865391865777639, 12.189050506101715, 9.112146522897355, 15.955040910334748, 5.410111228085096, 9.225573391345666], \"loglift\": [40.0, 39.0, 38.0, 37.0, 36.0, 35.0, 34.0, 33.0, 32.0, 31.0, 30.0, 29.0, 28.0, 27.0, 26.0, 25.0, 24.0, 23.0, 22.0, 21.0, 20.0, 19.0, 18.0, 17.0, 16.0, 15.0, 14.0, 13.0, 12.0, 11.0, 10.0, 9.0, 8.0, 7.0, 6.0, 5.0, 4.0, 3.0, 2.0, 1.0, 0.3975, 0.3943, 0.3923, 0.3901, 0.3872, 0.3869, 0.3834, 0.3827, 0.3815, 0.3812, 0.3809, 0.3775, 0.3768, 0.376, 0.3755, 0.3753, 0.3746, 0.3735, 0.3729, 0.3725, 0.3713, 0.3703, 0.3703, 0.3697, 0.3695, 0.3681, 0.3678, 0.3677, 0.3675, 0.3673, 0.3669, 0.3666, 0.366, 0.3655, 0.3655, 0.365, 0.3641, 0.3638, 0.3637, 0.3634, 0.3559, 0.3461, 0.3595, 0.3532, 0.355, 0.3074, 0.3286, 0.3526, 0.3453, 0.3422, 0.3142, 0.2397, 0.3474, 0.2773, 0.3212, 0.3322, 0.2146, 0.1294, 0.1315, 0.1506, 0.2759, 0.1153, 0.046, 0.141, 0.06, 0.3349, 0.179, 0.0965, 0.2589, -0.2054, -0.4911, -0.0935, 0.2156, -0.0966, 0.2305, 0.0224, 0.986, 0.979, 0.9785, 0.9763, 0.9737, 0.9585, 0.9424, 0.9386, 0.9381, 0.9357, 0.9339, 0.9335, 0.9335, 0.9287, 0.9217, 0.919, 0.9153, 0.9128, 0.9121, 0.9064, 0.9054, 0.8973, 0.8867, 0.8858, 0.8854, 0.8847, 0.8841, 0.8817, 0.8788, 0.8772, 0.8772, 0.8762, 0.8741, 0.8723, 0.8719, 0.8708, 0.8697, 0.8681, 0.8666, 0.8644, 0.8447, 0.8221, 0.8359, 0.8412, 0.7626, 0.5645, 0.8416, 0.8521, 0.8472, 0.6697, 0.4293, 0.5681, 0.3097, 0.6798, 0.4484, 0.5905, 0.5932, 0.4908, 0.5904, 0.1609, 0.628, 0.1655, -0.0964, 0.3731, 0.5684, 0.4242, 0.4418, 0.4215, -0.3147, 0.6198, -0.3211, -0.1289, 0.3494, -0.2729, 0.103, -0.0453, -0.3822, -0.2208, -0.7539, 0.1918, -0.351], \"logprob\": [40.0, 39.0, 38.0, 37.0, 36.0, 35.0, 34.0, 33.0, 32.0, 31.0, 30.0, 29.0, 28.0, 27.0, 26.0, 25.0, 24.0, 23.0, 22.0, 21.0, 20.0, 19.0, 18.0, 17.0, 16.0, 15.0, 14.0, 13.0, 12.0, 11.0, 10.0, 9.0, 8.0, 7.0, 6.0, 5.0, 4.0, 3.0, 2.0, 1.0, -7.729, -7.782, -8.1091, -8.3949, -8.4047, -8.3097, -8.6766, -8.6936, -8.5789, -8.677, -8.6856, -8.8157, -8.8431, -8.8212, -8.7122, -8.8608, -8.8576, -7.7187, -8.7981, -8.9698, -8.9762, -8.9827, -8.8685, -8.8503, -9.0264, -8.9275, -8.4399, -9.0236, -9.0749, -8.9773, -9.0877, -9.0908, -8.9631, -9.0773, -8.815, -9.1515, -9.116, -9.1689, -9.027, -8.9921, -7.6045, -7.5408, -8.6945, -8.5957, -8.7349, -7.8018, -8.2761, -8.7736, -8.6691, -8.6641, -8.4391, -7.7486, -8.7799, -8.1826, -8.5512, -8.6712, -8.124, -7.8536, -7.9088, -8.107, -8.5591, -8.0798, -7.9491, -8.3951, -8.3176, -8.7589, -8.5551, -8.452, -8.6599, -8.2283, -8.2901, -8.4935, -8.6519, -8.605, -8.6676, -8.6732, -8.0548, -8.897, -8.7953, -8.9152, -8.834, -8.8172, -9.0422, -9.0898, -9.1864, -9.1242, -9.2121, -9.1857, -9.2047, -8.3087, -9.3225, -9.1068, -9.2185, -9.2587, -9.3516, -8.7961, -9.2693, -9.2336, -9.5135, -9.1466, -9.499, -9.6194, -9.4093, -9.3254, -9.4277, -9.2433, -9.2433, -9.464, -9.1562, -9.4322, -9.4336, -9.5135, -9.4369, -9.7056, -9.7057, -9.1701, -8.3955, -7.9154, -8.7621, -9.1235, -8.496, -7.2345, -9.2718, -9.333, -9.3351, -8.7474, -7.9793, -8.437, -7.7132, -8.8489, -8.3455, -8.698, -8.7308, -8.5462, -8.7911, -8.2391, -8.8964, -8.3429, -8.0915, -8.6862, -8.8936, -8.7609, -8.7869, -8.8009, -8.2977, -8.9679, -8.3614, -8.5065, -8.8074, -8.468, -8.6846, -8.741, -8.6397, -8.7692, -8.7422, -8.878, -8.8871]}, \"token.table\": {\"Topic\": [1, 1, 2, 1, 1, 2, 2, 1, 2, 1, 1, 1, 2, 2, 2, 1, 2, 2, 1, 1, 2, 2, 1, 1, 2, 2, 1, 2, 2, 1, 2, 2, 1, 1, 2, 2, 2, 1, 2, 1, 2, 2, 1, 2, 1, 1, 1, 2, 1, 1, 1, 2, 1, 1, 1, 1, 2, 1, 2, 1, 2, 2, 2, 1, 1, 2, 1, 2, 1, 1, 2, 1, 2, 1, 2, 1, 2, 2, 2, 1, 2, 1, 2, 2, 1, 2, 1, 2, 1, 2, 1, 2, 1, 2, 1, 2, 1, 2, 2, 2, 1, 2, 2, 1, 1, 1, 1, 1, 1, 2, 2, 2, 1, 2, 1, 2, 1, 2, 1, 2, 2, 1, 1, 2, 2, 2, 1, 2, 2, 1, 1, 2, 1, 1, 2, 2, 2, 1, 2, 1, 1, 1, 2, 2, 1, 2, 1, 2, 1, 2, 1, 2, 2, 1, 1, 2, 1, 1, 1, 2, 1, 2, 1, 2, 1, 1, 2, 1, 2, 1, 2, 1, 1, 2, 2, 1, 2, 2, 1, 2, 1, 1, 1, 1, 1, 1, 1, 2, 1, 1, 2, 1, 2, 2, 1, 2], \"Freq\": [0.946717664666719, 0.2924673198783052, 0.5849346397566104, 0.9760025843982649, 0.8673309084513127, 0.9949506258727873, 1.0557617283747502, 0.346504949609522, 0.519757424414283, 0.9267045462082757, 0.9732147606122322, 0.7946599340616043, 0.15893198681232085, 0.5580073434962876, 0.9700238438431753, 0.2615759627200169, 0.7847278881600507, 0.9228194284608333, 1.0323232221968666, 0.7707547555152902, 0.23122642665458706, 0.57637764458642, 0.9582479587138317, 0.4333298508407856, 0.4333298508407856, 1.0713044422705096, 0.87549240407363, 0.8407304386772028, 0.827788579964799, 0.738367602586821, 0.24612253419560698, 1.084451706073686, 0.9955238606582424, 0.9287550271804647, 0.11609437839755808, 0.5622698240624784, 1.068216762873466, 0.7928139881478006, 0.2642713293826002, 0.6325916675535816, 0.42172777836905445, 0.5981914507629231, 0.6941340534164163, 0.31551547882564374, 0.9833640108705589, 0.8809230128229576, 0.8743436047901326, 1.0759355771602335, 0.8696408219590641, 0.9777901368896658, 0.9422930281960314, 0.9659501024174696, 0.9788492864683701, 0.8357818693900158, 0.9151705885177552, 0.21856027535685726, 0.8742411014274291, 0.6048736779403805, 0.4032491186269203, 0.26513761465277874, 0.7954128439583362, 0.8304305733217436, 0.6960014986250925, 1.0455557146673182, 1.0244427946931585, 0.9616101779028609, 0.7262221236784685, 0.26408077224671583, 1.0736315406051722, 0.6356962355245167, 0.38141774131471007, 0.29120422503156995, 0.5824084500631399, 0.7400486165968267, 0.27751823122381003, 0.554517249927567, 0.36967816661837805, 0.9046089544507806, 0.6353232611172696, 0.9143349867662088, 0.06095566578441392, 0.8731552312200214, 0.7473917333746022, 0.773219774955911, 0.5048899761891761, 0.5048899761891761, 0.5190345160372831, 0.45415520153262273, 0.22326487372059853, 0.6697946211617956, 0.9735217209461633, 0.0695372657818688, 0.21917530143883573, 0.8767012057553429, 1.0863703989060798, 0.6881905041502187, 0.41493952330755934, 0.5705418445478941, 1.0570773397650692, 0.6283520360943063, 0.5675892045401443, 0.37839280302676287, 1.0570773397650683, 1.0075015212167888, 1.0497195788698421, 0.86477445335358, 0.9827039684695396, 1.0190428345615559, 0.9428200833956241, 0.134688583342232, 0.9679419036312545, 1.0613709650078575, 0.9103417714938992, 0.15172362858231653, 0.7783388043132727, 0.15566776086265455, 0.4766800186622672, 0.7150200279934008, 0.4600345415581239, 0.6900518123371858, 0.8316345830413916, 0.8591522490346792, 0.17954989888962888, 0.8977494944481444, 0.7488097564620123, 0.6881212728176404, 0.74813809544029, 0.24937936514676332, 0.5638502098671382, 0.9799161217441335, 0.7587604263781118, 0.21678869325088906, 1.0731017352197318, 0.8006749593206477, 0.1779277687379217, 0.6366018319576273, 0.6584541894159358, 0.3577368405751675, 0.5366052608627513, 1.08935648320878, 0.8590749015603246, 0.42078004917186307, 0.5610400655624841, 0.6366683555712456, 0.9731233313464754, 0.5248196247562595, 0.3134461808061455, 0.626892361612291, 0.8667269062570677, 1.1124162752056332, 0.7682053819492618, 0.21948725198550337, 0.9641215349659032, 0.9134682886196356, 0.8147895121710002, 0.1880283489625385, 1.0225247791124377, 0.9096986219169025, 0.9626755441337465, 0.05662797318433803, 0.8769698969555788, 0.14616164949259647, 0.5575549619222401, 0.41816622144168003, 0.9837801225701297, 0.9709496254725133, 0.7756791787088108, 0.903991406446929, 0.10044348960521433, 0.9194865856889572, 0.07072973736068902, 0.9301543079062407, 0.27360473651726075, 0.5472094730345215, 0.6991698263196752, 0.4770550395969739, 0.4770550395969739, 0.6360054945066619, 0.41484211976372404, 0.41484211976372404, 1.0180659731055821, 0.9210905276905669, 0.9941805652795983, 0.9814326433329248, 1.019690154861822, 0.9408730859901252, 0.5486975871244493, 0.5486975871244493, 0.9429043126659121, 0.7548964496960777, 0.15097928993921553, 0.31025272509279517, 0.6205054501855903, 0.6099630797360897, 0.43059202870284663, 0.43059202870284663], \"Term\": [\"10 minutes\", \"awesome food\", \"awesome food\", \"best pizza\", \"best ve\", \"blah blah\", \"car wash\", \"carne asada\", \"carne asada\", \"chicken salad\", \"chinese food\", \"chips salsa\", \"chips salsa\", \"clean friendly\", \"clean staff\", \"coffee shop\", \"coffee shop\", \"coffee shops\", \"cream cheese\", \"customer service\", \"customer service\", \"dance floor\", \"decided try\", \"definitely recommend\", \"definitely recommend\", \"delicious loved\", \"didn like\", \"dive bar\", \"dog park\", \"don know\", \"don know\", \"don know say\", \"don like\", \"don think\", \"don think\", \"early morning\", \"fashion square\", \"fast food\", \"fast food\", \"feel like\", \"feel like\", \"food delicious service\", \"food good\", \"food good\", \"food great\", \"food great service\", \"food just\", \"food little pricey\", \"food pretty\", \"food really\", \"food service\", \"free wifi\", \"french toast\", \"fried chicken\", \"fried rice\", \"friendly helpful\", \"friendly helpful\", \"friendly service\", \"friendly service\", \"friendly staff\", \"friendly staff\", \"friends brought\", \"fun place\", \"gluten free\", \"goat cheese\", \"good coffee\", \"good food\", \"good food\", \"good pizza\", \"good place\", \"good place\", \"good prices\", \"good prices\", \"good service\", \"good service\", \"good time\", \"good time\", \"great beer\", \"great deals\", \"great food\", \"great food\", \"great food great\", \"great happy\", \"great happy hour\", \"great job\", \"great job\", \"great place\", \"great place\", \"great selection\", \"great selection\", \"great service\", \"great service\", \"great time\", \"great time\", \"grilled cheese\", \"guys working\", \"happy hour\", \"happy hour\", \"happy hour specials\", \"helpful staff\", \"highly recommend\", \"highly recommend\", \"hour specials\", \"ice cream\", \"iced tea\", \"just like\", \"just ok\", \"just okay\", \"just right\", \"just right\", \"kids love\", \"know say\", \"like place\", \"like place\", \"little bit\", \"little bit\", \"little pricey\", \"little pricey\", \"live music\", \"live music\", \"local bar\", \"love food\", \"love love\", \"love love\", \"love love love\", \"love love place\", \"love place\", \"love place\", \"love store\", \"mac cheese\", \"make sure\", \"make sure\", \"mashed potatoes\", \"mexican food\", \"mexican food\", \"movie theater\", \"neighborhood bar\", \"old town\", \"old town\", \"olive oil\", \"pad thai\", \"parking lot\", \"parking lot\", \"patio seating\", \"pei wei\", \"people watch\", \"people watching\", \"people watching\", \"pizza good\", \"place grab\", \"place great\", \"place great\", \"pool tables\", \"potato fries\", \"pretty good\", \"pretty good\", \"pulled pork\", \"quality food\", \"really good\", \"really good\", \"really like\", \"really like\", \"really nice\", \"really nice\", \"red velvet\", \"salad bar\", \"service fees\", \"service good\", \"service good\", \"service great\", \"service great\", \"spring rolls\", \"spring training\", \"spring training\", \"staff did\", \"staff friendly\", \"staff friendly\", \"staff friendly helpful\", \"super friendly\", \"super friendly\", \"sweet potato\", \"sweet potato fries\", \"tasted like\", \"thai food\", \"try place\", \"ve eaten\", \"ve seen\", \"ve seen\", \"ve tried\", \"wait staff\", \"wait staff\", \"walking distance\", \"walking distance\", \"went finally\", \"year old\", \"year old\"]}, \"R\": 40, \"lambda.step\": 0.01, \"plot.opts\": {\"xlab\": \"PC1\", \"ylab\": \"PC2\"}, \"topic.order\": [1, 2]};\n",
       "\n",
       "function LDAvis_load_lib(url, callback){\n",
       "  var s = document.createElement('script');\n",
       "  s.src = url;\n",
       "  s.async = true;\n",
       "  s.onreadystatechange = s.onload = callback;\n",
       "  s.onerror = function(){console.warn(\"failed to load library \" + url);};\n",
       "  document.getElementsByTagName(\"head\")[0].appendChild(s);\n",
       "}\n",
       "\n",
       "if(typeof(LDAvis) !== \"undefined\"){\n",
       "   // already loaded: just create the visualization\n",
       "   !function(LDAvis){\n",
       "       new LDAvis(\"#\" + \"ldavis_el130442601343792840751031710\", ldavis_el130442601343792840751031710_data);\n",
       "   }(LDAvis);\n",
       "}else if(typeof define === \"function\" && define.amd){\n",
       "   // require.js is available: use it to load d3/LDAvis\n",
       "   require.config({paths: {d3: \"https://cdnjs.cloudflare.com/ajax/libs/d3/3.5.5/d3.min\"}});\n",
       "   require([\"d3\"], function(d3){\n",
       "      window.d3 = d3;\n",
       "      LDAvis_load_lib(\"https://cdn.rawgit.com/bmabey/pyLDAvis/files/ldavis.v1.0.0.js\", function(){\n",
       "        new LDAvis(\"#\" + \"ldavis_el130442601343792840751031710\", ldavis_el130442601343792840751031710_data);\n",
       "      });\n",
       "    });\n",
       "}else{\n",
       "    // require.js not available: dynamically load d3 & LDAvis\n",
       "    LDAvis_load_lib(\"https://cdnjs.cloudflare.com/ajax/libs/d3/3.5.5/d3.min.js\", function(){\n",
       "         LDAvis_load_lib(\"https://cdn.rawgit.com/bmabey/pyLDAvis/files/ldavis.v1.0.0.js\", function(){\n",
       "                 new LDAvis(\"#\" + \"ldavis_el130442601343792840751031710\", ldavis_el130442601343792840751031710_data);\n",
       "            })\n",
       "         });\n",
       "}\n",
       "</script>"
      ],
      "text/plain": [
       "PreparedData(topic_coordinates=                          x                    y  topics  cluster  \\\n",
       "topic                                                               \n",
       "0     0.022086668458595641  0.000000000000000000  1       1         \n",
       "1     -0.022086668458595641 0.000000000000000000  2       1         \n",
       "\n",
       "                       Freq  \n",
       "topic                        \n",
       "0     66.156921093262781142  \n",
       "1     33.843078906737211753  , topic_info=      Category                  Freq            Term                 Total  \\\n",
       "27619  Default 19.000000000000000000  happy hour     19.000000000000000000   \n",
       "36503  Default 5.000000000000000000   love love      5.000000000000000000    \n",
       "22716  Default 7.000000000000000000   friendly staff 7.000000000000000000    \n",
       "29864  Default 13.000000000000000000  ice cream      13.000000000000000000   \n",
       "21114  Default 13.000000000000000000  food great     13.000000000000000000   \n",
       "...        ...                   ...         ...                       ...   \n",
       "15989  Topic2  2.814885726629470675   don know       12.189050506101715143   \n",
       "46241  Topic2  2.472972374727241629   place great    9.112146522897354828    \n",
       "48196  Topic2  2.540713273167162889   pretty good    15.955040910334748361   \n",
       "25251  Topic2  2.218002912925185477   good time      5.410111228085096258    \n",
       "37392  Topic2  2.197920774047470438   make sure      9.225573391345665897    \n",
       "\n",
       "                    loglift               logprob  \n",
       "27619 40.000000000000000000 40.000000000000000000  \n",
       "36503 39.000000000000000000 39.000000000000000000  \n",
       "22716 38.000000000000000000 38.000000000000000000  \n",
       "29864 37.000000000000000000 37.000000000000000000  \n",
       "21114 36.000000000000000000 36.000000000000000000  \n",
       "...                     ...                   ...  \n",
       "15989 -0.382199999999999984 -8.639699999999999491  \n",
       "46241 -0.220799999999999996 -8.769199999999999662  \n",
       "48196 -0.753900000000000015 -8.742200000000000415  \n",
       "25251 0.191799999999999998  -8.878000000000000114  \n",
       "37392 -0.350999999999999979 -8.887100000000000222  \n",
       "\n",
       "[197 rows x 6 columns], token_table=       Topic                 Freq              Term\n",
       "term                                               \n",
       "97     1     0.946717664666719028  10 minutes      \n",
       "3100   1     0.292467319878305210  awesome food    \n",
       "3100   2     0.584934639756610419  awesome food    \n",
       "4962   1     0.976002584398264927  best pizza      \n",
       "5072   1     0.867330908451312665  best ve         \n",
       "...   ..                      ...         ...      \n",
       "67583  1     0.310252725092795167  walking distance\n",
       "67583  2     0.620505450185590335  walking distance\n",
       "68916  2     0.609963079736089653  went finally    \n",
       "70507  1     0.430592028702846630  year old        \n",
       "70507  2     0.430592028702846630  year old        \n",
       "\n",
       "[196 rows x 3 columns], R=40, lambda_step=0.01, plot_opts={'xlab': 'PC1', 'ylab': 'PC2'}, topic_order=[1, 2])"
      ]
     },
     "execution_count": 104,
     "metadata": {},
     "output_type": "execute_result"
    }
   ],
   "source": [
    "dash1 = pyLDAvis.sklearn.prepare(lda2, tfidfvect, tfidf, R=40, mds='pcoa') #tsne, pcoa #R = number of terms to visualize\n",
    "dash1"
   ]
  },
  {
   "cell_type": "code",
   "execution_count": null,
   "metadata": {},
   "outputs": [],
   "source": []
  },
  {
   "cell_type": "code",
   "execution_count": null,
   "metadata": {},
   "outputs": [],
   "source": []
  },
  {
   "cell_type": "code",
   "execution_count": null,
   "metadata": {},
   "outputs": [],
   "source": []
  },
  {
   "cell_type": "code",
   "execution_count": null,
   "metadata": {},
   "outputs": [],
   "source": []
  },
  {
   "cell_type": "code",
   "execution_count": null,
   "metadata": {},
   "outputs": [],
   "source": []
  },
  {
   "cell_type": "code",
   "execution_count": null,
   "metadata": {},
   "outputs": [],
   "source": []
  },
  {
   "cell_type": "code",
   "execution_count": null,
   "metadata": {},
   "outputs": [],
   "source": []
  },
  {
   "cell_type": "code",
   "execution_count": null,
   "metadata": {},
   "outputs": [],
   "source": []
  },
  {
   "cell_type": "code",
   "execution_count": null,
   "metadata": {},
   "outputs": [],
   "source": []
  },
  {
   "cell_type": "markdown",
   "metadata": {},
   "source": [
    "## Adding Features to a Document-Term Matrix"
   ]
  },
  {
   "cell_type": "code",
   "execution_count": 49,
   "metadata": {
    "collapsed": true,
    "jupyter": {
     "outputs_hidden": true
    }
   },
   "outputs": [],
   "source": [
    "# create a DataFrame that only contains the 5-star and 1-star reviews\n",
    "yelp_best_worst = yelp[(yelp.stars==5) | (yelp.stars==1)]\n",
    "\n",
    "# define X and y\n",
    "feature_cols = ['text', 'sentiment', 'cool', 'useful', 'funny']\n",
    "X = yelp_best_worst[feature_cols]\n",
    "y = yelp_best_worst.stars\n",
    "\n",
    "# split into training and testing sets\n",
    "X_train, X_test, y_train, y_test = train_test_split(X, y, random_state=1)"
   ]
  },
  {
   "cell_type": "code",
   "execution_count": 50,
   "metadata": {},
   "outputs": [
    {
     "name": "stdout",
     "output_type": "stream",
     "text": [
      "(3064, 16825)\n",
      "(1022, 16825)\n"
     ]
    }
   ],
   "source": [
    "# use CountVectorizer with text column only\n",
    "vect = CountVectorizer()\n",
    "X_train_dtm = vect.fit_transform(X_train.text)\n",
    "X_test_dtm = vect.transform(X_test.text)\n",
    "print X_train_dtm.shape\n",
    "print X_test_dtm.shape"
   ]
  },
  {
   "cell_type": "code",
   "execution_count": 51,
   "metadata": {},
   "outputs": [
    {
     "data": {
      "text/plain": [
       "(3064, 4)"
      ]
     },
     "execution_count": 51,
     "metadata": {},
     "output_type": "execute_result"
    }
   ],
   "source": [
    "# shape of other four feature columns\n",
    "X_train.drop('text', axis=1).shape"
   ]
  },
  {
   "cell_type": "code",
   "execution_count": 52,
   "metadata": {},
   "outputs": [
    {
     "data": {
      "text/plain": [
       "(3064, 4)"
      ]
     },
     "execution_count": 52,
     "metadata": {},
     "output_type": "execute_result"
    }
   ],
   "source": [
    "# cast other feature columns to float and convert to a sparse matrix\n",
    "extra = sp.sparse.csr_matrix(X_train.drop('text', axis=1).astype(float))\n",
    "extra.shape"
   ]
  },
  {
   "cell_type": "code",
   "execution_count": 53,
   "metadata": {},
   "outputs": [
    {
     "data": {
      "text/plain": [
       "(3064, 16829)"
      ]
     },
     "execution_count": 53,
     "metadata": {},
     "output_type": "execute_result"
    }
   ],
   "source": [
    "# combine sparse matrices\n",
    "X_train_dtm_extra = sp.sparse.hstack((X_train_dtm, extra))\n",
    "X_train_dtm_extra.shape"
   ]
  },
  {
   "cell_type": "code",
   "execution_count": 54,
   "metadata": {},
   "outputs": [
    {
     "data": {
      "text/plain": [
       "(1022, 16829)"
      ]
     },
     "execution_count": 54,
     "metadata": {},
     "output_type": "execute_result"
    }
   ],
   "source": [
    "# repeat for testing set\n",
    "extra = sp.sparse.csr_matrix(X_test.drop('text', axis=1).astype(float))\n",
    "X_test_dtm_extra = sp.sparse.hstack((X_test_dtm, extra))\n",
    "X_test_dtm_extra.shape"
   ]
  },
  {
   "cell_type": "code",
   "execution_count": 55,
   "metadata": {},
   "outputs": [
    {
     "name": "stdout",
     "output_type": "stream",
     "text": [
      "0.917808219178\n"
     ]
    }
   ],
   "source": [
    "# use logistic regression with text column only\n",
    "logreg = LogisticRegression(C=1e9)\n",
    "logreg.fit(X_train_dtm, y_train)\n",
    "y_pred_class = logreg.predict(X_test_dtm)\n",
    "print metrics.accuracy_score(y_test, y_pred_class)"
   ]
  },
  {
   "cell_type": "code",
   "execution_count": 56,
   "metadata": {},
   "outputs": [
    {
     "name": "stdout",
     "output_type": "stream",
     "text": [
      "0.922700587084\n"
     ]
    }
   ],
   "source": [
    "# use logistic regression with all features\n",
    "logreg = LogisticRegression(C=1e9)\n",
    "logreg.fit(X_train_dtm_extra, y_train)\n",
    "y_pred_class = logreg.predict(X_test_dtm_extra)\n",
    "print metrics.accuracy_score(y_test, y_pred_class)"
   ]
  },
  {
   "cell_type": "markdown",
   "metadata": {},
   "source": [
    "## Conclusion\n",
    "\n",
    "- NLP is a gigantic field\n",
    "- Understanding the basics broadens the types of data you can work with\n",
    "- Simple techniques go a long way\n",
    "- Use scikit-learn for NLP whenever possible"
   ]
  }
 ],
 "metadata": {
  "kernelspec": {
   "display_name": "Python 3",
   "language": "python",
   "name": "python3"
  },
  "language_info": {
   "codemirror_mode": {
    "name": "ipython",
    "version": 3
   },
   "file_extension": ".py",
   "mimetype": "text/x-python",
   "name": "python",
   "nbconvert_exporter": "python",
   "pygments_lexer": "ipython3",
   "version": "3.7.4"
  }
 },
 "nbformat": 4,
 "nbformat_minor": 4
}
