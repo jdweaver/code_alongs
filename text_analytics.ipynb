{
 "cells": [
  {
   "cell_type": "markdown",
   "metadata": {},
   "source": [
    "# Natural Language Processing (NLP)"
   ]
  },
  {
   "cell_type": "markdown",
   "metadata": {},
   "source": [
    "## Introduction\n",
    "*Inspired by and adapted from [NLP Crash Course](http://files.meetup.com/7616132/DC-NLP-2013-09%20Charlie%20Greenbacker.pdf) by Charlie Greenbacker and [Introduction to NLP](http://spark-public.s3.amazonaws.com/nlp/slides/intro.pdf) by Dan Jurafsky*"
   ]
  },
  {
   "cell_type": "markdown",
   "metadata": {},
   "source": [
    "### What is NLP?\n",
    "\n",
    "- Natural Language Processing, a programmatic process using computers or the cloud to prepare, process, analyze, understand, and generate human language that occurs \"in the wild\" e.g. tweets, blog posts, emails etc. \n",
    "- Text data is UNstructured, it does not occur as tidy columns and rows\n",
    "- Because speech is unstructured text. We need a way to make sense of it. \n",
    "- We can probabilistically model language with machines by converting language into using machine understable data\n",
    "\n",
    "### How do we get computers to analyze spoken or written human language? \n",
    "- we represent the language as numerical features that we can then analyze. We do this because most algorithms expect numerical feature vectors with a fixed size rather than the raw text documents with variable length.\n",
    "- from the [scikit-learn documentation](http://scikit-learn.org/stable/modules/feature_extraction.html#text-feature-extraction): \n",
    "    - **tokenizing:** strings and giving an integer id for each possible token, for instance by using white-spaces and punctuation as token separators.\n",
    "    - **counting:** the occurrences of tokens in each document.\n",
    "    - **normalizing and weighting:** with diminishing importance tokens that occur in the majority of samples / documents.\n",
    "\n"
   ]
  },
  {
   "cell_type": "markdown",
   "metadata": {},
   "source": [
    "### What are some of the higher level task areas?\n",
    "\n",
    "- **Information retrieval**: Find relevant results and similar results\n",
    "    - [Google](https://www.google.com/)\n",
    "- **Information extraction**: Structured information from unstructured documents\n",
    "    - [Events from Gmail](https://support.google.com/calendar/answer/6084018?hl=en)\n",
    "- **Machine translation**: One language to another\n",
    "    - [Google Translate](https://translate.google.com/)\n",
    "- **Text simplification**: Preserve the meaning of text, but simplify the grammar and vocabulary\n",
    "    - [Rewordify](https://rewordify.com/)\n",
    "    - [Simple English Wikipedia](https://simple.wikipedia.org/wiki/Main_Page)\n",
    "- **Sentiment analysis**: Attitude of speaker\n",
    "    - [Hater News](http://haternews.herokuapp.com/)\n",
    "- **Automatic summarization**: Extractive or abstractive summarization\n",
    "    - [autotldr](https://www.reddit.com/r/technology/comments/35brc8/21_million_people_still_use_aol_dialup/cr2zzj0)\n",
    "- **Natural Language Generation**: Generate text from data\n",
    "    - [How a computer describes a sports match](http://www.bbc.com/news/technology-34204052)\n",
    "    - [Publishers withdraw more than 120 gibberish papers](http://www.nature.com/news/publishers-withdraw-more-than-120-gibberish-papers-1.14763)\n",
    "- **Speech recognition and generation**: Speech-to-text, text-to-speech\n",
    "    - [Google's Web Speech API demo](https://www.google.com/intl/en/chrome/demos/speech.html)\n",
    "    - [Vocalware Text-to-Speech demo](https://www.vocalware.com/index/demo)\n",
    "- **Question answering**: Determine the intent of the question, match query with knowledge base, evaluate hypotheses\n",
    "    - [How did supercomputer Watson beat Jeopardy champion Ken Jennings?](http://blog.ted.com/how-did-supercomputer-watson-beat-jeopardy-champion-ken-jennings-experts-discuss/)\n",
    "    - [IBM's Watson Trivia Challenge](http://www.nytimes.com/interactive/2010/06/16/magazine/watson-trivia-game.html)\n",
    "    - [The AI Behind Watson](http://www.aaai.org/Magazine/Watson/watson.php)\n",
    "- **Analyzing job descriptions to reach diverse candidates:** \n",
    "    - [Textio](https://textio.com/products/) \n",
    "- **Determining personality using text analytics:**\n",
    "    - [via Facebook (no not cambridge analytica)](http://journals.plos.org/plosone/article?id=10.1371/journal.pone.0073791)\n",
    "- **Diagnosing mental health using text analytics:**\n",
    "    - [A relatively early application before the cloud. But a great example of using text analysis to agument human judgement and in a relatively \"squishy\" area--psychology](https://search.proquest.com/openview/0eb8bfa741f62292f1900dfecd011ed8/1?pq-origsite=gscholar&cbl=40661) \n",
    "- **Natural Languge Understanding:** training a machine to process (understand) what humans say. Realtime or otherwise. A good example of NLU is the [Google Assistant demo](https://www.theverge.com/2018/5/8/17332070/google-assistant-makes-phone-call-demo-duplex-io-2018)"
   ]
  },
  {
   "cell_type": "markdown",
   "metadata": {},
   "source": [
    "### What are some of the lower level components?\n",
    "\n",
    "- **Tokenization**: breaking text into tokens (words, sentences, n-grams)\n",
    "- **Stopword removal**: a/an/the. These are words with high frequency that introduce noise into the analysis. \n",
    "- **Stemming and lemmatization**: root word\n",
    "- **TF-IDF**: word importance\n",
    "- **Part-of-speech tagging**: noun/verb/adjective\n",
    "- **Named entity recognition**: person/organization/location\n",
    "- **Spelling correction**: \"New Yrok City\"\n",
    "- **Word sense disambiguation**: \"buy a mouse\"\n",
    "- **Segmentation**: \"New York City subway\"\n",
    "- **Language detection**: \"translate this page\""
   ]
  },
  {
   "cell_type": "markdown",
   "metadata": {},
   "source": [
    "### Why is NLP hard?\n",
    "\n",
    "- **Ambiguity**:\n",
    "    - Hospitals are Sued by 7 Foot Doctors\n",
    "    - Juvenile Court to Try Shooting Defendant\n",
    "    - Local High School Dropouts Cut in Half\n",
    "- **Non-standard English**: text messages\n",
    "- **Idioms**: \"throw in the towel\"\n",
    "- **Newly coined words**: \"retweet\"\n",
    "- **Tricky entity names**: \"Where is A Bug's Life playing?\"\n",
    "- **World knowledge**: \"Mary and Sue are sisters\", \"Mary and Sue are mothers\"\n",
    "\n",
    "In short, humans are good at handling mispronunciations, \"improper\" grammar, swapped words, contractions, colloquialisms, puns, and other variations etc. \n",
    "\n",
    "Machines are not. They are still toasters (drew carey points if you get that reference!)...much less capable of working with unpredictable inputs."
   ]
  },
  {
   "cell_type": "markdown",
   "metadata": {},
   "source": [
    "## Part 1: Reading in the Yelp Reviews"
   ]
  },
  {
   "cell_type": "markdown",
   "metadata": {},
   "source": [
    "- \"corpus\" = collection of documents\n",
    "- \"corpora\" = plural form of corpus"
   ]
  },
  {
   "cell_type": "markdown",
   "metadata": {},
   "source": [
    "#### we need to install some packages\n",
    "conda install -c https://conda.anaconda.org/sloria textblob\n",
    "\n",
    "OR \n",
    "conda install -c conda-forge textblob \n",
    "\n",
    "cona install nltk"
   ]
  },
  {
   "cell_type": "markdown",
   "metadata": {},
   "source": [
    "We also need to install some existing text corpora from nltk"
   ]
  },
  {
   "cell_type": "code",
   "execution_count": 1,
   "metadata": {},
   "outputs": [
    {
     "name": "stderr",
     "output_type": "stream",
     "text": [
      "[nltk_data] Downloading package punkt to\n",
      "[nltk_data]     C:\\Users\\joweave\\AppData\\Roaming\\nltk_data...\n",
      "[nltk_data]   Unzipping tokenizers\\punkt.zip.\n"
     ]
    },
    {
     "data": {
      "text/plain": [
       "True"
      ]
     },
     "execution_count": 1,
     "metadata": {},
     "output_type": "execute_result"
    }
   ],
   "source": [
    "import nltk\n",
    "#nltk.download()\n",
    "nltk.download('punkt')\n",
    "nltk.download('wordnet')"
   ]
  },
  {
   "cell_type": "code",
   "execution_count": 7,
   "metadata": {},
   "outputs": [
    {
     "name": "stdout",
     "output_type": "stream",
     "text": [
      "Collecting vaderSentiment\n",
      "  Downloading https://files.pythonhosted.org/packages/86/9e/c53e1fc61aac5ee490a6ac5e21b1ac04e55a7c2aba647bb8411c9aadf24e/vaderSentiment-3.2.1-py2.py3-none-any.whl (125kB)\n",
      "Installing collected packages: vaderSentiment\n",
      "Successfully installed vaderSentiment-3.2.1\n"
     ]
    },
    {
     "data": {
      "text/plain": [
       "\"original paper is here: http://comp.social.gatech.edu/papers/icwsm14.vader.hutto.pdf \\nit's worth noting they compared it to LIWC which is a well curated hand selected lexicon based dataset, while not strictly sentiment based, \\nLIWC has been shown to be useful for a variety of social science applications from resume classification to mental health diagnostics \""
      ]
     },
     "execution_count": 7,
     "metadata": {},
     "output_type": "execute_result"
    }
   ],
   "source": [
    "!pip install vaderSentiment --no-cache-dir --upgrade \n",
    "#https://github.com/cjhutto/vaderSentiment\n",
    "'''original paper is here: http://comp.social.gatech.edu/papers/icwsm14.vader.hutto.pdf \n",
    "it's worth noting they compared it to LIWC which is a well curated hand selected lexicon based dataset, while not strictly sentiment based, \n",
    "LIWC has been shown to be useful for a variety of social science applications from resume classification to mental health diagnostics '''"
   ]
  },
  {
   "cell_type": "code",
   "execution_count": 220,
   "metadata": {},
   "outputs": [
    {
     "name": "stdout",
     "output_type": "stream",
     "text": [
      "Collecting pyLDAvis\n",
      "  Downloading https://files.pythonhosted.org/packages/a5/3a/af82e070a8a96e13217c8f362f9a73e82d61ac8fff3a2561946a97f96266/pyLDAvis-2.1.2.tar.gz (1.6MB)\n",
      "Requirement already satisfied, skipping upgrade: wheel>=0.23.0 in c:\\users\\joweave\\appdata\\local\\continuum\\anaconda3\\lib\\site-packages (from pyLDAvis) (0.33.4)\n",
      "Requirement already satisfied, skipping upgrade: numpy>=1.9.2 in c:\\users\\joweave\\appdata\\local\\continuum\\anaconda3\\lib\\site-packages (from pyLDAvis) (1.16.3)\n",
      "Requirement already satisfied, skipping upgrade: scipy>=0.18.0 in c:\\users\\joweave\\appdata\\local\\continuum\\anaconda3\\lib\\site-packages (from pyLDAvis) (1.2.1)\n",
      "Requirement already satisfied, skipping upgrade: pandas>=0.17.0 in c:\\users\\joweave\\appdata\\local\\continuum\\anaconda3\\lib\\site-packages (from pyLDAvis) (0.23.4)\n",
      "Requirement already satisfied, skipping upgrade: joblib>=0.8.4 in c:\\users\\joweave\\appdata\\local\\continuum\\anaconda3\\lib\\site-packages (from pyLDAvis) (0.13.2)\n",
      "Requirement already satisfied, skipping upgrade: jinja2>=2.7.2 in c:\\users\\joweave\\appdata\\local\\continuum\\anaconda3\\lib\\site-packages (from pyLDAvis) (2.10.1)\n",
      "Requirement already satisfied, skipping upgrade: numexpr in c:\\users\\joweave\\appdata\\local\\continuum\\anaconda3\\lib\\site-packages (from pyLDAvis) (2.6.9)\n",
      "Requirement already satisfied, skipping upgrade: pytest in c:\\users\\joweave\\appdata\\local\\continuum\\anaconda3\\lib\\site-packages (from pyLDAvis) (4.5.0)\n",
      "Requirement already satisfied, skipping upgrade: future in c:\\users\\joweave\\appdata\\local\\continuum\\anaconda3\\lib\\site-packages (from pyLDAvis) (0.17.1)\n",
      "Collecting funcy (from pyLDAvis)\n",
      "  Downloading https://files.pythonhosted.org/packages/b3/23/d1f90f4e2af5f9d4921ab3797e33cf0503e3f130dd390a812f3bf59ce9ea/funcy-1.12-py2.py3-none-any.whl\n",
      "Requirement already satisfied, skipping upgrade: python-dateutil>=2.5.0 in c:\\users\\joweave\\appdata\\local\\continuum\\anaconda3\\lib\\site-packages (from pandas>=0.17.0->pyLDAvis) (2.8.0)\n",
      "Requirement already satisfied, skipping upgrade: pytz>=2011k in c:\\users\\joweave\\appdata\\local\\continuum\\anaconda3\\lib\\site-packages (from pandas>=0.17.0->pyLDAvis) (2019.1)\n",
      "Requirement already satisfied, skipping upgrade: MarkupSafe>=0.23 in c:\\users\\joweave\\appdata\\local\\continuum\\anaconda3\\lib\\site-packages (from jinja2>=2.7.2->pyLDAvis) (1.1.1)\n",
      "Requirement already satisfied, skipping upgrade: py>=1.5.0 in c:\\users\\joweave\\appdata\\local\\continuum\\anaconda3\\lib\\site-packages (from pytest->pyLDAvis) (1.8.0)\n",
      "Requirement already satisfied, skipping upgrade: six>=1.10.0 in c:\\users\\joweave\\appdata\\local\\continuum\\anaconda3\\lib\\site-packages (from pytest->pyLDAvis) (1.12.0)\n",
      "Requirement already satisfied, skipping upgrade: setuptools in c:\\users\\joweave\\appdata\\local\\continuum\\anaconda3\\lib\\site-packages (from pytest->pyLDAvis) (41.0.1)\n",
      "Requirement already satisfied, skipping upgrade: attrs>=17.4.0 in c:\\users\\joweave\\appdata\\local\\continuum\\anaconda3\\lib\\site-packages (from pytest->pyLDAvis) (19.1.0)\n",
      "Requirement already satisfied, skipping upgrade: atomicwrites>=1.0 in c:\\users\\joweave\\appdata\\local\\continuum\\anaconda3\\lib\\site-packages (from pytest->pyLDAvis) (1.3.0)\n",
      "Requirement already satisfied, skipping upgrade: pluggy!=0.10,<1.0,>=0.9 in c:\\users\\joweave\\appdata\\local\\continuum\\anaconda3\\lib\\site-packages (from pytest->pyLDAvis) (0.11.0)\n",
      "Requirement already satisfied, skipping upgrade: wcwidth in c:\\users\\joweave\\appdata\\local\\continuum\\anaconda3\\lib\\site-packages (from pytest->pyLDAvis) (0.1.7)\n",
      "Requirement already satisfied, skipping upgrade: more-itertools>=4.0.0 in c:\\users\\joweave\\appdata\\local\\continuum\\anaconda3\\lib\\site-packages (from pytest->pyLDAvis) (7.0.0)\n",
      "Requirement already satisfied, skipping upgrade: colorama in c:\\users\\joweave\\appdata\\local\\continuum\\anaconda3\\lib\\site-packages (from pytest->pyLDAvis) (0.4.1)\n",
      "Building wheels for collected packages: pyLDAvis\n",
      "  Building wheel for pyLDAvis (setup.py): started\n",
      "  Building wheel for pyLDAvis (setup.py): finished with status 'done'\n",
      "  Stored in directory: C:\\Users\\joweave\\AppData\\Local\\Temp\\pip-ephem-wheel-cache-bs0mkctt\\wheels\\98\\71\\24\\513a99e58bb6b8465bae4d2d5e9dba8f0bef8179e3051ac414\n",
      "Successfully built pyLDAvis\n",
      "Installing collected packages: funcy, pyLDAvis\n",
      "Successfully installed funcy-1.12 pyLDAvis-2.1.2\n"
     ]
    }
   ],
   "source": [
    "#let's import the topic model visualization package \n",
    "!pip install pyLDAvis --no-cache-dir --upgrade"
   ]
  },
  {
   "cell_type": "code",
   "execution_count": 157,
   "metadata": {},
   "outputs": [
    {
     "data": {
      "text/plain": [
       "'CountVectorizer, and TfidfVectorizer are what we will use \\nto \"convert text into a matrix of token counts\"\\n'"
      ]
     },
     "execution_count": 157,
     "metadata": {},
     "output_type": "execute_result"
    }
   ],
   "source": [
    "import pandas as pd\n",
    "import numpy as np\n",
    "import scipy as sp\n",
    "import os\n",
    "\n",
    "#lines below let allow multiple results from a line of code to be shown e.g. df.head() + df.columns\n",
    "from IPython.core.interactiveshell import InteractiveShell\n",
    "InteractiveShell.ast_node_interactivity = \"all\"\n",
    "\n",
    "#set this to ensure floats are not represented in scientific notation \n",
    "pd.set_option('display.float_format', lambda x: '%.18f' % x)\n",
    "\n",
    "#ML algorithm and text analytics imports\n",
    "from sklearn.model_selection import train_test_split\n",
    "#CountVectorizer, and TfidfVectorizer are what we will use to \"convert text into numbers we can work with\"\n",
    "from sklearn.feature_extraction.text import CountVectorizer, TfidfVectorizer\n",
    "#these packages we will use for topic modeling\n",
    "from sklearn.decomposition import NMF, LatentDirichletAllocation, TruncatedSVD\n",
    "from sklearn.naive_bayes import MultinomialNB\n",
    "from sklearn.linear_model import LogisticRegression\n",
    "from sklearn import svm\n",
    "from sklearn import metrics\n",
    "import concurrent.futures\n",
    "from sklearn.manifold import TSNE\n",
    "\n",
    "#text analytics \n",
    "import nltk\n",
    "from textblob import TextBlob, Word\n",
    "from nltk.stem.snowball import SnowballStemmer\n",
    "import pyLDAvis.sklearn #used to visualize topic models\n",
    "\n",
    "#data viz imports and Plotly based imports for visualization\n",
    "%matplotlib inline\n",
    "import matplotlib.pyplot as plt\n",
    "import matplotlib\n",
    "import seaborn as sns \n",
    "import matplotlib.style as style\n",
    "style.use('fivethirtyeight')\n",
    "from plotly import tools\n",
    "import plotly.plotly as py\n",
    "from plotly.offline import init_notebook_mode, iplot\n",
    "init_notebook_mode(connected=True)\n",
    "import plotly.graph_objs as go\n",
    "import plotly.figure_factory as ff"
   ]
  },
  {
   "cell_type": "code",
   "execution_count": 3,
   "metadata": {},
   "outputs": [
    {
     "data": {
      "text/plain": [
       "'C:\\\\Users\\\\joweave\\\\Downloads'"
      ]
     },
     "execution_count": 3,
     "metadata": {},
     "output_type": "execute_result"
    }
   ],
   "source": [
    "os.getcwd()"
   ]
  },
  {
   "cell_type": "code",
   "execution_count": 4,
   "metadata": {
    "collapsed": true
   },
   "outputs": [],
   "source": [
    "# read yelp.csv into a DataFrame\n",
    "path = 'C:\\\\Users\\\\joweave\\\\Downloads\\\\'\n",
    "data = 'yelp.csv'\n",
    "yelp = pd.read_csv(path+data)\n",
    "\n",
    "# create a new DataFrame that only contains the 5-star and 1-star reviews\n",
    "yelp_best_worst = yelp[(yelp.stars==5) | (yelp.stars==1)]\n",
    "\n",
    "# define X and y\n",
    "X = yelp_best_worst.text\n",
    "y = yelp_best_worst.stars\n",
    "\n",
    "# split the new DataFrame into training and testing sets\n",
    "X_train, X_test, y_train, y_test = train_test_split(X, y, random_state=1)"
   ]
  },
  {
   "cell_type": "code",
   "execution_count": 5,
   "metadata": {},
   "outputs": [
    {
     "data": {
      "text/html": [
       "<div>\n",
       "<style scoped>\n",
       "    .dataframe tbody tr th:only-of-type {\n",
       "        vertical-align: middle;\n",
       "    }\n",
       "\n",
       "    .dataframe tbody tr th {\n",
       "        vertical-align: top;\n",
       "    }\n",
       "\n",
       "    .dataframe thead th {\n",
       "        text-align: right;\n",
       "    }\n",
       "</style>\n",
       "<table border=\"1\" class=\"dataframe\">\n",
       "  <thead>\n",
       "    <tr style=\"text-align: right;\">\n",
       "      <th></th>\n",
       "      <th>business_id</th>\n",
       "      <th>date</th>\n",
       "      <th>review_id</th>\n",
       "      <th>stars</th>\n",
       "      <th>text</th>\n",
       "      <th>type</th>\n",
       "      <th>user_id</th>\n",
       "      <th>cool</th>\n",
       "      <th>useful</th>\n",
       "      <th>funny</th>\n",
       "    </tr>\n",
       "  </thead>\n",
       "  <tbody>\n",
       "    <tr>\n",
       "      <th>0</th>\n",
       "      <td>9yKzy9PApeiPPOUJEtnvkg</td>\n",
       "      <td>2011-01-26</td>\n",
       "      <td>fWKvX83p0-ka4JS3dc6E5A</td>\n",
       "      <td>5</td>\n",
       "      <td>My wife took me here on my birthday for breakf...</td>\n",
       "      <td>review</td>\n",
       "      <td>rLtl8ZkDX5vH5nAx9C3q5Q</td>\n",
       "      <td>2</td>\n",
       "      <td>5</td>\n",
       "      <td>0</td>\n",
       "    </tr>\n",
       "    <tr>\n",
       "      <th>1</th>\n",
       "      <td>ZRJwVLyzEJq1VAihDhYiow</td>\n",
       "      <td>2011-07-27</td>\n",
       "      <td>IjZ33sJrzXqU-0X6U8NwyA</td>\n",
       "      <td>5</td>\n",
       "      <td>I have no idea why some people give bad review...</td>\n",
       "      <td>review</td>\n",
       "      <td>0a2KyEL0d3Yb1V6aivbIuQ</td>\n",
       "      <td>0</td>\n",
       "      <td>0</td>\n",
       "      <td>0</td>\n",
       "    </tr>\n",
       "    <tr>\n",
       "      <th>3</th>\n",
       "      <td>_1QQZuf4zZOyFCvXc0o6Vg</td>\n",
       "      <td>2010-05-27</td>\n",
       "      <td>G-WvGaISbqqaMHlNnByodA</td>\n",
       "      <td>5</td>\n",
       "      <td>Rosie, Dakota, and I LOVE Chaparral Dog Park!!...</td>\n",
       "      <td>review</td>\n",
       "      <td>uZetl9T0NcROGOyFfughhg</td>\n",
       "      <td>1</td>\n",
       "      <td>2</td>\n",
       "      <td>0</td>\n",
       "    </tr>\n",
       "    <tr>\n",
       "      <th>4</th>\n",
       "      <td>6ozycU1RpktNG2-1BroVtw</td>\n",
       "      <td>2012-01-05</td>\n",
       "      <td>1uJFq2r5QfJG_6ExMRCaGw</td>\n",
       "      <td>5</td>\n",
       "      <td>General Manager Scott Petello is a good egg!!!...</td>\n",
       "      <td>review</td>\n",
       "      <td>vYmM4KTsC8ZfQBg-j5MWkw</td>\n",
       "      <td>0</td>\n",
       "      <td>0</td>\n",
       "      <td>0</td>\n",
       "    </tr>\n",
       "    <tr>\n",
       "      <th>6</th>\n",
       "      <td>zp713qNhx8d9KCJJnrw1xA</td>\n",
       "      <td>2010-02-12</td>\n",
       "      <td>riFQ3vxNpP4rWLk_CSri2A</td>\n",
       "      <td>5</td>\n",
       "      <td>Drop what you're doing and drive here. After I...</td>\n",
       "      <td>review</td>\n",
       "      <td>wFweIWhv2fREZV_dYkz_1g</td>\n",
       "      <td>7</td>\n",
       "      <td>7</td>\n",
       "      <td>4</td>\n",
       "    </tr>\n",
       "  </tbody>\n",
       "</table>\n",
       "</div>"
      ],
      "text/plain": [
       "              business_id        date               review_id  stars  \\\n",
       "0  9yKzy9PApeiPPOUJEtnvkg  2011-01-26  fWKvX83p0-ka4JS3dc6E5A      5   \n",
       "1  ZRJwVLyzEJq1VAihDhYiow  2011-07-27  IjZ33sJrzXqU-0X6U8NwyA      5   \n",
       "3  _1QQZuf4zZOyFCvXc0o6Vg  2010-05-27  G-WvGaISbqqaMHlNnByodA      5   \n",
       "4  6ozycU1RpktNG2-1BroVtw  2012-01-05  1uJFq2r5QfJG_6ExMRCaGw      5   \n",
       "6  zp713qNhx8d9KCJJnrw1xA  2010-02-12  riFQ3vxNpP4rWLk_CSri2A      5   \n",
       "\n",
       "                                                text    type  \\\n",
       "0  My wife took me here on my birthday for breakf...  review   \n",
       "1  I have no idea why some people give bad review...  review   \n",
       "3  Rosie, Dakota, and I LOVE Chaparral Dog Park!!...  review   \n",
       "4  General Manager Scott Petello is a good egg!!!...  review   \n",
       "6  Drop what you're doing and drive here. After I...  review   \n",
       "\n",
       "                  user_id  cool  useful  funny  \n",
       "0  rLtl8ZkDX5vH5nAx9C3q5Q     2       5      0  \n",
       "1  0a2KyEL0d3Yb1V6aivbIuQ     0       0      0  \n",
       "3  uZetl9T0NcROGOyFfughhg     1       2      0  \n",
       "4  vYmM4KTsC8ZfQBg-j5MWkw     0       0      0  \n",
       "6  wFweIWhv2fREZV_dYkz_1g     7       7      4  "
      ]
     },
     "execution_count": 5,
     "metadata": {},
     "output_type": "execute_result"
    }
   ],
   "source": [
    "yelp_best_worst.head()"
   ]
  },
  {
   "cell_type": "code",
   "execution_count": 6,
   "metadata": {},
   "outputs": [
    {
     "data": {
      "text/plain": [
       "(4086,)"
      ]
     },
     "execution_count": 6,
     "metadata": {},
     "output_type": "execute_result"
    }
   ],
   "source": [
    "X.shape"
   ]
  },
  {
   "cell_type": "code",
   "execution_count": 7,
   "metadata": {},
   "outputs": [
    {
     "data": {
      "text/plain": [
       "0    My wife took me here on my birthday for breakf...\n",
       "1    I have no idea why some people give bad review...\n",
       "3    Rosie, Dakota, and I LOVE Chaparral Dog Park!!...\n",
       "4    General Manager Scott Petello is a good egg!!!...\n",
       "6    Drop what you're doing and drive here. After I...\n",
       "Name: text, dtype: object"
      ]
     },
     "execution_count": 7,
     "metadata": {},
     "output_type": "execute_result"
    }
   ],
   "source": [
    "X.head()"
   ]
  },
  {
   "cell_type": "code",
   "execution_count": 8,
   "metadata": {},
   "outputs": [
    {
     "data": {
      "text/plain": [
       "(4086,)"
      ]
     },
     "execution_count": 8,
     "metadata": {},
     "output_type": "execute_result"
    }
   ],
   "source": [
    "y.shape"
   ]
  },
  {
   "cell_type": "code",
   "execution_count": 9,
   "metadata": {},
   "outputs": [
    {
     "data": {
      "text/plain": [
       "0    5\n",
       "1    5\n",
       "3    5\n",
       "4    5\n",
       "6    5\n",
       "Name: stars, dtype: int64"
      ]
     },
     "execution_count": 9,
     "metadata": {},
     "output_type": "execute_result"
    }
   ],
   "source": [
    "y.head()"
   ]
  },
  {
   "cell_type": "code",
   "execution_count": 10,
   "metadata": {},
   "outputs": [
    {
     "name": "stdout",
     "output_type": "stream",
     "text": [
      "0    My wife took me here on my birthday for breakfast and it was excellent.  The weather was perfect which made sitting outside overlooking their grounds an absolute pleasure.  Our waitress was excellent and our food arrived quickly on the semi-busy Saturday morning.  It looked like the place fills up pretty quickly so the earlier you get here the better.\\r\\n\\r\\nDo yourself a favor and get their Bloody Mary.  It was phenomenal and simply the best I've ever had.  I'm pretty sure they only use ingredients from their garden and blend them fresh when you order it.  It was amazing.\\r\\n\\r\\nWhile EVERYTHING on the menu looks excellent, I had the white truffle scrambled eggs vegetable skillet and it was tasty and delicious.  It came with 2 pieces of their griddled bread with was amazing and it absolutely made the meal complete.  It was the best \"toast\" I've ever had.\\r\\n\\r\\nAnyway, I can't wait to go back!\n",
      "Name: text, dtype: object\n"
     ]
    }
   ],
   "source": [
    "#this lets us print out the contents of an entire cell\n",
    "pd.set_option('display.max_colwidth', -1) \n",
    "\n",
    "#lets look at a review\n",
    "print(yelp_best_worst.text[:1])"
   ]
  },
  {
   "cell_type": "markdown",
   "metadata": {},
   "source": [
    "## Part 2: Tokenization"
   ]
  },
  {
   "cell_type": "markdown",
   "metadata": {},
   "source": [
    "- **What:** breakdown text into component parts\n",
    "- **Why:** allows you to make unstructured data, structured and text data must be structured for analysis"
   ]
  },
  {
   "cell_type": "code",
   "execution_count": 11,
   "metadata": {
    "collapsed": true
   },
   "outputs": [],
   "source": [
    "#let's look at the vector options we can set\n",
    "vect = CountVectorizer() #instantiate CountVectorizer"
   ]
  },
  {
   "cell_type": "code",
   "execution_count": 12,
   "metadata": {},
   "outputs": [
    {
     "data": {
      "text/plain": [
       "CountVectorizer(analyzer='word', binary=False, decode_error='strict',\n",
       "                dtype=<class 'numpy.int64'>, encoding='utf-8', input='content',\n",
       "                lowercase=True, max_df=1.0, max_features=None, min_df=1,\n",
       "                ngram_range=(1, 1), preprocessor=None, stop_words=None,\n",
       "                strip_accents=None, token_pattern='(?u)\\\\b\\\\w\\\\w+\\\\b',\n",
       "                tokenizer=None, vocabulary=None)"
      ]
     },
     "execution_count": 12,
     "metadata": {},
     "output_type": "execute_result"
    }
   ],
   "source": [
    "vect"
   ]
  },
  {
   "cell_type": "markdown",
   "metadata": {},
   "source": [
    "Let's take a look at the [CountVectorizer documentation](http://scikit-learn.org/stable/modules/generated/sklearn.feature_extraction.text.CountVectorizer.html)"
   ]
  },
  {
   "cell_type": "code",
   "execution_count": 13,
   "metadata": {
    "collapsed": true
   },
   "outputs": [],
   "source": [
    "# use CountVectorizer to create document-term matrices from X_train and X_test\n",
    "\n",
    "X_train_dtm = vect.fit_transform(X_train)\n",
    "X_test_dtm = vect.transform(X_test)"
   ]
  },
  {
   "cell_type": "markdown",
   "metadata": {},
   "source": [
    "**[fit_transform](http://scikit-learn.org/stable/modules/generated/sklearn.feature_extraction.text.CountVectorizer.html#sklearn.feature_extraction.text.CountVectorizer.fit_transform)**: Learn the vocabulary dictionary and return term-document matrix."
   ]
  },
  {
   "cell_type": "code",
   "execution_count": 14,
   "metadata": {},
   "outputs": [
    {
     "data": {
      "text/plain": [
       "'\\nRows are documents (i.e. comments, tweets, blogs etc.), columns are terms (aka \"tokens\" or \"features\"). This creates a\\nwide and extremely sparse dataframe or document term matrix. \\n'"
      ]
     },
     "execution_count": 14,
     "metadata": {},
     "output_type": "execute_result"
    },
    {
     "data": {
      "text/plain": [
       "(3064, 16825)"
      ]
     },
     "execution_count": 14,
     "metadata": {},
     "output_type": "execute_result"
    }
   ],
   "source": [
    "'''\n",
    "Rows are documents (i.e. comments, tweets, blogs etc.), columns are terms (aka \"tokens\" or \"features\"). This creates a\n",
    "wide and extremely sparse dataframe or document term matrix. \n",
    "''' \n",
    "X_train_dtm.shape"
   ]
  },
  {
   "cell_type": "code",
   "execution_count": 15,
   "metadata": {},
   "outputs": [
    {
     "name": "stdout",
     "output_type": "stream",
     "text": [
      "first 50 features aka ngrams:    ['00', '000', '00a', '00am', '00pm', '01', '02', '03', '03342', '04', '05', '06', '07', '09', '0buxoc0crqjpvkezo3bqog', '0l', '10', '100', '1000', '1000x', '1001', '100th', '101', '102', '105', '1070', '108', '10am', '10ish', '10min', '10mins', '10minutes', '10pm', '10th', '10x', '11', '110', '1100', '111', '111th', '112', '115th', '118', '11a', '11am', '11p', '11pm', '12', '120', '128i']\n",
      "last 50 features aka ngrams:    ['yyyyy', 'z11', 'za', 'zabba', 'zach', 'zam', 'zanella', 'zankou', 'zappos', 'zatsiki', 'zen', 'zero', 'zest', 'zexperience', 'zha', 'zhou', 'zia', 'zihuatenejo', 'zilch', 'zin', 'zinburger', 'zinburgergeist', 'zinc', 'zinfandel', 'zing', 'zip', 'zipcar', 'zipper', 'zippers', 'zipps', 'ziti', 'zoe', 'zombi', 'zombies', 'zone', 'zones', 'zoning', 'zoo', 'zoyo', 'zucca', 'zucchini', 'zuchinni', 'zumba', 'zupa', 'zuzu', 'zwiebel', 'zzed', 'éclairs', 'école', 'ém']\n"
     ]
    }
   ],
   "source": [
    "# print first and last 50 features\n",
    "print('first 50 features aka ngrams:    ' + str(vect.get_feature_names()[:50]))\n",
    "\n",
    "print('last 50 features aka ngrams:    ' + str(vect.get_feature_names()[-50:]))"
   ]
  },
  {
   "cell_type": "code",
   "execution_count": 16,
   "metadata": {},
   "outputs": [
    {
     "data": {
      "text/plain": [
       "(3064, 20838)"
      ]
     },
     "execution_count": 16,
     "metadata": {},
     "output_type": "execute_result"
    }
   ],
   "source": [
    "# don't convert to lowercase\n",
    "vect = CountVectorizer(lowercase=False)\n",
    "X_train_dtm = vect.fit_transform(X_train)\n",
    "X_train_dtm.shape"
   ]
  },
  {
   "cell_type": "code",
   "execution_count": 17,
   "metadata": {},
   "outputs": [
    {
     "name": "stdout",
     "output_type": "stream",
     "text": [
      "['youthful', 'youtube', 'yow', 'yr', 'yrs', 'yu', 'yuck', 'yucky', 'yuk', 'yukon', 'yum', 'yumm', 'yummie', 'yummier', 'yumminess', 'yummm', 'yummmm', 'yummmmmmers', 'yummmmy', 'yummy', 'yumness', 'yup', 'yuppies', 'yuuuuummmmmyyy', 'yuyuyummy', 'yuzu', 'yyyyy', 'za', 'zen', 'zero', 'zest', 'zhou', 'zilch', 'zinc', 'zing', 'zip', 'zipper', 'ziti', 'zone', 'zones', 'zoning', 'zoo', 'zucchini', 'zuchinni', 'zupa', 'zwiebel', 'zzed', 'École', 'éclairs', 'ém']\n"
     ]
    }
   ],
   "source": [
    "# last 50 features\n",
    "print(vect.get_feature_names()[-50:])"
   ]
  },
  {
   "cell_type": "markdown",
   "metadata": {},
   "source": [
    "- Parameter **ngram_range:** tuple (min_n, max_n)\n",
    "    - The lower and upper boundary of the range of n-values for different n-grams to be extracted. All values of n such that min_n <= n <= max_n will be used."
   ]
  },
  {
   "cell_type": "code",
   "execution_count": 18,
   "metadata": {
    "collapsed": true
   },
   "outputs": [],
   "source": [
    "# create a set of unigrams, bigrams, and trigrams\n",
    "vect1 = CountVectorizer(ngram_range=(1,1)) #unigrams\n",
    "vect2 = CountVectorizer(ngram_range=(1,2)) #bigrams\n",
    "vect3 = CountVectorizer(ngram_range=(1,3)) #trigrams\n",
    "\n",
    "X_train_dtm1 = vect1.fit_transform(X_train)\n",
    "X_train_dtm2 = vect2.fit_transform(X_train)\n",
    "X_train_dtm3 = vect3.fit_transform(X_train)"
   ]
  },
  {
   "cell_type": "code",
   "execution_count": 19,
   "metadata": {},
   "outputs": [
    {
     "data": {
      "text/plain": [
       "(3064, 16825)"
      ]
     },
     "execution_count": 19,
     "metadata": {},
     "output_type": "execute_result"
    }
   ],
   "source": [
    "X_train_dtm1.shape"
   ]
  },
  {
   "cell_type": "code",
   "execution_count": 20,
   "metadata": {},
   "outputs": [
    {
     "data": {
      "text/plain": [
       "(3064, 169847)"
      ]
     },
     "execution_count": 20,
     "metadata": {},
     "output_type": "execute_result"
    }
   ],
   "source": [
    "X_train_dtm2.shape"
   ]
  },
  {
   "cell_type": "code",
   "execution_count": 21,
   "metadata": {},
   "outputs": [
    {
     "data": {
      "text/plain": [
       "(3064, 456398)"
      ]
     },
     "execution_count": 21,
     "metadata": {},
     "output_type": "execute_result"
    }
   ],
   "source": [
    "X_train_dtm3.shape"
   ]
  },
  {
   "cell_type": "code",
   "execution_count": 22,
   "metadata": {},
   "outputs": [
    {
     "name": "stdout",
     "output_type": "stream",
     "text": [
      "['zucchini', 'zuchinni', 'zumba', 'zupa', 'zuzu', 'zwiebel', 'zzed', 'éclairs', 'école', 'ém']\n"
     ]
    }
   ],
   "source": [
    "# last 10 features of unigrams\n",
    "print(vect1.get_feature_names()[-10:])"
   ]
  },
  {
   "cell_type": "code",
   "execution_count": 23,
   "metadata": {},
   "outputs": [
    {
     "name": "stdout",
     "output_type": "stream",
     "text": [
      "['zwiebel', 'zwiebel kräuter', 'zzed', 'zzed in', 'éclairs', 'éclairs napoleons', 'école', 'école lenôtre', 'ém', 'ém all']\n"
     ]
    }
   ],
   "source": [
    "# last 10 features of bigrams \n",
    "print(vect2.get_feature_names()[-10:])\n"
   ]
  },
  {
   "cell_type": "code",
   "execution_count": 24,
   "metadata": {},
   "outputs": [
    {
     "name": "stdout",
     "output_type": "stream",
     "text": [
      "['zzed in my', 'éclairs', 'éclairs napoleons', 'éclairs napoleons and', 'école', 'école lenôtre', 'école lenôtre trained', 'ém', 'ém all', 'ém all they']\n"
     ]
    }
   ],
   "source": [
    "# last 10 features of trigrams \n",
    "print(vect3.get_feature_names()[-10:])"
   ]
  },
  {
   "cell_type": "markdown",
   "metadata": {},
   "source": [
    "## Part 3: Predicting the star rating"
   ]
  },
  {
   "cell_type": "code",
   "execution_count": 25,
   "metadata": {},
   "outputs": [
    {
     "data": {
      "text/plain": [
       "SVC(C=1, cache_size=200, class_weight=None, coef0=0.0,\n",
       "    decision_function_shape='ovr', degree=3, gamma=0.001, kernel='rbf',\n",
       "    max_iter=-1, probability=False, random_state=None, shrinking=True,\n",
       "    tol=0.001, verbose=False)"
      ]
     },
     "execution_count": 25,
     "metadata": {},
     "output_type": "execute_result"
    },
    {
     "name": "stdout",
     "output_type": "stream",
     "text": [
      "Accuracy of a SVM with gamma of 0.001 and C of 1: 0.8737769080234834\n",
      "F1 score of a SVM with gamma of 0.001 and C of 1: 0.4941176470588236\n"
     ]
    }
   ],
   "source": [
    "# use default options for CountVectorizer\n",
    "vect = CountVectorizer()\n",
    "\n",
    "# create document-term matrices\n",
    "X_train_dtm = vect.fit_transform(X_train)\n",
    "X_test_dtm = vect.transform(X_test)\n",
    "\n",
    "# use a Support Vector Machine to predict the star rating\n",
    "from sklearn import svm\n",
    "svm = svm.SVC(gamma=0.001, C=1)\n",
    "svm.fit(X_train_dtm, y_train)\n",
    "y_pred_class = svm.predict(X_test_dtm)\n",
    "\n",
    "# calculate accuracy\n",
    "print('Accuracy of a SVM with gamma of 0.001 and C of 1:', metrics.accuracy_score(y_test, y_pred_class))\n",
    "\n",
    "print('F1 score of a SVM with gamma of 0.001 and C of 1:',metrics.f1_score(y_test, y_pred_class)) "
   ]
  },
  {
   "cell_type": "code",
   "execution_count": 26,
   "metadata": {},
   "outputs": [
    {
     "data": {
      "text/plain": [
       "best    0.819960861056751478\n",
       "worst   0.180039138943248522\n",
       "Name: rating, dtype: float64"
      ]
     },
     "execution_count": 26,
     "metadata": {},
     "output_type": "execute_result"
    }
   ],
   "source": [
    "# calculate null accuracy\n",
    "y_test_category = pd.DataFrame(np.where(y_test==5, 'best', 'worst'), columns = ['rating'])\n",
    "y_test_category.rating.value_counts() / len(y_test_category.rating) \n",
    "#calculate the average of each category, all thing absent the mean is the most basic way to model a set of data"
   ]
  },
  {
   "cell_type": "code",
   "execution_count": 27,
   "metadata": {
    "collapsed": true
   },
   "outputs": [],
   "source": [
    "# define a function that accepts a vectorizer and calculates precision \n",
    "#Recall that precision answers the question: What proportion of positive identifications was actually correct?\n",
    "#Represented as: True Positives/(True Positives + False Positives)\n",
    "#great link: https://towardsdatascience.com/accuracy-precision-recall-or-f1-331fb37c5cb9\n",
    "\n",
    "from sklearn import svm\n",
    "\n",
    "def tokenize_test(vect):\n",
    "    X_train_dtm = vect.fit_transform(X_train)\n",
    "    print('Features: ', X_train_dtm.shape[1])\n",
    "    X_test_dtm = vect.transform(X_test)\n",
    "    clf = svm.SVC(gamma=0.001, C=1)\n",
    "    clf.fit(X_train_dtm, y_train)\n",
    "    y_pred_class = clf.predict(X_test_dtm)\n",
    "    print('Precision: ', metrics.precision_score(y_test, y_pred_class))"
   ]
  },
  {
   "cell_type": "code",
   "execution_count": 28,
   "metadata": {},
   "outputs": [
    {
     "name": "stdout",
     "output_type": "stream",
     "text": [
      "Features:  16825\n",
      "Precision:  0.8873239436619719\n"
     ]
    }
   ],
   "source": [
    "vect = CountVectorizer()\n",
    "tokenize_test(vect)"
   ]
  },
  {
   "cell_type": "code",
   "execution_count": 29,
   "metadata": {},
   "outputs": [
    {
     "name": "stdout",
     "output_type": "stream",
     "text": [
      "Features:  16825\n",
      "Precision:  0.8873239436619719\n",
      "['zucchini', 'zuchinni', 'zumba', 'zupa', 'zuzu', 'zwiebel', 'zzed', 'éclairs', 'école', 'ém']\n"
     ]
    }
   ],
   "source": [
    "# include unigrams, default for CountVectorizer()\n",
    "vect1 = CountVectorizer(ngram_range=(0, 1))\n",
    "tokenize_test(vect1)\n",
    "print(vect.get_feature_names()[-10:])"
   ]
  },
  {
   "cell_type": "code",
   "execution_count": 30,
   "metadata": {},
   "outputs": [
    {
     "name": "stdout",
     "output_type": "stream",
     "text": [
      "Features:  169847\n",
      "Precision:  0.8985507246376812\n",
      "['zwiebel', 'zwiebel kräuter', 'zzed', 'zzed in', 'éclairs', 'éclairs napoleons', 'école', 'école lenôtre', 'ém', 'ém all']\n"
     ]
    }
   ],
   "source": [
    "# include bigrams\n",
    "vect2 = CountVectorizer(ngram_range=(1, 2))\n",
    "tokenize_test(vect2)\n",
    "print(vect2.get_feature_names()[-10:])"
   ]
  },
  {
   "cell_type": "code",
   "execution_count": 31,
   "metadata": {},
   "outputs": [
    {
     "name": "stdout",
     "output_type": "stream",
     "text": [
      "Features:  456398\n",
      "Precision:  0.9137931034482759\n",
      "['zzed in my', 'éclairs', 'éclairs napoleons', 'éclairs napoleons and', 'école', 'école lenôtre', 'école lenôtre trained', 'ém', 'ém all', 'ém all they']\n"
     ]
    }
   ],
   "source": [
    "# include trigrams\n",
    "vect3 = CountVectorizer(ngram_range=(1, 3))\n",
    "tokenize_test(vect3)\n",
    "print(vect3.get_feature_names()[-10:])"
   ]
  },
  {
   "cell_type": "code",
   "execution_count": 32,
   "metadata": {},
   "outputs": [
    {
     "name": "stdout",
     "output_type": "stream",
     "text": [
      "Features:  786270\n",
      "Precision:  0.92\n",
      "['éclairs napoleons and', 'éclairs napoleons and new', 'école', 'école lenôtre', 'école lenôtre trained', 'école lenôtre trained almond', 'ém', 'ém all', 'ém all they', 'ém all they were']\n"
     ]
    }
   ],
   "source": [
    "# include groups of 4 words\n",
    "vect4 = CountVectorizer(ngram_range=(1, 4))\n",
    "tokenize_test(vect4)\n",
    "print(vect4.get_feature_names()[-10:])"
   ]
  },
  {
   "cell_type": "markdown",
   "metadata": {},
   "source": [
    "## Part 3: Stopword Removal"
   ]
  },
  {
   "cell_type": "markdown",
   "metadata": {},
   "source": [
    "- **What:** Remove common words that will likely appear in any text\n",
    "- **Why:** They don't tell you much about your text"
   ]
  },
  {
   "cell_type": "code",
   "execution_count": 33,
   "metadata": {},
   "outputs": [
    {
     "data": {
      "text/plain": [
       "CountVectorizer(analyzer='word', binary=False, decode_error='strict',\n",
       "                dtype=<class 'numpy.int64'>, encoding='utf-8', input='content',\n",
       "                lowercase=True, max_df=1.0, max_features=None, min_df=1,\n",
       "                ngram_range=(1, 1), preprocessor=None, stop_words=None,\n",
       "                strip_accents=None, token_pattern='(?u)\\\\b\\\\w\\\\w+\\\\b',\n",
       "                tokenizer=None, vocabulary=None)"
      ]
     },
     "execution_count": 33,
     "metadata": {},
     "output_type": "execute_result"
    }
   ],
   "source": [
    "# show vectorizer options\n",
    "vect"
   ]
  },
  {
   "cell_type": "markdown",
   "metadata": {},
   "source": [
    "- **stop_words:** string {'english'}, list, or None (default)\n",
    "    - If 'english', a built-in stop word list for English is used.\n",
    "    - If a list, that list is assumed to contain stop words, all of which will be removed from the resulting tokens.\n",
    "    - If None, no stop words will be used. max_df can be set to a value in the range [0.7, 1.0) to automatically detect and filter stop words based on intra corpus document frequency of terms."
   ]
  },
  {
   "cell_type": "code",
   "execution_count": 34,
   "metadata": {},
   "outputs": [
    {
     "name": "stdout",
     "output_type": "stream",
     "text": [
      "Features:  470364\n",
      "Precision:  0.8636363636363636\n",
      "['éclairs napoleons new', 'éclairs napoleons new york', 'école', 'école lenôtre', 'école lenôtre trained', 'école lenôtre trained almond', 'ém', 'ém huge', 'ém huge ended', 'ém huge ended taking']\n"
     ]
    }
   ],
   "source": [
    "# remove English stop words and let's try predicting star ratings again \n",
    "vect_stop = CountVectorizer(stop_words='english', ngram_range=(1, 4))\n",
    "tokenize_test(vect_stop)\n",
    "print(vect_stop.get_feature_names()[-10:])"
   ]
  },
  {
   "cell_type": "code",
   "execution_count": 35,
   "metadata": {},
   "outputs": [
    {
     "name": "stdout",
     "output_type": "stream",
     "text": [
      "Features:  786270\n",
      "Precision:  0.92\n",
      "['éclairs napoleons and', 'éclairs napoleons and new', 'école', 'école lenôtre', 'école lenôtre trained', 'école lenôtre trained almond', 'ém', 'ém all', 'ém all they', 'ém all they were']\n"
     ]
    }
   ],
   "source": [
    "# hmmm seems like the stop words didn't do much let's check again, this time without removing stop words  \n",
    "vect_no_stop = CountVectorizer(stop_words=None, ngram_range=(1, 4))\n",
    "tokenize_test(vect_no_stop)\n",
    "print(vect_no_stop.get_feature_names()[-10:])"
   ]
  },
  {
   "cell_type": "markdown",
   "metadata": {},
   "source": [
    "#### So in this case, removing stop words is reducing our precision, although you could make the argument it's over fitting...what do you think? Why might we removing stop words reduce precision? \n",
    "Likely because stop words (listed below) are encoding important information about a review and because reviews are so short stopword usage actually becomes an important signal (see work by Pennebaker for more info on these kinds of words)"
   ]
  },
  {
   "cell_type": "code",
   "execution_count": 38,
   "metadata": {},
   "outputs": [
    {
     "name": "stdout",
     "output_type": "stream",
     "text": [
      "frozenset({'who', 'everyone', 'call', 'de', 'it', 'before', 'but', 'therein', 'each', 'own', 'take', 'except', 'show', 'nine', 'would', 'herein', 'afterwards', 'while', 'this', 'which', 'name', 'of', 'least', 'should', 'themselves', 'give', 'them', 'bill', 'against', 'everywhere', 'once', 'they', 'i', 'our', 'although', 'many', 'ie', 'describe', 'per', 'already', 'along', 'be', 'formerly', 'its', 'how', 'none', 'on', 'at', 'than', 'move', 'anything', 'being', 'any', 'in', 'however', 'interest', 'often', 'via', 'go', 'wherever', 'itself', 'meanwhile', 'also', 'her', 'from', 'might', 'been', 'yourselves', 'other', 'is', 'nowhere', 'all', 'besides', 'forty', 'eg', 'either', 'not', 'hers', 'empty', 'that', 'hence', 'those', 'nobody', 'too', 'there', 'same', 'yourself', 'could', 'off', 'onto', 'noone', 'a', 'becomes', 'five', 'wherein', 'until', 'over', 'whole', 'fifty', 'what', 'thereafter', 'nevertheless', 'see', 'must', 'may', 'some', 'down', 'ours', 'only', 'thus', 'hereby', 'four', 'further', 'more', 'back', 'such', 'below', 'someone', 'where', 'mill', 'twelve', 'whence', 'cant', 'everything', 'behind', 'thereby', 'six', 'serious', 'about', 'ten', 'herself', 'front', 'do', 'as', 'we', 'system', 'co', 'among', 'mostly', 'neither', 'done', 'to', 'anyone', 'put', 'throughout', 'hasnt', 'upon', 'therefore', 'whereby', 'whatever', 'con', 'whether', 'became', 'one', 'thru', 'please', 'whereafter', 'becoming', 'amount', 'find', 'himself', 'well', 'perhaps', 'above', 'hundred', 'has', 'myself', 'yet', 'then', 'others', 'every', 'etc', 'no', 're', 'get', 'keep', 'if', 'now', 'third', 'am', 'un', 'whereas', 'so', 'sixty', 'less', 'somewhere', 'had', 'something', 'namely', 'hereafter', 'him', 'fifteen', 'moreover', 'top', 'she', 'whereupon', 'have', 'found', 'full', 'into', 'twenty', 'nothing', 'through', 'you', 'eight', 'or', 'under', 'the', 'mine', 'thence', 'both', 'most', 'sometimes', 'whenever', 'elsewhere', 'otherwise', 'almost', 'somehow', 'latterly', 'amongst', 'much', 'why', 'sincere', 'side', 'these', 'between', 'after', 'seeming', 'beyond', 'hereupon', 'us', 'out', 'still', 'your', 'without', 'cry', 'seem', 'seemed', 'even', 'whom', 'together', 'he', 'fire', 'will', 'thereupon', 'eleven', 'beside', 'by', 'for', 'never', 'else', 'made', 'here', 'former', 'enough', 'again', 'his', 'very', 'toward', 'ourselves', 'were', 'around', 'up', 'during', 'bottom', 'detail', 'due', 'anywhere', 'thick', 'because', 'are', 'an', 'and', 'three', 'sometime', 'towards', 'beforehand', 'yours', 'was', 'latter', 'couldnt', 'several', 'another', 'within', 'rather', 'their', 'whoever', 'next', 'since', 'first', 'can', 'me', 'ltd', 'cannot', 'nor', 'amoungst', 'alone', 'my', 'two', 'last', 'seems', 'whither', 'ever', 'always', 'though', 'anyhow', 'anyway', 'fill', 'whose', 'across', 'become', 'indeed', 'few', 'thin', 'part', 'inc', 'with', 'when'})\n"
     ]
    }
   ],
   "source": [
    "# set of stop words from sklearn \n",
    "print(vect_stop.get_stop_words())"
   ]
  },
  {
   "cell_type": "markdown",
   "metadata": {},
   "source": [
    "## Part 4: Other CountVectorizer Options"
   ]
  },
  {
   "cell_type": "markdown",
   "metadata": {},
   "source": [
    "- **max_features:** int or None, default=None\n",
    "- If not None, build a vocabulary that only consider the top max_features ordered by **term frequency** across the corpus. Term frequency is the number of times the term appears in the corpus. Thus if it takes the first 100 features then it's taking the first 100 most frequently occuring bigrams/trigrams etc. "
   ]
  },
  {
   "cell_type": "code",
   "execution_count": 39,
   "metadata": {},
   "outputs": [
    {
     "name": "stdout",
     "output_type": "stream",
     "text": [
      "Features:  100\n",
      "Precision:  0.8888888888888888\n",
      "['amazing', 'area', 'atmosphere', 'awesome', 'bad', 'bar', 'best', 'better', 'big', 'came', 'cheese', 'chicken', 'clean', 'coffee', 'come', 'day', 'definitely', 'delicious', 'did', 'didn', 'dinner', 'don', 'eat', 'excellent', 'experience', 'favorite', 'feel', 'food', 'free', 'fresh', 'friendly', 'friends', 'going', 'good', 'got', 'great', 'happy', 'home', 'hot', 'hour', 'just', 'know', 'like', 'little', 'll', 'location', 'long', 'looking', 'lot', 'love', 'lunch', 'make', 'meal', 'menu', 'minutes', 'need', 'new', 'nice', 'night', 'order', 'ordered', 'people', 'perfect', 'phoenix', 'pizza', 'place', 'pretty', 'prices', 'really', 'recommend', 'restaurant', 'right', 'said', 'salad', 'sandwich', 'sauce', 'say', 'service', 'staff', 'store', 'sure', 'table', 'thing', 'things', 'think', 'time', 'times', 'took', 'town', 'tried', 'try', 've', 'wait', 'want', 'way', 'went', 'wine', 'work', 'worth', 'years']\n"
     ]
    }
   ],
   "source": [
    "# remove English stop words and only keep 100 features\n",
    "vect_max100 = CountVectorizer(stop_words='english', max_features=100)\n",
    "tokenize_test(vect_max100)\n",
    "print(vect_max100.get_feature_names()) #[0:100]"
   ]
  },
  {
   "cell_type": "code",
   "execution_count": 40,
   "metadata": {},
   "outputs": [
    {
     "name": "stdout",
     "output_type": "stream",
     "text": [
      "Features:  100000\n",
      "Precision:  0.9014084507042254\n",
      "['00', '00 25', '00 am', '00 amazing', '00 and', '00 at', '00 before', '00 bill', '00 can', '00 charge', '00 cover', '00 credit', '00 did', '00 each', '00 entree', '00 etc', '00 everyday', '00 extra', '00 food', '00 for', '00 gift', '00 here', '00 minimum', '00 night', '00 off', '00 on', '00 pair', '00 per', '00 pm', '00 price', '00 really', '00 seating', '00 seriously', '00 seven', '00 that', '00 the', '00 there', '00 they', '00 this', '00 though', '00 tip', '00 was', '00 we', '00 wish', '00 with', '000', '000 at', '000 in', '000 miles', '000 people', '000 thats', '000 they', '00a', '00a and', '00am', '00am 00pm', '00am before', '00am the', '00am then', '00am you', '00pm', '00pm and', '00pm information', '00pm my', '00pm oops', '00pm the', '01', '01 04', '01 16', '01 the', '02', '02 2010', '03', '03 pm', '03342', '03342 cents', '04', '04 2012', '05', '05 few', '05 minutes', '06', '06 hyundai', '07', '07 09', '07 after', '07 am', '07 ll', '07 think', '07 was', '07 we', '07 what', '09', '09 2008', '09 when', '0buxoc0crqjpvkezo3bqog', '0buxoc0crqjpvkezo3bqog select', '0l', '0l 8v', '10']\n"
     ]
    }
   ],
   "source": [
    "# repeat with bigrams, and limit the number of features to 100,000, recall the previous features was approx `170K\n",
    "vect_tri_100k = CountVectorizer(ngram_range=(1, 2), max_features=100000)\n",
    "tokenize_test(vect_tri_100k)\n",
    "print(vect_tri_100k.get_feature_names()[0:100]) "
   ]
  },
  {
   "cell_type": "code",
   "execution_count": 41,
   "metadata": {},
   "outputs": [
    {
     "name": "stdout",
     "output_type": "stream",
     "text": [
      "Features:  30000\n",
      "Precision:  0.9054054054054054\n",
      "['00', '00 am', '00 and', '00 for', '00 the', '000', '000 miles', '00am', '00pm', '01', '07', '09', '10', '10 000', '10 15', '10 30', '10 and', '10 bucks', '10 different', '10 for', '10 min', '10 minutes', '10 or', '10 they', '10 times', '10 years', '100', '100 to', '1000', '101', '10am', '10min', '10th', '11', '11 18', '110', '11am', '11pm', '12', '12 30', '12 and', '12 for', '12 hours', '12 years', '120', '12oz', '13', '13 years', '14', '14 99', '140', '15', '15 20', '15 different', '15 for', '15 min', '15 mins', '15 minutes', '15 years', '150', '16', '160', '17', '17 years', '18', '18 for', '180', '19', '1980', '1st', '1st time', '20', '20 00', '20 for', '20 min', '20 minutes', '20 off', '20 people', '20 per', '20 times', '20 years', '200', '2006', '2008', '2009', '2010', '2011', '2012', '20th', '21', '22', '23', '24', '24 hours', '24th', '25', '25 and', '25 for', '25 off', '250']\n"
     ]
    }
   ],
   "source": [
    "# include bigrams, and limit the number of features 30,000\n",
    "vect_tri_30k = CountVectorizer(ngram_range=(1, 2), max_features=30000)\n",
    "tokenize_test(vect_tri_30k)\n",
    "print(vect_tri_30k.get_feature_names()[0:100])"
   ]
  },
  {
   "cell_type": "markdown",
   "metadata": {},
   "source": [
    "### What I find interesting here is that both of these cases at least 100 of the features are years or numbers likely having to do with wait times or time of day or cost. "
   ]
  },
  {
   "cell_type": "markdown",
   "metadata": {},
   "source": [
    "CountVectorizer parameter: \n",
    "- **min_df:** float in range [0.0, 1.0] or int, default=1\n",
    "    - When building the vocabulary ignore terms that have a document frequency lower than a given threshold. This value. If float, the parameter represents a proportion of documents, integer absolute counts."
   ]
  },
  {
   "cell_type": "code",
   "execution_count": 42,
   "metadata": {},
   "outputs": [
    {
     "name": "stdout",
     "output_type": "stream",
     "text": [
      "Features:  30000\n",
      "Precision:  0.9054054054054054\n",
      "['your super', 'your table', 'your taste', 'your teeth', 'your time', 'your to', 'your tongue', 'your typical', 'your waist', 'your wallet', 'your way', 'your whole', 'yours', 'yourself', 'yourself and', 'yourself favor', 'yourself in', 'yourself the', 'yourself with', 'yourself you', 'yr', 'yr old', 'yrs', 'yuck', 'yucky', 'yukon', 'yukon gold', 'yum', 'yum and', 'yum the', 'yum yum', 'yumm', 'yummm', 'yummy', 'yummy and', 'yummy the', 'yummy too', 'yummy we', 'yung', 'yup', 'zach', 'zen', 'zero', 'zero stars', 'zinburger', 'zoe', 'zone', 'zoo', 'zucchini', 'zumba']\n"
     ]
    }
   ],
   "source": [
    "# include bigrams, and only include terms that appear at least 2 times\n",
    "vect_min2 = CountVectorizer(ngram_range=(1, 2),  max_features=30000, min_df=2)\n",
    "tokenize_test(vect_min2)\n",
    "print(vect_min2.get_feature_names()[-50:])"
   ]
  },
  {
   "cell_type": "code",
   "execution_count": 43,
   "metadata": {},
   "outputs": [
    {
     "name": "stdout",
     "output_type": "stream",
     "text": [
      "Features:  14113\n",
      "Precision:  0.9066666666666666\n",
      "['young', 'your', 'your average', 'your body', 'your business', 'your car', 'your choice', 'your customers', 'your dog', 'your experience', 'your eyes', 'your face', 'your favorite', 'your first', 'your food', 'your friends', 'your guests', 'your hair', 'your hand', 'your hands', 'your job', 'your life', 'your looking', 'your meal', 'your mind', 'your money', 'your mouth', 'your name', 'your order', 'your own', 'your place', 'your table', 'your taste', 'your time', 'your tongue', 'your typical', 'your way', 'yourself', 'yourself favor', 'yourself with', 'yuck', 'yum', 'yum yum', 'yummy', 'yummy and', 'yup', 'zen', 'zero', 'zinburger', 'zucchini']\n"
     ]
    }
   ],
   "source": [
    "# include bigrams, and only include terms that appear at least 5 times\n",
    "vect_min5 = CountVectorizer(ngram_range=(1, 2),  max_features=30000, min_df=5)\n",
    "tokenize_test(vect_min5)\n",
    "print(vect_min5.get_feature_names()[-50:])\n",
    "#note that there are not 30K bigrams that match the min_df constraint\n",
    "#also note that the precision increased to .906"
   ]
  },
  {
   "cell_type": "markdown",
   "metadata": {},
   "source": [
    "## Part 5: TextBlob for simplified text processing"
   ]
  },
  {
   "cell_type": "code",
   "execution_count": 44,
   "metadata": {},
   "outputs": [
    {
     "name": "stdout",
     "output_type": "stream",
     "text": [
      "My wife took me here on my birthday for breakfast and it was excellent.  The weather was perfect which made sitting outside overlooking their grounds an absolute pleasure.  Our waitress was excellent and our food arrived quickly on the semi-busy Saturday morning.  It looked like the place fills up pretty quickly so the earlier you get here the better.\n",
      "\n",
      "Do yourself a favor and get their Bloody Mary.  It was phenomenal and simply the best I've ever had.  I'm pretty sure they only use ingredients from their garden and blend them fresh when you order it.  It was amazing.\n",
      "\n",
      "While EVERYTHING on the menu looks excellent, I had the white truffle scrambled eggs vegetable skillet and it was tasty and delicious.  It came with 2 pieces of their griddled bread with was amazing and it absolutely made the meal complete.  It was the best \"toast\" I've ever had.\n",
      "\n",
      "Anyway, I can't wait to go back!\n"
     ]
    }
   ],
   "source": [
    "# print the first review\n",
    "print(yelp_best_worst.text[0])"
   ]
  },
  {
   "cell_type": "code",
   "execution_count": 45,
   "metadata": {},
   "outputs": [],
   "source": [
    "review1 = TextBlob(yelp_best_worst.text[0])"
   ]
  },
  {
   "cell_type": "code",
   "execution_count": 46,
   "metadata": {},
   "outputs": [
    {
     "data": {
      "text/plain": [
       "WordList(['My', 'wife', 'took', 'me', 'here', 'on', 'my', 'birthday', 'for', 'breakfast', 'and', 'it', 'was', 'excellent', 'The', 'weather', 'was', 'perfect', 'which', 'made', 'sitting', 'outside', 'overlooking', 'their', 'grounds', 'an', 'absolute', 'pleasure', 'Our', 'waitress', 'was', 'excellent', 'and', 'our', 'food', 'arrived', 'quickly', 'on', 'the', 'semi-busy', 'Saturday', 'morning', 'It', 'looked', 'like', 'the', 'place', 'fills', 'up', 'pretty', 'quickly', 'so', 'the', 'earlier', 'you', 'get', 'here', 'the', 'better', 'Do', 'yourself', 'a', 'favor', 'and', 'get', 'their', 'Bloody', 'Mary', 'It', 'was', 'phenomenal', 'and', 'simply', 'the', 'best', 'I', \"'ve\", 'ever', 'had', 'I', \"'m\", 'pretty', 'sure', 'they', 'only', 'use', 'ingredients', 'from', 'their', 'garden', 'and', 'blend', 'them', 'fresh', 'when', 'you', 'order', 'it', 'It', 'was', 'amazing', 'While', 'EVERYTHING', 'on', 'the', 'menu', 'looks', 'excellent', 'I', 'had', 'the', 'white', 'truffle', 'scrambled', 'eggs', 'vegetable', 'skillet', 'and', 'it', 'was', 'tasty', 'and', 'delicious', 'It', 'came', 'with', '2', 'pieces', 'of', 'their', 'griddled', 'bread', 'with', 'was', 'amazing', 'and', 'it', 'absolutely', 'made', 'the', 'meal', 'complete', 'It', 'was', 'the', 'best', 'toast', 'I', \"'ve\", 'ever', 'had', 'Anyway', 'I', 'ca', \"n't\", 'wait', 'to', 'go', 'back'])"
      ]
     },
     "execution_count": 46,
     "metadata": {},
     "output_type": "execute_result"
    }
   ],
   "source": [
    "# list the words\n",
    "review1.words"
   ]
  },
  {
   "cell_type": "code",
   "execution_count": 47,
   "metadata": {},
   "outputs": [
    {
     "data": {
      "text/plain": [
       "[Sentence(\"My wife took me here on my birthday for breakfast and it was excellent.\"),\n",
       " Sentence(\"The weather was perfect which made sitting outside overlooking their grounds an absolute pleasure.\"),\n",
       " Sentence(\"Our waitress was excellent and our food arrived quickly on the semi-busy Saturday morning.\"),\n",
       " Sentence(\"It looked like the place fills up pretty quickly so the earlier you get here the better.\"),\n",
       " Sentence(\"Do yourself a favor and get their Bloody Mary.\"),\n",
       " Sentence(\"It was phenomenal and simply the best I've ever had.\"),\n",
       " Sentence(\"I'm pretty sure they only use ingredients from their garden and blend them fresh when you order it.\"),\n",
       " Sentence(\"It was amazing.\"),\n",
       " Sentence(\"While EVERYTHING on the menu looks excellent, I had the white truffle scrambled eggs vegetable skillet and it was tasty and delicious.\"),\n",
       " Sentence(\"It came with 2 pieces of their griddled bread with was amazing and it absolutely made the meal complete.\"),\n",
       " Sentence(\"It was the best \"toast\" I've ever had.\"),\n",
       " Sentence(\"Anyway, I can't wait to go back!\")]"
      ]
     },
     "execution_count": 47,
     "metadata": {},
     "output_type": "execute_result"
    }
   ],
   "source": [
    "# list the sentences\n",
    "review1.sentences"
   ]
  },
  {
   "cell_type": "code",
   "execution_count": 48,
   "metadata": {},
   "outputs": [
    {
     "data": {
      "text/plain": [
       "TextBlob(\"my wife took me here on my birthday for breakfast and it was excellent.  the weather was perfect which made sitting outside overlooking their grounds an absolute pleasure.  our waitress was excellent and our food arrived quickly on the semi-busy saturday morning.  it looked like the place fills up pretty quickly so the earlier you get here the better.\n",
       "\n",
       "do yourself a favor and get their bloody mary.  it was phenomenal and simply the best i've ever had.  i'm pretty sure they only use ingredients from their garden and blend them fresh when you order it.  it was amazing.\n",
       "\n",
       "while everything on the menu looks excellent, i had the white truffle scrambled eggs vegetable skillet and it was tasty and delicious.  it came with 2 pieces of their griddled bread with was amazing and it absolutely made the meal complete.  it was the best \"toast\" i've ever had.\n",
       "\n",
       "anyway, i can't wait to go back!\")"
      ]
     },
     "execution_count": 48,
     "metadata": {},
     "output_type": "execute_result"
    }
   ],
   "source": [
    "# some string methods are available\n",
    "review1.lower()"
   ]
  },
  {
   "cell_type": "markdown",
   "metadata": {},
   "source": [
    "## Part 6: Stemming and Lemmatization"
   ]
  },
  {
   "cell_type": "markdown",
   "metadata": {},
   "source": [
    "**Stemming:**\n",
    "\n",
    "- **What:** Reduce a word to its base/stem/root form\n",
    "- **Why:** Often makes sense to treat related words the same way\n",
    "- **Notes:**\n",
    "    - Uses a \"simple\" and fast rule-based approach\n",
    "    - Stemmed words are usually not shown to users (used for analysis/indexing)\n",
    "    - Some search engines treat words with the same stem as synonyms"
   ]
  },
  {
   "cell_type": "code",
   "execution_count": 52,
   "metadata": {},
   "outputs": [
    {
     "name": "stdout",
     "output_type": "stream",
     "text": [
      "['my', 'wife', 'took', 'me', 'here', 'on', 'my', 'birthday', 'for', 'breakfast', 'and', 'it', 'was', 'excel', 'the', 'weather', 'was', 'perfect', 'which', 'made', 'sit', 'outsid', 'overlook', 'their', 'ground', 'an', 'absolut', 'pleasur', 'our', 'waitress', 'was', 'excel', 'and', 'our', 'food', 'arriv', 'quick', 'on', 'the', 'semi-busi', 'saturday', 'morn', 'it', 'look', 'like', 'the', 'place', 'fill', 'up', 'pretti', 'quick', 'so', 'the', 'earlier', 'you', 'get', 'here', 'the', 'better', 'do', 'yourself', 'a', 'favor', 'and', 'get', 'their', 'bloodi', 'mari', 'it', 'was', 'phenomen', 'and', 'simpli', 'the', 'best', 'i', 've', 'ever', 'had', 'i', \"'m\", 'pretti', 'sure', 'they', 'onli', 'use', 'ingredi', 'from', 'their', 'garden', 'and', 'blend', 'them', 'fresh', 'when', 'you', 'order', 'it', 'it', 'was', 'amaz', 'while', 'everyth', 'on', 'the', 'menu', 'look', 'excel', 'i', 'had', 'the', 'white', 'truffl', 'scrambl', 'egg', 'veget', 'skillet', 'and', 'it', 'was', 'tasti', 'and', 'delici', 'it', 'came', 'with', '2', 'piec', 'of', 'their', 'griddl', 'bread', 'with', 'was', 'amaz', 'and', 'it', 'absolut', 'made', 'the', 'meal', 'complet', 'it', 'was', 'the', 'best', 'toast', 'i', 've', 'ever', 'had', 'anyway', 'i', 'ca', \"n't\", 'wait', 'to', 'go', 'back']\n"
     ]
    }
   ],
   "source": [
    "# initialize stemmer\n",
    "stemmer = SnowballStemmer('english')\n",
    "\n",
    "# stem each word\n",
    "print([stemmer.stem(word) for word in review1.words])"
   ]
  },
  {
   "cell_type": "markdown",
   "metadata": {},
   "source": [
    "**Lemmatization**\n",
    "\n",
    "- **What:** Derive the canonical form ('lemma') of a word\n",
    "- **Why:** Can be better than stemming\n",
    "- **Notes:** Uses a dictionary-based approach (slower than stemming)"
   ]
  },
  {
   "cell_type": "code",
   "execution_count": 54,
   "metadata": {},
   "outputs": [
    {
     "name": "stderr",
     "output_type": "stream",
     "text": [
      "[nltk_data] Downloading package wordnet to\n",
      "[nltk_data]     C:\\Users\\joweave\\AppData\\Roaming\\nltk_data...\n",
      "[nltk_data]   Unzipping corpora\\wordnet.zip.\n"
     ]
    },
    {
     "data": {
      "text/plain": [
       "True"
      ]
     },
     "execution_count": 54,
     "metadata": {},
     "output_type": "execute_result"
    },
    {
     "name": "stdout",
     "output_type": "stream",
     "text": [
      "['My', 'wife', 'took', 'me', 'here', 'on', 'my', 'birthday', 'for', 'breakfast', 'and', 'it', 'wa', 'excellent', 'The', 'weather', 'wa', 'perfect', 'which', 'made', 'sitting', 'outside', 'overlooking', 'their', 'ground', 'an', 'absolute', 'pleasure', 'Our', 'waitress', 'wa', 'excellent', 'and', 'our', 'food', 'arrived', 'quickly', 'on', 'the', 'semi-busy', 'Saturday', 'morning', 'It', 'looked', 'like', 'the', 'place', 'fill', 'up', 'pretty', 'quickly', 'so', 'the', 'earlier', 'you', 'get', 'here', 'the', 'better', 'Do', 'yourself', 'a', 'favor', 'and', 'get', 'their', 'Bloody', 'Mary', 'It', 'wa', 'phenomenal', 'and', 'simply', 'the', 'best', 'I', \"'ve\", 'ever', 'had', 'I', \"'m\", 'pretty', 'sure', 'they', 'only', 'use', 'ingredient', 'from', 'their', 'garden', 'and', 'blend', 'them', 'fresh', 'when', 'you', 'order', 'it', 'It', 'wa', 'amazing', 'While', 'EVERYTHING', 'on', 'the', 'menu', 'look', 'excellent', 'I', 'had', 'the', 'white', 'truffle', 'scrambled', 'egg', 'vegetable', 'skillet', 'and', 'it', 'wa', 'tasty', 'and', 'delicious', 'It', 'came', 'with', '2', 'piece', 'of', 'their', 'griddled', 'bread', 'with', 'wa', 'amazing', 'and', 'it', 'absolutely', 'made', 'the', 'meal', 'complete', 'It', 'wa', 'the', 'best', 'toast', 'I', \"'ve\", 'ever', 'had', 'Anyway', 'I', 'ca', \"n't\", 'wait', 'to', 'go', 'back']\n"
     ]
    }
   ],
   "source": [
    "# assume every word is a noun\n",
    "print([word.lemmatize() for word in review1.words])"
   ]
  },
  {
   "cell_type": "code",
   "execution_count": 55,
   "metadata": {},
   "outputs": [
    {
     "name": "stdout",
     "output_type": "stream",
     "text": [
      "['My', 'wife', 'take', 'me', 'here', 'on', 'my', 'birthday', 'for', 'breakfast', 'and', 'it', 'be', 'excellent', 'The', 'weather', 'be', 'perfect', 'which', 'make', 'sit', 'outside', 'overlook', 'their', 'ground', 'an', 'absolute', 'pleasure', 'Our', 'waitress', 'be', 'excellent', 'and', 'our', 'food', 'arrive', 'quickly', 'on', 'the', 'semi-busy', 'Saturday', 'morning', 'It', 'look', 'like', 'the', 'place', 'fill', 'up', 'pretty', 'quickly', 'so', 'the', 'earlier', 'you', 'get', 'here', 'the', 'better', 'Do', 'yourself', 'a', 'favor', 'and', 'get', 'their', 'Bloody', 'Mary', 'It', 'be', 'phenomenal', 'and', 'simply', 'the', 'best', 'I', \"'ve\", 'ever', 'have', 'I', \"'m\", 'pretty', 'sure', 'they', 'only', 'use', 'ingredients', 'from', 'their', 'garden', 'and', 'blend', 'them', 'fresh', 'when', 'you', 'order', 'it', 'It', 'be', 'amaze', 'While', 'EVERYTHING', 'on', 'the', 'menu', 'look', 'excellent', 'I', 'have', 'the', 'white', 'truffle', 'scramble', 'egg', 'vegetable', 'skillet', 'and', 'it', 'be', 'tasty', 'and', 'delicious', 'It', 'come', 'with', '2', 'piece', 'of', 'their', 'griddle', 'bread', 'with', 'be', 'amaze', 'and', 'it', 'absolutely', 'make', 'the', 'meal', 'complete', 'It', 'be', 'the', 'best', 'toast', 'I', \"'ve\", 'ever', 'have', 'Anyway', 'I', 'ca', \"n't\", 'wait', 'to', 'go', 'back']\n"
     ]
    }
   ],
   "source": [
    "# assume every word is a verb\n",
    "print([word.lemmatize(pos='v') for word in review1.words])"
   ]
  },
  {
   "cell_type": "code",
   "execution_count": 66,
   "metadata": {
    "collapsed": true
   },
   "outputs": [],
   "source": [
    "# define a function that accepts text and returns a list of lemmas\n",
    "def split_into_lemmas(text):\n",
    "    #text = str.encode(encoding=\"utf-8\", errors=\"ignore\") #unicode(text, 'utf-8').lower()\n",
    "    words = TextBlob(text).words\n",
    "    return [word.lemmatize() for word in words]"
   ]
  },
  {
   "cell_type": "code",
   "execution_count": 68,
   "metadata": {},
   "outputs": [
    {
     "name": "stdout",
     "output_type": "stream",
     "text": [
      "Features:  20590\n",
      "Precision:  0.8793103448275862\n",
      "['yourselves', 'youth', 'youthful', 'yow', 'yr', 'yu', 'yuck', 'yucky', 'yuk', 'yukon', 'yum', 'yumm', 'yummie', 'yummier', 'yumminess', 'yummm', 'yummmm', 'yummmmmmers', 'yummmmy', 'yummy', 'yummy-we', 'yumness', 'yup', 'yuppie', 'yuuuuummmmmyyy', 'yuyuyummy', 'yuzu', 'zen', 'zen-like', 'zero', 'zero-star', 'zest', 'zhou', 'zilch', 'zinc', 'zing', 'zip', 'zipper', 'ziti', 'zone', 'zoning', 'zoo', 'zucchini', 'zuchinni', 'zupa', 'zwiebel-kräuter', 'zzed', 'École', 'éclairs', 'ém']\n"
     ]
    }
   ],
   "source": [
    "# use split_into_lemmas as the feature extraction function (WARNING: SLOW!)\n",
    "vect_lemmas = CountVectorizer(analyzer=split_into_lemmas)\n",
    "tokenize_test(vect_lemmas)\n",
    "print(vect_lemmas.get_feature_names()[-50:])"
   ]
  },
  {
   "cell_type": "code",
   "execution_count": 70,
   "metadata": {},
   "outputs": [
    {
     "name": "stdout",
     "output_type": "stream",
     "text": [
      "['zero-star', 'zest', 'zhou', 'zilch', 'zinc', 'zing', 'zip', 'zipper', 'ziti', 'zone', 'zoning', 'zoo', 'zucchini', 'zuchinni', 'zupa', 'zwiebel-kräuter', 'zzed', 'École', 'éclairs', 'ém']\n"
     ]
    }
   ],
   "source": [
    "# last 20 features\n",
    "print(vect_lemmas.get_feature_names()[-20:])"
   ]
  },
  {
   "cell_type": "markdown",
   "metadata": {},
   "source": [
    "## Part 7: Term Frequency-Inverse Document Frequency (TF-IDF)"
   ]
  },
  {
   "cell_type": "markdown",
   "metadata": {},
   "source": [
    "- **What:** Computes \"relative frequency\" that a word appears in a document compared to its frequency across all documents\n",
    "- **Why:** More useful than \"term frequency\" for identifying \"important\" words in each document (high frequency in that document, low frequency in other documents)\n",
    "- **Notes:** Used for search engine scoring, text summarization, document clustering"
   ]
  },
  {
   "cell_type": "code",
   "execution_count": 71,
   "metadata": {
    "collapsed": true
   },
   "outputs": [],
   "source": [
    "# example documents\n",
    "simple_train = ['call you tonight', 'Call me a cab', 'please call me... PLEASE!']"
   ]
  },
  {
   "cell_type": "code",
   "execution_count": 72,
   "metadata": {},
   "outputs": [
    {
     "data": {
      "text/html": [
       "<div>\n",
       "<style scoped>\n",
       "    .dataframe tbody tr th:only-of-type {\n",
       "        vertical-align: middle;\n",
       "    }\n",
       "\n",
       "    .dataframe tbody tr th {\n",
       "        vertical-align: top;\n",
       "    }\n",
       "\n",
       "    .dataframe thead th {\n",
       "        text-align: right;\n",
       "    }\n",
       "</style>\n",
       "<table border=\"1\" class=\"dataframe\">\n",
       "  <thead>\n",
       "    <tr style=\"text-align: right;\">\n",
       "      <th></th>\n",
       "      <th>cab</th>\n",
       "      <th>call</th>\n",
       "      <th>me</th>\n",
       "      <th>please</th>\n",
       "      <th>tonight</th>\n",
       "      <th>you</th>\n",
       "    </tr>\n",
       "  </thead>\n",
       "  <tbody>\n",
       "    <tr>\n",
       "      <th>0</th>\n",
       "      <td>0</td>\n",
       "      <td>1</td>\n",
       "      <td>0</td>\n",
       "      <td>0</td>\n",
       "      <td>1</td>\n",
       "      <td>1</td>\n",
       "    </tr>\n",
       "    <tr>\n",
       "      <th>1</th>\n",
       "      <td>1</td>\n",
       "      <td>1</td>\n",
       "      <td>1</td>\n",
       "      <td>0</td>\n",
       "      <td>0</td>\n",
       "      <td>0</td>\n",
       "    </tr>\n",
       "    <tr>\n",
       "      <th>2</th>\n",
       "      <td>0</td>\n",
       "      <td>1</td>\n",
       "      <td>1</td>\n",
       "      <td>2</td>\n",
       "      <td>0</td>\n",
       "      <td>0</td>\n",
       "    </tr>\n",
       "  </tbody>\n",
       "</table>\n",
       "</div>"
      ],
      "text/plain": [
       "   cab  call  me  please  tonight  you\n",
       "0  0    1     0   0       1        1  \n",
       "1  1    1     1   0       0        0  \n",
       "2  0    1     1   2       0        0  "
      ]
     },
     "execution_count": 72,
     "metadata": {},
     "output_type": "execute_result"
    }
   ],
   "source": [
    "# Term Frequency\n",
    "vect = CountVectorizer()\n",
    "tf = pd.DataFrame(vect.fit_transform(simple_train).toarray(), columns=vect.get_feature_names())\n",
    "tf"
   ]
  },
  {
   "cell_type": "code",
   "execution_count": 73,
   "metadata": {},
   "outputs": [
    {
     "data": {
      "text/html": [
       "<div>\n",
       "<style scoped>\n",
       "    .dataframe tbody tr th:only-of-type {\n",
       "        vertical-align: middle;\n",
       "    }\n",
       "\n",
       "    .dataframe tbody tr th {\n",
       "        vertical-align: top;\n",
       "    }\n",
       "\n",
       "    .dataframe thead th {\n",
       "        text-align: right;\n",
       "    }\n",
       "</style>\n",
       "<table border=\"1\" class=\"dataframe\">\n",
       "  <thead>\n",
       "    <tr style=\"text-align: right;\">\n",
       "      <th></th>\n",
       "      <th>cab</th>\n",
       "      <th>call</th>\n",
       "      <th>me</th>\n",
       "      <th>please</th>\n",
       "      <th>tonight</th>\n",
       "      <th>you</th>\n",
       "    </tr>\n",
       "  </thead>\n",
       "  <tbody>\n",
       "    <tr>\n",
       "      <th>0</th>\n",
       "      <td>1</td>\n",
       "      <td>3</td>\n",
       "      <td>2</td>\n",
       "      <td>1</td>\n",
       "      <td>1</td>\n",
       "      <td>1</td>\n",
       "    </tr>\n",
       "  </tbody>\n",
       "</table>\n",
       "</div>"
      ],
      "text/plain": [
       "   cab  call  me  please  tonight  you\n",
       "0  1    3     2   1       1        1  "
      ]
     },
     "execution_count": 73,
     "metadata": {},
     "output_type": "execute_result"
    }
   ],
   "source": [
    "# Document Frequency\n",
    "vect = CountVectorizer(binary=True)\n",
    "df = vect.fit_transform(simple_train).toarray().sum(axis=0)\n",
    "pd.DataFrame(df.reshape(1, 6), columns=vect.get_feature_names())"
   ]
  },
  {
   "cell_type": "code",
   "execution_count": 29,
   "metadata": {},
   "outputs": [
    {
     "data": {
      "text/html": [
       "<div>\n",
       "<style>\n",
       "    .dataframe thead tr:only-child th {\n",
       "        text-align: right;\n",
       "    }\n",
       "\n",
       "    .dataframe thead th {\n",
       "        text-align: left;\n",
       "    }\n",
       "\n",
       "    .dataframe tbody tr th {\n",
       "        vertical-align: top;\n",
       "    }\n",
       "</style>\n",
       "<table border=\"1\" class=\"dataframe\">\n",
       "  <thead>\n",
       "    <tr style=\"text-align: right;\">\n",
       "      <th></th>\n",
       "      <th>cab</th>\n",
       "      <th>call</th>\n",
       "      <th>me</th>\n",
       "      <th>please</th>\n",
       "      <th>tonight</th>\n",
       "      <th>you</th>\n",
       "    </tr>\n",
       "  </thead>\n",
       "  <tbody>\n",
       "    <tr>\n",
       "      <th>0</th>\n",
       "      <td>0.0</td>\n",
       "      <td>0.333333</td>\n",
       "      <td>0.0</td>\n",
       "      <td>0.0</td>\n",
       "      <td>1.0</td>\n",
       "      <td>1.0</td>\n",
       "    </tr>\n",
       "    <tr>\n",
       "      <th>1</th>\n",
       "      <td>1.0</td>\n",
       "      <td>0.333333</td>\n",
       "      <td>0.5</td>\n",
       "      <td>0.0</td>\n",
       "      <td>0.0</td>\n",
       "      <td>0.0</td>\n",
       "    </tr>\n",
       "    <tr>\n",
       "      <th>2</th>\n",
       "      <td>0.0</td>\n",
       "      <td>0.333333</td>\n",
       "      <td>0.5</td>\n",
       "      <td>2.0</td>\n",
       "      <td>0.0</td>\n",
       "      <td>0.0</td>\n",
       "    </tr>\n",
       "  </tbody>\n",
       "</table>\n",
       "</div>"
      ],
      "text/plain": [
       "   cab      call   me  please  tonight  you\n",
       "0  0.0  0.333333  0.0     0.0      1.0  1.0\n",
       "1  1.0  0.333333  0.5     0.0      0.0  0.0\n",
       "2  0.0  0.333333  0.5     2.0      0.0  0.0"
      ]
     },
     "execution_count": 29,
     "metadata": {},
     "output_type": "execute_result"
    }
   ],
   "source": [
    "# Term Frequency-Inverse Document Frequency (simple version)\n",
    "tf/df"
   ]
  },
  {
   "cell_type": "code",
   "execution_count": 74,
   "metadata": {},
   "outputs": [
    {
     "data": {
      "text/html": [
       "<div>\n",
       "<style scoped>\n",
       "    .dataframe tbody tr th:only-of-type {\n",
       "        vertical-align: middle;\n",
       "    }\n",
       "\n",
       "    .dataframe tbody tr th {\n",
       "        vertical-align: top;\n",
       "    }\n",
       "\n",
       "    .dataframe thead th {\n",
       "        text-align: right;\n",
       "    }\n",
       "</style>\n",
       "<table border=\"1\" class=\"dataframe\">\n",
       "  <thead>\n",
       "    <tr style=\"text-align: right;\">\n",
       "      <th></th>\n",
       "      <th>cab</th>\n",
       "      <th>call</th>\n",
       "      <th>me</th>\n",
       "      <th>please</th>\n",
       "      <th>tonight</th>\n",
       "      <th>you</th>\n",
       "    </tr>\n",
       "  </thead>\n",
       "  <tbody>\n",
       "    <tr>\n",
       "      <th>0</th>\n",
       "      <td>0.000000000000000000</td>\n",
       "      <td>0.385371627466400690</td>\n",
       "      <td>0.000000000000000000</td>\n",
       "      <td>0.000000000000000000</td>\n",
       "      <td>0.652490884512534008</td>\n",
       "      <td>0.652490884512534008</td>\n",
       "    </tr>\n",
       "    <tr>\n",
       "      <th>1</th>\n",
       "      <td>0.720333449054989305</td>\n",
       "      <td>0.425440538971199100</td>\n",
       "      <td>0.547832154927436310</td>\n",
       "      <td>0.000000000000000000</td>\n",
       "      <td>0.000000000000000000</td>\n",
       "      <td>0.000000000000000000</td>\n",
       "    </tr>\n",
       "    <tr>\n",
       "      <th>2</th>\n",
       "      <td>0.000000000000000000</td>\n",
       "      <td>0.266074962540592874</td>\n",
       "      <td>0.342619959191800605</td>\n",
       "      <td>0.901008145286395945</td>\n",
       "      <td>0.000000000000000000</td>\n",
       "      <td>0.000000000000000000</td>\n",
       "    </tr>\n",
       "  </tbody>\n",
       "</table>\n",
       "</div>"
      ],
      "text/plain": [
       "                   cab                 call                   me  \\\n",
       "0 0.000000000000000000 0.385371627466400690 0.000000000000000000   \n",
       "1 0.720333449054989305 0.425440538971199100 0.547832154927436310   \n",
       "2 0.000000000000000000 0.266074962540592874 0.342619959191800605   \n",
       "\n",
       "                please              tonight                  you  \n",
       "0 0.000000000000000000 0.652490884512534008 0.652490884512534008  \n",
       "1 0.000000000000000000 0.000000000000000000 0.000000000000000000  \n",
       "2 0.901008145286395945 0.000000000000000000 0.000000000000000000  "
      ]
     },
     "execution_count": 74,
     "metadata": {},
     "output_type": "execute_result"
    }
   ],
   "source": [
    "# TfidfVectorizer\n",
    "vect = TfidfVectorizer()\n",
    "pd.DataFrame(vect.fit_transform(simple_train).toarray(), columns=vect.get_feature_names())"
   ]
  },
  {
   "cell_type": "markdown",
   "metadata": {},
   "source": [
    "## **More details:** [TF-IDF, what is it and why it matters](http://planspace.org/20150524-tfidf_is_about_what_matters/)"
   ]
  },
  {
   "cell_type": "markdown",
   "metadata": {},
   "source": [
    "## Part 8: Using TF-IDF to Summarize a Yelp Review"
   ]
  },
  {
   "cell_type": "code",
   "execution_count": 75,
   "metadata": {},
   "outputs": [
    {
     "data": {
      "text/plain": [
       "(10000, 28880)"
      ]
     },
     "execution_count": 75,
     "metadata": {},
     "output_type": "execute_result"
    }
   ],
   "source": [
    "# create a document-term matrix using TF-IDF\n",
    "tfidf = TfidfVectorizer(stop_words='english')\n",
    "dtm = tfidf.fit_transform(yelp.text)\n",
    "features = tfidf.get_feature_names()\n",
    "dtm.shape"
   ]
  },
  {
   "cell_type": "code",
   "execution_count": 85,
   "metadata": {
    "collapsed": true
   },
   "outputs": [],
   "source": [
    "def summarize():\n",
    "    \n",
    "    # choose a random review that is at least 300 characters\n",
    "    review_length = 0\n",
    "    while review_length < 300:\n",
    "        review_id = np.random.randint(0, len(yelp))\n",
    "        review_text = yelp.text[review_id]\n",
    "        review_length = len(review_text)\n",
    "    \n",
    "    # create a dictionary of words and their TF-IDF scores\n",
    "    word_scores = {}\n",
    "    for word in TextBlob(review_text).words:\n",
    "        word = word.lower()\n",
    "        if word in features:\n",
    "            word_scores[word] = dtm[review_id, features.index(word)]\n",
    "    \n",
    "    # print words with the top 5 TF-IDF scores\n",
    "    print('TOP SCORING WORDS:')\n",
    "    top_scores = sorted(word_scores.items(), key=lambda x: x[1], reverse=True)[:5]\n",
    "    for word, score in top_scores:\n",
    "        print(word)\n",
    "        \n",
    "    # print words with the top 5 TF-IDF scores\n",
    "    print('\\n' + 'Bottom SCORING WORDS:')\n",
    "    top_scores = sorted(word_scores.items(), key=lambda x: x[1], reverse=False)[:5]\n",
    "    for word, score in top_scores:\n",
    "        print(word)\n",
    "    \n",
    "    # print 5 random words\n",
    "#     print('\\n' + 'RANDOM WORDS:')\n",
    "#     random_words = np.random.choice(word_scores.keys(), size=5, replace=False)\n",
    "#     for word in random_words:\n",
    "#         print(word)\n",
    "    \n",
    "    # print the review\n",
    "    print('\\n' + review_text)"
   ]
  },
  {
   "cell_type": "code",
   "execution_count": 86,
   "metadata": {},
   "outputs": [
    {
     "name": "stdout",
     "output_type": "stream",
     "text": [
      "TOP SCORING WORDS:\n",
      "experience\n",
      "omnivorous\n",
      "parings\n",
      "interfere\n",
      "justifies\n",
      "\n",
      "Bottom SCORING WORDS:\n",
      "good\n",
      "food\n",
      "really\n",
      "best\n",
      "pretty\n",
      "\n",
      "This restaurant is in my TOP-5 favorite restaurants of all-time!  ...The only reason I am not giving it 5-stars is because it is a real splurge, and it takes a pretty special occasion (and experience) to justify such an expensive meal.\n",
      "\n",
      "While in my personal experience at Posh, the quality (and \"deliciousness\") of the food I had definitely justifies the price-tag, it should - if the quality wasn't extraordinary, it wouldn't rank at all.\n",
      "\n",
      "You really do have to be an open-minded, mostly omnivorous eater to fully appreciate it though.  If there are ingredients or flavors that you don't much care for, it might be more challenging to assume that you will like everything you get.  \n",
      "\n",
      "It can be daunting, because you may get something that you don't like, but that is also part of the excitement (and the adventure of trying new things!)  You also may get something that you've never had done well before and find that you are a newly converted fan.  \n",
      "\n",
      "Also, though the wine parings are wonderful, if you are on a budget, skipping the wine is a good way to trim the bill.\n",
      "\n",
      "For the best experience, don't go when you are famished, and don't bring picky eaters with you - both will interfere with you having a completely satisfying experience.\n"
     ]
    }
   ],
   "source": [
    "summarize()"
   ]
  },
  {
   "cell_type": "markdown",
   "metadata": {},
   "source": [
    "### I switched up the function for fun and used the sklearn.metrics.classification_report. \n",
    "One of the reasons I did this was when I ran the function with TF-IDF and looked only at precision I was getting a precision of 0! \n",
    "Recall that precision answers the question: What proportion of positive identifications was actually correct? Represented as: True Positives/(True Positives + False Positives) (see more here: https://towardsdatascience.com/accuracy-precision-recall-or-f1-331fb37c5cb9)\n",
    "\n",
    "That means it's not predicting precision at all...meaning it didn't predict any negative reviews...not something we want from our data. So let's have a look at the Classification Report below. "
   ]
  },
  {
   "cell_type": "code",
   "execution_count": 112,
   "metadata": {},
   "outputs": [],
   "source": [
    "def tokenize_tfidf(vect):\n",
    "    X_train_dtm = vect.fit_transform(X_train)\n",
    "    print('Features: ', X_train_dtm.shape[1])\n",
    "    X_test_dtm = vect.transform(X_test)\n",
    "    clf = svm.SVC(gamma=0.001, C=1)\n",
    "    clf.fit(X_train_dtm, y_train)\n",
    "    y_pred_class = clf.predict(X_test_dtm)\n",
    "    print('Classification Report: ', metrics.classification_report(y_test, y_pred_class))"
   ]
  },
  {
   "cell_type": "code",
   "execution_count": 113,
   "metadata": {},
   "outputs": [
    {
     "name": "stdout",
     "output_type": "stream",
     "text": [
      "Features:  1000\n",
      "Classification Report:                precision    recall  f1-score   support\n",
      "\n",
      "           1       0.00      0.00      0.00       184\n",
      "           5       0.82      1.00      0.90       838\n",
      "\n",
      "    accuracy                           0.82      1022\n",
      "   macro avg       0.41      0.50      0.45      1022\n",
      "weighted avg       0.67      0.82      0.74      1022\n",
      "\n"
     ]
    },
    {
     "name": "stderr",
     "output_type": "stream",
     "text": [
      "C:\\Users\\joweave\\AppData\\Local\\Continuum\\anaconda3\\lib\\site-packages\\sklearn\\metrics\\classification.py:1437: UndefinedMetricWarning: Precision and F-score are ill-defined and being set to 0.0 in labels with no predicted samples.\n",
      "  'precision', 'predicted', average, warn_for)\n"
     ]
    }
   ],
   "source": [
    "# create a document-term matrix using TF-IDF\n",
    "tfidf = TfidfVectorizer(stop_words=None, ngram_range=(1, 2), max_features=1000)\n",
    "dtm_tfidf = tfidf.fit_transform(yelp.text)\n",
    "tokenize_tfidf(tfidf)"
   ]
  },
  {
   "cell_type": "markdown",
   "metadata": {},
   "source": [
    "## Part 9: Sentiment Analysis"
   ]
  },
  {
   "cell_type": "code",
   "execution_count": 115,
   "metadata": {},
   "outputs": [
    {
     "name": "stdout",
     "output_type": "stream",
     "text": [
      "My wife took me here on my birthday for breakfast and it was excellent.  The weather was perfect which made sitting outside overlooking their grounds an absolute pleasure.  Our waitress was excellent and our food arrived quickly on the semi-busy Saturday morning.  It looked like the place fills up pretty quickly so the earlier you get here the better.\n",
      "\n",
      "Do yourself a favor and get their Bloody Mary.  It was phenomenal and simply the best I've ever had.  I'm pretty sure they only use ingredients from their garden and blend them fresh when you order it.  It was amazing.\n",
      "\n",
      "While EVERYTHING on the menu looks excellent, I had the white truffle scrambled eggs vegetable skillet and it was tasty and delicious.  It came with 2 pieces of their griddled bread with was amazing and it absolutely made the meal complete.  It was the best \"toast\" I've ever had.\n",
      "\n",
      "Anyway, I can't wait to go back!\n"
     ]
    }
   ],
   "source": [
    "print(review1)"
   ]
  },
  {
   "cell_type": "code",
   "execution_count": 117,
   "metadata": {},
   "outputs": [
    {
     "data": {
      "text/plain": [
       "0.40246913580246907"
      ]
     },
     "execution_count": 117,
     "metadata": {},
     "output_type": "execute_result"
    }
   ],
   "source": [
    "# polarity ranges from -1 (most negative) to 1 (most positive)\n",
    "review1.sentiment.polarity"
   ]
  },
  {
   "cell_type": "code",
   "execution_count": 120,
   "metadata": {
    "collapsed": true
   },
   "outputs": [],
   "source": [
    "# define a function that accepts text and returns the polarity\n",
    "def detect_sentiment(text):\n",
    "    return TextBlob(text).sentiment.polarity"
   ]
  },
  {
   "cell_type": "code",
   "execution_count": 122,
   "metadata": {
    "collapsed": true
   },
   "outputs": [],
   "source": [
    "# create a new DataFrame column for sentiment (WARNING: SLOW!)\n",
    "yelp['text_blob_sentiment'] = yelp.text.apply(detect_sentiment)"
   ]
  },
  {
   "cell_type": "markdown",
   "metadata": {},
   "source": [
    "#### Ok, this doesn't tell us much, let's look at the whole text and sentiment"
   ]
  },
  {
   "cell_type": "code",
   "execution_count": 123,
   "metadata": {},
   "outputs": [],
   "source": [
    "pd.set_option('display.max_colwidth', 0)"
   ]
  },
  {
   "cell_type": "code",
   "execution_count": 130,
   "metadata": {},
   "outputs": [
    {
     "data": {
      "text/html": [
       "<div>\n",
       "<style scoped>\n",
       "    .dataframe tbody tr th:only-of-type {\n",
       "        vertical-align: middle;\n",
       "    }\n",
       "\n",
       "    .dataframe tbody tr th {\n",
       "        vertical-align: top;\n",
       "    }\n",
       "\n",
       "    .dataframe thead th {\n",
       "        text-align: right;\n",
       "    }\n",
       "</style>\n",
       "<table border=\"1\" class=\"dataframe\">\n",
       "  <thead>\n",
       "    <tr style=\"text-align: right;\">\n",
       "      <th></th>\n",
       "      <th>text</th>\n",
       "      <th>text_blob_sentiment</th>\n",
       "    </tr>\n",
       "  </thead>\n",
       "  <tbody>\n",
       "    <tr>\n",
       "      <th>0</th>\n",
       "      <td>My wife took me here on my birthday for breakfast and it was excellent.  The weather was perfect which made sitting outside overlooking their grounds an absolute pleasure.  Our waitress was excellent and our food arrived quickly on the semi-busy Saturday morning.  It looked like the place fills up pretty quickly so the earlier you get here the better.\\r\\n\\r\\nDo yourself a favor and get their Bloody Mary.  It was phenomenal and simply the best I've ever had.  I'm pretty sure they only use ingredients from their garden and blend them fresh when you order it.  It was amazing.\\r\\n\\r\\nWhile EVERYTHING on the menu looks excellent, I had the white truffle scrambled eggs vegetable skillet and it was tasty and delicious.  It came with 2 pieces of their griddled bread with was amazing and it absolutely made the meal complete.  It was the best \"toast\" I've ever had.\\r\\n\\r\\nAnyway, I can't wait to go back!</td>\n",
       "      <td>0.402469135802469069</td>\n",
       "    </tr>\n",
       "    <tr>\n",
       "      <th>1</th>\n",
       "      <td>I have no idea why some people give bad reviews about this place. It goes to show you, you can please everyone. They are probably griping about something that their own fault...there are many people like that.\\r\\n\\r\\nIn any case, my friend and I arrived at about 5:50 PM this past Sunday. It was pretty crowded, more than I thought for a Sunday evening and thought we would have to wait forever to get a seat but they said we'll be seated when the girl comes back from seating someone else. We were seated at 5:52 and the waiter came and got our drink orders. Everyone was very pleasant from the host that seated us to the waiter to the server. The prices were very good as well. We placed our orders once we decided what we wanted at 6:02. We shared the baked spaghetti calzone and the small \"Here's The Beef\" pizza so we can both try them. The calzone was huge and we got the smallest one (personal) and got the small 11\" pizza. Both were awesome! My friend liked the pizza better and I liked the calzone better. The calzone does have a sweetish sauce but that's how I like my sauce!\\r\\n\\r\\nWe had to box part of the pizza to take it home and we were out the door by 6:42. So, everything was great and not like these bad reviewers. That goes to show you that  you have to try these things yourself because all these bad reviewers have some serious issues.</td>\n",
       "      <td>0.229772727272727267</td>\n",
       "    </tr>\n",
       "    <tr>\n",
       "      <th>2</th>\n",
       "      <td>love the gyro plate. Rice is so good and I also dig their candy selection :)</td>\n",
       "      <td>0.566666666666666652</td>\n",
       "    </tr>\n",
       "    <tr>\n",
       "      <th>3</th>\n",
       "      <td>Rosie, Dakota, and I LOVE Chaparral Dog Park!!! It's very convenient and surrounded by a lot of paths, a desert xeriscape, baseball fields, ballparks, and a lake with ducks.\\r\\n\\r\\nThe Scottsdale Park and Rec Dept. does a wonderful job of keeping the park clean and shaded.  You can find trash cans and poopy-pick up mitts located all over the park and paths.\\r\\n\\r\\nThe fenced in area is huge to let the dogs run, play, and sniff!</td>\n",
       "      <td>0.608645833333333330</td>\n",
       "    </tr>\n",
       "    <tr>\n",
       "      <th>4</th>\n",
       "      <td>General Manager Scott Petello is a good egg!!! Not to go into detail, but let me assure you if you have any issues (albeit rare) speak with Scott and treat the guy with some respect as you state your case and I'd be surprised if you don't walk out totally satisfied as I just did. Like I always say..... \"Mistakes are inevitable, it's how we recover from them that is important\"!!!\\r\\n\\r\\nThanks to Scott and his awesome staff. You've got a customer for life!! .......... :^)</td>\n",
       "      <td>0.468125000000000013</td>\n",
       "    </tr>\n",
       "  </tbody>\n",
       "</table>\n",
       "</div>"
      ],
      "text/plain": [
       "                                                                                                                                                                                                                                                                                                                                                                                                                                                                                                                                                                                                                                                                                                                                                                                                                                                                                                                                                                                                                                                                                                                                                                                                                                                                                                                                                                                                            text  \\\n",
       "0  My wife took me here on my birthday for breakfast and it was excellent.  The weather was perfect which made sitting outside overlooking their grounds an absolute pleasure.  Our waitress was excellent and our food arrived quickly on the semi-busy Saturday morning.  It looked like the place fills up pretty quickly so the earlier you get here the better.\\r\\n\\r\\nDo yourself a favor and get their Bloody Mary.  It was phenomenal and simply the best I've ever had.  I'm pretty sure they only use ingredients from their garden and blend them fresh when you order it.  It was amazing.\\r\\n\\r\\nWhile EVERYTHING on the menu looks excellent, I had the white truffle scrambled eggs vegetable skillet and it was tasty and delicious.  It came with 2 pieces of their griddled bread with was amazing and it absolutely made the meal complete.  It was the best \"toast\" I've ever had.\\r\\n\\r\\nAnyway, I can't wait to go back!                                                                                                                                                                                                                                                                                                                                                                                                                                                                     \n",
       "1  I have no idea why some people give bad reviews about this place. It goes to show you, you can please everyone. They are probably griping about something that their own fault...there are many people like that.\\r\\n\\r\\nIn any case, my friend and I arrived at about 5:50 PM this past Sunday. It was pretty crowded, more than I thought for a Sunday evening and thought we would have to wait forever to get a seat but they said we'll be seated when the girl comes back from seating someone else. We were seated at 5:52 and the waiter came and got our drink orders. Everyone was very pleasant from the host that seated us to the waiter to the server. The prices were very good as well. We placed our orders once we decided what we wanted at 6:02. We shared the baked spaghetti calzone and the small \"Here's The Beef\" pizza so we can both try them. The calzone was huge and we got the smallest one (personal) and got the small 11\" pizza. Both were awesome! My friend liked the pizza better and I liked the calzone better. The calzone does have a sweetish sauce but that's how I like my sauce!\\r\\n\\r\\nWe had to box part of the pizza to take it home and we were out the door by 6:42. So, everything was great and not like these bad reviewers. That goes to show you that  you have to try these things yourself because all these bad reviewers have some serious issues.   \n",
       "2  love the gyro plate. Rice is so good and I also dig their candy selection :)                                                                                                                                                                                                                                                                                                                                                                                                                                                                                                                                                                                                                                                                                                                                                                                                                                                                                                                                                                                                                                                                                                                                                                                                                                                                                                                                    \n",
       "3  Rosie, Dakota, and I LOVE Chaparral Dog Park!!! It's very convenient and surrounded by a lot of paths, a desert xeriscape, baseball fields, ballparks, and a lake with ducks.\\r\\n\\r\\nThe Scottsdale Park and Rec Dept. does a wonderful job of keeping the park clean and shaded.  You can find trash cans and poopy-pick up mitts located all over the park and paths.\\r\\n\\r\\nThe fenced in area is huge to let the dogs run, play, and sniff!                                                                                                                                                                                                                                                                                                                                                                                                                                                                                                                                                                                                                                                                                                                                                                                                                                                                                                                                                                 \n",
       "4  General Manager Scott Petello is a good egg!!! Not to go into detail, but let me assure you if you have any issues (albeit rare) speak with Scott and treat the guy with some respect as you state your case and I'd be surprised if you don't walk out totally satisfied as I just did. Like I always say..... \"Mistakes are inevitable, it's how we recover from them that is important\"!!!\\r\\n\\r\\nThanks to Scott and his awesome staff. You've got a customer for life!! .......... :^)                                                                                                                                                                                                                                                                                                                                                                                                                                                                                                                                                                                                                                                                                                                                                                                                                                                                                                                     \n",
       "\n",
       "   text_blob_sentiment  \n",
       "0 0.402469135802469069  \n",
       "1 0.229772727272727267  \n",
       "2 0.566666666666666652  \n",
       "3 0.608645833333333330  \n",
       "4 0.468125000000000013  "
      ]
     },
     "execution_count": 130,
     "metadata": {},
     "output_type": "execute_result"
    }
   ],
   "source": [
    "yelp[['text','text_blob_sentiment']].head(5)"
   ]
  },
  {
   "cell_type": "markdown",
   "metadata": {},
   "source": [
    "### I'm not really impressed with this sentiment score, take a look at row 2...this should be much closer to .8 and it's barely a .6 if you round up...it doesn't quite add up and seems a bit conservative. "
   ]
  },
  {
   "cell_type": "markdown",
   "metadata": {},
   "source": [
    "### So, overall text blob isn't quite scoring as well as I would like. This is apparent from the examples above. \n",
    "So after doing some searching on newer lexicon-based sentiment analysis I discovered VADER. What is nice about VADER is that it shows the negative, neutral, and positive valence of text and the compound score. \n",
    "This makes sense considering that a review or a tweet may express both positive and negative sentiment/valence. This also allows, me the analyst to make my own decisions for my particular set of text. \n",
    "\n",
    "Helpfully, they also provide cut-offs for what they consider positive, neutral, and negative. From their GitHub here is the description of their compound score. \n",
    "- The compound score is computed by summing the valence scores of each word in the lexicon, adjusted according to the rules, and then normalized to be between -1 (most extreme negative) and +1 (most extreme positive). This is the most useful metric if you want a single unidimensional measure of sentiment for a given sentence. Calling it a 'normalized, weighted composite score' is accurate.\n",
    "\n",
    "It is also useful for researchers who would like to set standardized thresholds for classifying sentences as either positive, neutral, or negative. Typical threshold values (used in the literature cited on this page) are:\n",
    "\n",
    "- positive sentiment: compound score >= 0.05\n",
    "- neutral sentiment: (compound score > -0.05) and (compound score < 0.05)\n",
    "- negative sentiment: compound score <= -0.05\n",
    "- The pos, neu, and neg scores are ratios for proportions of text that fall in each category (so these should all add up to be 1... or close to it with float operation). These are the most useful metrics if you want multidimensional measures of sentiment for a given sentence."
   ]
  },
  {
   "cell_type": "code",
   "execution_count": 131,
   "metadata": {},
   "outputs": [],
   "source": [
    "from vaderSentiment.vaderSentiment import SentimentIntensityAnalyzer\n",
    "#sentiment = SentimentIntensityAnalyzer()"
   ]
  },
  {
   "cell_type": "code",
   "execution_count": 132,
   "metadata": {},
   "outputs": [],
   "source": [
    "def v_sentiment(text):\n",
    "    return SentimentIntensityAnalyzer().polarity_scores(text)"
   ]
  },
  {
   "cell_type": "code",
   "execution_count": 133,
   "metadata": {},
   "outputs": [],
   "source": [
    "yelp['vader_sentiment'] = yelp['text'].apply(v_sentiment)"
   ]
  },
  {
   "cell_type": "code",
   "execution_count": 137,
   "metadata": {},
   "outputs": [],
   "source": [
    "yelp = pd.concat([yelp.drop(['vader_sentiment'], axis=1), yelp['vader_sentiment'].apply(pd.Series)], axis=1)"
   ]
  },
  {
   "cell_type": "code",
   "execution_count": 138,
   "metadata": {},
   "outputs": [
    {
     "data": {
      "text/html": [
       "<div>\n",
       "<style scoped>\n",
       "    .dataframe tbody tr th:only-of-type {\n",
       "        vertical-align: middle;\n",
       "    }\n",
       "\n",
       "    .dataframe tbody tr th {\n",
       "        vertical-align: top;\n",
       "    }\n",
       "\n",
       "    .dataframe thead th {\n",
       "        text-align: right;\n",
       "    }\n",
       "</style>\n",
       "<table border=\"1\" class=\"dataframe\">\n",
       "  <thead>\n",
       "    <tr style=\"text-align: right;\">\n",
       "      <th></th>\n",
       "      <th>text</th>\n",
       "      <th>text_blob_sentiment</th>\n",
       "      <th>neg</th>\n",
       "      <th>neu</th>\n",
       "      <th>pos</th>\n",
       "      <th>compound</th>\n",
       "    </tr>\n",
       "  </thead>\n",
       "  <tbody>\n",
       "    <tr>\n",
       "      <th>0</th>\n",
       "      <td>My wife took me here on my birthday for breakfast and it was excellent.  The weather was perfect which made sitting outside overlooking their grounds an absolute pleasure.  Our waitress was excellent and our food arrived quickly on the semi-busy Saturday morning.  It looked like the place fills up pretty quickly so the earlier you get here the better.\\r\\n\\r\\nDo yourself a favor and get their Bloody Mary.  It was phenomenal and simply the best I've ever had.  I'm pretty sure they only use ingredients from their garden and blend them fresh when you order it.  It was amazing.\\r\\n\\r\\nWhile EVERYTHING on the menu looks excellent, I had the white truffle scrambled eggs vegetable skillet and it was tasty and delicious.  It came with 2 pieces of their griddled bread with was amazing and it absolutely made the meal complete.  It was the best \"toast\" I've ever had.\\r\\n\\r\\nAnyway, I can't wait to go back!</td>\n",
       "      <td>0.402469135802469069</td>\n",
       "      <td>0.014999999999999999</td>\n",
       "      <td>0.687000000000000055</td>\n",
       "      <td>0.297999999999999987</td>\n",
       "      <td>0.994999999999999996</td>\n",
       "    </tr>\n",
       "    <tr>\n",
       "      <th>1</th>\n",
       "      <td>I have no idea why some people give bad reviews about this place. It goes to show you, you can please everyone. They are probably griping about something that their own fault...there are many people like that.\\r\\n\\r\\nIn any case, my friend and I arrived at about 5:50 PM this past Sunday. It was pretty crowded, more than I thought for a Sunday evening and thought we would have to wait forever to get a seat but they said we'll be seated when the girl comes back from seating someone else. We were seated at 5:52 and the waiter came and got our drink orders. Everyone was very pleasant from the host that seated us to the waiter to the server. The prices were very good as well. We placed our orders once we decided what we wanted at 6:02. We shared the baked spaghetti calzone and the small \"Here's The Beef\" pizza so we can both try them. The calzone was huge and we got the smallest one (personal) and got the small 11\" pizza. Both were awesome! My friend liked the pizza better and I liked the calzone better. The calzone does have a sweetish sauce but that's how I like my sauce!\\r\\n\\r\\nWe had to box part of the pizza to take it home and we were out the door by 6:42. So, everything was great and not like these bad reviewers. That goes to show you that  you have to try these things yourself because all these bad reviewers have some serious issues.</td>\n",
       "      <td>0.229772727272727267</td>\n",
       "      <td>0.049000000000000002</td>\n",
       "      <td>0.740999999999999992</td>\n",
       "      <td>0.209999999999999992</td>\n",
       "      <td>0.994299999999999962</td>\n",
       "    </tr>\n",
       "    <tr>\n",
       "      <th>2</th>\n",
       "      <td>love the gyro plate. Rice is so good and I also dig their candy selection :)</td>\n",
       "      <td>0.566666666666666652</td>\n",
       "      <td>0.000000000000000000</td>\n",
       "      <td>0.523000000000000020</td>\n",
       "      <td>0.476999999999999980</td>\n",
       "      <td>0.898800000000000043</td>\n",
       "    </tr>\n",
       "    <tr>\n",
       "      <th>3</th>\n",
       "      <td>Rosie, Dakota, and I LOVE Chaparral Dog Park!!! It's very convenient and surrounded by a lot of paths, a desert xeriscape, baseball fields, ballparks, and a lake with ducks.\\r\\n\\r\\nThe Scottsdale Park and Rec Dept. does a wonderful job of keeping the park clean and shaded.  You can find trash cans and poopy-pick up mitts located all over the park and paths.\\r\\n\\r\\nThe fenced in area is huge to let the dogs run, play, and sniff!</td>\n",
       "      <td>0.608645833333333330</td>\n",
       "      <td>0.000000000000000000</td>\n",
       "      <td>0.793000000000000038</td>\n",
       "      <td>0.206999999999999990</td>\n",
       "      <td>0.953099999999999947</td>\n",
       "    </tr>\n",
       "    <tr>\n",
       "      <th>4</th>\n",
       "      <td>General Manager Scott Petello is a good egg!!! Not to go into detail, but let me assure you if you have any issues (albeit rare) speak with Scott and treat the guy with some respect as you state your case and I'd be surprised if you don't walk out totally satisfied as I just did. Like I always say..... \"Mistakes are inevitable, it's how we recover from them that is important\"!!!\\r\\n\\r\\nThanks to Scott and his awesome staff. You've got a customer for life!! .......... :^)</td>\n",
       "      <td>0.468125000000000013</td>\n",
       "      <td>0.029000000000000001</td>\n",
       "      <td>0.636000000000000010</td>\n",
       "      <td>0.334000000000000019</td>\n",
       "      <td>0.988299999999999956</td>\n",
       "    </tr>\n",
       "  </tbody>\n",
       "</table>\n",
       "</div>"
      ],
      "text/plain": [
       "                                                                                                                                                                                                                                                                                                                                                                                                                                                                                                                                                                                                                                                                                                                                                                                                                                                                                                                                                                                                                                                                                                                                                                                                                                                                                                                                                                                                            text  \\\n",
       "0  My wife took me here on my birthday for breakfast and it was excellent.  The weather was perfect which made sitting outside overlooking their grounds an absolute pleasure.  Our waitress was excellent and our food arrived quickly on the semi-busy Saturday morning.  It looked like the place fills up pretty quickly so the earlier you get here the better.\\r\\n\\r\\nDo yourself a favor and get their Bloody Mary.  It was phenomenal and simply the best I've ever had.  I'm pretty sure they only use ingredients from their garden and blend them fresh when you order it.  It was amazing.\\r\\n\\r\\nWhile EVERYTHING on the menu looks excellent, I had the white truffle scrambled eggs vegetable skillet and it was tasty and delicious.  It came with 2 pieces of their griddled bread with was amazing and it absolutely made the meal complete.  It was the best \"toast\" I've ever had.\\r\\n\\r\\nAnyway, I can't wait to go back!                                                                                                                                                                                                                                                                                                                                                                                                                                                                     \n",
       "1  I have no idea why some people give bad reviews about this place. It goes to show you, you can please everyone. They are probably griping about something that their own fault...there are many people like that.\\r\\n\\r\\nIn any case, my friend and I arrived at about 5:50 PM this past Sunday. It was pretty crowded, more than I thought for a Sunday evening and thought we would have to wait forever to get a seat but they said we'll be seated when the girl comes back from seating someone else. We were seated at 5:52 and the waiter came and got our drink orders. Everyone was very pleasant from the host that seated us to the waiter to the server. The prices were very good as well. We placed our orders once we decided what we wanted at 6:02. We shared the baked spaghetti calzone and the small \"Here's The Beef\" pizza so we can both try them. The calzone was huge and we got the smallest one (personal) and got the small 11\" pizza. Both were awesome! My friend liked the pizza better and I liked the calzone better. The calzone does have a sweetish sauce but that's how I like my sauce!\\r\\n\\r\\nWe had to box part of the pizza to take it home and we were out the door by 6:42. So, everything was great and not like these bad reviewers. That goes to show you that  you have to try these things yourself because all these bad reviewers have some serious issues.   \n",
       "2  love the gyro plate. Rice is so good and I also dig their candy selection :)                                                                                                                                                                                                                                                                                                                                                                                                                                                                                                                                                                                                                                                                                                                                                                                                                                                                                                                                                                                                                                                                                                                                                                                                                                                                                                                                    \n",
       "3  Rosie, Dakota, and I LOVE Chaparral Dog Park!!! It's very convenient and surrounded by a lot of paths, a desert xeriscape, baseball fields, ballparks, and a lake with ducks.\\r\\n\\r\\nThe Scottsdale Park and Rec Dept. does a wonderful job of keeping the park clean and shaded.  You can find trash cans and poopy-pick up mitts located all over the park and paths.\\r\\n\\r\\nThe fenced in area is huge to let the dogs run, play, and sniff!                                                                                                                                                                                                                                                                                                                                                                                                                                                                                                                                                                                                                                                                                                                                                                                                                                                                                                                                                                 \n",
       "4  General Manager Scott Petello is a good egg!!! Not to go into detail, but let me assure you if you have any issues (albeit rare) speak with Scott and treat the guy with some respect as you state your case and I'd be surprised if you don't walk out totally satisfied as I just did. Like I always say..... \"Mistakes are inevitable, it's how we recover from them that is important\"!!!\\r\\n\\r\\nThanks to Scott and his awesome staff. You've got a customer for life!! .......... :^)                                                                                                                                                                                                                                                                                                                                                                                                                                                                                                                                                                                                                                                                                                                                                                                                                                                                                                                     \n",
       "\n",
       "   text_blob_sentiment                  neg                  neu  \\\n",
       "0 0.402469135802469069 0.014999999999999999 0.687000000000000055   \n",
       "1 0.229772727272727267 0.049000000000000002 0.740999999999999992   \n",
       "2 0.566666666666666652 0.000000000000000000 0.523000000000000020   \n",
       "3 0.608645833333333330 0.000000000000000000 0.793000000000000038   \n",
       "4 0.468125000000000013 0.029000000000000001 0.636000000000000010   \n",
       "\n",
       "                   pos             compound  \n",
       "0 0.297999999999999987 0.994999999999999996  \n",
       "1 0.209999999999999992 0.994299999999999962  \n",
       "2 0.476999999999999980 0.898800000000000043  \n",
       "3 0.206999999999999990 0.953099999999999947  \n",
       "4 0.334000000000000019 0.988299999999999956  "
      ]
     },
     "execution_count": 138,
     "metadata": {},
     "output_type": "execute_result"
    }
   ],
   "source": [
    "yelp[['text','text_blob_sentiment', 'neg', 'neu', 'pos','compound']].head(5)"
   ]
  },
  {
   "cell_type": "code",
   "execution_count": 158,
   "metadata": {},
   "outputs": [
    {
     "data": {
      "text/plain": [
       "<seaborn.axisgrid.FacetGrid at 0x1f0e81d8390>"
      ]
     },
     "execution_count": 158,
     "metadata": {},
     "output_type": "execute_result"
    },
    {
     "data": {
      "image/png": "[encoded data removed]",
      "text/plain": [
       "<Figure size 504x504 with 1 Axes>"
      ]
     },
     "metadata": {},
     "output_type": "display_data"
    }
   ],
   "source": [
    "# looking at sentiment by Track we see this is overall positive\n",
    "sns.catplot(x='compound', y='stars',  data=yelp, kind='bar',  estimator=np.mean, ci=95, height=7, orient='h') "
   ]
  },
  {
   "cell_type": "code",
   "execution_count": 183,
   "metadata": {},
   "outputs": [
    {
     "data": {
      "text/plain": [
       "<Figure size 720x648 with 0 Axes>"
      ]
     },
     "execution_count": 183,
     "metadata": {},
     "output_type": "execute_result"
    },
    {
     "data": {
      "text/plain": [
       "<matplotlib.axes._subplots.AxesSubplot at 0x1f0df5c8be0>"
      ]
     },
     "execution_count": 183,
     "metadata": {},
     "output_type": "execute_result"
    },
    {
     "data": {
      "image/png": "[encoded data removed]",
      "text/plain": [
       "<Figure size 720x648 with 1 Axes>"
      ]
     },
     "metadata": {},
     "output_type": "display_data"
    }
   ],
   "source": [
    "plt.figure(figsize=(10, 9))\n",
    "sns.boxplot(x='stars', y='compound',data=yelp, orient='v')"
   ]
  },
  {
   "cell_type": "code",
   "execution_count": 174,
   "metadata": {},
   "outputs": [
    {
     "data": {
      "text/plain": [
       "<seaborn.axisgrid.PairGrid at 0x1f0f23cf860>"
      ]
     },
     "execution_count": 174,
     "metadata": {},
     "output_type": "execute_result"
    },
    {
     "data": {
      "image/png": "[encoded data removed]",
      "text/plain": [
       "<Figure size 419.275x1080 with 3 Axes>"
      ]
     },
     "metadata": {},
     "output_type": "display_data"
    }
   ],
   "source": [
    "#plt.figure(figsize=(12, 10))\n",
    "sns.pairplot(yelp, hue='stars', y_vars=['useful', 'funny', 'cool'], x_vars=['compound'], height=5)"
   ]
  },
  {
   "cell_type": "code",
   "execution_count": 209,
   "metadata": {},
   "outputs": [
    {
     "data": {
      "text/html": [
       "<div>\n",
       "<style scoped>\n",
       "    .dataframe tbody tr th:only-of-type {\n",
       "        vertical-align: middle;\n",
       "    }\n",
       "\n",
       "    .dataframe tbody tr th {\n",
       "        vertical-align: top;\n",
       "    }\n",
       "\n",
       "    .dataframe thead th {\n",
       "        text-align: right;\n",
       "    }\n",
       "</style>\n",
       "<table border=\"1\" class=\"dataframe\">\n",
       "  <thead>\n",
       "    <tr style=\"text-align: right;\">\n",
       "      <th></th>\n",
       "      <th>text</th>\n",
       "    </tr>\n",
       "  </thead>\n",
       "  <tbody>\n",
       "    <tr>\n",
       "      <th>0</th>\n",
       "      <td>My wife took me here on my birthday for breakfast and it was excellent.  The weather was perfect which made sitting outside overlooking their grounds an absolute pleasure.  Our waitress was excellent and our food arrived quickly on the semi-busy Saturday morning.  It looked like the place fills up pretty quickly so the earlier you get here the better.\\r\\n\\r\\nDo yourself a favor and get their Bloody Mary.  It was phenomenal and simply the best I've ever had.  I'm pretty sure they only use ingredients from their garden and blend them fresh when you order it.  It was amazing.\\r\\n\\r\\nWhile EVERYTHING on the menu looks excellent, I had the white truffle scrambled eggs vegetable skillet and it was tasty and delicious.  It came with 2 pieces of their griddled bread with was amazing and it absolutely made the meal complete.  It was the best \"toast\" I've ever had.\\r\\n\\r\\nAnyway, I can't wait to go back!</td>\n",
       "    </tr>\n",
       "    <tr>\n",
       "      <th>1</th>\n",
       "      <td>I have no idea why some people give bad reviews about this place. It goes to show you, you can please everyone. They are probably griping about something that their own fault...there are many people like that.\\r\\n\\r\\nIn any case, my friend and I arrived at about 5:50 PM this past Sunday. It was pretty crowded, more than I thought for a Sunday evening and thought we would have to wait forever to get a seat but they said we'll be seated when the girl comes back from seating someone else. We were seated at 5:52 and the waiter came and got our drink orders. Everyone was very pleasant from the host that seated us to the waiter to the server. The prices were very good as well. We placed our orders once we decided what we wanted at 6:02. We shared the baked spaghetti calzone and the small \"Here's The Beef\" pizza so we can both try them. The calzone was huge and we got the smallest one (personal) and got the small 11\" pizza. Both were awesome! My friend liked the pizza better and I liked the calzone better. The calzone does have a sweetish sauce but that's how I like my sauce!\\r\\n\\r\\nWe had to box part of the pizza to take it home and we were out the door by 6:42. So, everything was great and not like these bad reviewers. That goes to show you that  you have to try these things yourself because all these bad reviewers have some serious issues.</td>\n",
       "    </tr>\n",
       "    <tr>\n",
       "      <th>2</th>\n",
       "      <td>love the gyro plate. Rice is so good and I also dig their candy selection :)</td>\n",
       "    </tr>\n",
       "    <tr>\n",
       "      <th>3</th>\n",
       "      <td>Rosie, Dakota, and I LOVE Chaparral Dog Park!!! It's very convenient and surrounded by a lot of paths, a desert xeriscape, baseball fields, ballparks, and a lake with ducks.\\r\\n\\r\\nThe Scottsdale Park and Rec Dept. does a wonderful job of keeping the park clean and shaded.  You can find trash cans and poopy-pick up mitts located all over the park and paths.\\r\\n\\r\\nThe fenced in area is huge to let the dogs run, play, and sniff!</td>\n",
       "    </tr>\n",
       "    <tr>\n",
       "      <th>4</th>\n",
       "      <td>General Manager Scott Petello is a good egg!!! Not to go into detail, but let me assure you if you have any issues (albeit rare) speak with Scott and treat the guy with some respect as you state your case and I'd be surprised if you don't walk out totally satisfied as I just did. Like I always say..... \"Mistakes are inevitable, it's how we recover from them that is important\"!!!\\r\\n\\r\\nThanks to Scott and his awesome staff. You've got a customer for life!! .......... :^)</td>\n",
       "    </tr>\n",
       "  </tbody>\n",
       "</table>\n",
       "</div>"
      ],
      "text/plain": [
       "                                                                                                                                                                                                                                                                                                                                                                                                                                                                                                                                                                                                                                                                                                                                                                                                                                                                                                                                                                                                                                                                                                                                                                                                                                                                                                                                                                                                            text\n",
       "0  My wife took me here on my birthday for breakfast and it was excellent.  The weather was perfect which made sitting outside overlooking their grounds an absolute pleasure.  Our waitress was excellent and our food arrived quickly on the semi-busy Saturday morning.  It looked like the place fills up pretty quickly so the earlier you get here the better.\\r\\n\\r\\nDo yourself a favor and get their Bloody Mary.  It was phenomenal and simply the best I've ever had.  I'm pretty sure they only use ingredients from their garden and blend them fresh when you order it.  It was amazing.\\r\\n\\r\\nWhile EVERYTHING on the menu looks excellent, I had the white truffle scrambled eggs vegetable skillet and it was tasty and delicious.  It came with 2 pieces of their griddled bread with was amazing and it absolutely made the meal complete.  It was the best \"toast\" I've ever had.\\r\\n\\r\\nAnyway, I can't wait to go back!                                                                                                                                                                                                                                                                                                                                                                                                                                                                  \n",
       "1  I have no idea why some people give bad reviews about this place. It goes to show you, you can please everyone. They are probably griping about something that their own fault...there are many people like that.\\r\\n\\r\\nIn any case, my friend and I arrived at about 5:50 PM this past Sunday. It was pretty crowded, more than I thought for a Sunday evening and thought we would have to wait forever to get a seat but they said we'll be seated when the girl comes back from seating someone else. We were seated at 5:52 and the waiter came and got our drink orders. Everyone was very pleasant from the host that seated us to the waiter to the server. The prices were very good as well. We placed our orders once we decided what we wanted at 6:02. We shared the baked spaghetti calzone and the small \"Here's The Beef\" pizza so we can both try them. The calzone was huge and we got the smallest one (personal) and got the small 11\" pizza. Both were awesome! My friend liked the pizza better and I liked the calzone better. The calzone does have a sweetish sauce but that's how I like my sauce!\\r\\n\\r\\nWe had to box part of the pizza to take it home and we were out the door by 6:42. So, everything was great and not like these bad reviewers. That goes to show you that  you have to try these things yourself because all these bad reviewers have some serious issues.\n",
       "2  love the gyro plate. Rice is so good and I also dig their candy selection :)                                                                                                                                                                                                                                                                                                                                                                                                                                                                                                                                                                                                                                                                                                                                                                                                                                                                                                                                                                                                                                                                                                                                                                                                                                                                                                                                 \n",
       "3  Rosie, Dakota, and I LOVE Chaparral Dog Park!!! It's very convenient and surrounded by a lot of paths, a desert xeriscape, baseball fields, ballparks, and a lake with ducks.\\r\\n\\r\\nThe Scottsdale Park and Rec Dept. does a wonderful job of keeping the park clean and shaded.  You can find trash cans and poopy-pick up mitts located all over the park and paths.\\r\\n\\r\\nThe fenced in area is huge to let the dogs run, play, and sniff!                                                                                                                                                                                                                                                                                                                                                                                                                                                                                                                                                                                                                                                                                                                                                                                                                                                                                                                                                              \n",
       "4  General Manager Scott Petello is a good egg!!! Not to go into detail, but let me assure you if you have any issues (albeit rare) speak with Scott and treat the guy with some respect as you state your case and I'd be surprised if you don't walk out totally satisfied as I just did. Like I always say..... \"Mistakes are inevitable, it's how we recover from them that is important\"!!!\\r\\n\\r\\nThanks to Scott and his awesome staff. You've got a customer for life!! .......... :^)                                                                                                                                                                                                                                                                                                                                                                                                                                                                                                                                                                                                                                                                                                                                                                                                                                                                                                                  "
      ]
     },
     "execution_count": 209,
     "metadata": {},
     "output_type": "execute_result"
    }
   ],
   "source": [
    "# reviews with most positive sentiment, above guidance says anything over 0.05 but let's set it to the extreme positive case of anything over 0.8\n",
    "yelp.loc[yelp['compound'] >= 0.8, ['text']].head(5)"
   ]
  },
  {
   "cell_type": "code",
   "execution_count": 211,
   "metadata": {},
   "outputs": [
    {
     "data": {
      "text/html": [
       "<div>\n",
       "<style scoped>\n",
       "    .dataframe tbody tr th:only-of-type {\n",
       "        vertical-align: middle;\n",
       "    }\n",
       "\n",
       "    .dataframe tbody tr th {\n",
       "        vertical-align: top;\n",
       "    }\n",
       "\n",
       "    .dataframe thead th {\n",
       "        text-align: right;\n",
       "    }\n",
       "</style>\n",
       "<table border=\"1\" class=\"dataframe\">\n",
       "  <thead>\n",
       "    <tr style=\"text-align: right;\">\n",
       "      <th></th>\n",
       "      <th>text</th>\n",
       "    </tr>\n",
       "  </thead>\n",
       "  <tbody>\n",
       "    <tr>\n",
       "      <th>23</th>\n",
       "      <td>U can go there n check the car out. If u wanna buy 1 there? That's wrong move! If u even want a car service from there? U made a biggest mistake of ur life!! I had 1 time asked my girlfriend to take my car there for an oil service, guess what? They ripped my girlfriend off by lying how bad my car is now. If without fixing the problem. Might bring some serious accident. Then she did what they said. 4 brand new tires, timing belt, 4 new brake pads. U know why's the worst? All of those above I had just changed 2 months before!!! What a trashy dealer is that? People, better off go somewhere!</td>\n",
       "    </tr>\n",
       "    <tr>\n",
       "      <th>148</th>\n",
       "      <td>Been here for many years but have seen a recent decline in quality service. Felt scolded by the bartender today at lunch. Felt disrespected as a customer. Service sucks stay away. \"bad service = bad review\"</td>\n",
       "    </tr>\n",
       "    <tr>\n",
       "      <th>239</th>\n",
       "      <td>Where are the managers????   It took 1 1/2 hours for our meal to come out at 8:15 in the evening.  Items came out at different times so we couldn't all eat at the same time.  The asparagus tempura was inedible because they didn't cut the ends.  Waitress just took it away and did not comp us.  Waitress knew next to nothing about the sushi menu.  She sat and talked with the hostess the entire time instead of waiting on her tables.  Food was WAY over priced, and I couldn't speak to my dinner companions because the music was way to loud.  One of the worst dining experiences in a long time.  Paid $70 for a dinner for 4 and went home hungry.  HORRIBLE!</td>\n",
       "    </tr>\n",
       "    <tr>\n",
       "      <th>262</th>\n",
       "      <td>OK, I've decided that other coffee shops sell swill. I think about Dazbog coffee in a dreamy sort of way, like unstressed people think about sex. I mourn often that they open so damn late in the morning. Seriously, I would be there every day... \\r\\n\\r\\nThe chocolate cappuccino rocks my world and perks me right the hell up, even on the mushiest afternoon. No bitterness, not overly sweet, just blissful- in an I've-just-been-bitch-slapped-by-caffeine sort of way, of course. \\r\\n\\r\\nOh, and the sandwiches I complained about? Replaced by real deli looking ones in clam-shells. Far more appetizing. But what the hell do I need a sandwich for when I can have a giant red velvet cupcake? \\r\\n\\r\\nDon't make me break out the voodoo, Dazbog. Just open at 6:00 am like any other coffee shop and we'll be BFFs.</td>\n",
       "    </tr>\n",
       "    <tr>\n",
       "      <th>283</th>\n",
       "      <td>Was extremely psyched to try Lobby's, considering all of the great reviews, but I was sadly disappointed with the results. I'm a freak for Chili burgers (good ones are very difficult to find) and The Lobby's Chili burger was fairly dull, featured Cinci style Chili (BLAH) and like. some sort of cheese whiz kinda crap.  Boo. Also ordered fries, and a Chicago dog.. the Chicago dog was overpriced and forgettable, and the crinkle cut fries were reminiscent of Del Taco's.. which isn't exactly a bad thing, but considering that Lobby's is supposed to be a tasty, quality burger place, frozen crinkle fries are kind of a half assed approach.. ALSO the amount of salt on the fries was enough to invoke a stroke! :x  Finally whoever dude was that handed me my bag of food was all like ZIPPY DOO I GAVE YOU A CUP OF FRENCH FRY SAUCE.. There were two orders of fries.. one cup of sauce.. which was just basic secret sauce.. not super great... secret sauce, to boot.. Thanks bro, but I don't need any secret sauce favors.</td>\n",
       "    </tr>\n",
       "  </tbody>\n",
       "</table>\n",
       "</div>"
      ],
      "text/plain": [
       "                                                                                                                                                                                                                                                                                                                                                                                                                                                                                                                                                                                                                                                                                                                                                                                                                                                                                                                                                                                                                                                      text\n",
       "23   U can go there n check the car out. If u wanna buy 1 there? That's wrong move! If u even want a car service from there? U made a biggest mistake of ur life!! I had 1 time asked my girlfriend to take my car there for an oil service, guess what? They ripped my girlfriend off by lying how bad my car is now. If without fixing the problem. Might bring some serious accident. Then she did what they said. 4 brand new tires, timing belt, 4 new brake pads. U know why's the worst? All of those above I had just changed 2 months before!!! What a trashy dealer is that? People, better off go somewhere!                                                                                                                                                                                                                                                                                                                                                                                                                                   \n",
       "148  Been here for many years but have seen a recent decline in quality service. Felt scolded by the bartender today at lunch. Felt disrespected as a customer. Service sucks stay away. \"bad service = bad review\"                                                                                                                                                                                                                                                                                                                                                                                                                                                                                                                                                                                                                                                                                                                                                                                                                                       \n",
       "239  Where are the managers????   It took 1 1/2 hours for our meal to come out at 8:15 in the evening.  Items came out at different times so we couldn't all eat at the same time.  The asparagus tempura was inedible because they didn't cut the ends.  Waitress just took it away and did not comp us.  Waitress knew next to nothing about the sushi menu.  She sat and talked with the hostess the entire time instead of waiting on her tables.  Food was WAY over priced, and I couldn't speak to my dinner companions because the music was way to loud.  One of the worst dining experiences in a long time.  Paid $70 for a dinner for 4 and went home hungry.  HORRIBLE!                                                                                                                                                                                                                                                                                                                                                                       \n",
       "262  OK, I've decided that other coffee shops sell swill. I think about Dazbog coffee in a dreamy sort of way, like unstressed people think about sex. I mourn often that they open so damn late in the morning. Seriously, I would be there every day... \\r\\n\\r\\nThe chocolate cappuccino rocks my world and perks me right the hell up, even on the mushiest afternoon. No bitterness, not overly sweet, just blissful- in an I've-just-been-bitch-slapped-by-caffeine sort of way, of course. \\r\\n\\r\\nOh, and the sandwiches I complained about? Replaced by real deli looking ones in clam-shells. Far more appetizing. But what the hell do I need a sandwich for when I can have a giant red velvet cupcake? \\r\\n\\r\\nDon't make me break out the voodoo, Dazbog. Just open at 6:00 am like any other coffee shop and we'll be BFFs.                                                                                                                                                                                                                 \n",
       "283  Was extremely psyched to try Lobby's, considering all of the great reviews, but I was sadly disappointed with the results. I'm a freak for Chili burgers (good ones are very difficult to find) and The Lobby's Chili burger was fairly dull, featured Cinci style Chili (BLAH) and like. some sort of cheese whiz kinda crap.  Boo. Also ordered fries, and a Chicago dog.. the Chicago dog was overpriced and forgettable, and the crinkle cut fries were reminiscent of Del Taco's.. which isn't exactly a bad thing, but considering that Lobby's is supposed to be a tasty, quality burger place, frozen crinkle fries are kind of a half assed approach.. ALSO the amount of salt on the fries was enough to invoke a stroke! :x  Finally whoever dude was that handed me my bag of food was all like ZIPPY DOO I GAVE YOU A CUP OF FRENCH FRY SAUCE.. There were two orders of fries.. one cup of sauce.. which was just basic secret sauce.. not super great... secret sauce, to boot.. Thanks bro, but I don't need any secret sauce favors."
      ]
     },
     "execution_count": 211,
     "metadata": {},
     "output_type": "execute_result"
    }
   ],
   "source": [
    "# reviews with most positive sentiment, above guidance says anything below -0.05 but let's set it to the extreme positive case of anything over 0.8\n",
    "yelp.loc[yelp['compound'] <= -0.8, ['text']].head(5)"
   ]
  },
  {
   "cell_type": "markdown",
   "metadata": {},
   "source": [
    "## Let's look at some cases where the rating the sentiment don't add up"
   ]
  },
  {
   "cell_type": "markdown",
   "metadata": {},
   "source": [
    "#### what's interesting here is that 5 stars with negative sentiment are somewhat ambiguous. It seems as if the negative sentiment expressed here is less about the businesses product i.e. the food and more about various feelings about the business operations. "
   ]
  },
  {
   "cell_type": "code",
   "execution_count": 218,
   "metadata": {},
   "outputs": [
    {
     "data": {
      "text/html": [
       "<div>\n",
       "<style scoped>\n",
       "    .dataframe tbody tr th:only-of-type {\n",
       "        vertical-align: middle;\n",
       "    }\n",
       "\n",
       "    .dataframe tbody tr th {\n",
       "        vertical-align: top;\n",
       "    }\n",
       "\n",
       "    .dataframe thead th {\n",
       "        text-align: right;\n",
       "    }\n",
       "</style>\n",
       "<table border=\"1\" class=\"dataframe\">\n",
       "  <thead>\n",
       "    <tr style=\"text-align: right;\">\n",
       "      <th></th>\n",
       "      <th>text</th>\n",
       "    </tr>\n",
       "  </thead>\n",
       "  <tbody>\n",
       "    <tr>\n",
       "      <th>262</th>\n",
       "      <td>OK, I've decided that other coffee shops sell swill. I think about Dazbog coffee in a dreamy sort of way, like unstressed people think about sex. I mourn often that they open so damn late in the morning. Seriously, I would be there every day... \\r\\n\\r\\nThe chocolate cappuccino rocks my world and perks me right the hell up, even on the mushiest afternoon. No bitterness, not overly sweet, just blissful- in an I've-just-been-bitch-slapped-by-caffeine sort of way, of course. \\r\\n\\r\\nOh, and the sandwiches I complained about? Replaced by real deli looking ones in clam-shells. Far more appetizing. But what the hell do I need a sandwich for when I can have a giant red velvet cupcake? \\r\\n\\r\\nDon't make me break out the voodoo, Dazbog. Just open at 6:00 am like any other coffee shop and we'll be BFFs.</td>\n",
       "    </tr>\n",
       "    <tr>\n",
       "      <th>390</th>\n",
       "      <td>RIP AZ Coffee Connection.  :(  I stopped by two days ago unaware that they had closed.  I am severely bummed.  This place is irreplaceable!  Damn you, Starbucks and McDonalds!</td>\n",
       "    </tr>\n",
       "    <tr>\n",
       "      <th>660</th>\n",
       "      <td>Video Paradise is great.  For those who aren't financially comfortable enough for the monthly payment to maintain a NetFlix account, or when you don't feel like buying something from Amazon.com, Video Paradise is a wonderful substitute if you want to get something that you know won't be at Blockbuster or Hollywood Video.\\r\\n\\r\\nThe selection is staggering.  I remember the first time I stepped in, I was amazed.  The only movie I really wanted to see and they didn't have was The Helstrom Chronicle, but that's okay.  I'm not going to ding this place because they didn't have it.  \"You didn't have The Helstrom Chronicle?  Lame!\"  I mean, come on.  No one else has it.  \\r\\n\\r\\nThis place had it all, from little indie films to gross-out horror films I had long forgotten from my disturbing adolescence (Cannibal Holocaust, Faces of Death, etc.).  They even had the worst movie I'd ever seen in my life:  Hard Rock Zombies.\\r\\n\\r\\nThe décor is that of sheer, unbridled love for cinema.  You can easily spend hours and hours browsing through their selection.</td>\n",
       "    </tr>\n",
       "  </tbody>\n",
       "</table>\n",
       "</div>"
      ],
      "text/plain": [
       "                                                                                                                                                                                                                                                                                                                                                                                                                                                                                                                                                                                                                                                                                                                                                                                                                                                                                                                                                                                                                                                                                                    text\n",
       "262  OK, I've decided that other coffee shops sell swill. I think about Dazbog coffee in a dreamy sort of way, like unstressed people think about sex. I mourn often that they open so damn late in the morning. Seriously, I would be there every day... \\r\\n\\r\\nThe chocolate cappuccino rocks my world and perks me right the hell up, even on the mushiest afternoon. No bitterness, not overly sweet, just blissful- in an I've-just-been-bitch-slapped-by-caffeine sort of way, of course. \\r\\n\\r\\nOh, and the sandwiches I complained about? Replaced by real deli looking ones in clam-shells. Far more appetizing. But what the hell do I need a sandwich for when I can have a giant red velvet cupcake? \\r\\n\\r\\nDon't make me break out the voodoo, Dazbog. Just open at 6:00 am like any other coffee shop and we'll be BFFs.                                                                                                                                                                                                                                                               \n",
       "390  RIP AZ Coffee Connection.  :(  I stopped by two days ago unaware that they had closed.  I am severely bummed.  This place is irreplaceable!  Damn you, Starbucks and McDonalds!                                                                                                                                                                                                                                                                                                                                                                                                                                                                                                                                                                                                                                                                                                                                                                                                                                                                                                                    \n",
       "660  Video Paradise is great.  For those who aren't financially comfortable enough for the monthly payment to maintain a NetFlix account, or when you don't feel like buying something from Amazon.com, Video Paradise is a wonderful substitute if you want to get something that you know won't be at Blockbuster or Hollywood Video.\\r\\n\\r\\nThe selection is staggering.  I remember the first time I stepped in, I was amazed.  The only movie I really wanted to see and they didn't have was The Helstrom Chronicle, but that's okay.  I'm not going to ding this place because they didn't have it.  \"You didn't have The Helstrom Chronicle?  Lame!\"  I mean, come on.  No one else has it.  \\r\\n\\r\\nThis place had it all, from little indie films to gross-out horror films I had long forgotten from my disturbing adolescence (Cannibal Holocaust, Faces of Death, etc.).  They even had the worst movie I'd ever seen in my life:  Hard Rock Zombies.\\r\\n\\r\\nThe décor is that of sheer, unbridled love for cinema.  You can easily spend hours and hours browsing through their selection."
      ]
     },
     "execution_count": 218,
     "metadata": {},
     "output_type": "execute_result"
    }
   ],
   "source": [
    "# negative sentiment in a 5-star review\n",
    "yelp.loc[(yelp['stars'] == 5) & (yelp['compound'] < -0.7), ['text']].head(3)"
   ]
  },
  {
   "cell_type": "markdown",
   "metadata": {},
   "source": [
    "### conversely, for 1 star ratings with positive sentiment it looks like an issue with the sentiment model. "
   ]
  },
  {
   "cell_type": "code",
   "execution_count": 219,
   "metadata": {},
   "outputs": [
    {
     "data": {
      "text/html": [
       "<div>\n",
       "<style scoped>\n",
       "    .dataframe tbody tr th:only-of-type {\n",
       "        vertical-align: middle;\n",
       "    }\n",
       "\n",
       "    .dataframe tbody tr th {\n",
       "        vertical-align: top;\n",
       "    }\n",
       "\n",
       "    .dataframe thead th {\n",
       "        text-align: right;\n",
       "    }\n",
       "</style>\n",
       "<table border=\"1\" class=\"dataframe\">\n",
       "  <thead>\n",
       "    <tr style=\"text-align: right;\">\n",
       "      <th></th>\n",
       "      <th>text</th>\n",
       "    </tr>\n",
       "  </thead>\n",
       "  <tbody>\n",
       "    <tr>\n",
       "      <th>31</th>\n",
       "      <td>Disgusting!  Had a Groupon so my daughter and I tried it out.  Very outdated and gaudy 80's style interior made me feel like I was in an episode of Sopranos.  The food itself was pretty bad.  We ordered pretty simple dishes but they just had no flavor at all!  After trying it out I'm positive all the good reviews on here are employees or owners creating them.</td>\n",
       "    </tr>\n",
       "    <tr>\n",
       "      <th>35</th>\n",
       "      <td>I've eaten here many times, but none as bad as last night.\\r\\nService was excellent, and highly attentive.\\r\\nFood, absolutely horrible.\\r\\n\\r\\nMy expectation was they would serve a steak on par with their seafood. After all, they were charging 39 bucks for a ribeye. \\r\\nWhat I was hoping for was a 1- 1-1/2' thick steak, cooked Pittsburgh style as I had ordered. \\r\\nWhat I got a a 3/4 in thick piece of meat that was mostly fat, gristle, and in no way resembled Pittsburgh Style. \\r\\nSalad, similar to something you could get at Chick Filet\\r\\nVeggies, blah.\\r\\nBread basket, ample, but day old, and if not, it certainly wasn't fresh. \\r\\n\\r\\nIn addition to bad food, we were crammed into a small room where we were nuts to butts with 6 other tables, listening to conversations ranging from someone's recent bout with pinkeye, and another couple who elected to speak entirely in French, until the waiter showed up, then it was like they turned off the French switch and suddenly began speaking English. \\r\\n\\r\\nI've had it with this place.\\r\\nIf I'm going to pay 150 bucks for dinner, it'll be at Mortons, or Maestro where the steaks are 1-1/2 in thick, cooked to perfection, and half of it doesnt wind up on the plate as fat and gristle</td>\n",
       "    </tr>\n",
       "    <tr>\n",
       "      <th>61</th>\n",
       "      <td>I have always been a fan of Burlington's deals, however I will not be shopping at this one again. I went to return a belt... pretty simple. Instead, I stood in the customer service line for 15 minutes thanks to an employee of Burlington buying/putting things on layaway. It took three other staff to help her out. There were no words said to me except \"Hold on\". I was pissed. When the lady was finally done, the employee at the service asked \"what do you want?\" Serious help is needed there!\\r\\n If you work in the area of \"customer service\" I think you should have some.</td>\n",
       "    </tr>\n",
       "  </tbody>\n",
       "</table>\n",
       "</div>"
      ],
      "text/plain": [
       "                                                                                                                                                                                                                                                                                                                                                                                                                                                                                                                                                                                                                                                                                                                                                                                                                                                                                                                                                                                                                                                                                                                                                                                                                                                                                        text\n",
       "31  Disgusting!  Had a Groupon so my daughter and I tried it out.  Very outdated and gaudy 80's style interior made me feel like I was in an episode of Sopranos.  The food itself was pretty bad.  We ordered pretty simple dishes but they just had no flavor at all!  After trying it out I'm positive all the good reviews on here are employees or owners creating them.                                                                                                                                                                                                                                                                                                                                                                                                                                                                                                                                                                                                                                                                                                                                                                                                                                                                                                               \n",
       "35  I've eaten here many times, but none as bad as last night.\\r\\nService was excellent, and highly attentive.\\r\\nFood, absolutely horrible.\\r\\n\\r\\nMy expectation was they would serve a steak on par with their seafood. After all, they were charging 39 bucks for a ribeye. \\r\\nWhat I was hoping for was a 1- 1-1/2' thick steak, cooked Pittsburgh style as I had ordered. \\r\\nWhat I got a a 3/4 in thick piece of meat that was mostly fat, gristle, and in no way resembled Pittsburgh Style. \\r\\nSalad, similar to something you could get at Chick Filet\\r\\nVeggies, blah.\\r\\nBread basket, ample, but day old, and if not, it certainly wasn't fresh. \\r\\n\\r\\nIn addition to bad food, we were crammed into a small room where we were nuts to butts with 6 other tables, listening to conversations ranging from someone's recent bout with pinkeye, and another couple who elected to speak entirely in French, until the waiter showed up, then it was like they turned off the French switch and suddenly began speaking English. \\r\\n\\r\\nI've had it with this place.\\r\\nIf I'm going to pay 150 bucks for dinner, it'll be at Mortons, or Maestro where the steaks are 1-1/2 in thick, cooked to perfection, and half of it doesnt wind up on the plate as fat and gristle\n",
       "61  I have always been a fan of Burlington's deals, however I will not be shopping at this one again. I went to return a belt... pretty simple. Instead, I stood in the customer service line for 15 minutes thanks to an employee of Burlington buying/putting things on layaway. It took three other staff to help her out. There were no words said to me except \"Hold on\". I was pissed. When the lady was finally done, the employee at the service asked \"what do you want?\" Serious help is needed there!\\r\\n If you work in the area of \"customer service\" I think you should have some.                                                                                                                                                                                                                                                                                                                                                                                                                                                                                                                                                                                                                                                                                            "
      ]
     },
     "execution_count": 219,
     "metadata": {},
     "output_type": "execute_result"
    }
   ],
   "source": [
    "# positive sentiment in a 1-star review\n",
    "yelp.loc[(yelp['stars'] == 1) & (yelp['compound'] > 0.7), ['text']].head(3)"
   ]
  },
  {
   "cell_type": "markdown",
   "metadata": {},
   "source": [
    "## Topic Modeling"
   ]
  },
  {
   "cell_type": "markdown",
   "metadata": {},
   "source": [
    "### Let's try another approach to analyzing this text with Topic Modeling. \n",
    "### Topic Modeling is a way to organically or in an unsupervised fashion identify topics within text. The benefit of doing a bottom up approach is that topics can emerge naturally without bias. The downside is that occassionally topics are not interpretable, particularly if topics are not well differentiated. For example, AI may be thought of a superset of Machine Learning topics and as such text data dealing with these broad topics might not emerge as two distinct topics. \n",
    "\n",
    "### The approach used here will be: latent dirichlet allocation. \n",
    "### We will prep the text like we did before using TF-IDF and then visualize the topics"
   ]
  },
  {
   "cell_type": "markdown",
   "metadata": {},
   "source": [
    "### Use TFIDF to create trigrams for topics"
   ]
  },
  {
   "cell_type": "code",
   "execution_count": 222,
   "metadata": {},
   "outputs": [],
   "source": [
    "tfidf = TfidfVectorizer(analyzer='word', min_df=2, max_df=0.9, lowercase=True, ngram_range=(2,4), smooth_idf=True, stop_words='english', use_idf=True)\n",
    "tfidfvect = tfidf.fit_transform(yelp['text'])"
   ]
  },
  {
   "cell_type": "code",
   "execution_count": 233,
   "metadata": {},
   "outputs": [],
   "source": [
    "topics = 3"
   ]
  },
  {
   "cell_type": "code",
   "execution_count": 234,
   "metadata": {},
   "outputs": [],
   "source": [
    "# Latent Dirichlet Allocation Model\n",
    "lda = LatentDirichletAllocation(n_components=topics, max_iter=150, learning_method='online',verbose=False)\n",
    "data_lda = lda.fit_transform(tfidfvect)"
   ]
  },
  {
   "cell_type": "code",
   "execution_count": 235,
   "metadata": {},
   "outputs": [],
   "source": [
    "# Functions for printing keywords for each topic\n",
    "def selected_topics(model, vectorizer, top_n=15):\n",
    "    for idx, topic in enumerate(model.components_):\n",
    "        print(\"Topic %d:\" % (idx))\n",
    "        print([(vectorizer.get_feature_names()[i], topic[i])\n",
    "                        for i in topic.argsort()[:-top_n - 1:-1]]) "
   ]
  },
  {
   "cell_type": "code",
   "execution_count": 236,
   "metadata": {},
   "outputs": [
    {
     "name": "stdout",
     "output_type": "stream",
     "text": [
      "Latent Dirichlet Allocation Model:\n",
      "Topic 0:\n",
      "[('happy hour', 52.69746728492382), ('great place', 36.734978833043606), ('great food', 35.80869056641191), ('really good', 34.14625670835026), ('pretty good', 34.050165161109966), ('food good', 33.737398389327865), ('good food', 33.03621560802845), ('love place', 31.15275274816602), ('service great', 28.844457744841737), ('great service', 26.824624424491176), ('mexican food', 25.71537701584332), ('food great', 24.986374570711288), ('service good', 22.149202745328385), ('don know', 21.295913209764713), ('good service', 20.469830832771166)]\n",
      "Topic 1:\n",
      "[('chinese food', 14.972247097385269), ('ice cream', 14.119920537263956), ('customer service', 13.562539098982674), ('fried rice', 10.965909306445694), ('highly recommend', 9.510535901258217), ('make sure', 8.778620269941465), ('pad thai', 8.669311135113894), ('thai food', 8.032224450502557), ('spring rolls', 7.812367250252377), ('parking lot', 7.742982408620868), ('don know', 7.595497272567646), ('dim sum', 7.350543259750476), ('love place', 7.281024396530581), ('feel like', 7.253402355704251), ('staff friendly', 7.13421189019383)]\n",
      "Topic 2:\n",
      "[('delicious loved', 4.877712529015181), ('food little pricey', 4.773231980454268), ('awesome food', 4.634536243721053), ('dog park', 4.6041761533645955), ('food little', 4.008184172652315), ('little pricey', 3.782955050032008), ('customer service', 3.2481360302440465), ('24 hour', 2.6055332787046326), ('need work', 2.2293344757631273), ('highly recommend', 2.0595028187897855), ('great customer', 2.0313360811104095), ('staff friendly', 1.9320916929582983), ('24 hours', 1.909851175401192), ('friendly staff', 1.9056966244461147), ('great customer service', 1.8586088712004465)]\n"
     ]
    }
   ],
   "source": [
    "# Keywords for topics clustered by Latent Dirichlet Allocation\n",
    "print(\"Latent Dirichlet Allocation Model:\")\n",
    "selected_topics(lda, tfidf)"
   ]
  },
  {
   "cell_type": "markdown",
   "metadata": {},
   "source": [
    "### Code below visulizes topics. \n",
    "- reference: https://cran.r-project.org/web/packages/LDAvis/vignettes/details.pdf \n",
    "- reference for sensitivity metric: https://nlp.stanford.edu/events/illvi2014/papers/sievert-illvi2014.pdf \n",
    "\n",
    "Here we use  principle coordinate analysis (pcoa) for distance map, using pcoa tends to show closer separation, but also more overlap. It's a better representation of how far apart the topics actually are whereas using tsne forces topics to not overlap but can be less intuitive given when topics tend be similar. "
   ]
  },
  {
   "cell_type": "code",
   "execution_count": 237,
   "metadata": {},
   "outputs": [
    {
     "data": {
      "text/html": [
       "\n",
       "<link rel=\"stylesheet\" type=\"text/css\" href=\"https://cdn.rawgit.com/bmabey/pyLDAvis/files/ldavis.v1.0.0.css\">\n",
       "\n",
       "\n",
       "<div id=\"ldavis_el2135621340176111201074145941\"></div>\n",
       "<script type=\"text/javascript\">\n",
       "\n",
       "var ldavis_el2135621340176111201074145941_data = {\"mdsDat\": {\"x\": [-0.034773266170639965, 0.027709566313601677, 0.007063699857038287], \"y\": [-0.004905565425825535, -0.009940681080089595, 0.014846246505915138], \"topics\": [1, 2, 3], \"cluster\": [1, 1, 1], \"Freq\": [65.10971893129495, 27.295450991599868, 7.594830077105183]}, \"tinfo\": {\"Category\": [\"Default\", \"Default\", \"Default\", \"Default\", \"Default\", \"Default\", \"Default\", \"Default\", \"Default\", \"Default\", \"Default\", \"Default\", \"Default\", \"Default\", \"Default\", \"Default\", \"Default\", \"Default\", \"Default\", \"Default\", \"Default\", \"Default\", \"Default\", \"Default\", \"Default\", \"Default\", \"Default\", \"Default\", \"Default\", \"Default\", \"Default\", \"Default\", \"Default\", \"Default\", \"Default\", \"Default\", \"Default\", \"Default\", \"Default\", \"Default\", \"Topic1\", \"Topic1\", \"Topic1\", \"Topic1\", \"Topic1\", \"Topic1\", \"Topic1\", \"Topic1\", \"Topic1\", \"Topic1\", \"Topic1\", \"Topic1\", \"Topic1\", \"Topic1\", \"Topic1\", \"Topic1\", \"Topic1\", \"Topic1\", \"Topic1\", \"Topic1\", \"Topic1\", \"Topic1\", \"Topic1\", \"Topic1\", \"Topic1\", \"Topic1\", \"Topic1\", \"Topic1\", \"Topic1\", \"Topic1\", \"Topic1\", \"Topic1\", \"Topic1\", \"Topic1\", \"Topic1\", \"Topic1\", \"Topic1\", \"Topic1\", \"Topic1\", \"Topic1\", \"Topic1\", \"Topic1\", \"Topic1\", \"Topic1\", \"Topic1\", \"Topic1\", \"Topic1\", \"Topic1\", \"Topic1\", \"Topic1\", \"Topic1\", \"Topic1\", \"Topic1\", \"Topic1\", \"Topic1\", \"Topic1\", \"Topic1\", \"Topic1\", \"Topic1\", \"Topic1\", \"Topic1\", \"Topic1\", \"Topic1\", \"Topic1\", \"Topic1\", \"Topic1\", \"Topic1\", \"Topic1\", \"Topic1\", \"Topic1\", \"Topic1\", \"Topic1\", \"Topic1\", \"Topic1\", \"Topic2\", \"Topic2\", \"Topic2\", \"Topic2\", \"Topic2\", \"Topic2\", \"Topic2\", \"Topic2\", \"Topic2\", \"Topic2\", \"Topic2\", \"Topic2\", \"Topic2\", \"Topic2\", \"Topic2\", \"Topic2\", \"Topic2\", \"Topic2\", \"Topic2\", \"Topic2\", \"Topic2\", \"Topic2\", \"Topic2\", \"Topic2\", \"Topic2\", \"Topic2\", \"Topic2\", \"Topic2\", \"Topic2\", \"Topic2\", \"Topic2\", \"Topic2\", \"Topic2\", \"Topic2\", \"Topic2\", \"Topic2\", \"Topic2\", \"Topic2\", \"Topic2\", \"Topic2\", \"Topic2\", \"Topic2\", \"Topic2\", \"Topic2\", \"Topic2\", \"Topic2\", \"Topic2\", \"Topic2\", \"Topic2\", \"Topic2\", \"Topic2\", \"Topic2\", \"Topic2\", \"Topic2\", \"Topic2\", \"Topic2\", \"Topic2\", \"Topic2\", \"Topic2\", \"Topic2\", \"Topic2\", \"Topic2\", \"Topic2\", \"Topic2\", \"Topic2\", \"Topic2\", \"Topic2\", \"Topic2\", \"Topic2\", \"Topic2\", \"Topic2\", \"Topic2\", \"Topic2\", \"Topic2\", \"Topic2\", \"Topic2\", \"Topic2\", \"Topic2\", \"Topic2\", \"Topic2\", \"Topic2\", \"Topic2\", \"Topic2\", \"Topic2\", \"Topic2\", \"Topic2\", \"Topic2\", \"Topic2\", \"Topic2\", \"Topic2\", \"Topic3\", \"Topic3\", \"Topic3\", \"Topic3\", \"Topic3\", \"Topic3\", \"Topic3\", \"Topic3\", \"Topic3\", \"Topic3\", \"Topic3\", \"Topic3\", \"Topic3\", \"Topic3\", \"Topic3\", \"Topic3\", \"Topic3\", \"Topic3\", \"Topic3\", \"Topic3\", \"Topic3\", \"Topic3\", \"Topic3\", \"Topic3\", \"Topic3\", \"Topic3\", \"Topic3\", \"Topic3\", \"Topic3\", \"Topic3\", \"Topic3\", \"Topic3\", \"Topic3\", \"Topic3\", \"Topic3\", \"Topic3\", \"Topic3\", \"Topic3\", \"Topic3\", \"Topic3\", \"Topic3\", \"Topic3\", \"Topic3\", \"Topic3\", \"Topic3\", \"Topic3\", \"Topic3\", \"Topic3\", \"Topic3\", \"Topic3\", \"Topic3\", \"Topic3\", \"Topic3\", \"Topic3\", \"Topic3\", \"Topic3\", \"Topic3\", \"Topic3\", \"Topic3\", \"Topic3\", \"Topic3\", \"Topic3\", \"Topic3\", \"Topic3\", \"Topic3\", \"Topic3\", \"Topic3\", \"Topic3\", \"Topic3\", \"Topic3\"], \"Freq\": [28.0, 5.0, 19.0, 4.0, 14.0, 3.0, 12.0, 2.0, 3.0, 2.0, 3.0, 2.0, 13.0, 13.0, 11.0, 4.0, 19.0, 21.0, 1.0, 1.0, 4.0, 3.0, 9.0, 18.0, 8.0, 3.0, 7.0, 7.0, 3.0, 3.0, 16.0, 1.0, 1.0, 1.0, 1.0, 4.0, 3.0, 4.0, 2.0, 1.0, 28.381189472974523, 19.285428391644974, 13.849488885482375, 11.928860193444896, 10.848343417436109, 8.868992423947404, 7.47238114268613, 8.188430343733556, 7.572954132072696, 6.121146296549056, 6.0682373956759195, 6.095727235333281, 5.955022781526358, 5.355704551497143, 5.6891528913401155, 5.0826471054498334, 5.3091945101277815, 4.870350615350409, 7.674284713371932, 4.497358161260279, 4.429961535388096, 4.504426036451851, 4.516811593457644, 4.398319476776031, 4.387434882638854, 3.972523332622269, 4.370812714236661, 4.025470290776777, 4.067408807365533, 4.266030838473695, 3.827237494307387, 3.912080166494476, 4.01564102707213, 4.28270718879227, 5.966469000044918, 3.8010294456064804, 3.6694510642716818, 3.6203873953816035, 3.8518750602938763, 3.699175977978434, 18.338342216685813, 3.990444532176541, 19.7842979608356, 17.79226105065078, 15.5347128178922, 8.37492186864164, 18.390094085409082, 18.169895923758606, 7.695908523521261, 13.456871221151605, 5.531486500534643, 14.446894463003316, 6.667009854419497, 5.630792239487645, 16.777887513455017, 8.90422908000298, 9.929041939596305, 8.722216431025386, 8.160269095283425, 11.024403586675222, 5.430153036584233, 11.469305432431414, 8.784787417596265, 10.318373316094554, 9.034234970478064, 6.761326587438634, 7.08633908659194, 6.431185147630359, 6.66270012910375, 8.39835024012578, 6.598650825685595, 8.564720596348037, 7.916647014805973, 7.061692842156779, 5.287047225654846, 2.595647072596511, 3.8723165599872735, 2.8363644896217948, 1.359208543450521, 1.467001091909079, 1.221666321403284, 1.2912383760453383, 1.1277877561214773, 1.2989624345344923, 1.5153443690160284, 1.1805820172169206, 1.080199313080894, 1.0343701952235618, 0.9940584526316244, 0.9713421635849799, 0.9653167147333848, 0.9649393087647604, 3.0613345536654375, 0.9545493874801819, 1.0721689530071914, 0.9784273370749942, 0.927429209508291, 0.9238187269445093, 0.9525710911390293, 1.0365688511172182, 0.9074593436429641, 0.9063619322038312, 0.8909425744481659, 0.9617626393115013, 0.8825810142179488, 0.8825810142179488, 1.062836224315057, 0.876478983531466, 0.9524985873772687, 0.910211495322098, 0.8666870965126223, 0.8755050676644375, 0.8738655216795034, 0.8672610187120244, 1.0778553720792636, 1.0468044095814943, 1.3160158694973891, 1.1389676116968541, 1.1858323203217924, 1.1740239180663197, 1.1936121812174356, 0.954193230132123, 2.3850233699374113, 0.979254963797596, 1.4809505325558974, 2.7587278200516034, 1.2377476373598923, 2.065690846157417, 4.98607097634967, 4.78924668085623, 1.5418598759199706, 1.1815348475924032, 1.9814157574800015, 2.1196396235740895, 2.2118537199305064, 2.008751041510607, 1.4374591132069607, 3.0999341409064045, 3.358390502386202, 2.2303844693823094, 2.7342264254336617, 2.0357698767049395, 2.14830215413502, 2.5613443694755555, 2.6821460079570025, 1.7319803024402785, 1.756579805747706, 2.519255455506761, 1.634601885313374, 2.1131966523240977, 1.5202790457247843, 1.6030506096365043, 2.571098351851606, 1.9467237366927428, 2.07762317659671, 1.7254743920011817, 1.6576534161895815, 1.7314366944852912, 1.7252621402482589, 1.7047071522962167, 1.8391688998392663, 1.7490169377007359, 1.5843166190297902, 1.6187164843055368, 0.7013422819852075, 0.6863195380422447, 0.24902636010840737, 0.23790405027696365, 0.23790405027696365, 0.21287676499128053, 0.19860984996549488, 0.19860984996549488, 0.2023053386411724, 0.20344211394217215, 0.21485745371332285, 0.1910233470162793, 0.23772858028576846, 0.19025740624420065, 0.19791103751826689, 0.18842868798002183, 0.18842868798002183, 0.18842868798002183, 0.18658312287841958, 0.1836577617891508, 0.1873340738822889, 0.1828822903069825, 0.1828822903069825, 0.21042637891040067, 0.17658678994594137, 0.17524454777803292, 0.17493044237486224, 0.17259768230494305, 0.17107228009388054, 0.17130433268615444, 0.1691024836162219, 0.16723402180151356, 0.22729173466651653, 0.16701458079738796, 0.16547763715572825, 0.23699648031088147, 0.16181871028654848, 0.18374344610366244, 0.1615064201062023, 0.16107005877936192, 0.19255011957094192, 0.37463680866901283, 0.18470816061158452, 0.1980093975096583, 0.6620118325658201, 0.23199423742408476, 0.20022422374515392, 0.5763170784549153, 0.24357524280884846, 0.6663771605602875, 0.32054503401734646, 0.24855754300323107, 0.25398297693811656, 0.2112104587262732, 0.1996554561992314, 0.5439324912353104, 0.24024162337316926, 0.24461323990474793, 0.24843674878155567, 0.2746081023922995, 0.2545667352481082, 0.4670334961518686, 0.20333012684166257, 0.2920758191734816, 0.20097776021414124, 0.2672402236277043, 0.2961257757797026, 0.27401073995445074, 0.27780595696926497, 0.21206645658963927], \"Term\": [\"happy hour\", \"chinese food\", \"great food\", \"fried rice\", \"mexican food\", \"awesome food\", \"service good\", \"dog park\", \"pad thai\", \"food little\", \"thai food\", \"dim sum\", \"ice cream\", \"customer service\", \"food service\", \"little pricey\", \"pretty good\", \"great place\", \"food little pricey\", \"delicious loved\", \"spring rolls\", \"pei wei\", \"love love\", \"good food\", \"carne asada\", \"great customer\", \"chips salsa\", \"service food\", \"great customer service\", \"red velvet\", \"service great\", \"need work\", \"24 hour\", \"panda express\", \"hong kong\", \"highly recommended\", \"hot dog\", \"20 minutes\", \"waste time\", \"24 hours\", \"happy hour\", \"great food\", \"mexican food\", \"service good\", \"food service\", \"love love\", \"chips salsa\", \"carne asada\", \"service food\", \"potato fries\", \"sweet potato fries\", \"saturday night\", \"great atmosphere\", \"wine list\", \"good great\", \"great food great\", \"excellent service\", \"fish tacos\", \"old town\", \"bar food\", \"atmosphere great\", \"best pizza\", \"salad bar\", \"sports bar\", \"rice beans\", \"great spot\", \"chicken sandwich\", \"love love love\", \"mashed potatoes\", \"fun place\", \"bad service\", \"great happy hour\", \"grilled cheese\", \"try place\", \"service friendly\", \"breakfast lunch\", \"service great food\", \"great food service\", \"service slow\", \"food great service\", \"pretty good\", \"olive oil\", \"great place\", \"good food\", \"service great\", \"sweet potato\", \"really good\", \"food good\", \"food delicious\", \"food great\", \"food really\", \"great service\", \"good time\", \"nice place\", \"love place\", \"don think\", \"place great\", \"good place\", \"really nice\", \"good service\", \"french toast\", \"don know\", \"friendly staff\", \"staff friendly\", \"feel like\", \"wait staff\", \"just right\", \"place good\", \"really like\", \"highly recommend\", \"don like\", \"ice cream\", \"customer service\", \"make sure\", \"chinese food\", \"dim sum\", \"fried rice\", \"thai food\", \"mongolian beef\", \"hong kong\", \"good chinese\", \"hair cut\", \"service fees\", \"orange chicken\", \"panda express\", \"kung pao\", \"sour soup\", \"hot sour\", \"best chinese\", \"got way\", \"said guys\", \"favorite chocolate\", \"pad thai\", \"closed doors\", \"fish sauce\", \"best thai\", \"need pull\", \"happen employee\", \"hot sour soup\", \"farmers market\", \"body parts\", \"pizza fix\", \"like phoenix\", \"moved scottsdale\", \"service fresh\", \"service fresh ingredients\", \"don waste\", \"sounding menu\", \"scottsdale recently\", \"bread bowl\", \"ve easily\", \"dessert wasn\", \"great bbq\", \"good chinese food\", \"place shop\", \"papaya salad\", \"location closed\", \"vietnamese food\", \"fresh produce\", \"dunkin donuts\", \"staff did\", \"best donuts\", \"pei wei\", \"kids running\", \"waste time\", \"spring rolls\", \"noodle soup\", \"red velvet\", \"ice cream\", \"customer service\", \"chicken waffles\", \"food phoenix\", \"hot dog\", \"highly recommended\", \"20 minutes\", \"spring training\", \"sweet sour\", \"make sure\", \"highly recommend\", \"ve got\", \"parking lot\", \"10 minutes\", \"ve seen\", \"feel like\", \"don know\", \"love food\", \"cream cheese\", \"staff friendly\", \"30 minutes\", \"fast food\", \"fried chicken\", \"high quality\", \"love place\", \"long time\", \"good service\", \"friendly helpful\", \"time went\", \"years ago\", \"reasonably priced\", \"recommend place\", \"food good\", \"really good\", \"great selection\", \"great service\", \"delicious loved\", \"food little pricey\", \"stop drink\", \"hour fitness\", \"24 hour fitness\", \"lake water\", \"store friendly\", \"store friendly staff\", \"dental care\", \"clean people friendly\", \"love gym\", \"recommend gym\", \"fast drive\", \"gold medal\", \"american art\", \"long walks\", \"airport long walks\", \"airport long\", \"certain items\", \"phone able\", \"free weights\", \"lake water clean\", \"water clean\", \"lunch worth\", \"make soon\", \"school education\", \"knowledgeable product\", \"park clean\", \"items recommend\", \"atmosphere value\", \"huge store\", \"gym good\", \"clean people\", \"location near\", \"change told\", \"chorizo gravy\", \"friendly gym\", \"tuesdays special\", \"pricing beat\", \"restaurants pretty\", \"staff friendly professional\", \"24 hour\", \"delicious addicting\", \"folks best\", \"dog park\", \"cares customers\", \"easy work\", \"food little\", \"real gem\", \"awesome food\", \"need work\", \"nom nom\", \"la fitness\", \"business traveler\", \"love dr\", \"little pricey\", \"office staff\", \"open 24 hours\", \"friendly professional\", \"24 hours\", \"open 24\", \"customer service\", \"phoenix nice\", \"great customer\", \"awesome pool\", \"great customer service\", \"highly recommend\", \"friendly staff\", \"staff friendly\", \"fountain hills\"], \"Total\": [28.0, 5.0, 19.0, 4.0, 14.0, 3.0, 12.0, 2.0, 3.0, 2.0, 3.0, 2.0, 13.0, 13.0, 11.0, 4.0, 19.0, 21.0, 1.0, 1.0, 4.0, 3.0, 9.0, 18.0, 8.0, 3.0, 7.0, 7.0, 3.0, 3.0, 16.0, 1.0, 1.0, 1.0, 1.0, 4.0, 3.0, 4.0, 2.0, 1.0, 28.552870799546177, 19.46040068432899, 14.028470865074878, 12.112778512771564, 11.042401291332324, 9.047651190981735, 7.642215871267493, 8.37649932952887, 7.756328455777796, 6.291436650992433, 6.23858218903985, 6.271182285856347, 6.127625444501059, 5.521748037711798, 5.869844003726219, 5.24935624956549, 5.488945554924834, 5.036518614480708, 7.954527999456417, 4.663438360418633, 4.596646181709944, 4.679587839377471, 4.698818036699135, 4.578341768849982, 4.573704272389374, 4.141972981338681, 4.558213779619887, 4.200623296059663, 4.2447163922112745, 4.452228798194317, 3.9943140982934233, 4.083027263674256, 4.191989517212087, 4.47113390264271, 6.2357446065114255, 3.9726545486943228, 3.83572163881453, 3.7867674493567276, 4.030108880347583, 3.8704344868805856, 19.368243490647597, 4.17576586649337, 21.07531332784026, 18.980787500054547, 16.612981632654872, 8.904805703420005, 20.19063112584788, 20.057297694995153, 8.218562071847375, 14.776663859233745, 5.858048728696678, 16.11544694636199, 7.158649527379936, 5.9837112378325275, 19.399427499376674, 9.838815136528591, 11.20512929882714, 9.86091586340762, 9.185836219762642, 13.150236185595531, 5.827703764329353, 14.206661816702505, 10.470768249863816, 13.11543472857058, 11.647668146600893, 7.753507711809862, 8.299034369440811, 7.319024346267907, 7.776533095664505, 12.052866518291683, 7.6984867191722, 13.598969285973805, 13.172927191814072, 10.209812765208682, 5.582063741518715, 2.8579493873531168, 4.3033108406682254, 3.22621248921732, 1.6050716585944858, 1.733413304788206, 1.4512273928524473, 1.5369525415649685, 1.3555192022251532, 1.5786551565930822, 1.8472389036057955, 1.439461032940614, 1.3262686625388747, 1.2705430751178064, 1.2226576690185202, 1.1991599569521352, 1.1931170678770322, 1.1927560274312559, 3.789370552886528, 1.1854413852121, 1.3352161790402968, 1.218526109907498, 1.1556119567260625, 1.1515925960093336, 1.1894741146795549, 1.2952842261349284, 1.1352391202927352, 1.1378136911197958, 1.119415494290523, 1.2091432236284083, 1.1103523081068702, 1.1103523081068702, 1.3371710765395382, 1.1042467329833938, 1.200756981058355, 1.1478904178808214, 1.0944451065210892, 1.1055878380941115, 1.1048084783007341, 1.0965690881354766, 1.3643118147813242, 1.3259607533418822, 1.6774623404917732, 1.4513854312250942, 1.5166477638972975, 1.5118973962846163, 1.5492632611187327, 1.2113061799806895, 3.5165481148945776, 1.2499860205891378, 2.0770226440012065, 4.785769291318607, 1.7237972135516064, 3.6397060727322925, 13.598969285973805, 13.172927191814072, 2.4594562263351976, 1.6578356960537175, 3.732904869375822, 4.248415203510341, 4.821774953299284, 4.261518057213576, 2.3895876256664264, 10.209812765208682, 12.052866518291683, 5.7125401827261415, 8.592443278308451, 5.1838668382124995, 6.580862857710071, 11.647668146600893, 14.206661816702505, 4.503922101204604, 4.725160324465878, 13.11543472857058, 3.8986223253525885, 8.433275578669003, 3.35580013530712, 3.990984318605858, 19.399427499376674, 7.670287734870531, 13.150236185595531, 6.276791994474461, 5.27567588927272, 6.949738658495725, 6.88011747057374, 6.58416204780978, 20.057297694995153, 20.19063112584788, 6.0314390653314325, 16.11544694636199, 1.0496745224401445, 1.0926896011856104, 0.5473480447611148, 0.5510315154175278, 0.5510315154175278, 0.5112801439655824, 0.4968144583240902, 0.4968144583240902, 0.5125482755772307, 0.52020382308251, 0.5501956702212735, 0.4894833484526766, 0.6093178039057233, 0.48835638313222907, 0.5088849879166083, 0.4875647626392933, 0.4875647626392933, 0.4875647626392933, 0.48457723967207855, 0.4816690332144907, 0.49234985211219356, 0.4807797400472215, 0.4807797400472215, 0.5607505074149091, 0.4744728028357441, 0.473041796621663, 0.47276377929472435, 0.4702659840268158, 0.46884690038707844, 0.47134235364445765, 0.4671829435814514, 0.4650998973808177, 0.6324704890608748, 0.4674270627809506, 0.46334192423886433, 0.666574577782565, 0.4596584752148956, 0.5225151056800414, 0.4593757189911661, 0.459323506666851, 0.5509435986442892, 1.098198244038632, 0.5281197732167888, 0.5689312875410011, 2.104664960327374, 0.6846123603580218, 0.583206142148067, 2.3921458363266255, 0.771486974152958, 3.225567146490487, 1.164527868396156, 0.8065582014516287, 0.8549961868549462, 0.6530878474085638, 0.5963240196196679, 4.25513041643635, 0.9110856516968959, 0.9584790330362816, 1.1043430900743931, 1.6019472355857731, 1.2675577453388382, 13.172927191814072, 0.6592740312842822, 3.167615575949452, 0.6511023711916436, 3.160464988603815, 12.052866518291683, 10.470768249863816, 13.11543472857058, 1.0846381123764457], \"loglift\": [40.0, 39.0, 38.0, 37.0, 36.0, 35.0, 34.0, 33.0, 32.0, 31.0, 30.0, 29.0, 28.0, 27.0, 26.0, 25.0, 24.0, 23.0, 22.0, 21.0, 20.0, 19.0, 18.0, 17.0, 16.0, 15.0, 14.0, 13.0, 12.0, 11.0, 10.0, 9.0, 8.0, 7.0, 6.0, 5.0, 4.0, 3.0, 2.0, 1.0, 0.4231, 0.4201, 0.4163, 0.4138, 0.4114, 0.4092, 0.4066, 0.4064, 0.4052, 0.4017, 0.4014, 0.4007, 0.4005, 0.3986, 0.3978, 0.3968, 0.3958, 0.3955, 0.3932, 0.3928, 0.3922, 0.3909, 0.3896, 0.389, 0.3875, 0.3873, 0.3871, 0.3865, 0.3864, 0.3864, 0.3864, 0.3863, 0.3861, 0.386, 0.385, 0.3849, 0.3848, 0.3842, 0.3839, 0.3838, 0.3745, 0.3837, 0.3659, 0.3644, 0.362, 0.3677, 0.3357, 0.3303, 0.3634, 0.3355, 0.3717, 0.3198, 0.3579, 0.3683, 0.2839, 0.3293, 0.3082, 0.3064, 0.3107, 0.2528, 0.3584, 0.2151, 0.2535, 0.1892, 0.175, 0.2922, 0.2711, 0.2998, 0.2745, 0.0678, 0.2749, -0.0332, -0.0801, 0.0604, 1.2442, 1.2022, 1.1929, 1.1697, 1.1322, 1.1316, 1.1263, 1.1243, 1.1145, 1.1034, 1.1004, 1.1002, 1.0932, 1.0928, 1.0915, 1.0878, 1.0866, 1.0865, 1.0851, 1.0818, 1.079, 1.079, 1.0785, 1.0781, 1.0763, 1.0756, 1.0745, 1.071, 1.0702, 1.0696, 1.0689, 1.0689, 1.0688, 1.0674, 1.0668, 1.0664, 1.0651, 1.0651, 1.0639, 1.0638, 1.0628, 1.0621, 1.0558, 1.0561, 1.0524, 1.0455, 1.0377, 1.0599, 0.9102, 1.0544, 0.9602, 0.7476, 0.9672, 0.732, 0.2951, 0.2867, 0.8315, 0.9598, 0.6651, 0.6032, 0.5191, 0.5463, 0.7902, 0.1065, 0.0206, 0.358, 0.1534, 0.3638, 0.179, -0.2161, -0.3686, 0.3428, 0.3089, -0.3514, 0.4292, -0.0855, 0.5067, 0.3863, -0.7225, -0.0728, -0.5468, 0.0071, 0.1407, -0.0913, -0.0848, -0.0528, -1.0908, -1.1477, -0.0384, -0.9997, 2.1745, 2.1126, 1.7902, 1.7378, 1.7378, 1.7015, 1.6608, 1.6608, 1.6481, 1.6389, 1.6374, 1.6367, 1.6365, 1.635, 1.6333, 1.627, 1.627, 1.627, 1.6233, 1.6135, 1.6114, 1.6111, 1.6111, 1.5976, 1.5893, 1.5847, 1.5835, 1.5754, 1.5695, 1.5656, 1.5615, 1.5548, 1.5543, 1.5485, 1.5481, 1.5436, 1.5337, 1.5326, 1.5324, 1.5298, 1.5264, 1.5022, 1.5272, 1.5223, 1.4211, 1.4956, 1.5086, 1.1544, 1.4248, 1.0007, 1.2877, 1.4006, 1.3639, 1.4488, 1.4835, 0.5206, 1.2447, 1.212, 1.0859, 0.8141, 0.9724, -0.7618, 1.4014, 0.194, 1.4022, 0.1074, -1.1286, -1.0655, -1.2769, 0.9456], \"logprob\": [40.0, 39.0, 38.0, 37.0, 36.0, 35.0, 34.0, 33.0, 32.0, 31.0, 30.0, 29.0, 28.0, 27.0, 26.0, 25.0, 24.0, 23.0, 22.0, 21.0, 20.0, 19.0, 18.0, 17.0, 16.0, 15.0, 14.0, 13.0, 12.0, 11.0, 10.0, 9.0, 8.0, 7.0, 6.0, 5.0, 4.0, 3.0, 2.0, 1.0, -6.9833, -7.3696, -7.7007, -7.85, -7.945, -8.1464, -8.3178, -8.2263, -8.3044, -8.5172, -8.5259, -8.5214, -8.5448, -8.6508, -8.5904, -8.7032, -8.6596, -8.7458, -8.2911, -8.8255, -8.8406, -8.8239, -8.8212, -8.8478, -8.8502, -8.9496, -8.854, -8.9363, -8.926, -8.8783, -8.9868, -8.9649, -8.9388, -8.8744, -8.5428, -8.9937, -9.0289, -9.0424, -8.9804, -9.0209, -7.42, -8.9451, -7.3441, -7.4502, -7.5859, -8.2037, -7.4172, -7.4292, -8.2883, -7.7295, -8.6185, -7.6585, -8.4318, -8.6007, -7.5089, -8.1425, -8.0335, -8.1631, -8.2297, -7.9289, -8.637, -7.8893, -8.156, -7.9951, -8.128, -8.4178, -8.3708, -8.4678, -8.4325, -8.201, -8.4421, -8.1813, -8.26, -8.3743, -7.7944, -8.5058, -8.1058, -8.4171, -9.1527, -9.0764, -9.2594, -9.204, -9.3394, -9.1981, -9.044, -9.2936, -9.3825, -9.4258, -9.4656, -9.4887, -9.4949, -9.4953, -8.3408, -9.5062, -9.39, -9.4814, -9.535, -9.5389, -9.5082, -9.4237, -9.5567, -9.558, -9.5751, -9.4986, -9.5845, -9.5845, -9.3987, -9.5915, -9.5083, -9.5537, -9.6027, -9.5926, -9.5945, -9.6021, -9.3847, -9.4139, -9.185, -9.3295, -9.2892, -9.2992, -9.2827, -9.5065, -8.5904, -9.4806, -9.067, -8.4449, -9.2463, -8.7342, -7.853, -7.8933, -9.0266, -9.2928, -8.7758, -8.7084, -8.6658, -8.7621, -9.0968, -8.3283, -8.2482, -8.6575, -8.4538, -8.7488, -8.695, -8.5191, -8.473, -8.9104, -8.8963, -8.5357, -8.9682, -8.7114, -9.0407, -8.9877, -8.5153, -8.7935, -8.7284, -8.9141, -8.9542, -8.9107, -8.9143, -8.9262, -8.8503, -8.9006, -8.9995, -8.978, -8.5351, -8.5568, -9.5706, -9.6163, -9.6163, -9.7274, -9.7968, -9.7968, -9.7784, -9.7728, -9.7182, -9.8357, -9.617, -9.8398, -9.8003, -9.8494, -9.8494, -9.8494, -9.8593, -9.8751, -9.8552, -9.8793, -9.8793, -9.739, -9.9143, -9.922, -9.9238, -9.9372, -9.9461, -9.9447, -9.9576, -9.9687, -9.6619, -9.9701, -9.9793, -9.6201, -10.0017, -9.8746, -10.0036, -10.0063, -9.8278, -9.1622, -9.8694, -9.7998, -8.5929, -9.6414, -9.7887, -8.7315, -9.5927, -8.5863, -9.3181, -9.5725, -9.5509, -9.7353, -9.7915, -8.7893, -9.6065, -9.5885, -9.573, -9.4728, -9.5486, -8.9417, -9.7733, -9.4111, -9.7849, -9.5, -9.3974, -9.475, -9.4612, -9.7312]}, \"token.table\": {\"Topic\": [1, 2, 1, 2, 1, 1, 2, 1, 1, 3, 1, 1, 2, 2, 1, 2, 2, 2, 1, 1, 1, 1, 2, 2, 1, 2, 1, 2, 1, 2, 3, 2, 2, 1, 3, 1, 2, 1, 2, 1, 2, 2, 2, 1, 2, 1, 2, 2, 1, 2, 2, 1, 1, 1, 2, 1, 2, 1, 1, 3, 3, 2, 1, 1, 1, 1, 2, 1, 2, 2, 1, 2, 1, 1, 2, 1, 2, 2, 1, 2, 1, 1, 2, 1, 2, 1, 2, 1, 2, 1, 1, 1, 1, 1, 1, 1, 2, 1, 2, 1, 2, 1, 1, 2, 2, 1, 1, 2, 1, 2, 1, 2, 2, 1, 2, 2, 2, 1, 2, 1, 2, 2, 2, 2, 1, 2, 3, 2, 1, 2, 1, 2, 1, 1, 1, 2, 1, 2, 1, 1, 2, 2, 2, 1, 1, 2, 1, 1, 1, 1, 2, 1, 2, 2, 2, 1, 2, 1, 2, 2, 1, 2, 1, 2, 2, 1, 1, 2, 1, 2, 1, 2, 1, 2, 1, 2, 1, 2, 1, 2, 1, 2, 1, 1, 2, 2, 1, 2, 2, 1, 1, 1, 2, 1, 1, 2, 2, 1, 1, 2, 1, 2, 2, 1, 2, 1, 1, 1, 2, 2, 1, 2, 1, 2, 1, 2, 1, 2, 2, 1, 2, 2, 1, 1, 2], \"Freq\": [0.5787185692899588, 0.3858123795266392, 0.6221775236414258, 0.4147850157609505, 0.6242402856885213, 0.5130017306354807, 0.5130017306354807, 0.8701996720817888, 0.6200459978568604, 0.3100229989284302, 1.0014234988953437, 0.8577362218294493, 0.8178904245558308, 0.825555104503753, 1.068470166950676, 0.8206635802624804, 0.8808716878450575, 0.8711632960976804, 1.0068834203856625, 0.9550529028037245, 0.8775367267512326, 0.40659394108838703, 0.8131878821767741, 0.895726066832703, 0.915964704205486, 0.843567647017047, 0.6348990920935818, 0.42326606139572115, 0.6073061729948196, 0.37956635812176226, 0.9526762616618838, 0.9044962015174379, 1.0497036837935199, 0.4751350066874554, 0.4751350066874554, 0.7742846378638722, 0.21116853759923787, 0.9092696078266007, 0.12989565826094296, 0.9147442934043633, 0.10163825482270702, 0.7478474651036408, 0.6614205451093647, 0.9109217699406512, 0.7720313270423714, 0.71146732299088, 0.23715577433029333, 0.8383944218279247, 0.7726868491378204, 0.25756228304594014, 0.7489423927732529, 0.9927492346845077, 0.9734062881150393, 0.897428969431485, 0.09971432993683167, 0.8797655630419223, 0.06767427408014787, 1.0334757024201278, 0.8360694275526261, 0.41803471377631307, 0.9151729813434313, 0.603196084135709, 1.0242318351856563, 0.9961601385229854, 0.9219664960961004, 0.8579708581970785, 0.6593488770459934, 0.5959830500504351, 0.5959830500504351, 0.9295168645960219, 0.637268210181451, 0.3186341050907255, 0.9055156943415437, 0.8595357843123932, 0.09550397603471035, 0.8984264244511139, 0.6890718883375394, 0.9119352449559969, 0.9483273546973893, 0.052684853038743845, 1.0221736721097114, 0.912694127469199, 0.10141045860768877, 0.8364868770987665, 0.1520885231088666, 0.9778380647392859, 0.8339171052222812, 0.9791721204801135, 0.9051342559735455, 0.9470846218770687, 0.9492274114149567, 0.9763416647068454, 0.9524977468263599, 1.0563099143253423, 0.9796652683627831, 0.9489775876110093, 0.04744887938055046, 0.6631916457536484, 0.3315958228768242, 0.8687317234574407, 0.12410453192249153, 0.9657233444113883, 0.954200859419188, 0.6506381771435648, 0.868362651397157, 0.980636945285552, 0.5011295059908042, 0.5011295059908042, 0.6637425203256861, 0.2489034451221323, 0.4707637799496289, 0.4707637799496289, 0.5768964604331239, 0.5357757751631157, 0.5357757751631157, 0.7870650114772998, 0.8407076603507262, 0.6618148633722369, 0.3676749240956872, 0.8434716243344899, 0.12049594633349855, 0.80000894692301, 0.6947044602917402, 0.8933233505346398, 0.7050312696437833, 0.23501042321459442, 0.23501042321459442, 0.5961385694696639, 0.7822392337021339, 0.26074641123404463, 0.666086120627537, 0.4440574137516914, 0.9947333081287183, 0.9522396363778073, 0.8763145201344849, 0.15464373884726204, 0.6856149236990365, 0.29383496729958714, 0.9423479993480106, 0.9979704940510831, 0.6230251432360787, 0.8270318854363593, 0.8653423791434945, 0.8587171051365634, 1.0027221838621632, 0.580114640015957, 1.005716492612345, 0.957908112640192, 0.7889186931934877, 1.0433196403182528, 0.6334505644399971, 0.2638960708760078, 0.7916882126280234, 1.0826969895967522, 0.7541701347341181, 0.6982879962847062, 0.3491439981423531, 0.2843697760779761, 0.5687395521559522, 0.8788785086738019, 0.8197813965545148, 0.1366302327590858, 0.8924484254766, 0.08924484254765999, 0.7329702705537904, 0.953677249385248, 0.9293563460564566, 0.05163090811424759, 0.8915025928514215, 0.09905584365015795, 0.9001440505541691, 0.12859200722202416, 0.8709060131932895, 0.10886325164916119, 0.7267317776745816, 0.29069271106983263, 0.7593980773397351, 0.303759230935894, 0.5494949207529329, 0.5494949207529329, 0.8745646333426664, 0.8381407214124812, 1.0640973880981444, 0.9567573906330301, 0.8328079834427392, 0.7377247023564473, 1.0314158361925339, 0.9006150504653619, 0.9006150504653619, 0.9621946340994693, 0.9906892945617183, 0.9631022506248981, 0.06019389066405613, 1.0428285409251548, 0.9925290156565234, 0.9055947100683326, 0.7539950450806107, 0.8736787688536294, 0.4179056444755921, 0.6268584667133882, 0.46931632651762467, 0.46931632651762467, 0.645468091251253, 0.7624604297878181, 0.22873812893634543, 0.8983913031283206, 0.9617569855120288, 0.4184822474217125, 0.4184822474217125, 0.9298829540914092, 0.7581966906142563, 0.37909834530712816, 0.8946276463864701, 0.9137050310167664, 0.525160419715129, 0.35010694647675267, 0.6078230296675521, 0.30391151483377604, 0.688996856717732, 0.9028171841936591, 0.128973883456237, 0.48145840050813576, 0.9055103503186992, 0.7194515140346663, 0.28778060561386654], \"Term\": [\"10 minutes\", \"10 minutes\", \"20 minutes\", \"20 minutes\", \"24 hours\", \"30 minutes\", \"30 minutes\", \"atmosphere great\", \"awesome food\", \"awesome food\", \"bad service\", \"bar food\", \"best chinese\", \"best donuts\", \"best pizza\", \"best thai\", \"body parts\", \"bread bowl\", \"breakfast lunch\", \"carne asada\", \"chicken sandwich\", \"chicken waffles\", \"chicken waffles\", \"chinese food\", \"chips salsa\", \"closed doors\", \"cream cheese\", \"cream cheese\", \"customer service\", \"customer service\", \"delicious loved\", \"dessert wasn\", \"dim sum\", \"dog park\", \"dog park\", \"don know\", \"don know\", \"don like\", \"don like\", \"don think\", \"don think\", \"don waste\", \"dunkin donuts\", \"excellent service\", \"farmers market\", \"fast food\", \"fast food\", \"favorite chocolate\", \"feel like\", \"feel like\", \"fish sauce\", \"fish tacos\", \"food delicious\", \"food good\", \"food good\", \"food great\", \"food great\", \"food great service\", \"food little\", \"food little\", \"food little pricey\", \"food phoenix\", \"food really\", \"food service\", \"fountain hills\", \"french toast\", \"fresh produce\", \"fried chicken\", \"fried chicken\", \"fried rice\", \"friendly helpful\", \"friendly helpful\", \"friendly professional\", \"friendly staff\", \"friendly staff\", \"fun place\", \"good chinese\", \"good chinese food\", \"good food\", \"good food\", \"good great\", \"good place\", \"good place\", \"good service\", \"good service\", \"good time\", \"got way\", \"great atmosphere\", \"great bbq\", \"great customer\", \"great customer service\", \"great food\", \"great food great\", \"great food service\", \"great happy hour\", \"great place\", \"great place\", \"great selection\", \"great selection\", \"great service\", \"great service\", \"great spot\", \"grilled cheese\", \"hair cut\", \"happen employee\", \"happy hour\", \"high quality\", \"high quality\", \"highly recommend\", \"highly recommend\", \"highly recommended\", \"highly recommended\", \"hong kong\", \"hot dog\", \"hot dog\", \"hot sour\", \"hot sour soup\", \"ice cream\", \"ice cream\", \"just right\", \"just right\", \"kids running\", \"kung pao\", \"like phoenix\", \"little pricey\", \"little pricey\", \"little pricey\", \"location closed\", \"long time\", \"long time\", \"love food\", \"love food\", \"love love\", \"love love love\", \"love place\", \"love place\", \"make sure\", \"make sure\", \"mashed potatoes\", \"mexican food\", \"mongolian beef\", \"moved scottsdale\", \"need pull\", \"need work\", \"nice place\", \"noodle soup\", \"old town\", \"olive oil\", \"open 24\", \"open 24 hours\", \"orange chicken\", \"pad thai\", \"pad thai\", \"panda express\", \"papaya salad\", \"parking lot\", \"parking lot\", \"pei wei\", \"pei wei\", \"pizza fix\", \"place good\", \"place good\", \"place great\", \"place great\", \"place shop\", \"potato fries\", \"pretty good\", \"pretty good\", \"really good\", \"really good\", \"really like\", \"really like\", \"really nice\", \"really nice\", \"reasonably priced\", \"reasonably priced\", \"recommend place\", \"recommend place\", \"red velvet\", \"red velvet\", \"rice beans\", \"said guys\", \"salad bar\", \"saturday night\", \"scottsdale recently\", \"service fees\", \"service food\", \"service fresh\", \"service fresh ingredients\", \"service friendly\", \"service good\", \"service great\", \"service great\", \"service great food\", \"service slow\", \"sounding menu\", \"sour soup\", \"sports bar\", \"spring rolls\", \"spring rolls\", \"spring training\", \"spring training\", \"staff did\", \"staff friendly\", \"staff friendly\", \"sweet potato\", \"sweet potato fries\", \"sweet sour\", \"sweet sour\", \"thai food\", \"time went\", \"time went\", \"try place\", \"ve easily\", \"ve got\", \"ve got\", \"ve seen\", \"ve seen\", \"vietnamese food\", \"wait staff\", \"wait staff\", \"waste time\", \"wine list\", \"years ago\", \"years ago\"]}, \"R\": 40, \"lambda.step\": 0.01, \"plot.opts\": {\"xlab\": \"PC1\", \"ylab\": \"PC2\"}, \"topic.order\": [1, 2, 3]};\n",
       "\n",
       "function LDAvis_load_lib(url, callback){\n",
       "  var s = document.createElement('script');\n",
       "  s.src = url;\n",
       "  s.async = true;\n",
       "  s.onreadystatechange = s.onload = callback;\n",
       "  s.onerror = function(){console.warn(\"failed to load library \" + url);};\n",
       "  document.getElementsByTagName(\"head\")[0].appendChild(s);\n",
       "}\n",
       "\n",
       "if(typeof(LDAvis) !== \"undefined\"){\n",
       "   // already loaded: just create the visualization\n",
       "   !function(LDAvis){\n",
       "       new LDAvis(\"#\" + \"ldavis_el2135621340176111201074145941\", ldavis_el2135621340176111201074145941_data);\n",
       "   }(LDAvis);\n",
       "}else if(typeof define === \"function\" && define.amd){\n",
       "   // require.js is available: use it to load d3/LDAvis\n",
       "   require.config({paths: {d3: \"https://cdnjs.cloudflare.com/ajax/libs/d3/3.5.5/d3.min\"}});\n",
       "   require([\"d3\"], function(d3){\n",
       "      window.d3 = d3;\n",
       "      LDAvis_load_lib(\"https://cdn.rawgit.com/bmabey/pyLDAvis/files/ldavis.v1.0.0.js\", function(){\n",
       "        new LDAvis(\"#\" + \"ldavis_el2135621340176111201074145941\", ldavis_el2135621340176111201074145941_data);\n",
       "      });\n",
       "    });\n",
       "}else{\n",
       "    // require.js not available: dynamically load d3 & LDAvis\n",
       "    LDAvis_load_lib(\"https://cdnjs.cloudflare.com/ajax/libs/d3/3.5.5/d3.min.js\", function(){\n",
       "         LDAvis_load_lib(\"https://cdn.rawgit.com/bmabey/pyLDAvis/files/ldavis.v1.0.0.js\", function(){\n",
       "                 new LDAvis(\"#\" + \"ldavis_el2135621340176111201074145941\", ldavis_el2135621340176111201074145941_data);\n",
       "            })\n",
       "         });\n",
       "}\n",
       "</script>"
      ],
      "text/plain": [
       "PreparedData(topic_coordinates=                          x                     y  topics  cluster  \\\n",
       "topic                                                                \n",
       "0     -0.034773266170639965 -0.004905565425825535  1       1         \n",
       "1     0.027709566313601677  -0.009940681080089595  2       1         \n",
       "2     0.007063699857038287  0.014846246505915138   3       1         \n",
       "\n",
       "                       Freq  \n",
       "topic                        \n",
       "0     65.109718931294949584  \n",
       "1     27.295450991599867763  \n",
       "2     7.594830077105182653   , topic_info=      Category                  Freq                         Term  \\\n",
       "term                                                                \n",
       "27619  Default 28.000000000000000000  happy hour                    \n",
       "9610   Default 5.000000000000000000   chinese food                  \n",
       "26143  Default 19.000000000000000000  great food                    \n",
       "22342  Default 4.000000000000000000   fried rice                    \n",
       "39014  Default 14.000000000000000000  mexican food                  \n",
       "3100   Default 3.000000000000000000   awesome food                  \n",
       "55685  Default 12.000000000000000000  service good                  \n",
       "15794  Default 2.000000000000000000   dog park                      \n",
       "43801  Default 3.000000000000000000   pad thai                      \n",
       "21246  Default 2.000000000000000000   food little                   \n",
       "62150  Default 3.000000000000000000   thai food                     \n",
       "14976  Default 2.000000000000000000   dim sum                       \n",
       "29864  Default 13.000000000000000000  ice cream                     \n",
       "12699  Default 13.000000000000000000  customer service              \n",
       "21483  Default 11.000000000000000000  food service                  \n",
       "34795  Default 4.000000000000000000   little pricey                 \n",
       "48196  Default 19.000000000000000000  pretty good                   \n",
       "26418  Default 21.000000000000000000  great place                   \n",
       "21248  Default 1.000000000000000000   food little pricey            \n",
       "13931  Default 1.000000000000000000   delicious loved               \n",
       "58427  Default 4.000000000000000000   spring rolls                  \n",
       "44536  Default 3.000000000000000000   pei wei                       \n",
       "36503  Default 9.000000000000000000   love love                     \n",
       "24586  Default 18.000000000000000000  good food                     \n",
       "8135   Default 8.000000000000000000   carne asada                   \n",
       "26028  Default 3.000000000000000000   great customer                \n",
       "9710   Default 7.000000000000000000   chips salsa                   \n",
       "55655  Default 7.000000000000000000   service food                  \n",
       "26029  Default 3.000000000000000000   great customer service        \n",
       "50794  Default 3.000000000000000000   red velvet                    \n",
       "...        ...                  ...                      ...        \n",
       "58588  Topic3  0.192550119570941924   staff friendly professional   \n",
       "406    Topic3  0.374636808669012833   24 hour                       \n",
       "13796  Topic3  0.184708160611584515   delicious addicting           \n",
       "20670  Topic3  0.198009397509658291   folks best                    \n",
       "15794  Topic3  0.662011832565820080   dog park                      \n",
       "8122   Topic3  0.231994237424084759   cares customers               \n",
       "17113  Topic3  0.200224223745153918   easy work                     \n",
       "21246  Topic3  0.576317078454915310   food little                   \n",
       "49826  Topic3  0.243575242808848458   real gem                      \n",
       "3100   Topic3  0.666377160560287507   awesome food                  \n",
       "40332  Topic3  0.320545034017346464   need work                     \n",
       "41354  Topic3  0.248557543003231074   nom nom                       \n",
       "32533  Topic3  0.253982976938116556   la fitness                    \n",
       "7287   Topic3  0.211210458726273198   business traveler             \n",
       "36403  Topic3  0.199655456199231390   love dr                       \n",
       "34795  Topic3  0.543932491235310400   little pricey                 \n",
       "41751  Topic3  0.240241623373169261   office staff                  \n",
       "42298  Topic3  0.244613239904747926   open 24 hours                 \n",
       "22682  Topic3  0.248436748781555666   friendly professional         \n",
       "410    Topic3  0.274608102392299491   24 hours                      \n",
       "42297  Topic3  0.254566735248108189   open 24                       \n",
       "12699  Topic3  0.467033496151868621   customer service              \n",
       "45295  Topic3  0.203330126841662573   phoenix nice                  \n",
       "26028  Topic3  0.292075819173481577   great customer                \n",
       "3150   Topic3  0.200977760214141238   awesome pool                  \n",
       "26029  Topic3  0.267240223627704276   great customer service        \n",
       "28557  Topic3  0.296125775779702616   highly recommend              \n",
       "22716  Topic3  0.274010739954450744   friendly staff                \n",
       "58562  Topic3  0.277805956969264967   staff friendly                \n",
       "21821  Topic3  0.212066456589639268   fountain hills                \n",
       "\n",
       "                      Total               loglift               logprob  \n",
       "term                                                                     \n",
       "27619 28.000000000000000000 40.000000000000000000 40.000000000000000000  \n",
       "9610  5.000000000000000000  39.000000000000000000 39.000000000000000000  \n",
       "26143 19.000000000000000000 38.000000000000000000 38.000000000000000000  \n",
       "22342 4.000000000000000000  37.000000000000000000 37.000000000000000000  \n",
       "39014 14.000000000000000000 36.000000000000000000 36.000000000000000000  \n",
       "3100  3.000000000000000000  35.000000000000000000 35.000000000000000000  \n",
       "55685 12.000000000000000000 34.000000000000000000 34.000000000000000000  \n",
       "15794 2.000000000000000000  33.000000000000000000 33.000000000000000000  \n",
       "43801 3.000000000000000000  32.000000000000000000 32.000000000000000000  \n",
       "21246 2.000000000000000000  31.000000000000000000 31.000000000000000000  \n",
       "62150 3.000000000000000000  30.000000000000000000 30.000000000000000000  \n",
       "14976 2.000000000000000000  29.000000000000000000 29.000000000000000000  \n",
       "29864 13.000000000000000000 28.000000000000000000 28.000000000000000000  \n",
       "12699 13.000000000000000000 27.000000000000000000 27.000000000000000000  \n",
       "21483 11.000000000000000000 26.000000000000000000 26.000000000000000000  \n",
       "34795 4.000000000000000000  25.000000000000000000 25.000000000000000000  \n",
       "48196 19.000000000000000000 24.000000000000000000 24.000000000000000000  \n",
       "26418 21.000000000000000000 23.000000000000000000 23.000000000000000000  \n",
       "21248 1.000000000000000000  22.000000000000000000 22.000000000000000000  \n",
       "13931 1.000000000000000000  21.000000000000000000 21.000000000000000000  \n",
       "58427 4.000000000000000000  20.000000000000000000 20.000000000000000000  \n",
       "44536 3.000000000000000000  19.000000000000000000 19.000000000000000000  \n",
       "36503 9.000000000000000000  18.000000000000000000 18.000000000000000000  \n",
       "24586 18.000000000000000000 17.000000000000000000 17.000000000000000000  \n",
       "8135  8.000000000000000000  16.000000000000000000 16.000000000000000000  \n",
       "26028 3.000000000000000000  15.000000000000000000 15.000000000000000000  \n",
       "9710  7.000000000000000000  14.000000000000000000 14.000000000000000000  \n",
       "55655 7.000000000000000000  13.000000000000000000 13.000000000000000000  \n",
       "26029 3.000000000000000000  12.000000000000000000 12.000000000000000000  \n",
       "50794 3.000000000000000000  11.000000000000000000 11.000000000000000000  \n",
       "...                    ...                    ...                   ...  \n",
       "58588 0.550943598644289212  1.526399999999999979  -9.827799999999999869  \n",
       "406   1.098198244038631977  1.502199999999999980  -9.162200000000000344  \n",
       "13796 0.528119773216788824  1.527199999999999891  -9.869400000000000617  \n",
       "20670 0.568931287541001085  1.522299999999999986  -9.799799999999999400  \n",
       "15794 2.104664960327374157  1.421100000000000030  -8.592900000000000205  \n",
       "8122  0.684612360358021754  1.495600000000000041  -9.641400000000000858  \n",
       "17113 0.583206142148066986  1.508599999999999941  -9.788700000000000401  \n",
       "21246 2.392145836326625474  1.154400000000000093  -8.731500000000000483  \n",
       "49826 0.771486974152957972  1.424800000000000066  -9.592700000000000671  \n",
       "3100  3.225567146490487147  1.000699999999999923  -8.586299999999999599  \n",
       "40332 1.164527868396155963  1.287700000000000067  -9.318099999999999383  \n",
       "41354 0.806558201451628709  1.400600000000000067  -9.572499999999999787  \n",
       "32533 0.854996186854946161  1.363899999999999890  -9.550900000000000389  \n",
       "7287  0.653087847408563849  1.448800000000000088  -9.735300000000000509  \n",
       "36403 0.596324019619667856  1.483500000000000041  -9.791499999999999204  \n",
       "34795 4.255130416436349705  0.520599999999999952  -8.789300000000000779  \n",
       "41751 0.911085651696895926  1.244699999999999918  -9.606500000000000483  \n",
       "42298 0.958479033036281569  1.211999999999999966  -9.588499999999999801  \n",
       "22682 1.104343090074393130  1.085900000000000087  -9.573000000000000398  \n",
       "410   1.601947235585773122  0.814100000000000046  -9.472799999999999443  \n",
       "42297 1.267557745338838249  0.972400000000000042  -9.548600000000000421  \n",
       "12699 13.172927191814071790 -0.761800000000000033 -8.941700000000000870  \n",
       "45295 0.659274031284282191  1.401399999999999979  -9.773300000000000765  \n",
       "26028 3.167615575949452200  0.194000000000000006  -9.411099999999999355  \n",
       "3150  0.651102371191643603  1.402199999999999891  -9.784900000000000375  \n",
       "26029 3.160464988603814973  0.107399999999999995  -9.500000000000000000  \n",
       "28557 12.052866518291683207 -1.128600000000000048 -9.397399999999999309  \n",
       "22716 10.470768249863816379 -1.065499999999999892 -9.474999999999999645  \n",
       "58562 13.115434728570580347 -1.276899999999999924 -9.461199999999999832  \n",
       "21821 1.084638112376445696  0.945599999999999996  -9.731199999999999406  \n",
       "\n",
       "[274 rows x 6 columns], token_table=       Topic                 Freq                Term\n",
       "term                                                 \n",
       "97     1     0.578718569289958795  10 minutes        \n",
       "97     2     0.385812379526639215  10 minutes        \n",
       "360    1     0.622177523641425756  20 minutes        \n",
       "360    2     0.414785015760950504  20 minutes        \n",
       "410    1     0.624240285688521301  24 hours          \n",
       "476    1     0.513001730635480713  30 minutes        \n",
       "476    2     0.513001730635480713  30 minutes        \n",
       "2652   1     0.870199672081788833  atmosphere great  \n",
       "3100   1     0.620045997856860431  awesome food      \n",
       "3100   3     0.310022998928430216  awesome food      \n",
       "3455   1     1.001423498895343656  bad service       \n",
       "3715   1     0.857736221829449308  bar food          \n",
       "4787   2     0.817890424555830831  best chinese      \n",
       "4839   2     0.825555104503753023  best donuts       \n",
       "4962   1     1.068470166950675981  best pizza        \n",
       "5048   2     0.820663580262480430  best thai         \n",
       "5978   2     0.880871687845057538  body parts        \n",
       "6270   2     0.871163296097680395  bread bowl        \n",
       "6481   1     1.006883420385662475  breakfast lunch   \n",
       "8135   1     0.955052902803724457  carne asada       \n",
       "9431   1     0.877536726751232621  chicken sandwich  \n",
       "9498   1     0.406593941088387034  chicken waffles   \n",
       "9498   2     0.813187882176774068  chicken waffles   \n",
       "9610   2     0.895726066832702950  chinese food      \n",
       "9710   1     0.915964704205486036  chips salsa       \n",
       "10316  2     0.843567647017047006  closed doors      \n",
       "12185  1     0.634899092093581752  cream cheese      \n",
       "12185  2     0.423266061395721149  cream cheese      \n",
       "12699  1     0.607306172994819593  customer service  \n",
       "12699  2     0.379566358121762260  customer service  \n",
       "...   ..                      ...               ...  \n",
       "57647  2     0.905594710068332587  sounding menu     \n",
       "57774  2     0.753995045080610660  sour soup         \n",
       "58305  1     0.873678768853629384  sports bar        \n",
       "58427  1     0.417905644475592086  spring rolls      \n",
       "58427  2     0.626858466713388185  spring rolls      \n",
       "58441  1     0.469316326517624671  spring training   \n",
       "58441  2     0.469316326517624671  spring training   \n",
       "58529  2     0.645468091251253040  staff did         \n",
       "58562  1     0.762460429787818139  staff friendly    \n",
       "58562  2     0.228738128936345431  staff friendly    \n",
       "60755  1     0.898391303128320606  sweet potato      \n",
       "60759  1     0.961756985512028817  sweet potato fries\n",
       "60803  1     0.418482247421712528  sweet sour        \n",
       "60803  2     0.418482247421712528  sweet sour        \n",
       "62150  2     0.929882954091409197  thai food         \n",
       "63538  1     0.758196690614256319  time went         \n",
       "63538  2     0.379098345307128159  time went         \n",
       "65109  1     0.894627646386470077  try place         \n",
       "66281  2     0.913705031016766367  ve easily         \n",
       "66340  1     0.525160419715128945  ve got            \n",
       "66340  2     0.350106946476752667  ve got            \n",
       "66520  1     0.607823029667552084  ve seen           \n",
       "66520  2     0.303911514833776042  ve seen           \n",
       "66826  2     0.688996856717732031  vietnamese food   \n",
       "67183  1     0.902817184193659084  wait staff        \n",
       "67183  2     0.128973883456237004  wait staff        \n",
       "68210  2     0.481458400508135764  waste time        \n",
       "69450  1     0.905510350318699198  wine list         \n",
       "70531  1     0.719451514034666340  years ago         \n",
       "70531  2     0.287780605613866536  years ago         \n",
       "\n",
       "[225 rows x 3 columns], R=40, lambda_step=0.01, plot_opts={'xlab': 'PC1', 'ylab': 'PC2'}, topic_order=[1, 2, 3])"
      ]
     },
     "execution_count": 237,
     "metadata": {},
     "output_type": "execute_result"
    }
   ],
   "source": [
    "pyLDAvis.enable_notebook()\n",
    "#pyLDAvis.save_html(dash, \"lda\")\n",
    "dash = pyLDAvis.sklearn.prepare(lda, tfidfvect, tfidf, R=40, mds='pcoa') #tsne, pcoa #R = number of terms to visualize\n",
    "dash"
   ]
  },
  {
   "cell_type": "markdown",
   "metadata": {},
   "source": [
    "## Adding Features to a Document-Term Matrix"
   ]
  },
  {
   "cell_type": "code",
   "execution_count": 49,
   "metadata": {
    "collapsed": true
   },
   "outputs": [],
   "source": [
    "# create a DataFrame that only contains the 5-star and 1-star reviews\n",
    "yelp_best_worst = yelp[(yelp.stars==5) | (yelp.stars==1)]\n",
    "\n",
    "# define X and y\n",
    "feature_cols = ['text', 'sentiment', 'cool', 'useful', 'funny']\n",
    "X = yelp_best_worst[feature_cols]\n",
    "y = yelp_best_worst.stars\n",
    "\n",
    "# split into training and testing sets\n",
    "X_train, X_test, y_train, y_test = train_test_split(X, y, random_state=1)"
   ]
  },
  {
   "cell_type": "code",
   "execution_count": 50,
   "metadata": {},
   "outputs": [
    {
     "name": "stdout",
     "output_type": "stream",
     "text": [
      "(3064, 16825)\n",
      "(1022, 16825)\n"
     ]
    }
   ],
   "source": [
    "# use CountVectorizer with text column only\n",
    "vect = CountVectorizer()\n",
    "X_train_dtm = vect.fit_transform(X_train.text)\n",
    "X_test_dtm = vect.transform(X_test.text)\n",
    "print X_train_dtm.shape\n",
    "print X_test_dtm.shape"
   ]
  },
  {
   "cell_type": "code",
   "execution_count": 51,
   "metadata": {},
   "outputs": [
    {
     "data": {
      "text/plain": [
       "(3064, 4)"
      ]
     },
     "execution_count": 51,
     "metadata": {},
     "output_type": "execute_result"
    }
   ],
   "source": [
    "# shape of other four feature columns\n",
    "X_train.drop('text', axis=1).shape"
   ]
  },
  {
   "cell_type": "code",
   "execution_count": 52,
   "metadata": {},
   "outputs": [
    {
     "data": {
      "text/plain": [
       "(3064, 4)"
      ]
     },
     "execution_count": 52,
     "metadata": {},
     "output_type": "execute_result"
    }
   ],
   "source": [
    "# cast other feature columns to float and convert to a sparse matrix\n",
    "extra = sp.sparse.csr_matrix(X_train.drop('text', axis=1).astype(float))\n",
    "extra.shape"
   ]
  },
  {
   "cell_type": "code",
   "execution_count": 53,
   "metadata": {},
   "outputs": [
    {
     "data": {
      "text/plain": [
       "(3064, 16829)"
      ]
     },
     "execution_count": 53,
     "metadata": {},
     "output_type": "execute_result"
    }
   ],
   "source": [
    "# combine sparse matrices\n",
    "X_train_dtm_extra = sp.sparse.hstack((X_train_dtm, extra))\n",
    "X_train_dtm_extra.shape"
   ]
  },
  {
   "cell_type": "code",
   "execution_count": 54,
   "metadata": {},
   "outputs": [
    {
     "data": {
      "text/plain": [
       "(1022, 16829)"
      ]
     },
     "execution_count": 54,
     "metadata": {},
     "output_type": "execute_result"
    }
   ],
   "source": [
    "# repeat for testing set\n",
    "extra = sp.sparse.csr_matrix(X_test.drop('text', axis=1).astype(float))\n",
    "X_test_dtm_extra = sp.sparse.hstack((X_test_dtm, extra))\n",
    "X_test_dtm_extra.shape"
   ]
  },
  {
   "cell_type": "code",
   "execution_count": 55,
   "metadata": {},
   "outputs": [
    {
     "name": "stdout",
     "output_type": "stream",
     "text": [
      "0.917808219178\n"
     ]
    }
   ],
   "source": [
    "# use logistic regression with text column only\n",
    "logreg = LogisticRegression(C=1e9)\n",
    "logreg.fit(X_train_dtm, y_train)\n",
    "y_pred_class = logreg.predict(X_test_dtm)\n",
    "print metrics.accuracy_score(y_test, y_pred_class)"
   ]
  },
  {
   "cell_type": "code",
   "execution_count": 56,
   "metadata": {},
   "outputs": [
    {
     "name": "stdout",
     "output_type": "stream",
     "text": [
      "0.922700587084\n"
     ]
    }
   ],
   "source": [
    "# use logistic regression with all features\n",
    "logreg = LogisticRegression(C=1e9)\n",
    "logreg.fit(X_train_dtm_extra, y_train)\n",
    "y_pred_class = logreg.predict(X_test_dtm_extra)\n",
    "print metrics.accuracy_score(y_test, y_pred_class)"
   ]
  },
  {
   "cell_type": "markdown",
   "metadata": {},
   "source": [
    "## Conclusion\n",
    "\n",
    "- NLP is a gigantic field\n",
    "- Understanding the basics broadens the types of data you can work with\n",
    "- Simple techniques go a long way\n",
    "- Use scikit-learn for NLP whenever possible"
   ]
  }
 ],
 "metadata": {
  "kernelspec": {
   "display_name": "Python 3",
   "language": "python",
   "name": "python3"
  },
  "language_info": {
   "codemirror_mode": {
    "name": "ipython",
    "version": 3
   },
   "file_extension": ".py",
   "mimetype": "text/x-python",
   "name": "python",
   "nbconvert_exporter": "python",
   "pygments_lexer": "ipython3",
   "version": "3.7.3"
  }
 },
 "nbformat": 4,
 "nbformat_minor": 2
}
